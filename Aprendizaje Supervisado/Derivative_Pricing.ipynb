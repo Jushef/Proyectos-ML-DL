{
  "nbformat": 4,
  "nbformat_minor": 0,
  "metadata": {
    "colab": {
      "name": "Derivative Pricing.ipynb",
      "provenance": [],
      "authorship_tag": "ABX9TyPV8chvlsKY3RhfOiHhWG26",
      "include_colab_link": true
    },
    "kernelspec": {
      "name": "python3",
      "display_name": "Python 3"
    },
    "language_info": {
      "name": "python"
    }
  },
  "cells": [
    {
      "cell_type": "markdown",
      "metadata": {
        "id": "view-in-github",
        "colab_type": "text"
      },
      "source": [
        "<a href=\"https://colab.research.google.com/github/Jushef/Proyectos-ML-DL/blob/main/Aprendizaje%20Supervisado/Derivative_Pricing.ipynb\" target=\"_parent\"><img src=\"https://colab.research.google.com/assets/colab-badge.svg\" alt=\"Open In Colab\"/></a>"
      ]
    },
    {
      "cell_type": "markdown",
      "source": [
        "## ***Derivatives Pricing***\n",
        "El objetivo de este proyecto es realizar la fijación de precios de los derivados desde un punto de vista del aprendizaje automático y utilizar un modelo basado en regresión supervisada para aprender el modelo de precios de opciones de Black-Scholes a partir de datos simulados.\n"
      ],
      "metadata": {
        "id": "N1gJCBBW4d4X"
      }
    },
    {
      "cell_type": "markdown",
      "source": [
        "## **Content**"
      ],
      "metadata": {
        "id": "fAygYLqI5teO"
      }
    },
    {
      "cell_type": "markdown",
      "source": [
        "* [1. Problem Definition](#0)\n",
        "* [2. Getting Started - Load Libraries and Dataset](#1)\n",
        "    * [2.1. Load Libraries](#1.1)    \n",
        "    * [2.2. Defining function and parameters](#1.2)\n",
        "    * [2.3. Load Dataset](#1.3)\n",
        "* [3. Exploratory Data Analysis](#2)\n",
        "    * [3.1 Descriptive Statistics](#2.1)    \n",
        "    * [3.2. Data Visualisation](#2.2)\n",
        "* [4. Data Preparation and analysis](#3)\n",
        "    * [4.1.Feature Selection](#3.1) \n",
        "* [5.Evaluate Algorithms and Models](#4)        \n",
        "    * [5.1. Train/Test Split and evaluation metrics](#4.1)\n",
        "    * [5.2. Compare Models and Algorithms](#4.2)\n",
        "* [6. Model Tuning and finalizing the model](#5)\n",
        "* [7. Additional analysis: removing the volatilty data](#6)"
      ],
      "metadata": {
        "id": "2B8Eyn3Z4uAK"
      }
    },
    {
      "cell_type": "markdown",
      "source": [
        "<a id='0'></a>\n",
        "# 1. Problem Definition"
      ],
      "metadata": {
        "id": "jWU9uMlN6JO0"
      }
    },
    {
      "cell_type": "markdown",
      "source": [
        "En el marco de regresión supervisada utilizado para este proyecto, el problema de fijación de precios de los derivados se define en el marco de regresión, donde la variable predicha es el precio de la opción, y las variables predictoras son los datos de mercado que se utilizan como entradas para el modelo de fijación de precios de opciones *Black-Scholes*.\n",
        "\n",
        "Las opciones se han utilizado en las finanzas como medio para cubrir el riesgo de forma no lineal. También son utilizadas por los especuladores para hacer apuestas apalancadas en los mercados financieros. Históricamente, se ha utilizado la fórmula de *Black Scholes*.\n",
        "\n",
        "$$  Se^{-q \\tau}\\Phi(d_1) - e^{-r \\tau} K\\Phi(d_2) \\, $$\n",
        "\n",
        "Con:\n",
        "\n",
        "$$  d_1 = \\frac{\\ln(S/K) + (r - q + \\sigma^2/2)\\tau}{\\sigma\\sqrt{\\tau}}  $$\n",
        "\n",
        "Y:\n",
        "\n",
        "$$  d_2 = \\frac{\\ln(S/K) + (r - q - \\sigma^2/2)\\tau}{\\sigma\\sqrt{\\tau}} = d_1 - \\sigma\\sqrt{\\tau}  $$\n",
        "\n",
        "**Donde tenemos;**\n",
        "    *Precio de la acción* $S$;\n",
        "    *Precio de ejercicio* $K$;\n",
        "    *Tasa libre de riesgo* $r$;\n",
        "    *Rendimiento anual de dividendos* $q$;\n",
        "    *Tiempo hasta el vencimiento* $\\tau = T-t$ (*representado como una fracción menos de un año*);\n",
        "    *Volatilidad* $\\sigma$\n",
        "\n",
        "Para simplificar la lógica, definimos *Moneyness* como $𝑀=𝐾/𝑆$ y miramos los precios en términos de por unidad de precio de la acción actual. También establecemos $𝑞$ como $0$\n",
        "\n",
        "Esto simplifica la fórmula a lo siguiente:\n",
        "\n",
        "$$  e^{-q \\tau}\\Phi\\left( \\frac{- \\ln(M) + (r+ \\sigma^2/2 )\\tau}{\\sigma\\sqrt{\\tau}}\\right) - e^{-r \\tau} M\\Phi\\left( \\frac{- \\ln(M) + (r - \\sigma^2/2)\\tau}{\\sigma\\sqrt{\\tau}} \\right) \\, $$\n",
        "\n",
        "### **Vol Suface**\n",
        "En el mercado de opciones, no hay un único valor de volatilidad que nos dé el precio correcto. A menudo encontramos la volatilidad tal que la salida coincide con el precio.\n",
        "\n",
        "### **Simulación**\n",
        "En este ejercicio, asumimos la estructura de la superficie del vol. En la práctica, obtendríamos los datos de un proveedor de datos.\n",
        "\n",
        "Utilizamos la siguiente función para generar la superficie de volatilidad de la opción.\n",
        "\n",
        "$$ \\sigma(M, \\tau) = \\sigma_0 + \\alpha\\tau + \\beta (M - 1)^2$$"
      ],
      "metadata": {
        "id": "MnwFkUxP6dSw"
      }
    },
    {
      "cell_type": "markdown",
      "source": [
        "<a id='1'></a>\n",
        "# 2. Getting Started- Loading the data and python packages"
      ],
      "metadata": {
        "id": "hp7xoCJw-I5d"
      }
    },
    {
      "cell_type": "markdown",
      "source": [
        "<a id='1.1'></a>\n",
        "## 2.1. Loading the python packages"
      ],
      "metadata": {
        "id": "adz51EgS-W6P"
      }
    },
    {
      "cell_type": "code",
      "source": [
        "# Distribution functions\n",
        "from scipy.stats import norm\n",
        "\n",
        "\n",
        "# Load libraries\n",
        "import numpy as np\n",
        "import pandas as pd\n",
        "import pandas_datareader.data as web\n",
        "import matplotlib.pyplot as plt\n",
        "from pandas.plotting import scatter_matrix\n",
        "import seaborn as sns\n",
        "from sklearn.preprocessing import StandardScaler\n",
        "\n",
        "from sklearn.model_selection import train_test_split\n",
        "from sklearn.model_selection import KFold\n",
        "from sklearn.model_selection import cross_val_score\n",
        "from sklearn.model_selection import GridSearchCV\n",
        "\n",
        "from sklearn.linear_model import LinearRegression\n",
        "from sklearn.linear_model import Lasso\n",
        "from sklearn.linear_model import ElasticNet\n",
        "from sklearn.tree import DecisionTreeRegressor\n",
        "from sklearn.neighbors import KNeighborsRegressor\n",
        "from sklearn.svm import SVR\n",
        "from sklearn.ensemble import RandomForestRegressor\n",
        "from sklearn.ensemble import GradientBoostingRegressor\n",
        "from sklearn.ensemble import ExtraTreesRegressor\n",
        "from sklearn.ensemble import AdaBoostRegressor\n",
        "from sklearn.neural_network import MLPRegressor\n",
        "\n",
        "#Libraries for Deep Learning Models\n",
        "from tensorflow.keras.models import Sequential\n",
        "from tensorflow.keras.layers import Dense\n",
        "from tensorflow.keras.optimizers import SGD\n",
        "from tensorflow.keras.layers import LSTM\n",
        "from tensorflow.keras.wrappers.scikit_learn import KerasRegressor\n",
        "\n",
        "#Libraries for Statistical Models\n",
        "import statsmodels.api as sm\n",
        "\n",
        "#Libraries for Saving the Model\n",
        "from pickle import dump\n",
        "from pickle import load\n",
        "\n",
        "# Time series Models\n",
        "from statsmodels.tsa.arima_model import ARIMA\n",
        "#from statsmodels.tsa.statespace.sarimax import SARIMAX\n",
        "\n",
        "# Error Metrics\n",
        "from sklearn.metrics import mean_squared_error\n",
        "\n",
        "# Feature Selection\n",
        "from sklearn.feature_selection import SelectKBest\n",
        "from sklearn.feature_selection import chi2, f_regression\n",
        "\n",
        "\n",
        "#Plotting \n",
        "from pandas.plotting import scatter_matrix\n",
        "from statsmodels.graphics.tsaplots import plot_acf"
      ],
      "metadata": {
        "id": "FJ316myM4jSB",
        "colab": {
          "base_uri": "https://localhost:8080/"
        },
        "outputId": "e8993471-ac3b-43b8-a33e-3479b18d2b25"
      },
      "execution_count": null,
      "outputs": [
        {
          "output_type": "stream",
          "name": "stderr",
          "text": [
            "/usr/local/lib/python3.7/dist-packages/statsmodels/tools/_testing.py:19: FutureWarning: pandas.util.testing is deprecated. Use the functions in the public API at pandas.testing instead.\n",
            "  import pandas.util.testing as tm\n"
          ]
        }
      ]
    },
    {
      "cell_type": "markdown",
      "source": [
        "## 2.2. Defining functions and parameters\n",
        "**True Parameters**"
      ],
      "metadata": {
        "id": "4I1r9Fzb5zFW"
      }
    },
    {
      "cell_type": "code",
      "source": [
        "true_alpha = 0.1\n",
        "true_beta = 0.1\n",
        "true_sigma0 = 0.2"
      ],
      "metadata": {
        "id": "5MmnLaI851Pu"
      },
      "execution_count": null,
      "outputs": []
    },
    {
      "cell_type": "code",
      "source": [
        "risk_free_rate = 0.05"
      ],
      "metadata": {
        "id": "VGrBbIfA6b_c"
      },
      "execution_count": null,
      "outputs": []
    },
    {
      "cell_type": "markdown",
      "source": [
        "* Como primer paso definimos los parametros constantes.\n",
        "* Se espera que estos parametros no tengan un impacto significativo en el precio de la opcion."
      ],
      "metadata": {
        "id": "et3Gz5B76eJr"
      }
    },
    {
      "cell_type": "markdown",
      "source": [
        "**Vol and Option Pricing Functions**"
      ],
      "metadata": {
        "id": "W5SC3b6u68AU"
      }
    },
    {
      "cell_type": "code",
      "source": [
        "def option_vol_from_surface(moneyness, time_to_maturity):\n",
        "    return true_sigma0 + true_alpha * time_to_maturity + true_beta * np.square(moneyness - 1)\n",
        "\n",
        "def call_option_price(moneyness, time_to_maturity, option_vol):\n",
        "    d1=(np.log(1/moneyness)+(risk_free_rate+np.square(option_vol))*time_to_maturity)/(option_vol*np.sqrt(time_to_maturity))\n",
        "    d2=(np.log(1/moneyness)+(risk_free_rate-np.square(option_vol))*time_to_maturity)/(option_vol*np.sqrt(time_to_maturity))\n",
        "    N_d1 = norm.cdf(d1)\n",
        "    N_d2 = norm.cdf(d2)\n",
        "    \n",
        "    return N_d1 - moneyness * np.exp(-risk_free_rate*time_to_maturity) * N_d2"
      ],
      "metadata": {
        "id": "eDPXSiNu67By"
      },
      "execution_count": null,
      "outputs": []
    },
    {
      "cell_type": "markdown",
      "source": [
        "## 2.3. Data Generation"
      ],
      "metadata": {
        "id": "DDYhA0DG8pT-"
      }
    },
    {
      "cell_type": "code",
      "source": [
        "N = 10000\n",
        "\n",
        "Ks = 1+0.25*np.random.randn(N)\n",
        "Ts = np.random.random(N)\n",
        "Sigmas = np.array([option_vol_from_surface(k,t) for k,t in zip(Ks,Ts)])\n",
        "Ps = np.array([call_option_price(k,t,sig) for k,t,sig in zip(Ks,Ts,Sigmas)])"
      ],
      "metadata": {
        "id": "JhSQvvVR8BiG"
      },
      "execution_count": null,
      "outputs": []
    },
    {
      "cell_type": "markdown",
      "source": [
        "* El tiempo hasta el vencimiento (Ts) se genera utilizando la funcion np.random.random, que genera una variable aleatoria uniforme entre cero y uno.\n",
        "* El dinero (Ks) se genera utilizando la funcion np,random.randn, que genera una variable aleatoria normalmente distribuida. EL numero aleatorio multiplicado por 0.25 genera la desviacion del precio de ejercicio con respecto al precio al contado ( cuando el precio al contado es igual al preco de ejecicio, opcion *at-the-money*) y la ecuacion global garantiza que el dinero es mayor que cero.\n",
        "* Volatilidad (*sigma*) se genera en funcion del tiempo hasta el vencimiento y el dinero utilizando la ecuacion $ \\sigma(M, \\tau) = \\sigma_0 + \\alpha\\tau + \\beta (M - 1)^2$.\n",
        "* El precio de la opcion se genera utilizando la ecuacion $  Se^{-q \\tau}\\Phi(d_1) - e^{-r \\tau} K\\Phi(d_2) \\, $, para el precio de la opcion Black-Scholes.\n",
        "* En Total generamos 10,000 puntos de datos (N). "
      ],
      "metadata": {
        "id": "nO9uVQ-T-BFN"
      }
    },
    {
      "cell_type": "markdown",
      "source": [
        "**Set the Endog and Exog Data**"
      ],
      "metadata": {
        "id": "YYteKwJXCh1p"
      }
    },
    {
      "cell_type": "code",
      "source": [
        "Y = Ps\n",
        "\n",
        "X = np.concatenate([Ks.reshape(-1,1), Ts.reshape(-1,1), Sigmas.reshape(-1,1)], axis=1)\n",
        "\n",
        "dataset = pd.DataFrame(np.concatenate([Y.reshape(-1,1), X], axis=1),\n",
        "                       columns=['Price', 'Moneyness', 'Time', 'Vol'])"
      ],
      "metadata": {
        "id": "pC358pp08hdD"
      },
      "execution_count": null,
      "outputs": []
    },
    {
      "cell_type": "markdown",
      "source": [
        "* Ahora creamos las variables de prediccion y predictoras."
      ],
      "metadata": {
        "id": "XLabctntCuD1"
      }
    },
    {
      "cell_type": "markdown",
      "source": [
        "# 3. Exploratory Data Analysis\n",
        "\n",
        "## 3.1. Descriptive Statistics"
      ],
      "metadata": {
        "id": "qcMSTlM-C4HP"
      }
    },
    {
      "cell_type": "code",
      "source": [
        "dataset.head()"
      ],
      "metadata": {
        "colab": {
          "base_uri": "https://localhost:8080/",
          "height": 206
        },
        "id": "_thV2vHGCm6m",
        "outputId": "78d57d74-ab34-4eea-85d9-f739bd7d05d0"
      },
      "execution_count": null,
      "outputs": [
        {
          "output_type": "execute_result",
          "data": {
            "text/html": [
              "<div>\n",
              "<style scoped>\n",
              "    .dataframe tbody tr th:only-of-type {\n",
              "        vertical-align: middle;\n",
              "    }\n",
              "\n",
              "    .dataframe tbody tr th {\n",
              "        vertical-align: top;\n",
              "    }\n",
              "\n",
              "    .dataframe thead th {\n",
              "        text-align: right;\n",
              "    }\n",
              "</style>\n",
              "<table border=\"1\" class=\"dataframe\">\n",
              "  <thead>\n",
              "    <tr style=\"text-align: right;\">\n",
              "      <th></th>\n",
              "      <th>Price</th>\n",
              "      <th>Moneyness</th>\n",
              "      <th>Time</th>\n",
              "      <th>Vol</th>\n",
              "    </tr>\n",
              "  </thead>\n",
              "  <tbody>\n",
              "    <tr>\n",
              "      <th>0</th>\n",
              "      <td>0.239580</td>\n",
              "      <td>0.937867</td>\n",
              "      <td>0.808447</td>\n",
              "      <td>0.281231</td>\n",
              "    </tr>\n",
              "    <tr>\n",
              "      <th>1</th>\n",
              "      <td>0.087285</td>\n",
              "      <td>1.074000</td>\n",
              "      <td>0.354183</td>\n",
              "      <td>0.235966</td>\n",
              "    </tr>\n",
              "    <tr>\n",
              "      <th>2</th>\n",
              "      <td>0.003008</td>\n",
              "      <td>1.212797</td>\n",
              "      <td>0.139477</td>\n",
              "      <td>0.218476</td>\n",
              "    </tr>\n",
              "    <tr>\n",
              "      <th>3</th>\n",
              "      <td>0.219839</td>\n",
              "      <td>0.784248</td>\n",
              "      <td>0.103453</td>\n",
              "      <td>0.215000</td>\n",
              "    </tr>\n",
              "    <tr>\n",
              "      <th>4</th>\n",
              "      <td>0.000005</td>\n",
              "      <td>1.295926</td>\n",
              "      <td>0.079979</td>\n",
              "      <td>0.216755</td>\n",
              "    </tr>\n",
              "  </tbody>\n",
              "</table>\n",
              "</div>"
            ],
            "text/plain": [
              "      Price  Moneyness      Time       Vol\n",
              "0  0.239580   0.937867  0.808447  0.281231\n",
              "1  0.087285   1.074000  0.354183  0.235966\n",
              "2  0.003008   1.212797  0.139477  0.218476\n",
              "3  0.219839   0.784248  0.103453  0.215000\n",
              "4  0.000005   1.295926  0.079979  0.216755"
            ]
          },
          "metadata": {},
          "execution_count": 7
        }
      ]
    },
    {
      "cell_type": "markdown",
      "source": [
        "* El conjunto de datos contiene el precio \"*que es el precio de la opcion y es la variable predicha*\", junto con el dinero \"*la relacon entre el precio de ejercicio y el precio al contado*\", el tiempo de vencimiento y la volatilidad, que son las caracteristicas del modelo."
      ],
      "metadata": {
        "id": "oV2CuczZDcNw"
      }
    },
    {
      "cell_type": "code",
      "source": [
        "pd.set_option('precision', 3)\n",
        "dataset.describe()"
      ],
      "metadata": {
        "colab": {
          "base_uri": "https://localhost:8080/",
          "height": 300
        },
        "id": "ShxvrOuuDEut",
        "outputId": "43535c33-fc60-4379-95f1-db7ca651efae"
      },
      "execution_count": null,
      "outputs": [
        {
          "output_type": "execute_result",
          "data": {
            "text/html": [
              "<div>\n",
              "<style scoped>\n",
              "    .dataframe tbody tr th:only-of-type {\n",
              "        vertical-align: middle;\n",
              "    }\n",
              "\n",
              "    .dataframe tbody tr th {\n",
              "        vertical-align: top;\n",
              "    }\n",
              "\n",
              "    .dataframe thead th {\n",
              "        text-align: right;\n",
              "    }\n",
              "</style>\n",
              "<table border=\"1\" class=\"dataframe\">\n",
              "  <thead>\n",
              "    <tr style=\"text-align: right;\">\n",
              "      <th></th>\n",
              "      <th>Price</th>\n",
              "      <th>Moneyness</th>\n",
              "      <th>Time</th>\n",
              "      <th>Vol</th>\n",
              "    </tr>\n",
              "  </thead>\n",
              "  <tbody>\n",
              "    <tr>\n",
              "      <th>count</th>\n",
              "      <td>10000.000</td>\n",
              "      <td>10000.000</td>\n",
              "      <td>1.000e+04</td>\n",
              "      <td>10000.000</td>\n",
              "    </tr>\n",
              "    <tr>\n",
              "      <th>mean</th>\n",
              "      <td>0.175</td>\n",
              "      <td>1.005</td>\n",
              "      <td>4.969e-01</td>\n",
              "      <td>0.256</td>\n",
              "    </tr>\n",
              "    <tr>\n",
              "      <th>std</th>\n",
              "      <td>0.134</td>\n",
              "      <td>0.247</td>\n",
              "      <td>2.888e-01</td>\n",
              "      <td>0.030</td>\n",
              "    </tr>\n",
              "    <tr>\n",
              "      <th>min</th>\n",
              "      <td>0.000</td>\n",
              "      <td>0.048</td>\n",
              "      <td>1.088e-04</td>\n",
              "      <td>0.200</td>\n",
              "    </tr>\n",
              "    <tr>\n",
              "      <th>25%</th>\n",
              "      <td>0.071</td>\n",
              "      <td>0.838</td>\n",
              "      <td>2.462e-01</td>\n",
              "      <td>0.231</td>\n",
              "    </tr>\n",
              "    <tr>\n",
              "      <th>50%</th>\n",
              "      <td>0.157</td>\n",
              "      <td>1.007</td>\n",
              "      <td>4.970e-01</td>\n",
              "      <td>0.256</td>\n",
              "    </tr>\n",
              "    <tr>\n",
              "      <th>75%</th>\n",
              "      <td>0.249</td>\n",
              "      <td>1.172</td>\n",
              "      <td>7.446e-01</td>\n",
              "      <td>0.280</td>\n",
              "    </tr>\n",
              "    <tr>\n",
              "      <th>max</th>\n",
              "      <td>0.952</td>\n",
              "      <td>1.938</td>\n",
              "      <td>9.999e-01</td>\n",
              "      <td>0.362</td>\n",
              "    </tr>\n",
              "  </tbody>\n",
              "</table>\n",
              "</div>"
            ],
            "text/plain": [
              "           Price  Moneyness       Time        Vol\n",
              "count  10000.000  10000.000  1.000e+04  10000.000\n",
              "mean       0.175      1.005  4.969e-01      0.256\n",
              "std        0.134      0.247  2.888e-01      0.030\n",
              "min        0.000      0.048  1.088e-04      0.200\n",
              "25%        0.071      0.838  2.462e-01      0.231\n",
              "50%        0.157      1.007  4.970e-01      0.256\n",
              "75%        0.249      1.172  7.446e-01      0.280\n",
              "max        0.952      1.938  9.999e-01      0.362"
            ]
          },
          "metadata": {},
          "execution_count": 8
        }
      ]
    },
    {
      "cell_type": "markdown",
      "source": [
        "## 3.2. Data Visualization"
      ],
      "metadata": {
        "id": "AbGHgE3uDQJ1"
      }
    },
    {
      "cell_type": "code",
      "source": [
        "dataset.hist(bins=50, sharex=False, sharey=False, xlabelsize=1, ylabelsize=1, figsize=(12,12))\n",
        "plt.show()"
      ],
      "metadata": {
        "colab": {
          "base_uri": "https://localhost:8080/",
          "height": 707
        },
        "id": "Ea02G7zCDKBS",
        "outputId": "63bb35cc-8e70-4c83-e61f-97078a0f6ea3"
      },
      "execution_count": null,
      "outputs": [
        {
          "output_type": "display_data",
          "data": {
            "image/png": "[encoded data removed]",
            "text/plain": [
              "<Figure size 864x864 with 4 Axes>"
            ]
          },
          "metadata": {
            "needs_background": "light"
          }
        }
      ]
    },
    {
      "cell_type": "markdown",
      "source": [
        "* Podemos ver que el precio tiene una distribución interesante con un pico en $0$"
      ],
      "metadata": {
        "id": "qgVRHBtfE41y"
      }
    },
    {
      "cell_type": "code",
      "source": [
        "dataset.plot(kind='density', subplots=True, layout=(4,4), sharex=True, legend=True, fontsize=1, figsize=(15,15))\n",
        "plt.show()"
      ],
      "metadata": {
        "colab": {
          "base_uri": "https://localhost:8080/",
          "height": 216
        },
        "id": "JG1acnPAEijt",
        "outputId": "53161b09-1f61-488b-ef5b-4b4b1aea811a"
      },
      "execution_count": null,
      "outputs": [
        {
          "output_type": "display_data",
          "data": {
            "image/png": "[encoded data removed]",
            "text/plain": [
              "<Figure size 1080x1080 with 16 Axes>"
            ]
          },
          "metadata": {
            "needs_background": "light"
          }
        }
      ]
    },
    {
      "cell_type": "code",
      "source": [
        "correlation = dataset.corr()\n",
        "plt.figure(figsize=(10,10))\n",
        "plt.title('Correlation Matrix')\n",
        "sns.heatmap(correlation, vmax=1, square=True,annot=True,cmap='cubehelix')"
      ],
      "metadata": {
        "colab": {
          "base_uri": "https://localhost:8080/",
          "height": 595
        },
        "id": "hmTEw-wxFBcp",
        "outputId": "30ad6d9a-0f07-41fd-b9e1-cce06569a76a"
      },
      "execution_count": null,
      "outputs": [
        {
          "output_type": "execute_result",
          "data": {
            "text/plain": [
              "<matplotlib.axes._subplots.AxesSubplot at 0x7f01106f2a10>"
            ]
          },
          "metadata": {},
          "execution_count": 11
        },
        {
          "output_type": "display_data",
          "data": {
            "image/png": "[encoded data removed]",
            "text/plain": [
              "<Figure size 720x720 with 2 Axes>"
            ]
          },
          "metadata": {
            "needs_background": "light"
          }
        }
      ]
    },
    {
      "cell_type": "code",
      "source": [
        "sns.pairplot(dataset, kind=\"hist\")"
      ],
      "metadata": {
        "colab": {
          "base_uri": "https://localhost:8080/",
          "height": 743
        },
        "id": "ESUgxJNKFbU7",
        "outputId": "cd211343-6f39-4af6-d36d-6474f8a7c65d"
      },
      "execution_count": null,
      "outputs": [
        {
          "output_type": "execute_result",
          "data": {
            "text/plain": [
              "<seaborn.axisgrid.PairGrid at 0x7f0110738a10>"
            ]
          },
          "metadata": {},
          "execution_count": 12
        },
        {
          "output_type": "display_data",
          "data": {
            "image/png": "[encoded data removed]",
            "text/plain": [
              "<Figure size 720x720 with 20 Axes>"
            ]
          },
          "metadata": {
            "needs_background": "light"
          }
        }
      ]
    },
    {
      "cell_type": "markdown",
      "source": [
        "* Observando que, amedida que disminuye el dinero (es decir el precio de ejercicio disminuye en comparacion con el precio de las acciones), se produce un aumento en el precio.\n",
        "*  Si observamos el precio frente al tiempo hasta el vencimiento, vemos un aumento del precio de la opcion.\n",
        "E l grafico del precio frente a la volatilidad tambien muestra un aumento del precio con la volatilidad.\n",
        "* Sin embargo, el precio de la opcion parece mostrar una relacion no lineal con las mayorias de las variables.\n",
        "* Otra relacion interesante es la existente entre la volatilidad y el strike. Cuanto mas mos desviemos del Moneyness de uno, mayor sera la volatilidad que observamos. \n",
        "* Vemos algunos análisis no lineales muy interesantes. Esto significa que esperamos que nuestros modelos no lineales hagan un mejor trabajo que nuestros modelos lineales."
      ],
      "metadata": {
        "id": "rs1taQ-RIjbS"
      }
    },
    {
      "cell_type": "markdown",
      "source": [
        "# 4. Data Preparation and Analysis\n",
        "\n",
        "## 4.1. Univariate Feature Selection"
      ],
      "metadata": {
        "id": "TB3gMUu8TAI7"
      }
    },
    {
      "cell_type": "code",
      "source": [
        "bestfeatures = SelectKBest(k='all', score_func=f_regression)\n",
        "fit = bestfeatures.fit(X,Y)\n",
        "dfscores = pd.DataFrame(fit.scores_)\n",
        "dfcolumns = pd.DataFrame(['Moneyness', 'Time', 'Vol'])\n",
        "\n",
        "# concatenar dos marcos de datos para una mejor visualización \n",
        "featureScores = pd.concat([dfcolumns,dfscores],axis=1)\n",
        "featureScores.columns = ['Specs','Score']  # nombrar las columnas del marco de datos\n",
        "featureScores.nlargest(10,'Score').set_index('Specs')  # imprimir 10 mejores características"
      ],
      "metadata": {
        "colab": {
          "base_uri": "https://localhost:8080/",
          "height": 175
        },
        "id": "nIIqV96XFo5l",
        "outputId": "bac52ea1-2e04-4821-92ed-0c5bf0a8621d"
      },
      "execution_count": null,
      "outputs": [
        {
          "output_type": "execute_result",
          "data": {
            "text/html": [
              "<div>\n",
              "<style scoped>\n",
              "    .dataframe tbody tr th:only-of-type {\n",
              "        vertical-align: middle;\n",
              "    }\n",
              "\n",
              "    .dataframe tbody tr th {\n",
              "        vertical-align: top;\n",
              "    }\n",
              "\n",
              "    .dataframe thead th {\n",
              "        text-align: right;\n",
              "    }\n",
              "</style>\n",
              "<table border=\"1\" class=\"dataframe\">\n",
              "  <thead>\n",
              "    <tr style=\"text-align: right;\">\n",
              "      <th></th>\n",
              "      <th>Score</th>\n",
              "    </tr>\n",
              "    <tr>\n",
              "      <th>Specs</th>\n",
              "      <th></th>\n",
              "    </tr>\n",
              "  </thead>\n",
              "  <tbody>\n",
              "    <tr>\n",
              "      <th>Moneyness</th>\n",
              "      <td>29605.602</td>\n",
              "    </tr>\n",
              "    <tr>\n",
              "      <th>Vol</th>\n",
              "      <td>2407.205</td>\n",
              "    </tr>\n",
              "    <tr>\n",
              "      <th>Time</th>\n",
              "      <td>1558.442</td>\n",
              "    </tr>\n",
              "  </tbody>\n",
              "</table>\n",
              "</div>"
            ],
            "text/plain": [
              "               Score\n",
              "Specs               \n",
              "Moneyness  29605.602\n",
              "Vol         2407.205\n",
              "Time        1558.442"
            ]
          },
          "metadata": {},
          "execution_count": 13
        }
      ]
    },
    {
      "cell_type": "markdown",
      "source": [
        "* Observamos que el dinero (*Moneyness*) es la variable más importante para el precio."
      ],
      "metadata": {
        "id": "Px8sKz-oT5WI"
      }
    },
    {
      "cell_type": "markdown",
      "source": [
        "# 5. Evaluate Algorithms and Models\n",
        "\n",
        "## 5.1. Train Test Split and Evaluation Metrics"
      ],
      "metadata": {
        "id": "Cn_SK4E4UIRQ"
      }
    },
    {
      "cell_type": "code",
      "source": [
        "validation_size = 0.2\n",
        "\n",
        "train_size = int(len(X) * (1-validation_size))\n",
        "X_train, X_test = X[0:train_size], X[train_size:len(X)]\n",
        "Y_train, Y_test = Y[0:train_size], Y[train_size:len(X)]"
      ],
      "metadata": {
        "id": "jY-zeNBbTrQp"
      },
      "execution_count": null,
      "outputs": []
    },
    {
      "cell_type": "markdown",
      "source": [
        "Utilizamos los modelos scikit preconstruidos para realizar un análisis de pliegues K en nuestros datos de entrenamiento. A continuación, entrenamos el modelo en los datos de entrenamiento completos y lo utilizamos para la predicción de los datos de prueba. Los parámetros para el análisis de pliegues K se definen como:"
      ],
      "metadata": {
        "id": "k0yQrn-uZdJC"
      }
    },
    {
      "cell_type": "code",
      "source": [
        "num_folds = 10\n",
        "seed = 7\n",
        "\n",
        "scoring = 'neg_mean_squared_error' "
      ],
      "metadata": {
        "id": "Gii14EeUZUoV"
      },
      "execution_count": null,
      "outputs": []
    },
    {
      "cell_type": "markdown",
      "source": [
        "## 5.2. Compare Models and Algorithms\n"
      ],
      "metadata": {
        "id": "rvlt-BF9Zyso"
      }
    },
    {
      "cell_type": "code",
      "source": [
        "models = []\n",
        "\n",
        "# Linear Models and Regression Trees\n",
        "models.append(('LR', LinearRegression()))\n",
        "models.append(('LASSO', Lasso()))\n",
        "models.append(('EN', ElasticNet()))\n",
        "models.append(('KNN', KNeighborsRegressor()))\n",
        "models.append(('CART', DecisionTreeRegressor()))\n",
        "models.append(('SVR', SVR()))\n",
        "\n",
        "# Neural Network Predictor\n",
        "models.append(('MLP', MLPRegressor()))\n",
        "\n",
        "# Boosting and Bagging Methods\n",
        "# Boosting methods\n",
        "models.append(('ABR', AdaBoostRegressor()))\n",
        "models.append(('GBR', GradientBoostingRegressor()))\n",
        "# Bagging methods\n",
        "models.append(('RFR', RandomForestRegressor()))\n",
        "models.append(('ETR', ExtraTreesRegressor()))"
      ],
      "metadata": {
        "id": "tG2jHfHEZtl1"
      },
      "execution_count": null,
      "outputs": []
    },
    {
      "cell_type": "code",
      "source": [
        "names = []\n",
        "kfold_results = []\n",
        "test_results = []\n",
        "train_results = []\n",
        "\n",
        "for name, model in models:\n",
        "    names.append(name)\n",
        "    \n",
        "    ## K Fold analysis:\n",
        "    \n",
        "    kfold = KFold(n_splits=num_folds, random_state=seed, shuffle=True)\n",
        "    #converted mean square error to positive. The lower the beter\n",
        "    cv_results = -1* cross_val_score(model, X_train, Y_train, cv=kfold, scoring=scoring)\n",
        "    kfold_results.append(cv_results)\n",
        "    \n",
        "\n",
        "    # Full Training period\n",
        "    res = model.fit(X_train, Y_train)\n",
        "    train_result = mean_squared_error(res.predict(X_train), Y_train)\n",
        "    train_results.append(train_result)\n",
        "    \n",
        "    # Test results\n",
        "    test_result = mean_squared_error(res.predict(X_test), Y_test)\n",
        "    test_results.append(test_result)\n",
        "    \n",
        "    msg = \"%s: %f (%f) %f %f\" % (name, cv_results.mean(), cv_results.std(), train_result, test_result)\n",
        "    print(msg)"
      ],
      "metadata": {
        "id": "sar-A5rnaQNJ",
        "colab": {
          "base_uri": "https://localhost:8080/"
        },
        "outputId": "bed2f497-82ff-4627-882c-85ec7f53f3c5"
      },
      "execution_count": null,
      "outputs": [
        {
          "output_type": "stream",
          "name": "stdout",
          "text": [
            "LR: 0.000349 (0.000026) 0.000348 0.000379\n",
            "LASSO: 0.018031 (0.001384) 0.018029 0.017649\n",
            "EN: 0.018031 (0.001384) 0.018029 0.017649\n",
            "KNN: 0.000017 (0.000016) 0.000009 0.000012\n",
            "CART: 0.000011 (0.000003) 0.000000 0.000009\n",
            "SVR: 0.005444 (0.000151) 0.005424 0.005464\n",
            "MLP: 0.000034 (0.000021) 0.000019 0.000021\n",
            "ABR: 0.000720 (0.000045) 0.000736 0.000748\n",
            "GBR: 0.000022 (0.000003) 0.000016 0.000020\n",
            "RFR: 0.000004 (0.000005) 0.000001 0.000002\n",
            "ETR: 0.000002 (0.000004) 0.000000 0.000000\n"
          ]
        }
      ]
    },
    {
      "cell_type": "code",
      "source": [
        "fig = plt.figure()\n",
        "fig.suptitle('Algorithm Comparison: Kfold results')\n",
        "ax = fig.add_subplot(111)\n",
        "plt.boxplot(kfold_results)\n",
        "ax.set_xticklabels(names)\n",
        "fig.set_size_inches(15,8)\n",
        "plt.show()"
      ],
      "metadata": {
        "colab": {
          "base_uri": "https://localhost:8080/",
          "height": 540
        },
        "id": "yuUC1bVBLoTV",
        "outputId": "44632996-d146-4e88-8913-19356eb6f7d8"
      },
      "execution_count": null,
      "outputs": [
        {
          "output_type": "display_data",
          "data": {
            "image/png": "[encoded data removed]",
            "text/plain": [
              "<Figure size 1080x576 with 1 Axes>"
            ]
          },
          "metadata": {
            "needs_background": "light"
          }
        }
      ]
    },
    {
      "cell_type": "code",
      "source": [
        "# comparar algoritmos\n",
        "fig = plt.figure()\n",
        "\n",
        "ind = np.arange(len(names)-2)  # las ubicaciones x para los grupos\n",
        "width = 0.35  # la anchura de las barras\n",
        "\n",
        "fig.suptitle('Algorithm Comparison')\n",
        "ax = fig.add_subplot(111)\n",
        "plt.bar(ind - width/2, train_results[0:1] + train_results[3:],  width=width, label='Train Error')\n",
        "plt.bar(ind + width/2, test_results[0:1] + test_results[3:], width=width, label='Test Error')\n",
        "fig.set_size_inches(15,8)\n",
        "plt.legend()\n",
        "ax.set_xticks(ind)\n",
        "ax.set_xticklabels(names[0:1] + names[3:])\n",
        "plt.show()"
      ],
      "metadata": {
        "colab": {
          "base_uri": "https://localhost:8080/",
          "height": 540
        },
        "id": "gUH8_lQ7MRQd",
        "outputId": "82bfc5b1-e912-403f-89a6-76b315919a7e"
      },
      "execution_count": null,
      "outputs": [
        {
          "output_type": "display_data",
          "data": {
            "image/png": "[encoded data removed]",
            "text/plain": [
              "<Figure size 1080x576 with 1 Axes>"
            ]
          },
          "metadata": {
            "needs_background": "light"
          }
        }
      ]
    },
    {
      "cell_type": "markdown",
      "source": [
        "* Vemos que el algoritmo del perceptrón multicapa (MLP) lo hace mucho mejor que el algoritmo lineal. Sin embargo, los métodos CART y Forest también hacen un buen trabajo. Dado que MLP es uno de los mejores modelos, realizamos la búsqueda de la red para el modelo MLP en el siguiente paso."
      ],
      "metadata": {
        "id": "2axBOlDGNQVy"
      }
    },
    {
      "cell_type": "markdown",
      "source": [
        "# 6. Model Tuning and finalising the model\n",
        "Como se muestra en el gráfico anterior, el modelo MLP es uno de los mejores, por lo que realizamos el ajuste del modelo. Realizamos una búsqueda en cuadrícula con diferentes combinaciones de capas ocultas en el modelo MLP."
      ],
      "metadata": {
        "id": "w9O0ZAOPNn7B"
      }
    },
    {
      "cell_type": "code",
      "source": [
        "'''\n",
        "hidden_layer_sizes : tupla, longitud = n_capas - 2, por defecto (100,)\n",
        "    El ith elemento representa el número de neuronas en el ith\n",
        "    capa oculta.\n",
        "'''\n",
        "param_grid={'hidden_layer_sizes': [(20,), (50,), (20,20), (20, 30, 20)]}\n",
        "model = MLPRegressor()\n",
        "kfold = KFold(n_splits=num_folds, random_state=seed, shuffle=True)\n",
        "grid = GridSearchCV(estimator=model, param_grid=param_grid, scoring=scoring, cv=kfold)\n",
        "grid_result = grid.fit(X_train, Y_train)\n",
        "print(\"Best: %f using %s\" % (grid_result.best_score_, grid_result.best_params_))\n",
        "means = grid_result.cv_results_['mean_test_score']\n",
        "stds = grid_result.cv_results_['std_test_score']\n",
        "params = grid_result.cv_results_['params']\n",
        "for mean, stdev, param in zip(means, stds, params):\n",
        "    print(\"%f (%f) with: %r\" % (mean, stdev, param))"
      ],
      "metadata": {
        "colab": {
          "base_uri": "https://localhost:8080/"
        },
        "id": "fABfDpr9M9k5",
        "outputId": "76fb8139-b647-45c5-f66a-7ad1cde09669"
      },
      "execution_count": null,
      "outputs": [
        {
          "output_type": "stream",
          "name": "stdout",
          "text": [
            "Best: -0.000034 using {'hidden_layer_sizes': (20, 30, 20)}\n",
            "-0.000598 (0.000557) with: {'hidden_layer_sizes': (20,)}\n",
            "-0.000114 (0.000091) with: {'hidden_layer_sizes': (50,)}\n",
            "-0.000105 (0.000079) with: {'hidden_layer_sizes': (20, 20)}\n",
            "-0.000034 (0.000022) with: {'hidden_layer_sizes': (20, 30, 20)}\n"
          ]
        }
      ]
    },
    {
      "cell_type": "markdown",
      "source": [
        "* El mejor modelo tiene 3 capas con  20, 30, 10 nodos en cada capa oculta."
      ],
      "metadata": {
        "id": "SgSITWG7PhRh"
      }
    },
    {
      "cell_type": "code",
      "source": [
        "# prepare model\n",
        "model_tuned = MLPRegressor(hidden_layer_sizes=(20, 30, 20))\n",
        "model_tuned.fit(X_train, Y_train)"
      ],
      "metadata": {
        "colab": {
          "base_uri": "https://localhost:8080/"
        },
        "id": "KrfAS3c9PEwe",
        "outputId": "89294020-2b2c-423a-8a3c-e88f71d8aabe"
      },
      "execution_count": null,
      "outputs": [
        {
          "output_type": "execute_result",
          "data": {
            "text/plain": [
              "MLPRegressor(hidden_layer_sizes=(20, 30, 20))"
            ]
          },
          "metadata": {},
          "execution_count": 23
        }
      ]
    },
    {
      "cell_type": "code",
      "source": [
        "# estimar la precisión en el conjunto de validación\n",
        "# transformar el conjunto de datos de validación\n",
        "predictions = model_tuned.predict(X_test)\n",
        "print(mean_squared_error(Y_test, predictions))"
      ],
      "metadata": {
        "colab": {
          "base_uri": "https://localhost:8080/"
        },
        "id": "cALr1dWzP7H4",
        "outputId": "2f5f880b-a1a6-4fab-f91a-9b2414840b82"
      },
      "execution_count": null,
      "outputs": [
        {
          "output_type": "stream",
          "name": "stdout",
          "text": [
            "2.3475039476084102e-05\n"
          ]
        }
      ]
    },
    {
      "cell_type": "markdown",
      "source": [
        "* Vemos que el error medio (RMSE) es de 2.34e-5 , que es menos de un céntimo. Por lo tanto, el modelo de aprendizaje profundo hace un excelente trabajo de ajuste del modelo de valoración de opciones Black-Scholes. La precisión puede mejorarse con más ajustes."
      ],
      "metadata": {
        "id": "1JgRuIFGSYPC"
      }
    },
    {
      "cell_type": "markdown",
      "source": [
        "# 7. Additonal analysis: removing the volatilty data.\n",
        "A continuación, complicamos el proceso intentando predecir el precio sin los datos de volatilidad."
      ],
      "metadata": {
        "id": "UwZUNz6bTlxa"
      }
    },
    {
      "cell_type": "code",
      "source": [
        "X = X[:, :2]"
      ],
      "metadata": {
        "id": "apB7mc_TR0i0"
      },
      "execution_count": null,
      "outputs": []
    },
    {
      "cell_type": "code",
      "source": [
        "validation_size = 0.2\n",
        "\n",
        "train_size = int(len(X) * (1-validation_size))\n",
        "X_train, X_test = X[0:train_size], X[train_size:len(X)]\n",
        "Y_train, Y_test = Y[0:train_size], Y[train_size:len(X)]"
      ],
      "metadata": {
        "id": "DBbLeqQ3TyYH"
      },
      "execution_count": null,
      "outputs": []
    },
    {
      "cell_type": "code",
      "source": [
        "num_folds = 10\n",
        "seed = 7\n",
        "\n",
        "scoring = 'neg_mean_squared_error' "
      ],
      "metadata": {
        "id": "YxwtbKc5T0ot"
      },
      "execution_count": null,
      "outputs": []
    },
    {
      "cell_type": "code",
      "source": [
        "models = []\n",
        "\n",
        "# Linear Models and Regression Trees\n",
        "models.append(('LR', LinearRegression()))\n",
        "#models.append(('LASSO', Lasso()))\n",
        "#models.append(('EN', ElasticNet()))\n",
        "models.append(('KNN', KNeighborsRegressor()))\n",
        "models.append(('CART', DecisionTreeRegressor()))\n",
        "models.append(('SVR', SVR()))\n",
        "\n",
        "# Neural Network Predictor\n",
        "models.append(('MLP', MLPRegressor()))\n",
        "\n",
        "# Boosting and Bagging Methods\n",
        "# Boosting methods\n",
        "models.append(('ABR', AdaBoostRegressor()))\n",
        "models.append(('GBR', GradientBoostingRegressor()))\n",
        "# Bagging methods\n",
        "models.append(('RFR', RandomForestRegressor()))\n",
        "models.append(('ETR', ExtraTreesRegressor()))"
      ],
      "metadata": {
        "id": "ftpX7t3aT5yT"
      },
      "execution_count": null,
      "outputs": []
    },
    {
      "cell_type": "code",
      "source": [
        "names = []\n",
        "kfold_results = []\n",
        "test_results = []\n",
        "train_results = []\n",
        "for name, model in models:\n",
        "    names.append(name)\n",
        "    \n",
        "    ## K Fold analysis:\n",
        "    \n",
        "    kfold = KFold(n_splits=num_folds, random_state=seed, shuffle=True)\n",
        "    #converted mean square error to positive. The lower the beter\n",
        "    cv_results = -1* cross_val_score(model, X_train, Y_train, cv=kfold, scoring=scoring)\n",
        "    kfold_results.append(cv_results)\n",
        "    \n",
        "\n",
        "    # Full Training period\n",
        "    res = model.fit(X_train, Y_train)\n",
        "    train_result = mean_squared_error(res.predict(X_train), Y_train)\n",
        "    train_results.append(train_result)\n",
        "    \n",
        "    # Test results\n",
        "    test_result = mean_squared_error(res.predict(X_test), Y_test)\n",
        "    test_results.append(test_result)\n",
        "    \n",
        "    msg = \"%s: %f (%f) %f %f\" % (name, cv_results.mean(), cv_results.std(), train_result, test_result)\n",
        "    print(msg)"
      ],
      "metadata": {
        "colab": {
          "base_uri": "https://localhost:8080/"
        },
        "id": "MKulr1XyUGHs",
        "outputId": "82896aeb-4521-4487-d23d-adfdc7d2f2de"
      },
      "execution_count": null,
      "outputs": [
        {
          "output_type": "stream",
          "name": "stdout",
          "text": [
            "LR: 0.002005 (0.000284) 0.002001 0.002293\n",
            "KNN: 0.000017 (0.000016) 0.000009 0.000012\n",
            "CART: 0.000010 (0.000002) 0.000000 0.000009\n",
            "SVR: 0.005937 (0.000098) 0.005875 0.005929\n",
            "MLP: 0.000060 (0.000027) 0.000016 0.000018\n",
            "ABR: 0.000720 (0.000037) 0.000669 0.000692\n",
            "GBR: 0.000022 (0.000002) 0.000017 0.000021\n",
            "RFR: 0.000004 (0.000005) 0.000001 0.000002\n",
            "ETR: 0.000001 (0.000003) 0.000000 0.000001\n"
          ]
        }
      ]
    },
    {
      "cell_type": "code",
      "source": [
        "fig = plt.figure()\n",
        "fig.suptitle('Algorithm Comparison: Kfold results')\n",
        "ax = fig.add_subplot(111)\n",
        "plt.boxplot(kfold_results)\n",
        "ax.set_xticklabels(names)\n",
        "fig.set_size_inches(15,8)\n",
        "plt.show()"
      ],
      "metadata": {
        "colab": {
          "base_uri": "https://localhost:8080/",
          "height": 540
        },
        "id": "M_yjMsd9UJrp",
        "outputId": "3a2a04b7-519c-4571-f208-9567927ee1d0"
      },
      "execution_count": null,
      "outputs": [
        {
          "output_type": "display_data",
          "data": {
            "image/png": "[encoded data removed]",
            "text/plain": [
              "<Figure size 1080x576 with 1 Axes>"
            ]
          },
          "metadata": {
            "needs_background": "light"
          }
        }
      ]
    },
    {
      "cell_type": "code",
      "source": [
        "# compare algorithms\n",
        "fig = plt.figure()\n",
        "\n",
        "ind = np.arange(len(names))  # the x locations for the groups\n",
        "width = 0.35  # the width of the bars\n",
        "\n",
        "fig.suptitle('Algorithm Comparison')\n",
        "ax = fig.add_subplot(111)\n",
        "plt.bar(ind - width/2, train_results,  width=width, label='Train Error')\n",
        "plt.bar(ind + width/2, test_results, width=width, label='Test Error')\n",
        "fig.set_size_inches(15,8)\n",
        "plt.legend()\n",
        "ax.set_xticks(ind)\n",
        "ax.set_xticklabels(names)\n",
        "plt.show()"
      ],
      "metadata": {
        "colab": {
          "base_uri": "https://localhost:8080/",
          "height": 540
        },
        "id": "9ad8E_91UiXc",
        "outputId": "a2b994ba-930e-4934-b727-9ad8b3aae8c1"
      },
      "execution_count": null,
      "outputs": [
        {
          "output_type": "display_data",
          "data": {
            "image/png": "[encoded data removed]",
            "text/plain": [
              "<Figure size 1080x576 with 1 Axes>"
            ]
          },
          "metadata": {
            "needs_background": "light"
          }
        }
      ]
    },
    {
      "cell_type": "markdown",
      "source": [
        "* Podemos ver que la regresión lineal ahora hace un trabajo peor que antes, esto es esperado ya que hemos añadido una mayor cantidad de no linealidad."
      ],
      "metadata": {
        "id": "AuGQwlHaXCjO"
      }
    },
    {
      "cell_type": "markdown",
      "source": [
        "# Conclusions\n",
        "* El modelo de regresión lineal no obtuvo tan buenos resultados como nuestros modelos no lineales y los modelos no lineales tienen un rendimiento muy bueno en general.\n",
        "\n",
        "* La red neuronal artificial (RNA) puede reproducir la fórmula de fijación de precios de opciones de Black y Scholes para una opción de compra con un alto grado de precisión, lo que significa que podemos aprovechar el eficiente cálculo numérico del aprendizaje automático en la fijación de precios de los derivados sin depender de las suposiciones poco prácticas de los modelos tradicionales de fijación de precios de los derivados."
      ],
      "metadata": {
        "id": "pNmPrSJFXXly"
      }
    }
  ]
}