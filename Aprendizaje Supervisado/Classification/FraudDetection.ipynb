{
  "nbformat": 4,
  "nbformat_minor": 0,
  "metadata": {
    "colab": {
      "name": "FraudDetection.ipynb",
      "provenance": [],
      "authorship_tag": "ABX9TyOiTqj+4Jyx8EJIS+9IPKYk",
      "include_colab_link": true
    },
    "kernelspec": {
      "name": "python3",
      "display_name": "Python 3"
    },
    "language_info": {
      "name": "python"
    }
  },
  "cells": [
    {
      "cell_type": "markdown",
      "metadata": {
        "id": "view-in-github",
        "colab_type": "text"
      },
      "source": [
        "<a href=\"https://colab.research.google.com/github/Jushef/Proyectos-ML-DL/blob/main/Aprendizaje%20Supervisado/Classification/FraudDetection.ipynb\" target=\"_parent\"><img src=\"https://colab.research.google.com/assets/colab-badge.svg\" alt=\"Open In Colab\"/></a>"
      ]
    },
    {
      "cell_type": "markdown",
      "source": [
        "# **Fraud Detection**\n",
        "El objetivo de este Proyecto es utilizar varios modelos basados en la clasificación para detectar si una transacción es un pago normal o un fraude."
      ],
      "metadata": {
        "id": "K3Zvz4IPnav-"
      }
    },
    {
      "cell_type": "markdown",
      "source": [
        "##**Content**"
      ],
      "metadata": {
        "id": "X017HoUanoY4"
      }
    },
    {
      "cell_type": "markdown",
      "source": [
        "* [1. Problem Definition](#0)\n",
        "* [2. Getting Started - Load Libraries and Dataset](#1)\n",
        "    * [2.1. Load Libraries](#1.1)    \n",
        "    * [2.2. Load Dataset](#1.2)\n",
        "* [3. Exploratory Data Analysis](#2)\n",
        "    * [3.1 Descriptive Statistics](#2.1)    \n",
        "    * [3.2. Data Visualisation](#2.2)\n",
        "* [4. Data Preparation](#3)\n",
        "    * [4.1 Data Cleaning](#3.1)    \n",
        "    * [4.2.Feature Selection](#3.2) \n",
        "* [5.Evaluate Algorithms and Models](#4)        \n",
        "    * [5.1. Train/Test Split](#4.1)\n",
        "    * [5.2. Evaluate Models](#4.2) \n",
        "* [6. Model Tuning](#5)\n",
        "    * [5.1. Model Tuning-Right Evaluation Metric](#5.1)\n",
        "    * [5.2. Model Tuning-Balancing the sample](#5.2) \n"
      ],
      "metadata": {
        "id": "lwtxzDIsnxIp"
      }
    },
    {
      "cell_type": "markdown",
      "source": [
        "<a id='0'></a>\n",
        "# 1. Problem Definition"
      ],
      "metadata": {
        "id": "xUtQCozvn2oj"
      }
    },
    {
      "cell_type": "markdown",
      "source": [
        "En el marco de clasificación definido para este estudio de caso, la variable de respuesta toma un valor de 1 en caso de que la transacción dada sea un fraude y 0 en caso contrario.\n",
        "\n",
        "El conjunto de datos contiene transacciones realizadas con tarjetas de crédito en septiembre de 2013 por titulares de tarjetas europeas. Este conjunto de datos presenta las transacciones ocurridas en dos días, donde tenemos 492 fraudes de 284.807 transacciones. El conjunto de datos está muy desequilibrado, la clase positiva (fraudes) representa el 0,172% de todas las transacciones. La característica \"Clase\" es la variable de respuesta y toma el valor 1 en caso de fraude y 0 en caso contrario. Las características son el resultado de la transformación PCA y no son intuitivas en cuanto a sus nombres.\n",
        "\n",
        "Los datos pueden descargarse de: https://www.kaggle.com/mlg-ulb/creditcardfraud\n"
      ],
      "metadata": {
        "id": "BXC0WRS0oEt4"
      }
    },
    {
      "cell_type": "markdown",
      "source": [
        "<a id='1'></a>\n",
        "# 2. Getting Started- Loading the data and python packages"
      ],
      "metadata": {
        "id": "uQGp5lQ9ovRQ"
      }
    },
    {
      "cell_type": "markdown",
      "source": [
        "<a id='1.1'></a>\n",
        "## 2.1. Loading the python packages"
      ],
      "metadata": {
        "id": "zH38i8Eyp69w"
      }
    },
    {
      "cell_type": "code",
      "execution_count": null,
      "metadata": {
        "id": "ccwxsfiVnZyo"
      },
      "outputs": [],
      "source": [
        "# Load libraries\n",
        "import numpy as np\n",
        "import pandas as pd\n",
        "import matplotlib.pyplot as plt\n",
        "from pandas.plotting import scatter_matrix\n",
        "import seaborn as sns\n",
        "from sklearn.preprocessing import StandardScaler\n",
        "from sklearn.model_selection import train_test_split, KFold, cross_val_score, GridSearchCV\n",
        "from sklearn.linear_model import LogisticRegression\n",
        "from sklearn.tree import DecisionTreeClassifier\n",
        "from sklearn.neighbors import KNeighborsClassifier\n",
        "from sklearn.discriminant_analysis import LinearDiscriminantAnalysis\n",
        "from sklearn.naive_bayes import GaussianNB\n",
        "from sklearn.svm import SVC\n",
        "from sklearn.neural_network import MLPClassifier\n",
        "from sklearn.pipeline import Pipeline\n",
        "from sklearn.ensemble import AdaBoostClassifier, GradientBoostingClassifier, RandomForestClassifier, ExtraTreesClassifier\n",
        "from sklearn.metrics import classification_report, confusion_matrix, accuracy_score\n",
        "\n",
        "# Libraries for Deep Learning Models\n",
        "from tensorflow.keras.models import Sequential\n",
        "from tensorflow.keras.layers import Dense\n",
        "from tensorflow.keras.wrappers.scikit_learn import KerasClassifier\n",
        "from tensorflow.keras.optimizers import SGD\n",
        "\n",
        "# Libraries for Saving the Model\n",
        "from pickle import dump\n",
        "from pickle import load"
      ]
    },
    {
      "cell_type": "markdown",
      "source": [
        "<a id='1.2'></a>\n",
        "## 2.2. Loading the Data"
      ],
      "metadata": {
        "id": "ThxWFZ0Nq754"
      }
    },
    {
      "cell_type": "code",
      "source": [
        "dataset = pd.read_csv('/content/sample_data/creditcard.csv')"
      ],
      "metadata": {
        "id": "jew-z4yuvo9W"
      },
      "execution_count": null,
      "outputs": []
    },
    {
      "cell_type": "code",
      "source": [
        "dataset.head()"
      ],
      "metadata": {
        "colab": {
          "base_uri": "https://localhost:8080/",
          "height": 270
        },
        "id": "-kX98eQ6v_ay",
        "outputId": "60c328c7-8fe9-42a6-80ef-c8a7b5b7caeb"
      },
      "execution_count": null,
      "outputs": [
        {
          "output_type": "execute_result",
          "data": {
            "text/html": [
              "\n",
              "  <div id=\"df-5125e106-bfdb-4b27-b00d-adc9867b1d93\">\n",
              "    <div class=\"colab-df-container\">\n",
              "      <div>\n",
              "<style scoped>\n",
              "    .dataframe tbody tr th:only-of-type {\n",
              "        vertical-align: middle;\n",
              "    }\n",
              "\n",
              "    .dataframe tbody tr th {\n",
              "        vertical-align: top;\n",
              "    }\n",
              "\n",
              "    .dataframe thead th {\n",
              "        text-align: right;\n",
              "    }\n",
              "</style>\n",
              "<table border=\"1\" class=\"dataframe\">\n",
              "  <thead>\n",
              "    <tr style=\"text-align: right;\">\n",
              "      <th></th>\n",
              "      <th>Time</th>\n",
              "      <th>V1</th>\n",
              "      <th>V2</th>\n",
              "      <th>V3</th>\n",
              "      <th>V4</th>\n",
              "      <th>V5</th>\n",
              "      <th>V6</th>\n",
              "      <th>V7</th>\n",
              "      <th>V8</th>\n",
              "      <th>V9</th>\n",
              "      <th>V10</th>\n",
              "      <th>V11</th>\n",
              "      <th>V12</th>\n",
              "      <th>V13</th>\n",
              "      <th>V14</th>\n",
              "      <th>V15</th>\n",
              "      <th>V16</th>\n",
              "      <th>V17</th>\n",
              "      <th>V18</th>\n",
              "      <th>V19</th>\n",
              "      <th>V20</th>\n",
              "      <th>V21</th>\n",
              "      <th>V22</th>\n",
              "      <th>V23</th>\n",
              "      <th>V24</th>\n",
              "      <th>V25</th>\n",
              "      <th>V26</th>\n",
              "      <th>V27</th>\n",
              "      <th>V28</th>\n",
              "      <th>Amount</th>\n",
              "      <th>Class</th>\n",
              "    </tr>\n",
              "  </thead>\n",
              "  <tbody>\n",
              "    <tr>\n",
              "      <th>0</th>\n",
              "      <td>0.0</td>\n",
              "      <td>-1.359807</td>\n",
              "      <td>-0.072781</td>\n",
              "      <td>2.536347</td>\n",
              "      <td>1.378155</td>\n",
              "      <td>-0.338321</td>\n",
              "      <td>0.462388</td>\n",
              "      <td>0.239599</td>\n",
              "      <td>0.098698</td>\n",
              "      <td>0.363787</td>\n",
              "      <td>0.090794</td>\n",
              "      <td>-0.551600</td>\n",
              "      <td>-0.617801</td>\n",
              "      <td>-0.991390</td>\n",
              "      <td>-0.311169</td>\n",
              "      <td>1.468177</td>\n",
              "      <td>-0.470401</td>\n",
              "      <td>0.207971</td>\n",
              "      <td>0.025791</td>\n",
              "      <td>0.403993</td>\n",
              "      <td>0.251412</td>\n",
              "      <td>-0.018307</td>\n",
              "      <td>0.277838</td>\n",
              "      <td>-0.110474</td>\n",
              "      <td>0.066928</td>\n",
              "      <td>0.128539</td>\n",
              "      <td>-0.189115</td>\n",
              "      <td>0.133558</td>\n",
              "      <td>-0.021053</td>\n",
              "      <td>149.62</td>\n",
              "      <td>0</td>\n",
              "    </tr>\n",
              "    <tr>\n",
              "      <th>1</th>\n",
              "      <td>0.0</td>\n",
              "      <td>1.191857</td>\n",
              "      <td>0.266151</td>\n",
              "      <td>0.166480</td>\n",
              "      <td>0.448154</td>\n",
              "      <td>0.060018</td>\n",
              "      <td>-0.082361</td>\n",
              "      <td>-0.078803</td>\n",
              "      <td>0.085102</td>\n",
              "      <td>-0.255425</td>\n",
              "      <td>-0.166974</td>\n",
              "      <td>1.612727</td>\n",
              "      <td>1.065235</td>\n",
              "      <td>0.489095</td>\n",
              "      <td>-0.143772</td>\n",
              "      <td>0.635558</td>\n",
              "      <td>0.463917</td>\n",
              "      <td>-0.114805</td>\n",
              "      <td>-0.183361</td>\n",
              "      <td>-0.145783</td>\n",
              "      <td>-0.069083</td>\n",
              "      <td>-0.225775</td>\n",
              "      <td>-0.638672</td>\n",
              "      <td>0.101288</td>\n",
              "      <td>-0.339846</td>\n",
              "      <td>0.167170</td>\n",
              "      <td>0.125895</td>\n",
              "      <td>-0.008983</td>\n",
              "      <td>0.014724</td>\n",
              "      <td>2.69</td>\n",
              "      <td>0</td>\n",
              "    </tr>\n",
              "    <tr>\n",
              "      <th>2</th>\n",
              "      <td>1.0</td>\n",
              "      <td>-1.358354</td>\n",
              "      <td>-1.340163</td>\n",
              "      <td>1.773209</td>\n",
              "      <td>0.379780</td>\n",
              "      <td>-0.503198</td>\n",
              "      <td>1.800499</td>\n",
              "      <td>0.791461</td>\n",
              "      <td>0.247676</td>\n",
              "      <td>-1.514654</td>\n",
              "      <td>0.207643</td>\n",
              "      <td>0.624501</td>\n",
              "      <td>0.066084</td>\n",
              "      <td>0.717293</td>\n",
              "      <td>-0.165946</td>\n",
              "      <td>2.345865</td>\n",
              "      <td>-2.890083</td>\n",
              "      <td>1.109969</td>\n",
              "      <td>-0.121359</td>\n",
              "      <td>-2.261857</td>\n",
              "      <td>0.524980</td>\n",
              "      <td>0.247998</td>\n",
              "      <td>0.771679</td>\n",
              "      <td>0.909412</td>\n",
              "      <td>-0.689281</td>\n",
              "      <td>-0.327642</td>\n",
              "      <td>-0.139097</td>\n",
              "      <td>-0.055353</td>\n",
              "      <td>-0.059752</td>\n",
              "      <td>378.66</td>\n",
              "      <td>0</td>\n",
              "    </tr>\n",
              "    <tr>\n",
              "      <th>3</th>\n",
              "      <td>1.0</td>\n",
              "      <td>-0.966272</td>\n",
              "      <td>-0.185226</td>\n",
              "      <td>1.792993</td>\n",
              "      <td>-0.863291</td>\n",
              "      <td>-0.010309</td>\n",
              "      <td>1.247203</td>\n",
              "      <td>0.237609</td>\n",
              "      <td>0.377436</td>\n",
              "      <td>-1.387024</td>\n",
              "      <td>-0.054952</td>\n",
              "      <td>-0.226487</td>\n",
              "      <td>0.178228</td>\n",
              "      <td>0.507757</td>\n",
              "      <td>-0.287924</td>\n",
              "      <td>-0.631418</td>\n",
              "      <td>-1.059647</td>\n",
              "      <td>-0.684093</td>\n",
              "      <td>1.965775</td>\n",
              "      <td>-1.232622</td>\n",
              "      <td>-0.208038</td>\n",
              "      <td>-0.108300</td>\n",
              "      <td>0.005274</td>\n",
              "      <td>-0.190321</td>\n",
              "      <td>-1.175575</td>\n",
              "      <td>0.647376</td>\n",
              "      <td>-0.221929</td>\n",
              "      <td>0.062723</td>\n",
              "      <td>0.061458</td>\n",
              "      <td>123.50</td>\n",
              "      <td>0</td>\n",
              "    </tr>\n",
              "    <tr>\n",
              "      <th>4</th>\n",
              "      <td>2.0</td>\n",
              "      <td>-1.158233</td>\n",
              "      <td>0.877737</td>\n",
              "      <td>1.548718</td>\n",
              "      <td>0.403034</td>\n",
              "      <td>-0.407193</td>\n",
              "      <td>0.095921</td>\n",
              "      <td>0.592941</td>\n",
              "      <td>-0.270533</td>\n",
              "      <td>0.817739</td>\n",
              "      <td>0.753074</td>\n",
              "      <td>-0.822843</td>\n",
              "      <td>0.538196</td>\n",
              "      <td>1.345852</td>\n",
              "      <td>-1.119670</td>\n",
              "      <td>0.175121</td>\n",
              "      <td>-0.451449</td>\n",
              "      <td>-0.237033</td>\n",
              "      <td>-0.038195</td>\n",
              "      <td>0.803487</td>\n",
              "      <td>0.408542</td>\n",
              "      <td>-0.009431</td>\n",
              "      <td>0.798278</td>\n",
              "      <td>-0.137458</td>\n",
              "      <td>0.141267</td>\n",
              "      <td>-0.206010</td>\n",
              "      <td>0.502292</td>\n",
              "      <td>0.219422</td>\n",
              "      <td>0.215153</td>\n",
              "      <td>69.99</td>\n",
              "      <td>0</td>\n",
              "    </tr>\n",
              "  </tbody>\n",
              "</table>\n",
              "</div>\n",
              "      <button class=\"colab-df-convert\" onclick=\"convertToInteractive('df-5125e106-bfdb-4b27-b00d-adc9867b1d93')\"\n",
              "              title=\"Convert this dataframe to an interactive table.\"\n",
              "              style=\"display:none;\">\n",
              "        \n",
              "  <svg xmlns=\"http://www.w3.org/2000/svg\" height=\"24px\"viewBox=\"0 0 24 24\"\n",
              "       width=\"24px\">\n",
              "    <path d=\"M0 0h24v24H0V0z\" fill=\"none\"/>\n",
              "    <path d=\"M18.56 5.44l.94 2.06.94-2.06 2.06-.94-2.06-.94-.94-2.06-.94 2.06-2.06.94zm-11 1L8.5 8.5l.94-2.06 2.06-.94-2.06-.94L8.5 2.5l-.94 2.06-2.06.94zm10 10l.94 2.06.94-2.06 2.06-.94-2.06-.94-.94-2.06-.94 2.06-2.06.94z\"/><path d=\"M17.41 7.96l-1.37-1.37c-.4-.4-.92-.59-1.43-.59-.52 0-1.04.2-1.43.59L10.3 9.45l-7.72 7.72c-.78.78-.78 2.05 0 2.83L4 21.41c.39.39.9.59 1.41.59.51 0 1.02-.2 1.41-.59l7.78-7.78 2.81-2.81c.8-.78.8-2.07 0-2.86zM5.41 20L4 18.59l7.72-7.72 1.47 1.35L5.41 20z\"/>\n",
              "  </svg>\n",
              "      </button>\n",
              "      \n",
              "  <style>\n",
              "    .colab-df-container {\n",
              "      display:flex;\n",
              "      flex-wrap:wrap;\n",
              "      gap: 12px;\n",
              "    }\n",
              "\n",
              "    .colab-df-convert {\n",
              "      background-color: #E8F0FE;\n",
              "      border: none;\n",
              "      border-radius: 50%;\n",
              "      cursor: pointer;\n",
              "      display: none;\n",
              "      fill: #1967D2;\n",
              "      height: 32px;\n",
              "      padding: 0 0 0 0;\n",
              "      width: 32px;\n",
              "    }\n",
              "\n",
              "    .colab-df-convert:hover {\n",
              "      background-color: #E2EBFA;\n",
              "      box-shadow: 0px 1px 2px rgba(60, 64, 67, 0.3), 0px 1px 3px 1px rgba(60, 64, 67, 0.15);\n",
              "      fill: #174EA6;\n",
              "    }\n",
              "\n",
              "    [theme=dark] .colab-df-convert {\n",
              "      background-color: #3B4455;\n",
              "      fill: #D2E3FC;\n",
              "    }\n",
              "\n",
              "    [theme=dark] .colab-df-convert:hover {\n",
              "      background-color: #434B5C;\n",
              "      box-shadow: 0px 1px 3px 1px rgba(0, 0, 0, 0.15);\n",
              "      filter: drop-shadow(0px 1px 2px rgba(0, 0, 0, 0.3));\n",
              "      fill: #FFFFFF;\n",
              "    }\n",
              "  </style>\n",
              "\n",
              "      <script>\n",
              "        const buttonEl =\n",
              "          document.querySelector('#df-5125e106-bfdb-4b27-b00d-adc9867b1d93 button.colab-df-convert');\n",
              "        buttonEl.style.display =\n",
              "          google.colab.kernel.accessAllowed ? 'block' : 'none';\n",
              "\n",
              "        async function convertToInteractive(key) {\n",
              "          const element = document.querySelector('#df-5125e106-bfdb-4b27-b00d-adc9867b1d93');\n",
              "          const dataTable =\n",
              "            await google.colab.kernel.invokeFunction('convertToInteractive',\n",
              "                                                     [key], {});\n",
              "          if (!dataTable) return;\n",
              "\n",
              "          const docLinkHtml = 'Like what you see? Visit the ' +\n",
              "            '<a target=\"_blank\" href=https://colab.research.google.com/notebooks/data_table.ipynb>data table notebook</a>'\n",
              "            + ' to learn more about interactive tables.';\n",
              "          element.innerHTML = '';\n",
              "          dataTable['output_type'] = 'display_data';\n",
              "          await google.colab.output.renderOutput(dataTable, element);\n",
              "          const docLink = document.createElement('div');\n",
              "          docLink.innerHTML = docLinkHtml;\n",
              "          element.appendChild(docLink);\n",
              "        }\n",
              "      </script>\n",
              "    </div>\n",
              "  </div>\n",
              "  "
            ],
            "text/plain": [
              "   Time        V1        V2        V3  ...       V27       V28  Amount  Class\n",
              "0   0.0 -1.359807 -0.072781  2.536347  ...  0.133558 -0.021053  149.62      0\n",
              "1   0.0  1.191857  0.266151  0.166480  ... -0.008983  0.014724    2.69      0\n",
              "2   1.0 -1.358354 -1.340163  1.773209  ... -0.055353 -0.059752  378.66      0\n",
              "3   1.0 -0.966272 -0.185226  1.792993  ...  0.062723  0.061458  123.50      0\n",
              "4   2.0 -1.158233  0.877737  1.548718  ...  0.219422  0.215153   69.99      0\n",
              "\n",
              "[5 rows x 31 columns]"
            ]
          },
          "metadata": {},
          "execution_count": 12
        }
      ]
    },
    {
      "cell_type": "code",
      "source": [
        "import warnings\n",
        "warnings.filterwarnings('ignore')"
      ],
      "metadata": {
        "id": "3CvNPnSWwFIa"
      },
      "execution_count": null,
      "outputs": []
    },
    {
      "cell_type": "markdown",
      "source": [
        "<a id='2'></a>\n",
        "# 3. Exploratory Data Analysis"
      ],
      "metadata": {
        "id": "8y-3bq4AwOaR"
      }
    },
    {
      "cell_type": "markdown",
      "source": [
        "<a id='2.1'></a>\n",
        "## 3.1. Descriptive Statistics"
      ],
      "metadata": {
        "id": "ixCziBBSwSLP"
      }
    },
    {
      "cell_type": "code",
      "source": [
        "# shape\n",
        "dataset.shape"
      ],
      "metadata": {
        "colab": {
          "base_uri": "https://localhost:8080/"
        },
        "id": "TIxXcjYfwI3g",
        "outputId": "c2248248-e60b-4133-eb24-79856965251d"
      },
      "execution_count": null,
      "outputs": [
        {
          "output_type": "execute_result",
          "data": {
            "text/plain": [
              "(284807, 31)"
            ]
          },
          "metadata": {},
          "execution_count": 14
        }
      ]
    },
    {
      "cell_type": "code",
      "source": [
        "# consultar los datos\n",
        "pd.set_option('display.width', 100)\n",
        "dataset.head(5)"
      ],
      "metadata": {
        "colab": {
          "base_uri": "https://localhost:8080/",
          "height": 270
        },
        "id": "Z-occrAZwXpo",
        "outputId": "63ec43f8-0faa-4346-87e4-7e45e1829a88"
      },
      "execution_count": null,
      "outputs": [
        {
          "output_type": "execute_result",
          "data": {
            "text/html": [
              "\n",
              "  <div id=\"df-f487c4e2-46eb-4446-85fd-49c34b5b1c66\">\n",
              "    <div class=\"colab-df-container\">\n",
              "      <div>\n",
              "<style scoped>\n",
              "    .dataframe tbody tr th:only-of-type {\n",
              "        vertical-align: middle;\n",
              "    }\n",
              "\n",
              "    .dataframe tbody tr th {\n",
              "        vertical-align: top;\n",
              "    }\n",
              "\n",
              "    .dataframe thead th {\n",
              "        text-align: right;\n",
              "    }\n",
              "</style>\n",
              "<table border=\"1\" class=\"dataframe\">\n",
              "  <thead>\n",
              "    <tr style=\"text-align: right;\">\n",
              "      <th></th>\n",
              "      <th>Time</th>\n",
              "      <th>V1</th>\n",
              "      <th>V2</th>\n",
              "      <th>V3</th>\n",
              "      <th>V4</th>\n",
              "      <th>V5</th>\n",
              "      <th>V6</th>\n",
              "      <th>V7</th>\n",
              "      <th>V8</th>\n",
              "      <th>V9</th>\n",
              "      <th>V10</th>\n",
              "      <th>V11</th>\n",
              "      <th>V12</th>\n",
              "      <th>V13</th>\n",
              "      <th>V14</th>\n",
              "      <th>V15</th>\n",
              "      <th>V16</th>\n",
              "      <th>V17</th>\n",
              "      <th>V18</th>\n",
              "      <th>V19</th>\n",
              "      <th>V20</th>\n",
              "      <th>V21</th>\n",
              "      <th>V22</th>\n",
              "      <th>V23</th>\n",
              "      <th>V24</th>\n",
              "      <th>V25</th>\n",
              "      <th>V26</th>\n",
              "      <th>V27</th>\n",
              "      <th>V28</th>\n",
              "      <th>Amount</th>\n",
              "      <th>Class</th>\n",
              "    </tr>\n",
              "  </thead>\n",
              "  <tbody>\n",
              "    <tr>\n",
              "      <th>0</th>\n",
              "      <td>0.0</td>\n",
              "      <td>-1.359807</td>\n",
              "      <td>-0.072781</td>\n",
              "      <td>2.536347</td>\n",
              "      <td>1.378155</td>\n",
              "      <td>-0.338321</td>\n",
              "      <td>0.462388</td>\n",
              "      <td>0.239599</td>\n",
              "      <td>0.098698</td>\n",
              "      <td>0.363787</td>\n",
              "      <td>0.090794</td>\n",
              "      <td>-0.551600</td>\n",
              "      <td>-0.617801</td>\n",
              "      <td>-0.991390</td>\n",
              "      <td>-0.311169</td>\n",
              "      <td>1.468177</td>\n",
              "      <td>-0.470401</td>\n",
              "      <td>0.207971</td>\n",
              "      <td>0.025791</td>\n",
              "      <td>0.403993</td>\n",
              "      <td>0.251412</td>\n",
              "      <td>-0.018307</td>\n",
              "      <td>0.277838</td>\n",
              "      <td>-0.110474</td>\n",
              "      <td>0.066928</td>\n",
              "      <td>0.128539</td>\n",
              "      <td>-0.189115</td>\n",
              "      <td>0.133558</td>\n",
              "      <td>-0.021053</td>\n",
              "      <td>149.62</td>\n",
              "      <td>0</td>\n",
              "    </tr>\n",
              "    <tr>\n",
              "      <th>1</th>\n",
              "      <td>0.0</td>\n",
              "      <td>1.191857</td>\n",
              "      <td>0.266151</td>\n",
              "      <td>0.166480</td>\n",
              "      <td>0.448154</td>\n",
              "      <td>0.060018</td>\n",
              "      <td>-0.082361</td>\n",
              "      <td>-0.078803</td>\n",
              "      <td>0.085102</td>\n",
              "      <td>-0.255425</td>\n",
              "      <td>-0.166974</td>\n",
              "      <td>1.612727</td>\n",
              "      <td>1.065235</td>\n",
              "      <td>0.489095</td>\n",
              "      <td>-0.143772</td>\n",
              "      <td>0.635558</td>\n",
              "      <td>0.463917</td>\n",
              "      <td>-0.114805</td>\n",
              "      <td>-0.183361</td>\n",
              "      <td>-0.145783</td>\n",
              "      <td>-0.069083</td>\n",
              "      <td>-0.225775</td>\n",
              "      <td>-0.638672</td>\n",
              "      <td>0.101288</td>\n",
              "      <td>-0.339846</td>\n",
              "      <td>0.167170</td>\n",
              "      <td>0.125895</td>\n",
              "      <td>-0.008983</td>\n",
              "      <td>0.014724</td>\n",
              "      <td>2.69</td>\n",
              "      <td>0</td>\n",
              "    </tr>\n",
              "    <tr>\n",
              "      <th>2</th>\n",
              "      <td>1.0</td>\n",
              "      <td>-1.358354</td>\n",
              "      <td>-1.340163</td>\n",
              "      <td>1.773209</td>\n",
              "      <td>0.379780</td>\n",
              "      <td>-0.503198</td>\n",
              "      <td>1.800499</td>\n",
              "      <td>0.791461</td>\n",
              "      <td>0.247676</td>\n",
              "      <td>-1.514654</td>\n",
              "      <td>0.207643</td>\n",
              "      <td>0.624501</td>\n",
              "      <td>0.066084</td>\n",
              "      <td>0.717293</td>\n",
              "      <td>-0.165946</td>\n",
              "      <td>2.345865</td>\n",
              "      <td>-2.890083</td>\n",
              "      <td>1.109969</td>\n",
              "      <td>-0.121359</td>\n",
              "      <td>-2.261857</td>\n",
              "      <td>0.524980</td>\n",
              "      <td>0.247998</td>\n",
              "      <td>0.771679</td>\n",
              "      <td>0.909412</td>\n",
              "      <td>-0.689281</td>\n",
              "      <td>-0.327642</td>\n",
              "      <td>-0.139097</td>\n",
              "      <td>-0.055353</td>\n",
              "      <td>-0.059752</td>\n",
              "      <td>378.66</td>\n",
              "      <td>0</td>\n",
              "    </tr>\n",
              "    <tr>\n",
              "      <th>3</th>\n",
              "      <td>1.0</td>\n",
              "      <td>-0.966272</td>\n",
              "      <td>-0.185226</td>\n",
              "      <td>1.792993</td>\n",
              "      <td>-0.863291</td>\n",
              "      <td>-0.010309</td>\n",
              "      <td>1.247203</td>\n",
              "      <td>0.237609</td>\n",
              "      <td>0.377436</td>\n",
              "      <td>-1.387024</td>\n",
              "      <td>-0.054952</td>\n",
              "      <td>-0.226487</td>\n",
              "      <td>0.178228</td>\n",
              "      <td>0.507757</td>\n",
              "      <td>-0.287924</td>\n",
              "      <td>-0.631418</td>\n",
              "      <td>-1.059647</td>\n",
              "      <td>-0.684093</td>\n",
              "      <td>1.965775</td>\n",
              "      <td>-1.232622</td>\n",
              "      <td>-0.208038</td>\n",
              "      <td>-0.108300</td>\n",
              "      <td>0.005274</td>\n",
              "      <td>-0.190321</td>\n",
              "      <td>-1.175575</td>\n",
              "      <td>0.647376</td>\n",
              "      <td>-0.221929</td>\n",
              "      <td>0.062723</td>\n",
              "      <td>0.061458</td>\n",
              "      <td>123.50</td>\n",
              "      <td>0</td>\n",
              "    </tr>\n",
              "    <tr>\n",
              "      <th>4</th>\n",
              "      <td>2.0</td>\n",
              "      <td>-1.158233</td>\n",
              "      <td>0.877737</td>\n",
              "      <td>1.548718</td>\n",
              "      <td>0.403034</td>\n",
              "      <td>-0.407193</td>\n",
              "      <td>0.095921</td>\n",
              "      <td>0.592941</td>\n",
              "      <td>-0.270533</td>\n",
              "      <td>0.817739</td>\n",
              "      <td>0.753074</td>\n",
              "      <td>-0.822843</td>\n",
              "      <td>0.538196</td>\n",
              "      <td>1.345852</td>\n",
              "      <td>-1.119670</td>\n",
              "      <td>0.175121</td>\n",
              "      <td>-0.451449</td>\n",
              "      <td>-0.237033</td>\n",
              "      <td>-0.038195</td>\n",
              "      <td>0.803487</td>\n",
              "      <td>0.408542</td>\n",
              "      <td>-0.009431</td>\n",
              "      <td>0.798278</td>\n",
              "      <td>-0.137458</td>\n",
              "      <td>0.141267</td>\n",
              "      <td>-0.206010</td>\n",
              "      <td>0.502292</td>\n",
              "      <td>0.219422</td>\n",
              "      <td>0.215153</td>\n",
              "      <td>69.99</td>\n",
              "      <td>0</td>\n",
              "    </tr>\n",
              "  </tbody>\n",
              "</table>\n",
              "</div>\n",
              "      <button class=\"colab-df-convert\" onclick=\"convertToInteractive('df-f487c4e2-46eb-4446-85fd-49c34b5b1c66')\"\n",
              "              title=\"Convert this dataframe to an interactive table.\"\n",
              "              style=\"display:none;\">\n",
              "        \n",
              "  <svg xmlns=\"http://www.w3.org/2000/svg\" height=\"24px\"viewBox=\"0 0 24 24\"\n",
              "       width=\"24px\">\n",
              "    <path d=\"M0 0h24v24H0V0z\" fill=\"none\"/>\n",
              "    <path d=\"M18.56 5.44l.94 2.06.94-2.06 2.06-.94-2.06-.94-.94-2.06-.94 2.06-2.06.94zm-11 1L8.5 8.5l.94-2.06 2.06-.94-2.06-.94L8.5 2.5l-.94 2.06-2.06.94zm10 10l.94 2.06.94-2.06 2.06-.94-2.06-.94-.94-2.06-.94 2.06-2.06.94z\"/><path d=\"M17.41 7.96l-1.37-1.37c-.4-.4-.92-.59-1.43-.59-.52 0-1.04.2-1.43.59L10.3 9.45l-7.72 7.72c-.78.78-.78 2.05 0 2.83L4 21.41c.39.39.9.59 1.41.59.51 0 1.02-.2 1.41-.59l7.78-7.78 2.81-2.81c.8-.78.8-2.07 0-2.86zM5.41 20L4 18.59l7.72-7.72 1.47 1.35L5.41 20z\"/>\n",
              "  </svg>\n",
              "      </button>\n",
              "      \n",
              "  <style>\n",
              "    .colab-df-container {\n",
              "      display:flex;\n",
              "      flex-wrap:wrap;\n",
              "      gap: 12px;\n",
              "    }\n",
              "\n",
              "    .colab-df-convert {\n",
              "      background-color: #E8F0FE;\n",
              "      border: none;\n",
              "      border-radius: 50%;\n",
              "      cursor: pointer;\n",
              "      display: none;\n",
              "      fill: #1967D2;\n",
              "      height: 32px;\n",
              "      padding: 0 0 0 0;\n",
              "      width: 32px;\n",
              "    }\n",
              "\n",
              "    .colab-df-convert:hover {\n",
              "      background-color: #E2EBFA;\n",
              "      box-shadow: 0px 1px 2px rgba(60, 64, 67, 0.3), 0px 1px 3px 1px rgba(60, 64, 67, 0.15);\n",
              "      fill: #174EA6;\n",
              "    }\n",
              "\n",
              "    [theme=dark] .colab-df-convert {\n",
              "      background-color: #3B4455;\n",
              "      fill: #D2E3FC;\n",
              "    }\n",
              "\n",
              "    [theme=dark] .colab-df-convert:hover {\n",
              "      background-color: #434B5C;\n",
              "      box-shadow: 0px 1px 3px 1px rgba(0, 0, 0, 0.15);\n",
              "      filter: drop-shadow(0px 1px 2px rgba(0, 0, 0, 0.3));\n",
              "      fill: #FFFFFF;\n",
              "    }\n",
              "  </style>\n",
              "\n",
              "      <script>\n",
              "        const buttonEl =\n",
              "          document.querySelector('#df-f487c4e2-46eb-4446-85fd-49c34b5b1c66 button.colab-df-convert');\n",
              "        buttonEl.style.display =\n",
              "          google.colab.kernel.accessAllowed ? 'block' : 'none';\n",
              "\n",
              "        async function convertToInteractive(key) {\n",
              "          const element = document.querySelector('#df-f487c4e2-46eb-4446-85fd-49c34b5b1c66');\n",
              "          const dataTable =\n",
              "            await google.colab.kernel.invokeFunction('convertToInteractive',\n",
              "                                                     [key], {});\n",
              "          if (!dataTable) return;\n",
              "\n",
              "          const docLinkHtml = 'Like what you see? Visit the ' +\n",
              "            '<a target=\"_blank\" href=https://colab.research.google.com/notebooks/data_table.ipynb>data table notebook</a>'\n",
              "            + ' to learn more about interactive tables.';\n",
              "          element.innerHTML = '';\n",
              "          dataTable['output_type'] = 'display_data';\n",
              "          await google.colab.output.renderOutput(dataTable, element);\n",
              "          const docLink = document.createElement('div');\n",
              "          docLink.innerHTML = docLinkHtml;\n",
              "          element.appendChild(docLink);\n",
              "        }\n",
              "      </script>\n",
              "    </div>\n",
              "  </div>\n",
              "  "
            ],
            "text/plain": [
              "   Time        V1        V2        V3  ...       V27       V28  Amount  Class\n",
              "0   0.0 -1.359807 -0.072781  2.536347  ...  0.133558 -0.021053  149.62      0\n",
              "1   0.0  1.191857  0.266151  0.166480  ... -0.008983  0.014724    2.69      0\n",
              "2   1.0 -1.358354 -1.340163  1.773209  ... -0.055353 -0.059752  378.66      0\n",
              "3   1.0 -0.966272 -0.185226  1.792993  ...  0.062723  0.061458  123.50      0\n",
              "4   2.0 -1.158233  0.877737  1.548718  ...  0.219422  0.215153   69.99      0\n",
              "\n",
              "[5 rows x 31 columns]"
            ]
          },
          "metadata": {},
          "execution_count": 15
        }
      ]
    },
    {
      "cell_type": "code",
      "source": [
        "dataset.info()"
      ],
      "metadata": {
        "colab": {
          "base_uri": "https://localhost:8080/"
        },
        "id": "E-NI_uhfwjJw",
        "outputId": "f6b53035-aae1-4363-d53b-4da6aeb16376"
      },
      "execution_count": null,
      "outputs": [
        {
          "output_type": "stream",
          "name": "stdout",
          "text": [
            "<class 'pandas.core.frame.DataFrame'>\n",
            "RangeIndex: 284807 entries, 0 to 284806\n",
            "Data columns (total 31 columns):\n",
            " #   Column  Non-Null Count   Dtype  \n",
            "---  ------  --------------   -----  \n",
            " 0   Time    284807 non-null  float64\n",
            " 1   V1      284807 non-null  float64\n",
            " 2   V2      284807 non-null  float64\n",
            " 3   V3      284807 non-null  float64\n",
            " 4   V4      284807 non-null  float64\n",
            " 5   V5      284807 non-null  float64\n",
            " 6   V6      284807 non-null  float64\n",
            " 7   V7      284807 non-null  float64\n",
            " 8   V8      284807 non-null  float64\n",
            " 9   V9      284807 non-null  float64\n",
            " 10  V10     284807 non-null  float64\n",
            " 11  V11     284807 non-null  float64\n",
            " 12  V12     284807 non-null  float64\n",
            " 13  V13     284807 non-null  float64\n",
            " 14  V14     284807 non-null  float64\n",
            " 15  V15     284807 non-null  float64\n",
            " 16  V16     284807 non-null  float64\n",
            " 17  V17     284807 non-null  float64\n",
            " 18  V18     284807 non-null  float64\n",
            " 19  V19     284807 non-null  float64\n",
            " 20  V20     284807 non-null  float64\n",
            " 21  V21     284807 non-null  float64\n",
            " 22  V22     284807 non-null  float64\n",
            " 23  V23     284807 non-null  float64\n",
            " 24  V24     284807 non-null  float64\n",
            " 25  V25     284807 non-null  float64\n",
            " 26  V26     284807 non-null  float64\n",
            " 27  V27     284807 non-null  float64\n",
            " 28  V28     284807 non-null  float64\n",
            " 29  Amount  284807 non-null  float64\n",
            " 30  Class   284807 non-null  int64  \n",
            "dtypes: float64(30), int64(1)\n",
            "memory usage: 67.4 MB\n"
          ]
        }
      ]
    },
    {
      "cell_type": "code",
      "source": [
        "# describe data\n",
        "pd.set_option('precision', 3)\n",
        "dataset.describe()"
      ],
      "metadata": {
        "id": "21jNpm81wupi",
        "colab": {
          "base_uri": "https://localhost:8080/",
          "height": 364
        },
        "outputId": "501b6d40-a3ab-4788-9551-6fc51f7654c0"
      },
      "execution_count": null,
      "outputs": [
        {
          "output_type": "execute_result",
          "data": {
            "text/html": [
              "\n",
              "  <div id=\"df-4f333372-a141-4e12-ab38-f9038feae995\">\n",
              "    <div class=\"colab-df-container\">\n",
              "      <div>\n",
              "<style scoped>\n",
              "    .dataframe tbody tr th:only-of-type {\n",
              "        vertical-align: middle;\n",
              "    }\n",
              "\n",
              "    .dataframe tbody tr th {\n",
              "        vertical-align: top;\n",
              "    }\n",
              "\n",
              "    .dataframe thead th {\n",
              "        text-align: right;\n",
              "    }\n",
              "</style>\n",
              "<table border=\"1\" class=\"dataframe\">\n",
              "  <thead>\n",
              "    <tr style=\"text-align: right;\">\n",
              "      <th></th>\n",
              "      <th>Time</th>\n",
              "      <th>V1</th>\n",
              "      <th>V2</th>\n",
              "      <th>V3</th>\n",
              "      <th>V4</th>\n",
              "      <th>V5</th>\n",
              "      <th>V6</th>\n",
              "      <th>V7</th>\n",
              "      <th>V8</th>\n",
              "      <th>V9</th>\n",
              "      <th>V10</th>\n",
              "      <th>V11</th>\n",
              "      <th>V12</th>\n",
              "      <th>V13</th>\n",
              "      <th>V14</th>\n",
              "      <th>V15</th>\n",
              "      <th>V16</th>\n",
              "      <th>V17</th>\n",
              "      <th>V18</th>\n",
              "      <th>V19</th>\n",
              "      <th>V20</th>\n",
              "      <th>V21</th>\n",
              "      <th>V22</th>\n",
              "      <th>V23</th>\n",
              "      <th>V24</th>\n",
              "      <th>V25</th>\n",
              "      <th>V26</th>\n",
              "      <th>V27</th>\n",
              "      <th>V28</th>\n",
              "      <th>Amount</th>\n",
              "      <th>Class</th>\n",
              "    </tr>\n",
              "  </thead>\n",
              "  <tbody>\n",
              "    <tr>\n",
              "      <th>count</th>\n",
              "      <td>284807.000</td>\n",
              "      <td>2.848e+05</td>\n",
              "      <td>2.848e+05</td>\n",
              "      <td>2.848e+05</td>\n",
              "      <td>2.848e+05</td>\n",
              "      <td>2.848e+05</td>\n",
              "      <td>2.848e+05</td>\n",
              "      <td>2.848e+05</td>\n",
              "      <td>2.848e+05</td>\n",
              "      <td>2.848e+05</td>\n",
              "      <td>2.848e+05</td>\n",
              "      <td>2.848e+05</td>\n",
              "      <td>2.848e+05</td>\n",
              "      <td>2.848e+05</td>\n",
              "      <td>2.848e+05</td>\n",
              "      <td>2.848e+05</td>\n",
              "      <td>2.848e+05</td>\n",
              "      <td>2.848e+05</td>\n",
              "      <td>2.848e+05</td>\n",
              "      <td>2.848e+05</td>\n",
              "      <td>2.848e+05</td>\n",
              "      <td>2.848e+05</td>\n",
              "      <td>2.848e+05</td>\n",
              "      <td>2.848e+05</td>\n",
              "      <td>2.848e+05</td>\n",
              "      <td>2.848e+05</td>\n",
              "      <td>2.848e+05</td>\n",
              "      <td>2.848e+05</td>\n",
              "      <td>2.848e+05</td>\n",
              "      <td>284807.000</td>\n",
              "      <td>284807.000</td>\n",
              "    </tr>\n",
              "    <tr>\n",
              "      <th>mean</th>\n",
              "      <td>94813.860</td>\n",
              "      <td>3.920e-15</td>\n",
              "      <td>5.688e-16</td>\n",
              "      <td>-8.769e-15</td>\n",
              "      <td>2.782e-15</td>\n",
              "      <td>-1.553e-15</td>\n",
              "      <td>2.011e-15</td>\n",
              "      <td>-1.694e-15</td>\n",
              "      <td>-1.927e-16</td>\n",
              "      <td>-3.137e-15</td>\n",
              "      <td>1.769e-15</td>\n",
              "      <td>9.170e-16</td>\n",
              "      <td>-1.811e-15</td>\n",
              "      <td>1.693e-15</td>\n",
              "      <td>1.479e-15</td>\n",
              "      <td>3.482e-15</td>\n",
              "      <td>1.392e-15</td>\n",
              "      <td>-7.528e-16</td>\n",
              "      <td>4.329e-16</td>\n",
              "      <td>9.050e-16</td>\n",
              "      <td>5.086e-16</td>\n",
              "      <td>1.537e-16</td>\n",
              "      <td>7.960e-16</td>\n",
              "      <td>5.368e-16</td>\n",
              "      <td>4.458e-15</td>\n",
              "      <td>1.453e-15</td>\n",
              "      <td>1.699e-15</td>\n",
              "      <td>-3.660e-16</td>\n",
              "      <td>-1.206e-16</td>\n",
              "      <td>88.350</td>\n",
              "      <td>0.002</td>\n",
              "    </tr>\n",
              "    <tr>\n",
              "      <th>std</th>\n",
              "      <td>47488.146</td>\n",
              "      <td>1.959e+00</td>\n",
              "      <td>1.651e+00</td>\n",
              "      <td>1.516e+00</td>\n",
              "      <td>1.416e+00</td>\n",
              "      <td>1.380e+00</td>\n",
              "      <td>1.332e+00</td>\n",
              "      <td>1.237e+00</td>\n",
              "      <td>1.194e+00</td>\n",
              "      <td>1.099e+00</td>\n",
              "      <td>1.089e+00</td>\n",
              "      <td>1.021e+00</td>\n",
              "      <td>9.992e-01</td>\n",
              "      <td>9.953e-01</td>\n",
              "      <td>9.586e-01</td>\n",
              "      <td>9.153e-01</td>\n",
              "      <td>8.763e-01</td>\n",
              "      <td>8.493e-01</td>\n",
              "      <td>8.382e-01</td>\n",
              "      <td>8.140e-01</td>\n",
              "      <td>7.709e-01</td>\n",
              "      <td>7.345e-01</td>\n",
              "      <td>7.257e-01</td>\n",
              "      <td>6.245e-01</td>\n",
              "      <td>6.056e-01</td>\n",
              "      <td>5.213e-01</td>\n",
              "      <td>4.822e-01</td>\n",
              "      <td>4.036e-01</td>\n",
              "      <td>3.301e-01</td>\n",
              "      <td>250.120</td>\n",
              "      <td>0.042</td>\n",
              "    </tr>\n",
              "    <tr>\n",
              "      <th>min</th>\n",
              "      <td>0.000</td>\n",
              "      <td>-5.641e+01</td>\n",
              "      <td>-7.272e+01</td>\n",
              "      <td>-4.833e+01</td>\n",
              "      <td>-5.683e+00</td>\n",
              "      <td>-1.137e+02</td>\n",
              "      <td>-2.616e+01</td>\n",
              "      <td>-4.356e+01</td>\n",
              "      <td>-7.322e+01</td>\n",
              "      <td>-1.343e+01</td>\n",
              "      <td>-2.459e+01</td>\n",
              "      <td>-4.797e+00</td>\n",
              "      <td>-1.868e+01</td>\n",
              "      <td>-5.792e+00</td>\n",
              "      <td>-1.921e+01</td>\n",
              "      <td>-4.499e+00</td>\n",
              "      <td>-1.413e+01</td>\n",
              "      <td>-2.516e+01</td>\n",
              "      <td>-9.499e+00</td>\n",
              "      <td>-7.214e+00</td>\n",
              "      <td>-5.450e+01</td>\n",
              "      <td>-3.483e+01</td>\n",
              "      <td>-1.093e+01</td>\n",
              "      <td>-4.481e+01</td>\n",
              "      <td>-2.837e+00</td>\n",
              "      <td>-1.030e+01</td>\n",
              "      <td>-2.605e+00</td>\n",
              "      <td>-2.257e+01</td>\n",
              "      <td>-1.543e+01</td>\n",
              "      <td>0.000</td>\n",
              "      <td>0.000</td>\n",
              "    </tr>\n",
              "    <tr>\n",
              "      <th>25%</th>\n",
              "      <td>54201.500</td>\n",
              "      <td>-9.204e-01</td>\n",
              "      <td>-5.985e-01</td>\n",
              "      <td>-8.904e-01</td>\n",
              "      <td>-8.486e-01</td>\n",
              "      <td>-6.916e-01</td>\n",
              "      <td>-7.683e-01</td>\n",
              "      <td>-5.541e-01</td>\n",
              "      <td>-2.086e-01</td>\n",
              "      <td>-6.431e-01</td>\n",
              "      <td>-5.354e-01</td>\n",
              "      <td>-7.625e-01</td>\n",
              "      <td>-4.056e-01</td>\n",
              "      <td>-6.485e-01</td>\n",
              "      <td>-4.256e-01</td>\n",
              "      <td>-5.829e-01</td>\n",
              "      <td>-4.680e-01</td>\n",
              "      <td>-4.837e-01</td>\n",
              "      <td>-4.988e-01</td>\n",
              "      <td>-4.563e-01</td>\n",
              "      <td>-2.117e-01</td>\n",
              "      <td>-2.284e-01</td>\n",
              "      <td>-5.424e-01</td>\n",
              "      <td>-1.618e-01</td>\n",
              "      <td>-3.546e-01</td>\n",
              "      <td>-3.171e-01</td>\n",
              "      <td>-3.270e-01</td>\n",
              "      <td>-7.084e-02</td>\n",
              "      <td>-5.296e-02</td>\n",
              "      <td>5.600</td>\n",
              "      <td>0.000</td>\n",
              "    </tr>\n",
              "    <tr>\n",
              "      <th>50%</th>\n",
              "      <td>84692.000</td>\n",
              "      <td>1.811e-02</td>\n",
              "      <td>6.549e-02</td>\n",
              "      <td>1.798e-01</td>\n",
              "      <td>-1.985e-02</td>\n",
              "      <td>-5.434e-02</td>\n",
              "      <td>-2.742e-01</td>\n",
              "      <td>4.010e-02</td>\n",
              "      <td>2.236e-02</td>\n",
              "      <td>-5.143e-02</td>\n",
              "      <td>-9.292e-02</td>\n",
              "      <td>-3.276e-02</td>\n",
              "      <td>1.400e-01</td>\n",
              "      <td>-1.357e-02</td>\n",
              "      <td>5.060e-02</td>\n",
              "      <td>4.807e-02</td>\n",
              "      <td>6.641e-02</td>\n",
              "      <td>-6.568e-02</td>\n",
              "      <td>-3.636e-03</td>\n",
              "      <td>3.735e-03</td>\n",
              "      <td>-6.248e-02</td>\n",
              "      <td>-2.945e-02</td>\n",
              "      <td>6.782e-03</td>\n",
              "      <td>-1.119e-02</td>\n",
              "      <td>4.098e-02</td>\n",
              "      <td>1.659e-02</td>\n",
              "      <td>-5.214e-02</td>\n",
              "      <td>1.342e-03</td>\n",
              "      <td>1.124e-02</td>\n",
              "      <td>22.000</td>\n",
              "      <td>0.000</td>\n",
              "    </tr>\n",
              "    <tr>\n",
              "      <th>75%</th>\n",
              "      <td>139320.500</td>\n",
              "      <td>1.316e+00</td>\n",
              "      <td>8.037e-01</td>\n",
              "      <td>1.027e+00</td>\n",
              "      <td>7.433e-01</td>\n",
              "      <td>6.119e-01</td>\n",
              "      <td>3.986e-01</td>\n",
              "      <td>5.704e-01</td>\n",
              "      <td>3.273e-01</td>\n",
              "      <td>5.971e-01</td>\n",
              "      <td>4.539e-01</td>\n",
              "      <td>7.396e-01</td>\n",
              "      <td>6.182e-01</td>\n",
              "      <td>6.625e-01</td>\n",
              "      <td>4.931e-01</td>\n",
              "      <td>6.488e-01</td>\n",
              "      <td>5.233e-01</td>\n",
              "      <td>3.997e-01</td>\n",
              "      <td>5.008e-01</td>\n",
              "      <td>4.589e-01</td>\n",
              "      <td>1.330e-01</td>\n",
              "      <td>1.864e-01</td>\n",
              "      <td>5.286e-01</td>\n",
              "      <td>1.476e-01</td>\n",
              "      <td>4.395e-01</td>\n",
              "      <td>3.507e-01</td>\n",
              "      <td>2.410e-01</td>\n",
              "      <td>9.105e-02</td>\n",
              "      <td>7.828e-02</td>\n",
              "      <td>77.165</td>\n",
              "      <td>0.000</td>\n",
              "    </tr>\n",
              "    <tr>\n",
              "      <th>max</th>\n",
              "      <td>172792.000</td>\n",
              "      <td>2.455e+00</td>\n",
              "      <td>2.206e+01</td>\n",
              "      <td>9.383e+00</td>\n",
              "      <td>1.688e+01</td>\n",
              "      <td>3.480e+01</td>\n",
              "      <td>7.330e+01</td>\n",
              "      <td>1.206e+02</td>\n",
              "      <td>2.001e+01</td>\n",
              "      <td>1.559e+01</td>\n",
              "      <td>2.375e+01</td>\n",
              "      <td>1.202e+01</td>\n",
              "      <td>7.848e+00</td>\n",
              "      <td>7.127e+00</td>\n",
              "      <td>1.053e+01</td>\n",
              "      <td>8.878e+00</td>\n",
              "      <td>1.732e+01</td>\n",
              "      <td>9.254e+00</td>\n",
              "      <td>5.041e+00</td>\n",
              "      <td>5.592e+00</td>\n",
              "      <td>3.942e+01</td>\n",
              "      <td>2.720e+01</td>\n",
              "      <td>1.050e+01</td>\n",
              "      <td>2.253e+01</td>\n",
              "      <td>4.585e+00</td>\n",
              "      <td>7.520e+00</td>\n",
              "      <td>3.517e+00</td>\n",
              "      <td>3.161e+01</td>\n",
              "      <td>3.385e+01</td>\n",
              "      <td>25691.160</td>\n",
              "      <td>1.000</td>\n",
              "    </tr>\n",
              "  </tbody>\n",
              "</table>\n",
              "</div>\n",
              "      <button class=\"colab-df-convert\" onclick=\"convertToInteractive('df-4f333372-a141-4e12-ab38-f9038feae995')\"\n",
              "              title=\"Convert this dataframe to an interactive table.\"\n",
              "              style=\"display:none;\">\n",
              "        \n",
              "  <svg xmlns=\"http://www.w3.org/2000/svg\" height=\"24px\"viewBox=\"0 0 24 24\"\n",
              "       width=\"24px\">\n",
              "    <path d=\"M0 0h24v24H0V0z\" fill=\"none\"/>\n",
              "    <path d=\"M18.56 5.44l.94 2.06.94-2.06 2.06-.94-2.06-.94-.94-2.06-.94 2.06-2.06.94zm-11 1L8.5 8.5l.94-2.06 2.06-.94-2.06-.94L8.5 2.5l-.94 2.06-2.06.94zm10 10l.94 2.06.94-2.06 2.06-.94-2.06-.94-.94-2.06-.94 2.06-2.06.94z\"/><path d=\"M17.41 7.96l-1.37-1.37c-.4-.4-.92-.59-1.43-.59-.52 0-1.04.2-1.43.59L10.3 9.45l-7.72 7.72c-.78.78-.78 2.05 0 2.83L4 21.41c.39.39.9.59 1.41.59.51 0 1.02-.2 1.41-.59l7.78-7.78 2.81-2.81c.8-.78.8-2.07 0-2.86zM5.41 20L4 18.59l7.72-7.72 1.47 1.35L5.41 20z\"/>\n",
              "  </svg>\n",
              "      </button>\n",
              "      \n",
              "  <style>\n",
              "    .colab-df-container {\n",
              "      display:flex;\n",
              "      flex-wrap:wrap;\n",
              "      gap: 12px;\n",
              "    }\n",
              "\n",
              "    .colab-df-convert {\n",
              "      background-color: #E8F0FE;\n",
              "      border: none;\n",
              "      border-radius: 50%;\n",
              "      cursor: pointer;\n",
              "      display: none;\n",
              "      fill: #1967D2;\n",
              "      height: 32px;\n",
              "      padding: 0 0 0 0;\n",
              "      width: 32px;\n",
              "    }\n",
              "\n",
              "    .colab-df-convert:hover {\n",
              "      background-color: #E2EBFA;\n",
              "      box-shadow: 0px 1px 2px rgba(60, 64, 67, 0.3), 0px 1px 3px 1px rgba(60, 64, 67, 0.15);\n",
              "      fill: #174EA6;\n",
              "    }\n",
              "\n",
              "    [theme=dark] .colab-df-convert {\n",
              "      background-color: #3B4455;\n",
              "      fill: #D2E3FC;\n",
              "    }\n",
              "\n",
              "    [theme=dark] .colab-df-convert:hover {\n",
              "      background-color: #434B5C;\n",
              "      box-shadow: 0px 1px 3px 1px rgba(0, 0, 0, 0.15);\n",
              "      filter: drop-shadow(0px 1px 2px rgba(0, 0, 0, 0.3));\n",
              "      fill: #FFFFFF;\n",
              "    }\n",
              "  </style>\n",
              "\n",
              "      <script>\n",
              "        const buttonEl =\n",
              "          document.querySelector('#df-4f333372-a141-4e12-ab38-f9038feae995 button.colab-df-convert');\n",
              "        buttonEl.style.display =\n",
              "          google.colab.kernel.accessAllowed ? 'block' : 'none';\n",
              "\n",
              "        async function convertToInteractive(key) {\n",
              "          const element = document.querySelector('#df-4f333372-a141-4e12-ab38-f9038feae995');\n",
              "          const dataTable =\n",
              "            await google.colab.kernel.invokeFunction('convertToInteractive',\n",
              "                                                     [key], {});\n",
              "          if (!dataTable) return;\n",
              "\n",
              "          const docLinkHtml = 'Like what you see? Visit the ' +\n",
              "            '<a target=\"_blank\" href=https://colab.research.google.com/notebooks/data_table.ipynb>data table notebook</a>'\n",
              "            + ' to learn more about interactive tables.';\n",
              "          element.innerHTML = '';\n",
              "          dataTable['output_type'] = 'display_data';\n",
              "          await google.colab.output.renderOutput(dataTable, element);\n",
              "          const docLink = document.createElement('div');\n",
              "          docLink.innerHTML = docLinkHtml;\n",
              "          element.appendChild(docLink);\n",
              "        }\n",
              "      </script>\n",
              "    </div>\n",
              "  </div>\n",
              "  "
            ],
            "text/plain": [
              "             Time         V1         V2  ...        V28      Amount       Class\n",
              "count  284807.000  2.848e+05  2.848e+05  ...  2.848e+05  284807.000  284807.000\n",
              "mean    94813.860  3.920e-15  5.688e-16  ... -1.206e-16      88.350       0.002\n",
              "std     47488.146  1.959e+00  1.651e+00  ...  3.301e-01     250.120       0.042\n",
              "min         0.000 -5.641e+01 -7.272e+01  ... -1.543e+01       0.000       0.000\n",
              "25%     54201.500 -9.204e-01 -5.985e-01  ... -5.296e-02       5.600       0.000\n",
              "50%     84692.000  1.811e-02  6.549e-02  ...  1.124e-02      22.000       0.000\n",
              "75%    139320.500  1.316e+00  8.037e-01  ...  7.828e-02      77.165       0.000\n",
              "max    172792.000  2.455e+00  2.206e+01  ...  3.385e+01   25691.160       1.000\n",
              "\n",
              "[8 rows x 31 columns]"
            ]
          },
          "metadata": {},
          "execution_count": 18
        }
      ]
    },
    {
      "cell_type": "markdown",
      "source": [
        "* Comprobemos el número de casos de fraude frente al de no fraude en el conjunto de datos."
      ],
      "metadata": {
        "id": "dDeDt1RXaXDQ"
      }
    },
    {
      "cell_type": "code",
      "source": [
        "class_names = {0:'Not Fraud', 1:'Fraud'}\n",
        "print(dataset.Class.value_counts().rename(index = class_names))"
      ],
      "metadata": {
        "colab": {
          "base_uri": "https://localhost:8080/"
        },
        "id": "7V4gpBDaaHxe",
        "outputId": "fb6c7199-2520-4d2c-f8bd-35c30a3a8d1b"
      },
      "execution_count": null,
      "outputs": [
        {
          "output_type": "stream",
          "name": "stdout",
          "text": [
            "Not Fraud    284315\n",
            "Fraud           492\n",
            "Name: Class, dtype: int64\n"
          ]
        }
      ]
    },
    {
      "cell_type": "markdown",
      "source": [
        "* El conjunto de datos está desequilibrado, ya que la mayoría de las transacciones no son fraudulentas."
      ],
      "metadata": {
        "id": "pJun8afUbG_F"
      }
    },
    {
      "cell_type": "markdown",
      "source": [
        "<a id='2.2'></a>\n",
        "## 3.2. Data Visualization"
      ],
      "metadata": {
        "id": "WVi6KcsHbMXc"
      }
    },
    {
      "cell_type": "code",
      "source": [
        "# histograms\n",
        "dataset.hist(sharex=False, sharey=False, xlabelsize=1, ylabelsize=1, figsize=(12,12))\n",
        "plt.show()"
      ],
      "metadata": {
        "colab": {
          "base_uri": "https://localhost:8080/",
          "height": 707
        },
        "id": "c9vTAl7ma2gb",
        "outputId": "3757886b-3af6-4c03-fdde-eb9da3b06b9f"
      },
      "execution_count": null,
      "outputs": [
        {
          "output_type": "display_data",
          "data": {
            "image/png": "[encoded data removed]",
            "text/plain": [
              "<Figure size 864x864 with 36 Axes>"
            ]
          },
          "metadata": {
            "needs_background": "light"
          }
        }
      ]
    },
    {
      "cell_type": "markdown",
      "source": [
        "* La distribución de la mayoría de las variables está muy sesgada. Sin embargo, dado que no se conocen los nombres de las variables, no se puede intuir mucho del gráfico."
      ],
      "metadata": {
        "id": "GKHin2E9by1m"
      }
    },
    {
      "cell_type": "markdown",
      "source": [
        "<a id='3'></a>\n",
        "## 4. Data Preparation"
      ],
      "metadata": {
        "id": "AY-x59FGb6rM"
      }
    },
    {
      "cell_type": "code",
      "source": [
        "# Comprobación de cualquier valor nulo y eliminación de los valores nulos''\n",
        "print('Null Values =',dataset.isnull().values.any())"
      ],
      "metadata": {
        "colab": {
          "base_uri": "https://localhost:8080/"
        },
        "id": "PXob1XvWbRAS",
        "outputId": "2f79c83c-4750-458b-e5aa-d4fdd7bf1bb4"
      },
      "execution_count": null,
      "outputs": [
        {
          "output_type": "stream",
          "name": "stdout",
          "text": [
            "Null Values = False\n"
          ]
        }
      ]
    },
    {
      "cell_type": "markdown",
      "source": [
        "* No hay nulos en los datos, y los datos ya están en formato flotante, por lo que no es necesario limpiar o categorizar los datos."
      ],
      "metadata": {
        "id": "NapLT8W6cElR"
      }
    },
    {
      "cell_type": "markdown",
      "source": [
        "<a id='3.2'></a>\n",
        "## 4.2. Feature Selection"
      ],
      "metadata": {
        "id": "6S_o-NL9cHOZ"
      }
    },
    {
      "cell_type": "code",
      "source": [
        "from sklearn.feature_selection import SelectKBest\n",
        "from sklearn.feature_selection import chi2\n",
        "\n",
        "bestfeatures = SelectKBest( k=10)\n",
        "bestfeatures\n",
        "\n",
        "Y= dataset[\"Class\"]\n",
        "X = dataset.loc[:, dataset.columns != 'Class']\n",
        "fit = bestfeatures.fit(X,Y)\n",
        "dfscores = pd.DataFrame(fit.scores_)\n",
        "dfcolumns = pd.DataFrame(X.columns)\n",
        "\n",
        "# concatenar dos marcos de datos para una mejor visualización \n",
        "featureScores = pd.concat([dfcolumns,dfscores],axis=1)\n",
        "featureScores.columns = ['Specs','Score']  #naming the dataframe columns\n",
        "print(featureScores.nlargest(10,'Score'))  #print 10 best features"
      ],
      "metadata": {
        "colab": {
          "base_uri": "https://localhost:8080/"
        },
        "id": "Rxc5RMBab-Ra",
        "outputId": "e2861318-5583-4854-9811-341b2d53d2f2"
      },
      "execution_count": null,
      "outputs": [
        {
          "output_type": "stream",
          "name": "stdout",
          "text": [
            "   Specs      Score\n",
            "17   V17  33979.169\n",
            "14   V14  28695.548\n",
            "12   V12  20749.822\n",
            "10   V10  14057.980\n",
            "16   V16  11443.349\n",
            "3     V3  11014.508\n",
            "7     V7  10349.605\n",
            "11   V11   6999.355\n",
            "4     V4   5163.832\n",
            "18   V18   3584.381\n"
          ]
        }
      ]
    },
    {
      "cell_type": "markdown",
      "source": [
        "* Aunque algunas de las características son relevantes, no se da una preferencia significativa a la selección de características."
      ],
      "metadata": {
        "id": "eimnlcl5cgdC"
      }
    },
    {
      "cell_type": "markdown",
      "source": [
        "<a id='4'></a>\n",
        "# 5. Evaluate Algorithms and Models"
      ],
      "metadata": {
        "id": "8NgSqMexckyY"
      }
    },
    {
      "cell_type": "markdown",
      "source": [
        "<a id='4.1'></a>\n",
        "## 5.1. Train Test Split and Evaluation Metrics"
      ],
      "metadata": {
        "id": "VJRC1B1oclGz"
      }
    },
    {
      "cell_type": "code",
      "source": [
        "# dividir el conjunto de datos de validación para el final\n",
        "Y= dataset[\"Class\"]\n",
        "X = dataset.loc[:, dataset.columns != 'Class']\n",
        "\n",
        "validation_size = 0.2\n",
        "seed = 7\n",
        "\n",
        "X_train, X_validation, Y_train, Y_validation = train_test_split(X, Y, test_size=validation_size, random_state=seed)\n",
        "scoring = 'accuracy'"
      ],
      "metadata": {
        "id": "rgO8XT_QcWHP"
      },
      "execution_count": null,
      "outputs": []
    },
    {
      "cell_type": "markdown",
      "source": [
        "<a id='4.2'></a>\n",
        "## 5.2. Checking Models and Algorithms"
      ],
      "metadata": {
        "id": "7dTpWXfgc162"
      }
    },
    {
      "cell_type": "code",
      "source": [
        "# opciones de prueba para la clasificación\n",
        "num_folds = 10\n",
        "seed = 7"
      ],
      "metadata": {
        "id": "LDPiNby-cx3P"
      },
      "execution_count": null,
      "outputs": []
    },
    {
      "cell_type": "code",
      "source": [
        "# comprobar al azar algunos algoritmos básicos de clasificación\n",
        "# Dado que los datos son enormes, se comentan algunos de los algoritmos de clasificación más lentos\n",
        "models = []\n",
        "models.append(('LR', LogisticRegression()))\n",
        "models.append(('LDA', LinearDiscriminantAnalysis()))\n",
        "models.append(('KNN', KNeighborsClassifier()))\n",
        "models.append(('CART', DecisionTreeClassifier()))\n",
        "# models.append(('NB', GaussianNB()))\n",
        "# models.append(('SVM', SVC()))\n",
        "# #Neural Network\n",
        "# models.append(('NN', MLPClassifier()))\n",
        "# # #Ensable Models \n",
        "# # Boosting methods\n",
        "# models.append(('AB', AdaBoostClassifier()))\n",
        "# models.append(('GBM', GradientBoostingClassifier()))\n",
        "# # Bagging methods\n",
        "# models.append(('RF', RandomForestClassifier()))\n",
        "# models.append(('ET', ExtraTreesClassifier()))"
      ],
      "metadata": {
        "id": "i73QIoeJc5Gq"
      },
      "execution_count": null,
      "outputs": []
    },
    {
      "cell_type": "code",
      "source": [
        "results = []\n",
        "names = []\n",
        "\n",
        "for name, model in models:\n",
        "    kfold = KFold(n_splits=num_folds, random_state=seed, shuffle=True)\n",
        "    cv_results = cross_val_score(model, X_train, Y_train, cv=kfold, scoring=scoring)\n",
        "    results.append(cv_results)\n",
        "    names.append(name)\n",
        "    msg = \"%s: %f (%f)\" % (name, cv_results.mean(), cv_results.std())\n",
        "    print(msg)"
      ],
      "metadata": {
        "colab": {
          "base_uri": "https://localhost:8080/"
        },
        "id": "Kwhel1Svc9T_",
        "outputId": "ebfee1f0-f1db-44ed-d035-154ba90f8a5c"
      },
      "execution_count": null,
      "outputs": [
        {
          "output_type": "stream",
          "name": "stdout",
          "text": [
            "LR: 0.998960 (0.000140)\n",
            "LDA: 0.999350 (0.000149)\n",
            "KNN: 0.998332 (0.000310)\n",
            "CART: 0.999170 (0.000191)\n"
          ]
        }
      ]
    },
    {
      "cell_type": "code",
      "source": [
        "# compare algorithms\n",
        "fig = plt.figure()\n",
        "fig.suptitle('Algorithm Comparison')\n",
        "ax = fig.add_subplot(111)\n",
        "plt.boxplot(results)\n",
        "ax.set_xticklabels(names)\n",
        "fig.set_size_inches(8,4)\n",
        "plt.show()"
      ],
      "metadata": {
        "colab": {
          "base_uri": "https://localhost:8080/",
          "height": 294
        },
        "id": "VIbnq6A7dB9V",
        "outputId": "db340465-167b-4001-9d1b-2daeb29471ed"
      },
      "execution_count": null,
      "outputs": [
        {
          "output_type": "display_data",
          "data": {
            "image/png": "[encoded data removed]",
            "text/plain": [
              "<Figure size 576x288 with 1 Axes>"
            ]
          },
          "metadata": {
            "needs_background": "light"
          }
        }
      ]
    },
    {
      "cell_type": "markdown",
      "source": [
        "* La precisión es muy alta, dado que la precisión se centra en el caso general de no fraude, pero vamos a comprobar lo bien que predice el caso de fraude. Eligiendo uno de los modelos CART de los resultados anteriores"
      ],
      "metadata": {
        "id": "E-0UngcXe6WU"
      }
    },
    {
      "cell_type": "code",
      "source": [
        "# prepare model\n",
        "model = DecisionTreeClassifier()\n",
        "model.fit(X_train, Y_train)"
      ],
      "metadata": {
        "colab": {
          "base_uri": "https://localhost:8080/"
        },
        "id": "08CCxrY_e7S7",
        "outputId": "f950b314-1d6a-49cb-b5c8-2237b46ac972"
      },
      "execution_count": null,
      "outputs": [
        {
          "output_type": "execute_result",
          "data": {
            "text/plain": [
              "DecisionTreeClassifier()"
            ]
          },
          "metadata": {},
          "execution_count": 35
        }
      ]
    },
    {
      "cell_type": "code",
      "source": [
        "# estimación de la precisión en el conjunto de validación\n",
        "# rescaledValidationX = scaler.transform(X_validation)\n",
        "rescaledValidationX = X_validation\n",
        "predictions = model.predict(rescaledValidationX)\n",
        "\n",
        "print(f'Acurracy Score: {accuracy_score(Y_validation, predictions)}')\n",
        "print('\\n')\n",
        "print(f'Confusion Matrix: \\n{confusion_matrix(Y_validation, predictions)}')\n",
        "print('\\n')\n",
        "print(f\"Classification Report: \\n{classification_report(Y_validation, predictions)}\")"
      ],
      "metadata": {
        "colab": {
          "base_uri": "https://localhost:8080/"
        },
        "id": "5hVGTgr7fABI",
        "outputId": "281ed3cb-d8e3-4b5b-993a-344778700ad0"
      },
      "execution_count": null,
      "outputs": [
        {
          "output_type": "stream",
          "name": "stdout",
          "text": [
            "Acurracy Score: 0.9991046662687406\n",
            "\n",
            "\n",
            "Confusion Matrix: \n",
            "[[56833    29]\n",
            " [   22    78]]\n",
            "\n",
            "\n",
            "Classification Report: \n",
            "              precision    recall  f1-score   support\n",
            "\n",
            "           0       1.00      1.00      1.00     56862\n",
            "           1       0.73      0.78      0.75       100\n",
            "\n",
            "    accuracy                           1.00     56962\n",
            "   macro avg       0.86      0.89      0.88     56962\n",
            "weighted avg       1.00      1.00      1.00     56962\n",
            "\n"
          ]
        }
      ]
    },
    {
      "cell_type": "code",
      "source": [
        "df_cm = pd.DataFrame(confusion_matrix(Y_validation, predictions), columns=np.unique(Y_validation), index = np.unique(Y_validation))\n",
        "df_cm.index.name = 'Actual'\n",
        "df_cm.columns.name = 'Predicted'\n",
        "sns.heatmap(df_cm, cmap=\"Blues\", annot=True,annot_kws={\"size\": 16})# font size"
      ],
      "metadata": {
        "colab": {
          "base_uri": "https://localhost:8080/",
          "height": 297
        },
        "id": "OsoSy8nefC-H",
        "outputId": "334386ec-7a1b-489f-c219-5a7bd4523c49"
      },
      "execution_count": null,
      "outputs": [
        {
          "output_type": "execute_result",
          "data": {
            "text/plain": [
              "<matplotlib.axes._subplots.AxesSubplot at 0x7f2f94ce0210>"
            ]
          },
          "metadata": {},
          "execution_count": 45
        },
        {
          "output_type": "display_data",
          "data": {
            "image/png": "[encoded data removed]",
            "text/plain": [
              "<Figure size 432x288 with 2 Axes>"
            ]
          },
          "metadata": {
            "needs_background": "light"
          }
        }
      ]
    },
    {
      "cell_type": "markdown",
      "source": [
        "* Aunque los resultados son buenos, todavía 22 de cada 100 fraudes no son detectados. Por lo tanto, deberíamos centrarnos en el recuerdo, que es una métrica que minimiza los falsos negativos."
      ],
      "metadata": {
        "id": "l_W6PnvAovFR"
      }
    },
    {
      "cell_type": "markdown",
      "source": [
        "<a id='5'></a>\n",
        "## 6. Model Tuning"
      ],
      "metadata": {
        "id": "hD-1Kd0VpJOl"
      }
    },
    {
      "cell_type": "markdown",
      "source": [
        "<a id='5.1'></a>\n",
        "## 6.1. Model Tuning by choosing correct evaluation metric\n",
        "Se selecciona la métrica de evaluación recall, que es una métrica que minimiza los falsos negativos."
      ],
      "metadata": {
        "id": "r8R6y3KhpNXR"
      }
    },
    {
      "cell_type": "code",
      "source": [
        "scoring = 'recall'"
      ],
      "metadata": {
        "id": "mpSuMYwSfGit"
      },
      "execution_count": null,
      "outputs": []
    },
    {
      "cell_type": "code",
      "source": [
        "# comprobar al azar algunos algoritmos básicos de clasificación\n",
        "# Dado que los datos son enormes, se comentan algunos de los algoritmos de clasificación más lentos\n",
        "models = []\n",
        "models.append(('LR', LogisticRegression()))\n",
        "models.append(('LDA', LinearDiscriminantAnalysis()))\n",
        "models.append(('KNN', KNeighborsClassifier()))\n",
        "models.append(('CART', DecisionTreeClassifier()))\n",
        "# models.append(('NB', GaussianNB()))\n",
        "# models.append(('SVM', SVC()))\n",
        "# #Neural Network\n",
        "# models.append(('NN', MLPClassifier()))\n",
        "# # #Ensable Models \n",
        "# # Boosting methods\n",
        "# models.append(('AB', AdaBoostClassifier()))\n",
        "# models.append(('GBM', GradientBoostingClassifier()))\n",
        "# # Bagging methods\n",
        "# models.append(('RF', RandomForestClassifier()))\n",
        "# models.append(('ET', ExtraTreesClassifier()))"
      ],
      "metadata": {
        "id": "aT0BXJ-xpj89"
      },
      "execution_count": null,
      "outputs": []
    },
    {
      "cell_type": "code",
      "source": [
        "results = []\n",
        "names = []\n",
        "\n",
        "for name, model in models:\n",
        "    kfold = KFold(n_splits=num_folds, random_state=seed, shuffle=True)\n",
        "    cv_results = cross_val_score(model, X_train, Y_train, cv=kfold, scoring=scoring)\n",
        "    results.append(cv_results)\n",
        "    names.append(name)\n",
        "    msg = \"%s: %f (%f)\" % (name, cv_results.mean(), cv_results.std())\n",
        "    print(msg)"
      ],
      "metadata": {
        "colab": {
          "base_uri": "https://localhost:8080/"
        },
        "id": "o-CDmSWopmyq",
        "outputId": "9b80e273-59f0-46d1-9659-148c549810f7"
      },
      "execution_count": null,
      "outputs": [
        {
          "output_type": "stream",
          "name": "stdout",
          "text": [
            "LR: 0.673973 (0.052872)\n",
            "LDA: 0.754710 (0.046704)\n",
            "KNN: 0.033329 (0.028641)\n",
            "CART: 0.753532 (0.050432)\n"
          ]
        }
      ]
    },
    {
      "cell_type": "markdown",
      "source": [
        "* Dado que el LDA tiene el mejor recuerdo de todos los modelos, se utiliza para evaluar el conjunto de pruebas."
      ],
      "metadata": {
        "id": "B1RuMtE8p0Xx"
      }
    },
    {
      "cell_type": "code",
      "source": [
        "# prepare model\n",
        "model = LinearDiscriminantAnalysis()\n",
        "model.fit(X_train, Y_train)"
      ],
      "metadata": {
        "colab": {
          "base_uri": "https://localhost:8080/"
        },
        "id": "em55ZRihpsf4",
        "outputId": "da62139f-020d-4009-b22d-127b8fe0add6"
      },
      "execution_count": null,
      "outputs": [
        {
          "output_type": "execute_result",
          "data": {
            "text/plain": [
              "LinearDiscriminantAnalysis()"
            ]
          },
          "metadata": {},
          "execution_count": 49
        }
      ]
    },
    {
      "cell_type": "code",
      "source": [
        "# estimación de la precisión en el conjunto de validación\n",
        "# rescaledValidationX = scaler.transform(X_validation)\n",
        "rescaledValidationX = X_validation\n",
        "predictions = model.predict(rescaledValidationX)\n",
        "print(f'Acurracy Score: {accuracy_score(Y_validation, predictions)}')\n",
        "print('\\n')\n",
        "print(f'Confusion Matrix: \\n{confusion_matrix(Y_validation, predictions)}')\n",
        "print('\\n')\n",
        "print(f\"Classification Report: \\n{classification_report(Y_validation, predictions)}\")"
      ],
      "metadata": {
        "colab": {
          "base_uri": "https://localhost:8080/"
        },
        "id": "zKKxU91fp59_",
        "outputId": "ec789bbb-b627-4291-cea0-c5bfdc0a1fbd"
      },
      "execution_count": null,
      "outputs": [
        {
          "output_type": "stream",
          "name": "stdout",
          "text": [
            "Acurracy Score: 0.9995435553526912\n",
            "\n",
            "\n",
            "Confusion Matrix: \n",
            "[[56854     8]\n",
            " [   18    82]]\n",
            "\n",
            "\n",
            "Classification Report: \n",
            "              precision    recall  f1-score   support\n",
            "\n",
            "           0       1.00      1.00      1.00     56862\n",
            "           1       0.91      0.82      0.86       100\n",
            "\n",
            "    accuracy                           1.00     56962\n",
            "   macro avg       0.96      0.91      0.93     56962\n",
            "weighted avg       1.00      1.00      1.00     56962\n",
            "\n"
          ]
        }
      ]
    },
    {
      "cell_type": "code",
      "source": [
        "df_cm = pd.DataFrame(confusion_matrix(Y_validation, predictions), columns=np.unique(Y_validation), index = np.unique(Y_validation))\n",
        "df_cm.index.name = 'Actual'\n",
        "df_cm.columns.name = 'Predicted'\n",
        "sns.heatmap(df_cm, cmap=\"Blues\", annot=True,annot_kws={\"size\": 16})# font size"
      ],
      "metadata": {
        "colab": {
          "base_uri": "https://localhost:8080/",
          "height": 297
        },
        "id": "KQVcOf95qjHt",
        "outputId": "3d59d73e-5329-42a4-99c7-f571244510bf"
      },
      "execution_count": null,
      "outputs": [
        {
          "output_type": "execute_result",
          "data": {
            "text/plain": [
              "<matplotlib.axes._subplots.AxesSubplot at 0x7f2f94bbf710>"
            ]
          },
          "metadata": {},
          "execution_count": 55
        },
        {
          "output_type": "display_data",
          "data": {
            "image/png": "[encoded data removed]",
            "text/plain": [
              "<Figure size 432x288 with 2 Axes>"
            ]
          },
          "metadata": {
            "needs_background": "light"
          }
        }
      ]
    },
    {
      "cell_type": "markdown",
      "source": [
        "* LDA tiene un rendimiento mucho mejor, ya que sólo 18 de los casos de fraude no se detectan. Además, los falsos positivos también son menores. Sin embargo, todavía hay 18 casos de fraude en el conjunto de pruebas que no se detectan. Esto se tratará en la siguiente sección."
      ],
      "metadata": {
        "id": "pK-VAzjIqoGS"
      }
    },
    {
      "cell_type": "markdown",
      "source": [
        "<a id='5.2'></a>\n",
        "## 6.2. Model Tuning for balancing the sample by Random Under Sampling\n",
        "En esta fase del proyecto implementaremos el \"Random Under Sampling\" que básicamente consiste en eliminar datos para tener un conjunto de datos más equilibrado y así evitar que nuestros modelos se sobreajusten.\n",
        "\n",
        "Pasos:\n",
        "\n",
        "Lo primero que tenemos que hacer es determinar cuán desequilibrada está nuestra clase (utilizar \"value_counts()\" en la columna de la clase para determinar la cantidad de cada etiqueta)\n",
        "Una vez que determinemos cuántas instancias se consideran transacciones fraudulentas (Fraude = \"1\") , debemos llevar las transacciones no fraudulentas a la misma cantidad que las transacciones fraudulentas (asumiendo que queremos una proporción de 50/50), esto será equivalente a 492 casos de transacciones fraudulentas y 492 casos de transacciones no fraudulentas.\n",
        "Después de aplicar esta técnica, tenemos una submuestra de nuestro marco de datos con una proporción de 50/50 con respecto a nuestras clases. A continuación, el siguiente paso que implementaremos será barajar los datos para ver si nuestros modelos pueden mantener una cierta precisión cada vez que ejecutemos este script.\n",
        "Nota: El principal problema del \"submuestreo aleatorio\" es que corremos el riesgo de que nuestros modelos de clasificación no sean tan precisos como quisiéramos, ya que hay una gran pérdida de información (al extraer 492 transacciones no fraudulentas de 284.315 transacciones no fraudulentas).\n"
      ],
      "metadata": {
        "id": "Pro0QSBrqu7W"
      }
    },
    {
      "cell_type": "code",
      "source": [
        "Y_train.head()"
      ],
      "metadata": {
        "colab": {
          "base_uri": "https://localhost:8080/"
        },
        "id": "A8T8-ShlqqTG",
        "outputId": "6892e308-f22d-4710-a99b-b00d12fed200"
      },
      "execution_count": null,
      "outputs": [
        {
          "output_type": "execute_result",
          "data": {
            "text/plain": [
              "44828     0\n",
              "221877    0\n",
              "278826    0\n",
              "149792    0\n",
              "226041    0\n",
              "Name: Class, dtype: int64"
            ]
          },
          "metadata": {},
          "execution_count": 56
        }
      ]
    },
    {
      "cell_type": "code",
      "source": [
        "Y_train.value_counts()"
      ],
      "metadata": {
        "colab": {
          "base_uri": "https://localhost:8080/"
        },
        "id": "rheGRfeZMj79",
        "outputId": "03bade16-342a-4ac0-c854-258acc8c9a40"
      },
      "execution_count": null,
      "outputs": [
        {
          "output_type": "execute_result",
          "data": {
            "text/plain": [
              "0    227453\n",
              "1       392\n",
              "Name: Class, dtype: int64"
            ]
          },
          "metadata": {},
          "execution_count": 69
        }
      ]
    },
    {
      "cell_type": "code",
      "source": [
        "df = pd.concat([X_train, Y_train], axis=1)\n",
        "# cantidad de clases de fraude 392 filas.\n",
        "fraud_df = df.loc[df['Class'] == 1]\n",
        "non_fraud_df = df.loc[df['Class'] == 0][:392]\n",
        "\n",
        "normal_distributed_df = pd.concat([fraud_df, non_fraud_df])\n",
        "\n",
        "# Mezclar las filas del marco de datos\n",
        "df_new = normal_distributed_df.sample(frac=1, random_state=42)\n",
        "\n",
        "# dividir el conjunto de datos de validación para el final\n",
        "Y_train_new= df_new[\"Class\"]\n",
        "X_train_new = df_new.loc[:, dataset.columns != 'Class']\n",
        "\n",
        "dataset.head()"
      ],
      "metadata": {
        "colab": {
          "base_uri": "https://localhost:8080/",
          "height": 270
        },
        "id": "8HDEMrdrrRe7",
        "outputId": "17273dfb-07c1-4fd7-a640-939f64d3b738"
      },
      "execution_count": null,
      "outputs": [
        {
          "output_type": "execute_result",
          "data": {
            "text/html": [
              "\n",
              "  <div id=\"df-ba986169-0393-43c9-bf4c-292df2d9a929\">\n",
              "    <div class=\"colab-df-container\">\n",
              "      <div>\n",
              "<style scoped>\n",
              "    .dataframe tbody tr th:only-of-type {\n",
              "        vertical-align: middle;\n",
              "    }\n",
              "\n",
              "    .dataframe tbody tr th {\n",
              "        vertical-align: top;\n",
              "    }\n",
              "\n",
              "    .dataframe thead th {\n",
              "        text-align: right;\n",
              "    }\n",
              "</style>\n",
              "<table border=\"1\" class=\"dataframe\">\n",
              "  <thead>\n",
              "    <tr style=\"text-align: right;\">\n",
              "      <th></th>\n",
              "      <th>Time</th>\n",
              "      <th>V1</th>\n",
              "      <th>V2</th>\n",
              "      <th>V3</th>\n",
              "      <th>V4</th>\n",
              "      <th>V5</th>\n",
              "      <th>V6</th>\n",
              "      <th>V7</th>\n",
              "      <th>V8</th>\n",
              "      <th>V9</th>\n",
              "      <th>V10</th>\n",
              "      <th>V11</th>\n",
              "      <th>V12</th>\n",
              "      <th>V13</th>\n",
              "      <th>V14</th>\n",
              "      <th>V15</th>\n",
              "      <th>V16</th>\n",
              "      <th>V17</th>\n",
              "      <th>V18</th>\n",
              "      <th>V19</th>\n",
              "      <th>V20</th>\n",
              "      <th>V21</th>\n",
              "      <th>V22</th>\n",
              "      <th>V23</th>\n",
              "      <th>V24</th>\n",
              "      <th>V25</th>\n",
              "      <th>V26</th>\n",
              "      <th>V27</th>\n",
              "      <th>V28</th>\n",
              "      <th>Amount</th>\n",
              "      <th>Class</th>\n",
              "    </tr>\n",
              "  </thead>\n",
              "  <tbody>\n",
              "    <tr>\n",
              "      <th>0</th>\n",
              "      <td>0.0</td>\n",
              "      <td>-1.360</td>\n",
              "      <td>-0.073</td>\n",
              "      <td>2.536</td>\n",
              "      <td>1.378</td>\n",
              "      <td>-0.338</td>\n",
              "      <td>0.462</td>\n",
              "      <td>0.240</td>\n",
              "      <td>0.099</td>\n",
              "      <td>0.364</td>\n",
              "      <td>0.091</td>\n",
              "      <td>-0.552</td>\n",
              "      <td>-0.618</td>\n",
              "      <td>-0.991</td>\n",
              "      <td>-0.311</td>\n",
              "      <td>1.468</td>\n",
              "      <td>-0.470</td>\n",
              "      <td>0.208</td>\n",
              "      <td>0.026</td>\n",
              "      <td>0.404</td>\n",
              "      <td>0.251</td>\n",
              "      <td>-0.018</td>\n",
              "      <td>0.278</td>\n",
              "      <td>-0.110</td>\n",
              "      <td>0.067</td>\n",
              "      <td>0.129</td>\n",
              "      <td>-0.189</td>\n",
              "      <td>0.134</td>\n",
              "      <td>-0.021</td>\n",
              "      <td>149.62</td>\n",
              "      <td>0</td>\n",
              "    </tr>\n",
              "    <tr>\n",
              "      <th>1</th>\n",
              "      <td>0.0</td>\n",
              "      <td>1.192</td>\n",
              "      <td>0.266</td>\n",
              "      <td>0.166</td>\n",
              "      <td>0.448</td>\n",
              "      <td>0.060</td>\n",
              "      <td>-0.082</td>\n",
              "      <td>-0.079</td>\n",
              "      <td>0.085</td>\n",
              "      <td>-0.255</td>\n",
              "      <td>-0.167</td>\n",
              "      <td>1.613</td>\n",
              "      <td>1.065</td>\n",
              "      <td>0.489</td>\n",
              "      <td>-0.144</td>\n",
              "      <td>0.636</td>\n",
              "      <td>0.464</td>\n",
              "      <td>-0.115</td>\n",
              "      <td>-0.183</td>\n",
              "      <td>-0.146</td>\n",
              "      <td>-0.069</td>\n",
              "      <td>-0.226</td>\n",
              "      <td>-0.639</td>\n",
              "      <td>0.101</td>\n",
              "      <td>-0.340</td>\n",
              "      <td>0.167</td>\n",
              "      <td>0.126</td>\n",
              "      <td>-0.009</td>\n",
              "      <td>0.015</td>\n",
              "      <td>2.69</td>\n",
              "      <td>0</td>\n",
              "    </tr>\n",
              "    <tr>\n",
              "      <th>2</th>\n",
              "      <td>1.0</td>\n",
              "      <td>-1.358</td>\n",
              "      <td>-1.340</td>\n",
              "      <td>1.773</td>\n",
              "      <td>0.380</td>\n",
              "      <td>-0.503</td>\n",
              "      <td>1.800</td>\n",
              "      <td>0.791</td>\n",
              "      <td>0.248</td>\n",
              "      <td>-1.515</td>\n",
              "      <td>0.208</td>\n",
              "      <td>0.625</td>\n",
              "      <td>0.066</td>\n",
              "      <td>0.717</td>\n",
              "      <td>-0.166</td>\n",
              "      <td>2.346</td>\n",
              "      <td>-2.890</td>\n",
              "      <td>1.110</td>\n",
              "      <td>-0.121</td>\n",
              "      <td>-2.262</td>\n",
              "      <td>0.525</td>\n",
              "      <td>0.248</td>\n",
              "      <td>0.772</td>\n",
              "      <td>0.909</td>\n",
              "      <td>-0.689</td>\n",
              "      <td>-0.328</td>\n",
              "      <td>-0.139</td>\n",
              "      <td>-0.055</td>\n",
              "      <td>-0.060</td>\n",
              "      <td>378.66</td>\n",
              "      <td>0</td>\n",
              "    </tr>\n",
              "    <tr>\n",
              "      <th>3</th>\n",
              "      <td>1.0</td>\n",
              "      <td>-0.966</td>\n",
              "      <td>-0.185</td>\n",
              "      <td>1.793</td>\n",
              "      <td>-0.863</td>\n",
              "      <td>-0.010</td>\n",
              "      <td>1.247</td>\n",
              "      <td>0.238</td>\n",
              "      <td>0.377</td>\n",
              "      <td>-1.387</td>\n",
              "      <td>-0.055</td>\n",
              "      <td>-0.226</td>\n",
              "      <td>0.178</td>\n",
              "      <td>0.508</td>\n",
              "      <td>-0.288</td>\n",
              "      <td>-0.631</td>\n",
              "      <td>-1.060</td>\n",
              "      <td>-0.684</td>\n",
              "      <td>1.966</td>\n",
              "      <td>-1.233</td>\n",
              "      <td>-0.208</td>\n",
              "      <td>-0.108</td>\n",
              "      <td>0.005</td>\n",
              "      <td>-0.190</td>\n",
              "      <td>-1.176</td>\n",
              "      <td>0.647</td>\n",
              "      <td>-0.222</td>\n",
              "      <td>0.063</td>\n",
              "      <td>0.061</td>\n",
              "      <td>123.50</td>\n",
              "      <td>0</td>\n",
              "    </tr>\n",
              "    <tr>\n",
              "      <th>4</th>\n",
              "      <td>2.0</td>\n",
              "      <td>-1.158</td>\n",
              "      <td>0.878</td>\n",
              "      <td>1.549</td>\n",
              "      <td>0.403</td>\n",
              "      <td>-0.407</td>\n",
              "      <td>0.096</td>\n",
              "      <td>0.593</td>\n",
              "      <td>-0.271</td>\n",
              "      <td>0.818</td>\n",
              "      <td>0.753</td>\n",
              "      <td>-0.823</td>\n",
              "      <td>0.538</td>\n",
              "      <td>1.346</td>\n",
              "      <td>-1.120</td>\n",
              "      <td>0.175</td>\n",
              "      <td>-0.451</td>\n",
              "      <td>-0.237</td>\n",
              "      <td>-0.038</td>\n",
              "      <td>0.803</td>\n",
              "      <td>0.409</td>\n",
              "      <td>-0.009</td>\n",
              "      <td>0.798</td>\n",
              "      <td>-0.137</td>\n",
              "      <td>0.141</td>\n",
              "      <td>-0.206</td>\n",
              "      <td>0.502</td>\n",
              "      <td>0.219</td>\n",
              "      <td>0.215</td>\n",
              "      <td>69.99</td>\n",
              "      <td>0</td>\n",
              "    </tr>\n",
              "  </tbody>\n",
              "</table>\n",
              "</div>\n",
              "      <button class=\"colab-df-convert\" onclick=\"convertToInteractive('df-ba986169-0393-43c9-bf4c-292df2d9a929')\"\n",
              "              title=\"Convert this dataframe to an interactive table.\"\n",
              "              style=\"display:none;\">\n",
              "        \n",
              "  <svg xmlns=\"http://www.w3.org/2000/svg\" height=\"24px\"viewBox=\"0 0 24 24\"\n",
              "       width=\"24px\">\n",
              "    <path d=\"M0 0h24v24H0V0z\" fill=\"none\"/>\n",
              "    <path d=\"M18.56 5.44l.94 2.06.94-2.06 2.06-.94-2.06-.94-.94-2.06-.94 2.06-2.06.94zm-11 1L8.5 8.5l.94-2.06 2.06-.94-2.06-.94L8.5 2.5l-.94 2.06-2.06.94zm10 10l.94 2.06.94-2.06 2.06-.94-2.06-.94-.94-2.06-.94 2.06-2.06.94z\"/><path d=\"M17.41 7.96l-1.37-1.37c-.4-.4-.92-.59-1.43-.59-.52 0-1.04.2-1.43.59L10.3 9.45l-7.72 7.72c-.78.78-.78 2.05 0 2.83L4 21.41c.39.39.9.59 1.41.59.51 0 1.02-.2 1.41-.59l7.78-7.78 2.81-2.81c.8-.78.8-2.07 0-2.86zM5.41 20L4 18.59l7.72-7.72 1.47 1.35L5.41 20z\"/>\n",
              "  </svg>\n",
              "      </button>\n",
              "      \n",
              "  <style>\n",
              "    .colab-df-container {\n",
              "      display:flex;\n",
              "      flex-wrap:wrap;\n",
              "      gap: 12px;\n",
              "    }\n",
              "\n",
              "    .colab-df-convert {\n",
              "      background-color: #E8F0FE;\n",
              "      border: none;\n",
              "      border-radius: 50%;\n",
              "      cursor: pointer;\n",
              "      display: none;\n",
              "      fill: #1967D2;\n",
              "      height: 32px;\n",
              "      padding: 0 0 0 0;\n",
              "      width: 32px;\n",
              "    }\n",
              "\n",
              "    .colab-df-convert:hover {\n",
              "      background-color: #E2EBFA;\n",
              "      box-shadow: 0px 1px 2px rgba(60, 64, 67, 0.3), 0px 1px 3px 1px rgba(60, 64, 67, 0.15);\n",
              "      fill: #174EA6;\n",
              "    }\n",
              "\n",
              "    [theme=dark] .colab-df-convert {\n",
              "      background-color: #3B4455;\n",
              "      fill: #D2E3FC;\n",
              "    }\n",
              "\n",
              "    [theme=dark] .colab-df-convert:hover {\n",
              "      background-color: #434B5C;\n",
              "      box-shadow: 0px 1px 3px 1px rgba(0, 0, 0, 0.15);\n",
              "      filter: drop-shadow(0px 1px 2px rgba(0, 0, 0, 0.3));\n",
              "      fill: #FFFFFF;\n",
              "    }\n",
              "  </style>\n",
              "\n",
              "      <script>\n",
              "        const buttonEl =\n",
              "          document.querySelector('#df-ba986169-0393-43c9-bf4c-292df2d9a929 button.colab-df-convert');\n",
              "        buttonEl.style.display =\n",
              "          google.colab.kernel.accessAllowed ? 'block' : 'none';\n",
              "\n",
              "        async function convertToInteractive(key) {\n",
              "          const element = document.querySelector('#df-ba986169-0393-43c9-bf4c-292df2d9a929');\n",
              "          const dataTable =\n",
              "            await google.colab.kernel.invokeFunction('convertToInteractive',\n",
              "                                                     [key], {});\n",
              "          if (!dataTable) return;\n",
              "\n",
              "          const docLinkHtml = 'Like what you see? Visit the ' +\n",
              "            '<a target=\"_blank\" href=https://colab.research.google.com/notebooks/data_table.ipynb>data table notebook</a>'\n",
              "            + ' to learn more about interactive tables.';\n",
              "          element.innerHTML = '';\n",
              "          dataTable['output_type'] = 'display_data';\n",
              "          await google.colab.output.renderOutput(dataTable, element);\n",
              "          const docLink = document.createElement('div');\n",
              "          docLink.innerHTML = docLinkHtml;\n",
              "          element.appendChild(docLink);\n",
              "        }\n",
              "      </script>\n",
              "    </div>\n",
              "  </div>\n",
              "  "
            ],
            "text/plain": [
              "   Time     V1     V2     V3     V4  ...    V26    V27    V28  Amount  Class\n",
              "0   0.0 -1.360 -0.073  2.536  1.378  ... -0.189  0.134 -0.021  149.62      0\n",
              "1   0.0  1.192  0.266  0.166  0.448  ...  0.126 -0.009  0.015    2.69      0\n",
              "2   1.0 -1.358 -1.340  1.773  0.380  ... -0.139 -0.055 -0.060  378.66      0\n",
              "3   1.0 -0.966 -0.185  1.793 -0.863  ... -0.222  0.063  0.061  123.50      0\n",
              "4   2.0 -1.158  0.878  1.549  0.403  ...  0.502  0.219  0.215   69.99      0\n",
              "\n",
              "[5 rows x 31 columns]"
            ]
          },
          "metadata": {},
          "execution_count": 70
        }
      ]
    },
    {
      "cell_type": "code",
      "source": [
        "print('Distribution of the Classes in the subsample dataset')\n",
        "print(df_new['Class'].value_counts()/len(df_new))\n",
        "sns.countplot('Class', data=df_new)\n",
        "plt.title('Equally Distributed Classes', fontsize=14)\n",
        "plt.show()"
      ],
      "metadata": {
        "colab": {
          "base_uri": "https://localhost:8080/",
          "height": 369
        },
        "id": "LJ5cQJVSrTqt",
        "outputId": "24a70eb0-d053-4bc1-e398-2a6ba9942ff7"
      },
      "execution_count": null,
      "outputs": [
        {
          "output_type": "stream",
          "name": "stdout",
          "text": [
            "Distribution of the Classes in the subsample dataset\n",
            "1    0.5\n",
            "0    0.5\n",
            "Name: Class, dtype: float64\n"
          ]
        },
        {
          "output_type": "display_data",
          "data": {
            "image/png": "[encoded data removed]",
            "text/plain": [
              "<Figure size 432x288 with 1 Axes>"
            ]
          },
          "metadata": {
            "needs_background": "light"
          }
        }
      ]
    },
    {
      "cell_type": "markdown",
      "source": [
        "* Ahora que tenemos nuestro marco de datos correctamente equilibrado, podemos seguir con nuestro análisis y preprocesamiento de datos. Dado que el número total de puntos de datos es de unos 900, probamos todos los modelos, incluidos los de aprendizaje profundo. Sin embargo, dado que los datos están equilibrados, la métrica utilizada aquí es la \"accuracy\", ya que se centra en los falsos positivos y los falsos negativos.\n"
      ],
      "metadata": {
        "id": "a-OI_4dIrhpz"
      }
    },
    {
      "cell_type": "code",
      "source": [
        "scoring='accuracy'"
      ],
      "metadata": {
        "id": "op-18pvhrXBx"
      },
      "execution_count": null,
      "outputs": []
    },
    {
      "cell_type": "code",
      "source": [
        "# comprobar los algoritmos al azar\n",
        "models = []\n",
        "models.append(('LR', LogisticRegression()))\n",
        "models.append(('LDA', LinearDiscriminantAnalysis()))\n",
        "models.append(('KNN', KNeighborsClassifier()))\n",
        "models.append(('CART', DecisionTreeClassifier()))\n",
        "models.append(('NB', GaussianNB()))\n",
        "models.append(('SVM', SVC()))\n",
        "\n",
        "#Neural Network\n",
        "models.append(('NN', MLPClassifier()))\n",
        "\n",
        "# #Ensable Models \n",
        "\n",
        "# Boosting methods\n",
        "models.append(('AB', AdaBoostClassifier()))\n",
        "models.append(('GBM', GradientBoostingClassifier()))\n",
        "\n",
        "# Bagging methods\n",
        "models.append(('RF', RandomForestClassifier()))\n",
        "models.append(('ET', ExtraTreesClassifier()))"
      ],
      "metadata": {
        "id": "1h6z5TxTrsoc"
      },
      "execution_count": null,
      "outputs": []
    },
    {
      "cell_type": "code",
      "source": [
        "# Escribir el clasificador de aprendizaje profundo en caso de que el indicador de aprendizaje profundo se establezca como verdadero\n",
        "# Poner el siguiente Flag a 1 si el Flag de Modelos de Aprendizaje Profundo tiene que ser habilitado\n",
        "\n",
        "EnableDLModelsFlag = 1\n",
        "if EnableDLModelsFlag == 1 :   \n",
        "    # Función para crear el modelo, necesaria para KerasClassifier\n",
        "    def create_model(neurons=12, activation='relu', learn_rate = 0.01, momentum=0):\n",
        "        # crear un modelo\n",
        "        model = Sequential()\n",
        "        model.add(Dense(X_train.shape[1], input_dim=X_train.shape[1], activation=activation))\n",
        "        model.add(Dense(32, activation=activation))\n",
        "        model.add(Dense(1, activation='sigmoid'))\n",
        "        # Compilar el modelo\n",
        "        optimizer = SGD(lr=learn_rate, momentum=momentum)\n",
        "        model.compile(loss='binary_crossentropy', optimizer='adam', metrics=['accuracy'])\n",
        "        return model    \n",
        "    models.append(('DNN', KerasClassifier(build_fn=create_model, epochs=50, batch_size=10, verbose=0)))"
      ],
      "metadata": {
        "id": "ur_Gtj35r0KD"
      },
      "execution_count": null,
      "outputs": []
    },
    {
      "cell_type": "code",
      "source": [
        "results = []\n",
        "names = []\n",
        "for name, model in models:\n",
        "    kfold = KFold(n_splits=num_folds, random_state=seed, shuffle=True)\n",
        "    cv_results = cross_val_score(model, X_train_new, Y_train_new, cv=kfold, scoring=scoring)\n",
        "    results.append(cv_results)\n",
        "    names.append(name)\n",
        "    msg = \"%s: %f (%f)\" % (name, cv_results.mean(), cv_results.std())\n",
        "    print(msg)"
      ],
      "metadata": {
        "colab": {
          "base_uri": "https://localhost:8080/"
        },
        "id": "dIHtLeC4r29S",
        "outputId": "643871d4-9fd9-4a34-ab75-bb17167f2254"
      },
      "execution_count": null,
      "outputs": [
        {
          "output_type": "stream",
          "name": "stdout",
          "text": [
            "LR: 0.924878 (0.037261)\n",
            "LDA: 0.914671 (0.034874)\n",
            "KNN: 0.631272 (0.036860)\n",
            "CART: 0.887845 (0.030234)\n",
            "NB: 0.864898 (0.052529)\n",
            "SVM: 0.548539 (0.037907)\n",
            "NN: 0.577799 (0.076954)\n",
            "AB: 0.924862 (0.033185)\n",
            "GBM: 0.931224 (0.032111)\n",
            "RF: 0.936368 (0.042364)\n",
            "ET: 0.936336 (0.035367)\n",
            "WARNING:tensorflow:5 out of the last 13 calls to <function Model.make_predict_function.<locals>.predict_function at 0x7f2f939f2710> triggered tf.function retracing. Tracing is expensive and the excessive number of tracings could be due to (1) creating @tf.function repeatedly in a loop, (2) passing tensors with different shapes, (3) passing Python objects instead of tensors. For (1), please define your @tf.function outside of the loop. For (2), @tf.function has experimental_relax_shapes=True option that relaxes argument shapes that can avoid unnecessary retracing. For (3), please refer to https://www.tensorflow.org/guide/function#controlling_retracing and https://www.tensorflow.org/api_docs/python/tf/function for  more details.\n",
            "WARNING:tensorflow:5 out of the last 13 calls to <function Model.make_predict_function.<locals>.predict_function at 0x7f2f94ad88c0> triggered tf.function retracing. Tracing is expensive and the excessive number of tracings could be due to (1) creating @tf.function repeatedly in a loop, (2) passing tensors with different shapes, (3) passing Python objects instead of tensors. For (1), please define your @tf.function outside of the loop. For (2), @tf.function has experimental_relax_shapes=True option that relaxes argument shapes that can avoid unnecessary retracing. For (3), please refer to https://www.tensorflow.org/guide/function#controlling_retracing and https://www.tensorflow.org/api_docs/python/tf/function for  more details.\n",
            "DNN: 0.673191 (0.138911)\n"
          ]
        }
      ]
    },
    {
      "cell_type": "code",
      "source": [
        "# comparar algoritmos\n",
        "fig = plt.figure()\n",
        "fig.suptitle('Algorithm Comparison')\n",
        "ax = fig.add_subplot(111)\n",
        "plt.boxplot(results)\n",
        "ax.set_xticklabels(names)\n",
        "fig.set_size_inches(16,7)\n",
        "plt.show()"
      ],
      "metadata": {
        "colab": {
          "base_uri": "https://localhost:8080/",
          "height": 479
        },
        "id": "JIZw5xWyr--o",
        "outputId": "acef499f-06df-43b8-d29b-3136905a2a4b"
      },
      "execution_count": null,
      "outputs": [
        {
          "output_type": "display_data",
          "data": {
            "image/png": "[encoded data removed]",
            "text/plain": [
              "<Figure size 1152x504 with 1 Axes>"
            ]
          },
          "metadata": {
            "needs_background": "light"
          }
        }
      ]
    },
    {
      "cell_type": "markdown",
      "source": [
        "* Dado que RF es el mejor modelo de todos los modelos, se realiza una búsqueda en la red para el modelo GBM variando el número de estimadores y la profundidad máxima."
      ],
      "metadata": {
        "id": "nkzTfAoFsDb1"
      }
    },
    {
      "cell_type": "code",
      "source": [
        "# Grid Search: Random Forest Classifier\n",
        "'''\n",
        "n_estimators : int (por defecto=100)\n",
        "    El número de etapas de refuerzo a realizar. \n",
        "    El refuerzo de gradiente es bastante robusto al sobreajuste, por lo que un número grande suele dar lugar a un mejor rendimiento.\n",
        "max_depth : entero, opcional (por defecto=3)\n",
        "    profundidad máxima de los estimadores de regresión individuales. \n",
        "    La profundidad máxima limita el número de nodos del árbol. \n",
        "    Ajuste este parámetro para obtener el mejor rendimiento; el mejor valor depende de la interacción de las variables de entrada    \n",
        "criterion : cadena, opcional (por defecto=\"gini\")\n",
        "    La función para medir la calidad de una división. \n",
        "    Los criterios admitidos son \"gini\" para la impureza de Gini y \"entropía\" para la ganancia de información. \n",
        "    \n",
        "'''   \n",
        "scaler = StandardScaler().fit(X_train_new)\n",
        "rescaledX = scaler.transform(X_train_new)\n",
        "n_estimators = [20,80,90,100,120]\n",
        "max_depth= [5,10,15]\n",
        "criterion = [\"gini\",\"entropy\"]\n",
        "param_grid = dict(n_estimators=n_estimators, max_depth=max_depth, criterion = criterion )\n",
        "model = RandomForestClassifier()\n",
        "kfold = KFold(n_splits=num_folds, random_state=seed, shuffle=True)\n",
        "grid = GridSearchCV(estimator=model, param_grid=param_grid, scoring=scoring, cv=kfold)\n",
        "grid_result = grid.fit(rescaledX, Y_train_new)\n",
        "\n",
        "# Imprimir Resultados\n",
        "print(\"Best: %f using %s\" % (grid_result.best_score_, grid_result.best_params_))\n",
        "means = grid_result.cv_results_['mean_test_score']\n",
        "stds = grid_result.cv_results_['std_test_score']\n",
        "params = grid_result.cv_results_['params']\n",
        "ranks = grid_result.cv_results_['rank_test_score']\n",
        "for mean, stdev, param, rank in zip(means, stds, params, ranks):\n",
        "    print(\"#%d %f (%f) with: %r\" % (rank, mean, stdev, param))"
      ],
      "metadata": {
        "colab": {
          "base_uri": "https://localhost:8080/"
        },
        "id": "Njnq1sEtsF44",
        "outputId": "4525b2f3-28e4-4034-b5a7-d64c1854db58"
      },
      "execution_count": null,
      "outputs": [
        {
          "output_type": "stream",
          "name": "stdout",
          "text": [
            "Best: 0.937601 using {'criterion': 'entropy', 'max_depth': 10, 'n_estimators': 100}\n",
            "#12 0.932489 (0.029958) with: {'criterion': 'gini', 'max_depth': 5, 'n_estimators': 20}\n",
            "#25 0.927410 (0.030427) with: {'criterion': 'gini', 'max_depth': 5, 'n_estimators': 80}\n",
            "#23 0.928676 (0.032099) with: {'criterion': 'gini', 'max_depth': 5, 'n_estimators': 90}\n",
            "#26 0.927410 (0.034893) with: {'criterion': 'gini', 'max_depth': 5, 'n_estimators': 100}\n",
            "#26 0.927410 (0.035361) with: {'criterion': 'gini', 'max_depth': 5, 'n_estimators': 120}\n",
            "#16 0.932457 (0.030525) with: {'criterion': 'gini', 'max_depth': 10, 'n_estimators': 20}\n",
            "#4 0.935054 (0.035544) with: {'criterion': 'gini', 'max_depth': 10, 'n_estimators': 80}\n",
            "#23 0.928676 (0.038915) with: {'criterion': 'gini', 'max_depth': 10, 'n_estimators': 90}\n",
            "#11 0.932506 (0.035842) with: {'criterion': 'gini', 'max_depth': 10, 'n_estimators': 100}\n",
            "#7 0.935037 (0.034225) with: {'criterion': 'gini', 'max_depth': 10, 'n_estimators': 120}\n",
            "#18 0.931191 (0.030015) with: {'criterion': 'gini', 'max_depth': 15, 'n_estimators': 20}\n",
            "#4 0.935054 (0.036469) with: {'criterion': 'gini', 'max_depth': 15, 'n_estimators': 80}\n",
            "#3 0.935054 (0.038657) with: {'criterion': 'gini', 'max_depth': 15, 'n_estimators': 90}\n",
            "#17 0.931240 (0.038862) with: {'criterion': 'gini', 'max_depth': 15, 'n_estimators': 100}\n",
            "#20 0.929942 (0.032141) with: {'criterion': 'gini', 'max_depth': 15, 'n_estimators': 120}\n",
            "#20 0.929942 (0.031613) with: {'criterion': 'entropy', 'max_depth': 5, 'n_estimators': 20}\n",
            "#28 0.926128 (0.033848) with: {'criterion': 'entropy', 'max_depth': 5, 'n_estimators': 80}\n",
            "#29 0.924862 (0.031181) with: {'criterion': 'entropy', 'max_depth': 5, 'n_estimators': 90}\n",
            "#19 0.929958 (0.031105) with: {'criterion': 'entropy', 'max_depth': 5, 'n_estimators': 100}\n",
            "#30 0.923564 (0.030462) with: {'criterion': 'entropy', 'max_depth': 5, 'n_estimators': 120}\n",
            "#13 0.932473 (0.026554) with: {'criterion': 'entropy', 'max_depth': 10, 'n_estimators': 20}\n",
            "#7 0.935037 (0.029085) with: {'criterion': 'entropy', 'max_depth': 10, 'n_estimators': 80}\n",
            "#4 0.935054 (0.035544) with: {'criterion': 'entropy', 'max_depth': 10, 'n_estimators': 90}\n",
            "#1 0.937601 (0.031229) with: {'criterion': 'entropy', 'max_depth': 10, 'n_estimators': 100}\n",
            "#2 0.936336 (0.033944) with: {'criterion': 'entropy', 'max_depth': 10, 'n_estimators': 120}\n",
            "#22 0.929909 (0.039458) with: {'criterion': 'entropy', 'max_depth': 15, 'n_estimators': 20}\n",
            "#13 0.932473 (0.032128) with: {'criterion': 'entropy', 'max_depth': 15, 'n_estimators': 80}\n",
            "#7 0.935037 (0.033251) with: {'criterion': 'entropy', 'max_depth': 15, 'n_estimators': 90}\n",
            "#13 0.932473 (0.030012) with: {'criterion': 'entropy', 'max_depth': 15, 'n_estimators': 100}\n",
            "#10 0.933772 (0.035675) with: {'criterion': 'entropy', 'max_depth': 15, 'n_estimators': 120}\n"
          ]
        }
      ]
    },
    {
      "cell_type": "code",
      "source": [
        "# preparar modelo\n",
        "model = RandomForestClassifier(criterion='entropy', max_depth=10, n_estimators=100)\n",
        "model.fit(rescaledX, Y_train_new)"
      ],
      "metadata": {
        "colab": {
          "base_uri": "https://localhost:8080/"
        },
        "id": "YWsYnjDlsMam",
        "outputId": "4c32ecd3-fe04-4dcb-9d87-d514760b51ba"
      },
      "execution_count": null,
      "outputs": [
        {
          "output_type": "execute_result",
          "data": {
            "text/plain": [
              "RandomForestClassifier(criterion='entropy', max_depth=10)"
            ]
          },
          "metadata": {},
          "execution_count": 86
        }
      ]
    },
    {
      "cell_type": "code",
      "source": [
        "# estimar la precisión en el conjunto de validación original\n",
        "predictions = model.predict(X_validation)\n",
        "\n",
        "print(f'Accuracy Score: {accuracy_score(Y_validation, predictions)}')\n",
        "print('\\n')\n",
        "print(f'Confusion Matrix: \\n{confusion_matrix(Y_validation, predictions)}')\n",
        "print('\\n')\n",
        "print(f'Classification Report: \\n{classification_report(Y_validation, predictions)}')"
      ],
      "metadata": {
        "colab": {
          "base_uri": "https://localhost:8080/"
        },
        "id": "Dnp0b_s1sOeZ",
        "outputId": "7c02a3df-9b8c-4a0f-f184-49f4cd7a951b"
      },
      "execution_count": null,
      "outputs": [
        {
          "output_type": "stream",
          "name": "stdout",
          "text": [
            "Accuracy Score: 0.02129489835328816\n",
            "\n",
            "\n",
            "Confusion Matrix: \n",
            "[[ 1113 55749]\n",
            " [    0   100]]\n",
            "\n",
            "\n",
            "Classification Report: \n",
            "              precision    recall  f1-score   support\n",
            "\n",
            "           0       1.00      0.02      0.04     56862\n",
            "           1       0.00      1.00      0.00       100\n",
            "\n",
            "    accuracy                           0.02     56962\n",
            "   macro avg       0.50      0.51      0.02     56962\n",
            "weighted avg       1.00      0.02      0.04     56962\n",
            "\n"
          ]
        }
      ]
    },
    {
      "cell_type": "code",
      "source": [
        "df_cm = pd.DataFrame(confusion_matrix(Y_validation, predictions), columns=np.unique(Y_validation), index = np.unique(Y_validation))\n",
        "df_cm.index.name = 'Actual'\n",
        "df_cm.columns.name = 'Predicted'\n",
        "sns.heatmap(df_cm, cmap=\"Blues\", annot=True,annot_kws={\"size\": 16})# font size"
      ],
      "metadata": {
        "colab": {
          "base_uri": "https://localhost:8080/",
          "height": 297
        },
        "id": "pnm_FSytsSgD",
        "outputId": "06b1eb89-f6c6-48f6-b32e-2d6243688ec3"
      },
      "execution_count": null,
      "outputs": [
        {
          "output_type": "execute_result",
          "data": {
            "text/plain": [
              "<matplotlib.axes._subplots.AxesSubplot at 0x7f2fa07d53d0>"
            ]
          },
          "metadata": {},
          "execution_count": 88
        },
        {
          "output_type": "display_data",
          "data": {
            "image/png": "[encoded data removed]",
            "text/plain": [
              "<Figure size 432x288 with 2 Axes>"
            ]
          },
          "metadata": {
            "needs_background": "light"
          }
        }
      ]
    },
    {
      "cell_type": "markdown",
      "source": [
        "* Los resultados en el conjunto de pruebas son realmente buenos y el modelo funciona mucho mejor, sin que se haya detectado ningún caso de fraude."
      ],
      "metadata": {
        "id": "Lcr2rJ0hsVl-"
      }
    },
    {
      "cell_type": "markdown",
      "source": [
        "## Conclusión:\n",
        "\n",
        "La elección de la métrica correcta conduce a una mejora en los casos de fraude detectados correctamente. El submuestreo ha dado lugar a una mejora significativa, ya que todos los casos de fraude del conjunto de pruebas se identifican correctamente tras el submuestreo.\n",
        "\n",
        "Sin embargo, el submuestreo tiene su contrapartida. En los datos submuestreados, nuestro modelo es incapaz de detectar correctamente un gran número de transacciones no fraudulentas y, en cambio, clasifica erróneamente esas transacciones no fraudulentas como casos de fraude:\n",
        "\n",
        "La elección de la métrica correcta conduce a una mejora de los casos de fraude detectados correctamente. El submuestreo ha dado lugar a una mejora significativa, ya que todos los casos de fraude del conjunto de pruebas se identifican correctamente tras el submuestreo.\n",
        "\n",
        "Sin embargo, el submuestreo tiene su contrapartida. En los datos submuestreados, nuestro modelo es incapaz de detectar correctamente un gran número de transacciones no fraudulentas y, en cambio, clasifica erróneamente esas transacciones no fraudulentas como casos de fraude."
      ],
      "metadata": {
        "id": "RGSykObhsaTZ"
      }
    }
  ]
}