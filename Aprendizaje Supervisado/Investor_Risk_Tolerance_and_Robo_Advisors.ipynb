{
  "nbformat": 4,
  "nbformat_minor": 0,
  "metadata": {
    "colab": {
      "name": "Investor Risk Tolerance and Robo-Advisors.ipynb",
      "provenance": [],
      "authorship_tag": "ABX9TyPGj6PdmBms5AKoKT2agyC6",
      "include_colab_link": true
    },
    "kernelspec": {
      "name": "python3",
      "display_name": "Python 3"
    },
    "language_info": {
      "name": "python"
    }
  },
  "cells": [
    {
      "cell_type": "markdown",
      "metadata": {
        "id": "view-in-github",
        "colab_type": "text"
      },
      "source": [
        "<a href=\"https://colab.research.google.com/github/Jushef/Proyectos-ML-DL/blob/main/Aprendizaje%20Supervisado/Investor_Risk_Tolerance_and_Robo_Advisors.ipynb\" target=\"_parent\"><img src=\"https://colab.research.google.com/assets/colab-badge.svg\" alt=\"Open In Colab\"/></a>"
      ]
    },
    {
      "cell_type": "markdown",
      "source": [
        "# **Investor Risk Tolerance and Robo advisors**\n",
        "El objetivo de este proyecto es construir un modelo de aprendizaje automático para predecir la tolerancia al riesgo o la aversión al riesgo de un inversor, y utilizar el modelo en un cuadro de mandos de un robo-asesor."
      ],
      "metadata": {
        "id": "B9j5WUcJmzYW"
      }
    },
    {
      "cell_type": "markdown",
      "source": [
        "## **Content**"
      ],
      "metadata": {
        "id": "mZp6LQL1n5Ja"
      }
    },
    {
      "cell_type": "markdown",
      "source": [
        "* [1. Problem Definition](#0)\n",
        "* [2. Getting Started - Load Libraries and Dataset](#1)\n",
        "    * [2.1. Load Libraries](#1.1)    \n",
        "    * [2.2. Load Dataset](#1.2)\n",
        "* [3. Data Preparation and Feature Selection](#2)\n",
        "    * [3.1. Preparing the predicted variable](#2.1)    \n",
        "    * [3.2. Feature Selection-Limit the Feature Space](#2.2)\n",
        "* [4.Evaluate Algorithms and Models](#4)        \n",
        "    * [4.1. Train/Test Split](#4.1)\n",
        "    * [4.2. Test Options and Evaluation Metrics](#4.2)\n",
        "    * [4.3. Compare Models and Algorithms](#4.3)\n",
        "* [5. Model Tuning and Grid Search](#5)  \n",
        "* [6. Finalize the Model](#6)  \n",
        "    * [6.1. Results on test dataset](#6.1)\n",
        "    * [6.2. Feature Importance](#6.1)\n",
        "    * [6.2. Feature Intuition](#6.3)"
      ],
      "metadata": {
        "id": "viLgByhun9Kw"
      }
    },
    {
      "cell_type": "markdown",
      "source": [
        "<a id='0'></a>\n",
        "# 1. Problem Definition"
      ],
      "metadata": {
        "id": "svT8a2mRoFI6"
      }
    },
    {
      "cell_type": "markdown",
      "source": [
        "En el marco de regresión supervisada utilizado para este estudio, la variable prevista es la \"verdadera\" tolerancia al riesgo de un individuo y las variables predictoras son atributos demográficos, financieros y de comportamiento de un individuo.\n",
        "\n",
        "Para este estudio de caso, los datos utilizados proceden de la encuesta sobre las finanzas de los consumidores, realizada por el Consejo de la Reserva Federal. La fuente de datos es: https://www.federalreserve.gov/econres/scf_2009p.htm\n"
      ],
      "metadata": {
        "id": "jG8iW_M7oXRD"
      }
    },
    {
      "cell_type": "markdown",
      "source": [
        "<a id='1'></a>\n",
        "# 2. Getting Started- Loading the data and python packages"
      ],
      "metadata": {
        "id": "9qWV8jGeofwM"
      }
    },
    {
      "cell_type": "markdown",
      "source": [
        "<a id='1.1'></a>\n",
        "## 2.1. Loading the python packages"
      ],
      "metadata": {
        "id": "edrLI0CvohLo"
      }
    },
    {
      "cell_type": "code",
      "source": [
        "import numpy as np\n",
        "import pandas as pd\n",
        "import pandas_datareader.data as web\n",
        "import matplotlib.pyplot as plt\n",
        "from pandas.plotting import scatter_matrix\n",
        "import seaborn as sns\n",
        "import copy \n",
        "from sklearn.preprocessing import StandardScaler\n",
        "\n",
        "from sklearn.model_selection import train_test_split\n",
        "from sklearn.model_selection import KFold\n",
        "from sklearn.model_selection import cross_val_score\n",
        "from sklearn.model_selection import GridSearchCV\n",
        "\n",
        "from sklearn.linear_model import LinearRegression\n",
        "from sklearn.linear_model import Lasso\n",
        "from sklearn.linear_model import ElasticNet\n",
        "from sklearn.tree import DecisionTreeRegressor\n",
        "from sklearn.neighbors import KNeighborsRegressor\n",
        "from sklearn.svm import SVR\n",
        "from sklearn.ensemble import RandomForestRegressor\n",
        "from sklearn.ensemble import GradientBoostingRegressor\n",
        "from sklearn.ensemble import ExtraTreesRegressor\n",
        "from sklearn.ensemble import AdaBoostRegressor\n",
        "from sklearn.neural_network import MLPRegressor\n",
        "\n",
        "#Libraries for Deep Learning Models\n",
        "from tensorflow.keras.models import Sequential\n",
        "from tensorflow.keras.layers import Dense\n",
        "from tensorflow.keras.optimizers import SGD\n",
        "from tensorflow.keras.layers import LSTM\n",
        "from tensorflow.keras.wrappers.scikit_learn import KerasRegressor\n",
        "\n",
        "#Libraries for Statistical Models\n",
        "import statsmodels.api as sm\n",
        "\n",
        "#Libraries for Saving the Model\n",
        "from pickle import dump\n",
        "from pickle import load"
      ],
      "metadata": {
        "colab": {
          "base_uri": "https://localhost:8080/"
        },
        "id": "diJsdXRKnBgJ",
        "outputId": "749dd3ea-2042-44ba-fae2-cd35322a84cd"
      },
      "execution_count": null,
      "outputs": [
        {
          "output_type": "stream",
          "name": "stderr",
          "text": [
            "/usr/local/lib/python3.7/dist-packages/statsmodels/tools/_testing.py:19: FutureWarning: pandas.util.testing is deprecated. Use the functions in the public API at pandas.testing instead.\n",
            "  import pandas.util.testing as tm\n"
          ]
        }
      ]
    },
    {
      "cell_type": "markdown",
      "source": [
        "<a id='1.2'></a>\n",
        "## 2.2. Loading the Data"
      ],
      "metadata": {
        "id": "SqR8GTjHpI1C"
      }
    },
    {
      "cell_type": "code",
      "source": [
        "# load dataset\n",
        "dataset = pd.read_excel('SCFP2009panel.xlsx')"
      ],
      "metadata": {
        "id": "04PPKREtpJj4"
      },
      "execution_count": null,
      "outputs": []
    },
    {
      "cell_type": "code",
      "source": [
        "import warnings\n",
        "warnings.filterwarnings('ignore')"
      ],
      "metadata": {
        "id": "3ipoosY-p4FK"
      },
      "execution_count": null,
      "outputs": []
    },
    {
      "cell_type": "code",
      "source": [
        "type(dataset)"
      ],
      "metadata": {
        "colab": {
          "base_uri": "https://localhost:8080/"
        },
        "id": "CJouj6GvrCXA",
        "outputId": "0e8c6415-60e9-4049-e230-ad8e1b3ce3bd"
      },
      "execution_count": null,
      "outputs": [
        {
          "output_type": "execute_result",
          "data": {
            "text/plain": [
              "pandas.core.frame.DataFrame"
            ]
          },
          "metadata": {},
          "execution_count": 4
        }
      ]
    },
    {
      "cell_type": "code",
      "source": [
        "dataset.shape"
      ],
      "metadata": {
        "colab": {
          "base_uri": "https://localhost:8080/"
        },
        "id": "kiyrGdLVrFLP",
        "outputId": "3344d4da-e7a6-4508-a34d-2a3d97dc0bb6"
      },
      "execution_count": null,
      "outputs": [
        {
          "output_type": "execute_result",
          "data": {
            "text/plain": [
              "(19285, 515)"
            ]
          },
          "metadata": {},
          "execution_count": 5
        }
      ]
    },
    {
      "cell_type": "markdown",
      "source": [
        "<a id='2'></a>\n",
        "## 3. Data Preparation and Feature Selection"
      ],
      "metadata": {
        "id": "qq9tfunsrOkb"
      }
    },
    {
      "cell_type": "markdown",
      "source": [
        "<a id='2.1'></a>\n",
        "## 3.1. Preparing the predicted variable"
      ],
      "metadata": {
        "id": "BX2hLqiwrWUX"
      }
    },
    {
      "cell_type": "markdown",
      "source": [
        "El conjunto de datos de la \"Encuesta de Finanzas de los Consumidores\" contiene los datos demográficos, el patrimonio neto y los activos financieros y no financieros de los hogares para los mismos datos demográficos en 2007 (antes de la crisis) y 2009 (después de la crisis).\n",
        "\n",
        "En los siguientes pasos preparamos la variable predicha, que es la \"verdadera\" tolerancia al riesgo. Hay diferentes maneras de obtener la \"verdadera\" tolerancia al riesgo. La idea y el propósito de este estudio de caso es llegar a un enfoque para resolver el problema de las finanzas del comportamiento utilizando el aprendizaje automático.\n",
        "\n",
        "Los pasos para calcular las variables predichas son los siguientes:\n",
        "\n",
        "1) Calcular el activo de riesgo y los activos sin riesgo para todos los individuos de los datos de la encuesta. Los activos de riesgo y los activos sin riesgo se definen como sigue:\n",
        "\n",
        "* **Activos con riesgo:** son las inversiones en fondos de inversión, acciones, bonos, materias primas y bienes inmuebles, y una estimación del capital humano.\n",
        "* **Activos sin riesgo:** saldos de cuentas corrientes y de ahorro, certificados de depósito y otros saldos de efectivo y equivalentes.\n",
        "\n",
        "2) Tomamos la relación entre los activos de riesgo y los activos totales de un inversor y la consideramos una medida de la tolerancia al riesgo de un inversor. A partir de los datos de SCF, tenemos los datos de los activos con y sin riesgo para los individuos para 2007 y 2009. Utilizamos estos datos y normalizamos los activos de riesgo con el precio de las acciones de 2007 frente al de 2009 para obtener la tolerancia al riesgo.\n",
        "* **La tolerancia al riesgo** se define como la relación entre los activos de riesgo y los activos sin riesgo normalizados con la media del S&P500 de 2007 frente a la de 2009. Media del S&P500 en 2007: 1478 Media del S&P500 en 2009: 948.\n",
        "\n",
        "3) En mucha literatura, un inversor inteligente es aquel que no cambia su tolerancia al riesgo durante el cambio del mercado. Por lo tanto, consideramos que los inversores que cambian su tolerancia al riesgo en menos de un 10% entre 2007 y 2009 son inversores inteligentes. Por supuesto, este es un juicio cualitativo y está sujeto a cambios. Sin embargo, como se ha mencionado anteriormente, más que ser exacto y preciso, el propósito de este estudio de caso es demostrar el uso del aprendizaje automático y proporcionar un marco basado en el aprendizaje automático en las finanzas del comportamiento y la gestión de carteras que puede aprovecharse para un análisis más detallado.\n"
      ],
      "metadata": {
        "id": "DKb71eD5rZMX"
      }
    },
    {
      "cell_type": "code",
      "source": [
        "# Media del SP500 durante 2007 y 2009\n",
        "Average_SP500_2007=1478\n",
        "Average_SP500_2009=948\n",
        "\n",
        "# Tolerancia al riesgo 2007\n",
        "dataset['RiskFree07']= dataset['LIQ07'] + dataset['CDS07'] + dataset['SAVBND07'] + dataset['CASHLI07']\n",
        "dataset['Risky07'] = dataset['NMMF07'] + dataset['STOCKS07'] + dataset['BOND07'] \n",
        "dataset['RT07'] = dataset['Risky07']/(dataset['Risky07']+dataset['RiskFree07'])\n",
        "\n",
        "# Tolerancia al riesgo 2009\n",
        "dataset['RiskFree09']= dataset['LIQ09'] + dataset['CDS09'] + dataset['SAVBND09'] + dataset['CASHLI09']\n",
        "dataset['Risky09'] = dataset['NMMF09'] + dataset['STOCKS09'] + dataset['BOND09'] \n",
        "dataset['RT09'] = dataset['Risky09']/(dataset['Risky09']+dataset['RiskFree09'])*\\\n",
        "                (Average_SP500_2009/Average_SP500_2007)"
      ],
      "metadata": {
        "id": "mFt7lIzvrJX1"
      },
      "execution_count": null,
      "outputs": []
    },
    {
      "cell_type": "code",
      "source": [
        "dataset2 = copy.deepcopy(dataset)  \n",
        "dataset.head()"
      ],
      "metadata": {
        "colab": {
          "base_uri": "https://localhost:8080/",
          "height": 299
        },
        "id": "Lv_Q-ywgrUIn",
        "outputId": "05d3ed9d-0851-438a-ce0c-b9cef00473b3"
      },
      "execution_count": null,
      "outputs": [
        {
          "output_type": "execute_result",
          "data": {
            "text/html": [
              "\n",
              "  <div id=\"df-f55d15d8-cc1b-4ee9-bb9f-67e46d4b2551\">\n",
              "    <div class=\"colab-df-container\">\n",
              "      <div>\n",
              "<style scoped>\n",
              "    .dataframe tbody tr th:only-of-type {\n",
              "        vertical-align: middle;\n",
              "    }\n",
              "\n",
              "    .dataframe tbody tr th {\n",
              "        vertical-align: top;\n",
              "    }\n",
              "\n",
              "    .dataframe thead th {\n",
              "        text-align: right;\n",
              "    }\n",
              "</style>\n",
              "<table border=\"1\" class=\"dataframe\">\n",
              "  <thead>\n",
              "    <tr style=\"text-align: right;\">\n",
              "      <th></th>\n",
              "      <th>YY1</th>\n",
              "      <th>Y1</th>\n",
              "      <th>WGT09</th>\n",
              "      <th>AGE07</th>\n",
              "      <th>AGECL07</th>\n",
              "      <th>EDUC07</th>\n",
              "      <th>EDCL07</th>\n",
              "      <th>MARRIED07</th>\n",
              "      <th>KIDS07</th>\n",
              "      <th>LIFECL07</th>\n",
              "      <th>FAMSTRUCT07</th>\n",
              "      <th>RACECL</th>\n",
              "      <th>H_RACECL</th>\n",
              "      <th>RACE</th>\n",
              "      <th>H_RACE</th>\n",
              "      <th>OCCAT107</th>\n",
              "      <th>OCCAT207</th>\n",
              "      <th>INDCAT07</th>\n",
              "      <th>HHEALTH07</th>\n",
              "      <th>SPHEALTH07</th>\n",
              "      <th>INCOME07</th>\n",
              "      <th>WAGEINC07</th>\n",
              "      <th>BUSSEFARMINC07</th>\n",
              "      <th>INTDIVINC07</th>\n",
              "      <th>KGINC07</th>\n",
              "      <th>SSRETINC07</th>\n",
              "      <th>TRANSFOTHINC07</th>\n",
              "      <th>PENACCTWD07</th>\n",
              "      <th>NORMINC07</th>\n",
              "      <th>RISK07</th>\n",
              "      <th>PSAVING07</th>\n",
              "      <th>WSAVED07</th>\n",
              "      <th>SAVED07</th>\n",
              "      <th>SAVRES1</th>\n",
              "      <th>SAVRES2</th>\n",
              "      <th>SAVRES3</th>\n",
              "      <th>SAVRES4</th>\n",
              "      <th>SAVRES5</th>\n",
              "      <th>SAVRES6</th>\n",
              "      <th>SAVRES7</th>\n",
              "      <th>...</th>\n",
              "      <th>RESDBTPCT</th>\n",
              "      <th>OTHLOCPCT</th>\n",
              "      <th>CCBALPCT</th>\n",
              "      <th>INSTALLPCT</th>\n",
              "      <th>ODEBTPCT</th>\n",
              "      <th>TPAYPCT</th>\n",
              "      <th>MORTPAYPCT</th>\n",
              "      <th>CONSPAYPCT</th>\n",
              "      <th>REVPAYPCT</th>\n",
              "      <th>EQUITYPCT</th>\n",
              "      <th>DEQPCT</th>\n",
              "      <th>VOWNPCT</th>\n",
              "      <th>RETEQPCT</th>\n",
              "      <th>NORMINCPCT</th>\n",
              "      <th>CHECKINGPCT</th>\n",
              "      <th>MSAVINGPCT</th>\n",
              "      <th>CALLPCT</th>\n",
              "      <th>HOMEEQPCT</th>\n",
              "      <th>IRAKHPCT</th>\n",
              "      <th>PENEQPCT</th>\n",
              "      <th>VEHINSTPCT</th>\n",
              "      <th>EDNINSTPCT</th>\n",
              "      <th>OTHINSTPCT</th>\n",
              "      <th>HELOCPCT</th>\n",
              "      <th>NHMORTPCT</th>\n",
              "      <th>WAGEINCPCT</th>\n",
              "      <th>BUSSEFARMINCPCT</th>\n",
              "      <th>INTDIVINCPCT</th>\n",
              "      <th>KGINCPCT</th>\n",
              "      <th>SSRETINCPCT</th>\n",
              "      <th>TRANSFOTHINCPCT</th>\n",
              "      <th>PSAVINGPCT</th>\n",
              "      <th>LEVERAGEPCT</th>\n",
              "      <th>I</th>\n",
              "      <th>RiskFree07</th>\n",
              "      <th>Risky07</th>\n",
              "      <th>RT07</th>\n",
              "      <th>RiskFree09</th>\n",
              "      <th>Risky09</th>\n",
              "      <th>RT09</th>\n",
              "    </tr>\n",
              "  </thead>\n",
              "  <tbody>\n",
              "    <tr>\n",
              "      <th>0</th>\n",
              "      <td>1</td>\n",
              "      <td>11</td>\n",
              "      <td>11668.134198</td>\n",
              "      <td>47</td>\n",
              "      <td>3</td>\n",
              "      <td>12</td>\n",
              "      <td>2</td>\n",
              "      <td>1</td>\n",
              "      <td>0</td>\n",
              "      <td>2</td>\n",
              "      <td>5</td>\n",
              "      <td>2</td>\n",
              "      <td>2</td>\n",
              "      <td>3</td>\n",
              "      <td>3</td>\n",
              "      <td>1</td>\n",
              "      <td>3</td>\n",
              "      <td>1</td>\n",
              "      <td>3</td>\n",
              "      <td>3</td>\n",
              "      <td>56443.744181</td>\n",
              "      <td>56443.744181</td>\n",
              "      <td>0.0</td>\n",
              "      <td>0.0</td>\n",
              "      <td>0.0</td>\n",
              "      <td>0.0</td>\n",
              "      <td>0.0</td>\n",
              "      <td>0</td>\n",
              "      <td>69223.459844</td>\n",
              "      <td>3</td>\n",
              "      <td>5177.988243</td>\n",
              "      <td>1</td>\n",
              "      <td>0</td>\n",
              "      <td>0</td>\n",
              "      <td>0</td>\n",
              "      <td>0</td>\n",
              "      <td>0</td>\n",
              "      <td>0</td>\n",
              "      <td>0</td>\n",
              "      <td>1</td>\n",
              "      <td>...</td>\n",
              "      <td>0.0</td>\n",
              "      <td>0.0</td>\n",
              "      <td>-98.841249</td>\n",
              "      <td>3882.428459</td>\n",
              "      <td>0.0</td>\n",
              "      <td>-44.309806</td>\n",
              "      <td>-3.437401</td>\n",
              "      <td>-37.234311</td>\n",
              "      <td>-98.841249</td>\n",
              "      <td>6764000.0</td>\n",
              "      <td>1700000.0</td>\n",
              "      <td>-51.718701</td>\n",
              "      <td>5064000.0</td>\n",
              "      <td>-45.313644</td>\n",
              "      <td>168.22944</td>\n",
              "      <td>1400000.0</td>\n",
              "      <td>0.0</td>\n",
              "      <td>-54.412507</td>\n",
              "      <td>6000000.0</td>\n",
              "      <td>5064000.0</td>\n",
              "      <td>-11.224708</td>\n",
              "      <td>0.0</td>\n",
              "      <td>25000000.0</td>\n",
              "      <td>0.0</td>\n",
              "      <td>-21.052632</td>\n",
              "      <td>-32.931828</td>\n",
              "      <td>0.0</td>\n",
              "      <td>15939.278937</td>\n",
              "      <td>0.0</td>\n",
              "      <td>0.0</td>\n",
              "      <td>0.0</td>\n",
              "      <td>93.125197</td>\n",
              "      <td>270.403054</td>\n",
              "      <td>57</td>\n",
              "      <td>7994.813847</td>\n",
              "      <td>0.0</td>\n",
              "      <td>0.0</td>\n",
              "      <td>16000</td>\n",
              "      <td>17000</td>\n",
              "      <td>0.330422</td>\n",
              "    </tr>\n",
              "    <tr>\n",
              "      <th>1</th>\n",
              "      <td>1</td>\n",
              "      <td>12</td>\n",
              "      <td>11823.456494</td>\n",
              "      <td>47</td>\n",
              "      <td>3</td>\n",
              "      <td>12</td>\n",
              "      <td>2</td>\n",
              "      <td>1</td>\n",
              "      <td>0</td>\n",
              "      <td>2</td>\n",
              "      <td>5</td>\n",
              "      <td>2</td>\n",
              "      <td>2</td>\n",
              "      <td>3</td>\n",
              "      <td>3</td>\n",
              "      <td>1</td>\n",
              "      <td>3</td>\n",
              "      <td>1</td>\n",
              "      <td>3</td>\n",
              "      <td>3</td>\n",
              "      <td>56443.744181</td>\n",
              "      <td>56443.744181</td>\n",
              "      <td>0.0</td>\n",
              "      <td>0.0</td>\n",
              "      <td>0.0</td>\n",
              "      <td>0.0</td>\n",
              "      <td>0.0</td>\n",
              "      <td>0</td>\n",
              "      <td>69223.459844</td>\n",
              "      <td>3</td>\n",
              "      <td>5177.988243</td>\n",
              "      <td>1</td>\n",
              "      <td>0</td>\n",
              "      <td>0</td>\n",
              "      <td>0</td>\n",
              "      <td>0</td>\n",
              "      <td>0</td>\n",
              "      <td>0</td>\n",
              "      <td>0</td>\n",
              "      <td>1</td>\n",
              "      <td>...</td>\n",
              "      <td>0.0</td>\n",
              "      <td>0.0</td>\n",
              "      <td>-98.841249</td>\n",
              "      <td>4094.744747</td>\n",
              "      <td>0.0</td>\n",
              "      <td>-44.309806</td>\n",
              "      <td>-3.437401</td>\n",
              "      <td>-37.234311</td>\n",
              "      <td>-98.841249</td>\n",
              "      <td>4569000.0</td>\n",
              "      <td>1800000.0</td>\n",
              "      <td>-51.718701</td>\n",
              "      <td>2769000.0</td>\n",
              "      <td>-45.313644</td>\n",
              "      <td>168.22944</td>\n",
              "      <td>1700000.0</td>\n",
              "      <td>0.0</td>\n",
              "      <td>-34.934215</td>\n",
              "      <td>6100000.0</td>\n",
              "      <td>2769000.0</td>\n",
              "      <td>3.109215</td>\n",
              "      <td>0.0</td>\n",
              "      <td>25000000.0</td>\n",
              "      <td>0.0</td>\n",
              "      <td>-21.052632</td>\n",
              "      <td>-32.931828</td>\n",
              "      <td>0.0</td>\n",
              "      <td>15939.278937</td>\n",
              "      <td>0.0</td>\n",
              "      <td>0.0</td>\n",
              "      <td>0.0</td>\n",
              "      <td>93.125197</td>\n",
              "      <td>249.593620</td>\n",
              "      <td>57</td>\n",
              "      <td>7994.813847</td>\n",
              "      <td>0.0</td>\n",
              "      <td>0.0</td>\n",
              "      <td>19000</td>\n",
              "      <td>18000</td>\n",
              "      <td>0.312036</td>\n",
              "    </tr>\n",
              "    <tr>\n",
              "      <th>2</th>\n",
              "      <td>1</td>\n",
              "      <td>13</td>\n",
              "      <td>11913.228354</td>\n",
              "      <td>47</td>\n",
              "      <td>3</td>\n",
              "      <td>12</td>\n",
              "      <td>2</td>\n",
              "      <td>1</td>\n",
              "      <td>0</td>\n",
              "      <td>2</td>\n",
              "      <td>5</td>\n",
              "      <td>2</td>\n",
              "      <td>2</td>\n",
              "      <td>3</td>\n",
              "      <td>3</td>\n",
              "      <td>1</td>\n",
              "      <td>3</td>\n",
              "      <td>1</td>\n",
              "      <td>3</td>\n",
              "      <td>3</td>\n",
              "      <td>56443.744181</td>\n",
              "      <td>56443.744181</td>\n",
              "      <td>0.0</td>\n",
              "      <td>0.0</td>\n",
              "      <td>0.0</td>\n",
              "      <td>0.0</td>\n",
              "      <td>0.0</td>\n",
              "      <td>0</td>\n",
              "      <td>69223.459844</td>\n",
              "      <td>3</td>\n",
              "      <td>5177.988243</td>\n",
              "      <td>1</td>\n",
              "      <td>0</td>\n",
              "      <td>0</td>\n",
              "      <td>0</td>\n",
              "      <td>0</td>\n",
              "      <td>0</td>\n",
              "      <td>0</td>\n",
              "      <td>0</td>\n",
              "      <td>1</td>\n",
              "      <td>...</td>\n",
              "      <td>0.0</td>\n",
              "      <td>0.0</td>\n",
              "      <td>-98.841249</td>\n",
              "      <td>1802.283191</td>\n",
              "      <td>0.0</td>\n",
              "      <td>-44.309806</td>\n",
              "      <td>-3.437401</td>\n",
              "      <td>-37.234311</td>\n",
              "      <td>-98.841249</td>\n",
              "      <td>5540000.0</td>\n",
              "      <td>1200000.0</td>\n",
              "      <td>-17.232058</td>\n",
              "      <td>4340000.0</td>\n",
              "      <td>-45.313644</td>\n",
              "      <td>172.00732</td>\n",
              "      <td>1100000.0</td>\n",
              "      <td>0.0</td>\n",
              "      <td>-37.567285</td>\n",
              "      <td>6000000.0</td>\n",
              "      <td>4340000.0</td>\n",
              "      <td>-54.689858</td>\n",
              "      <td>0.0</td>\n",
              "      <td>25000000.0</td>\n",
              "      <td>0.0</td>\n",
              "      <td>-50.000000</td>\n",
              "      <td>-32.931828</td>\n",
              "      <td>0.0</td>\n",
              "      <td>15939.278937</td>\n",
              "      <td>0.0</td>\n",
              "      <td>0.0</td>\n",
              "      <td>0.0</td>\n",
              "      <td>93.125197</td>\n",
              "      <td>209.233358</td>\n",
              "      <td>57</td>\n",
              "      <td>7984.457871</td>\n",
              "      <td>0.0</td>\n",
              "      <td>0.0</td>\n",
              "      <td>13000</td>\n",
              "      <td>12000</td>\n",
              "      <td>0.307876</td>\n",
              "    </tr>\n",
              "    <tr>\n",
              "      <th>3</th>\n",
              "      <td>1</td>\n",
              "      <td>14</td>\n",
              "      <td>11929.394266</td>\n",
              "      <td>47</td>\n",
              "      <td>3</td>\n",
              "      <td>12</td>\n",
              "      <td>2</td>\n",
              "      <td>1</td>\n",
              "      <td>0</td>\n",
              "      <td>2</td>\n",
              "      <td>5</td>\n",
              "      <td>2</td>\n",
              "      <td>2</td>\n",
              "      <td>3</td>\n",
              "      <td>3</td>\n",
              "      <td>1</td>\n",
              "      <td>3</td>\n",
              "      <td>1</td>\n",
              "      <td>3</td>\n",
              "      <td>3</td>\n",
              "      <td>56443.744181</td>\n",
              "      <td>56443.744181</td>\n",
              "      <td>0.0</td>\n",
              "      <td>0.0</td>\n",
              "      <td>0.0</td>\n",
              "      <td>0.0</td>\n",
              "      <td>0.0</td>\n",
              "      <td>0</td>\n",
              "      <td>69223.459844</td>\n",
              "      <td>3</td>\n",
              "      <td>5177.988243</td>\n",
              "      <td>1</td>\n",
              "      <td>0</td>\n",
              "      <td>0</td>\n",
              "      <td>0</td>\n",
              "      <td>0</td>\n",
              "      <td>0</td>\n",
              "      <td>0</td>\n",
              "      <td>0</td>\n",
              "      <td>1</td>\n",
              "      <td>...</td>\n",
              "      <td>0.0</td>\n",
              "      <td>0.0</td>\n",
              "      <td>-98.841249</td>\n",
              "      <td>1965.634921</td>\n",
              "      <td>0.0</td>\n",
              "      <td>-43.527015</td>\n",
              "      <td>-2.114626</td>\n",
              "      <td>-36.170486</td>\n",
              "      <td>-98.841249</td>\n",
              "      <td>3082500.0</td>\n",
              "      <td>1300000.0</td>\n",
              "      <td>-17.232058</td>\n",
              "      <td>1782500.0</td>\n",
              "      <td>-45.313644</td>\n",
              "      <td>172.00732</td>\n",
              "      <td>2300000.0</td>\n",
              "      <td>0.0</td>\n",
              "      <td>-34.519783</td>\n",
              "      <td>5900000.0</td>\n",
              "      <td>1782500.0</td>\n",
              "      <td>-46.085882</td>\n",
              "      <td>0.0</td>\n",
              "      <td>25000000.0</td>\n",
              "      <td>0.0</td>\n",
              "      <td>-33.333333</td>\n",
              "      <td>-32.931828</td>\n",
              "      <td>0.0</td>\n",
              "      <td>15939.278937</td>\n",
              "      <td>0.0</td>\n",
              "      <td>0.0</td>\n",
              "      <td>0.0</td>\n",
              "      <td>93.125197</td>\n",
              "      <td>209.273158</td>\n",
              "      <td>57</td>\n",
              "      <td>7984.457871</td>\n",
              "      <td>0.0</td>\n",
              "      <td>0.0</td>\n",
              "      <td>25000</td>\n",
              "      <td>13000</td>\n",
              "      <td>0.219429</td>\n",
              "    </tr>\n",
              "    <tr>\n",
              "      <th>4</th>\n",
              "      <td>1</td>\n",
              "      <td>15</td>\n",
              "      <td>11917.722907</td>\n",
              "      <td>47</td>\n",
              "      <td>3</td>\n",
              "      <td>12</td>\n",
              "      <td>2</td>\n",
              "      <td>1</td>\n",
              "      <td>0</td>\n",
              "      <td>2</td>\n",
              "      <td>5</td>\n",
              "      <td>2</td>\n",
              "      <td>2</td>\n",
              "      <td>3</td>\n",
              "      <td>3</td>\n",
              "      <td>1</td>\n",
              "      <td>3</td>\n",
              "      <td>1</td>\n",
              "      <td>3</td>\n",
              "      <td>3</td>\n",
              "      <td>56443.744181</td>\n",
              "      <td>56443.744181</td>\n",
              "      <td>0.0</td>\n",
              "      <td>0.0</td>\n",
              "      <td>0.0</td>\n",
              "      <td>0.0</td>\n",
              "      <td>0.0</td>\n",
              "      <td>0</td>\n",
              "      <td>69223.459844</td>\n",
              "      <td>3</td>\n",
              "      <td>5177.988243</td>\n",
              "      <td>1</td>\n",
              "      <td>0</td>\n",
              "      <td>0</td>\n",
              "      <td>0</td>\n",
              "      <td>0</td>\n",
              "      <td>0</td>\n",
              "      <td>0</td>\n",
              "      <td>0</td>\n",
              "      <td>1</td>\n",
              "      <td>...</td>\n",
              "      <td>0.0</td>\n",
              "      <td>0.0</td>\n",
              "      <td>-98.885816</td>\n",
              "      <td>3969.876080</td>\n",
              "      <td>0.0</td>\n",
              "      <td>-44.733843</td>\n",
              "      <td>-3.437401</td>\n",
              "      <td>-36.170486</td>\n",
              "      <td>-98.885816</td>\n",
              "      <td>4128000.0</td>\n",
              "      <td>1200000.0</td>\n",
              "      <td>-13.783394</td>\n",
              "      <td>2928000.0</td>\n",
              "      <td>-45.313644</td>\n",
              "      <td>168.22944</td>\n",
              "      <td>1500000.0</td>\n",
              "      <td>0.0</td>\n",
              "      <td>-25.816716</td>\n",
              "      <td>6000000.0</td>\n",
              "      <td>2928000.0</td>\n",
              "      <td>12.392533</td>\n",
              "      <td>0.0</td>\n",
              "      <td>25000000.0</td>\n",
              "      <td>0.0</td>\n",
              "      <td>-38.596491</td>\n",
              "      <td>-32.931828</td>\n",
              "      <td>0.0</td>\n",
              "      <td>15939.278937</td>\n",
              "      <td>0.0</td>\n",
              "      <td>0.0</td>\n",
              "      <td>0.0</td>\n",
              "      <td>93.125197</td>\n",
              "      <td>232.690767</td>\n",
              "      <td>57</td>\n",
              "      <td>7994.813847</td>\n",
              "      <td>0.0</td>\n",
              "      <td>0.0</td>\n",
              "      <td>17000</td>\n",
              "      <td>12000</td>\n",
              "      <td>0.265410</td>\n",
              "    </tr>\n",
              "  </tbody>\n",
              "</table>\n",
              "<p>5 rows × 521 columns</p>\n",
              "</div>\n",
              "      <button class=\"colab-df-convert\" onclick=\"convertToInteractive('df-f55d15d8-cc1b-4ee9-bb9f-67e46d4b2551')\"\n",
              "              title=\"Convert this dataframe to an interactive table.\"\n",
              "              style=\"display:none;\">\n",
              "        \n",
              "  <svg xmlns=\"http://www.w3.org/2000/svg\" height=\"24px\"viewBox=\"0 0 24 24\"\n",
              "       width=\"24px\">\n",
              "    <path d=\"M0 0h24v24H0V0z\" fill=\"none\"/>\n",
              "    <path d=\"M18.56 5.44l.94 2.06.94-2.06 2.06-.94-2.06-.94-.94-2.06-.94 2.06-2.06.94zm-11 1L8.5 8.5l.94-2.06 2.06-.94-2.06-.94L8.5 2.5l-.94 2.06-2.06.94zm10 10l.94 2.06.94-2.06 2.06-.94-2.06-.94-.94-2.06-.94 2.06-2.06.94z\"/><path d=\"M17.41 7.96l-1.37-1.37c-.4-.4-.92-.59-1.43-.59-.52 0-1.04.2-1.43.59L10.3 9.45l-7.72 7.72c-.78.78-.78 2.05 0 2.83L4 21.41c.39.39.9.59 1.41.59.51 0 1.02-.2 1.41-.59l7.78-7.78 2.81-2.81c.8-.78.8-2.07 0-2.86zM5.41 20L4 18.59l7.72-7.72 1.47 1.35L5.41 20z\"/>\n",
              "  </svg>\n",
              "      </button>\n",
              "      \n",
              "  <style>\n",
              "    .colab-df-container {\n",
              "      display:flex;\n",
              "      flex-wrap:wrap;\n",
              "      gap: 12px;\n",
              "    }\n",
              "\n",
              "    .colab-df-convert {\n",
              "      background-color: #E8F0FE;\n",
              "      border: none;\n",
              "      border-radius: 50%;\n",
              "      cursor: pointer;\n",
              "      display: none;\n",
              "      fill: #1967D2;\n",
              "      height: 32px;\n",
              "      padding: 0 0 0 0;\n",
              "      width: 32px;\n",
              "    }\n",
              "\n",
              "    .colab-df-convert:hover {\n",
              "      background-color: #E2EBFA;\n",
              "      box-shadow: 0px 1px 2px rgba(60, 64, 67, 0.3), 0px 1px 3px 1px rgba(60, 64, 67, 0.15);\n",
              "      fill: #174EA6;\n",
              "    }\n",
              "\n",
              "    [theme=dark] .colab-df-convert {\n",
              "      background-color: #3B4455;\n",
              "      fill: #D2E3FC;\n",
              "    }\n",
              "\n",
              "    [theme=dark] .colab-df-convert:hover {\n",
              "      background-color: #434B5C;\n",
              "      box-shadow: 0px 1px 3px 1px rgba(0, 0, 0, 0.15);\n",
              "      filter: drop-shadow(0px 1px 2px rgba(0, 0, 0, 0.3));\n",
              "      fill: #FFFFFF;\n",
              "    }\n",
              "  </style>\n",
              "\n",
              "      <script>\n",
              "        const buttonEl =\n",
              "          document.querySelector('#df-f55d15d8-cc1b-4ee9-bb9f-67e46d4b2551 button.colab-df-convert');\n",
              "        buttonEl.style.display =\n",
              "          google.colab.kernel.accessAllowed ? 'block' : 'none';\n",
              "\n",
              "        async function convertToInteractive(key) {\n",
              "          const element = document.querySelector('#df-f55d15d8-cc1b-4ee9-bb9f-67e46d4b2551');\n",
              "          const dataTable =\n",
              "            await google.colab.kernel.invokeFunction('convertToInteractive',\n",
              "                                                     [key], {});\n",
              "          if (!dataTable) return;\n",
              "\n",
              "          const docLinkHtml = 'Like what you see? Visit the ' +\n",
              "            '<a target=\"_blank\" href=https://colab.research.google.com/notebooks/data_table.ipynb>data table notebook</a>'\n",
              "            + ' to learn more about interactive tables.';\n",
              "          element.innerHTML = '';\n",
              "          dataTable['output_type'] = 'display_data';\n",
              "          await google.colab.output.renderOutput(dataTable, element);\n",
              "          const docLink = document.createElement('div');\n",
              "          docLink.innerHTML = docLinkHtml;\n",
              "          element.appendChild(docLink);\n",
              "        }\n",
              "      </script>\n",
              "    </div>\n",
              "  </div>\n",
              "  "
            ],
            "text/plain": [
              "   YY1  Y1         WGT09  AGE07  ...  RT07  RiskFree09  Risky09      RT09\n",
              "0    1  11  11668.134198     47  ...   0.0       16000    17000  0.330422\n",
              "1    1  12  11823.456494     47  ...   0.0       19000    18000  0.312036\n",
              "2    1  13  11913.228354     47  ...   0.0       13000    12000  0.307876\n",
              "3    1  14  11929.394266     47  ...   0.0       25000    13000  0.219429\n",
              "4    1  15  11917.722907     47  ...   0.0       17000    12000  0.265410\n",
              "\n",
              "[5 rows x 521 columns]"
            ]
          },
          "metadata": {},
          "execution_count": 7
        }
      ]
    },
    {
      "cell_type": "markdown",
      "source": [
        "Calculemos la variación porcentual de la tolerancia al riesgo entre 2007 y 2009."
      ],
      "metadata": {
        "id": "m-dtfwyBSu43"
      }
    },
    {
      "cell_type": "code",
      "source": [
        "dataset2['PercentageChange'] = np.abs(dataset2['RT09']/dataset2['RT07']-1)"
      ],
      "metadata": {
        "id": "YhxayHg7SlOc"
      },
      "execution_count": null,
      "outputs": []
    },
    {
      "cell_type": "markdown",
      "source": [
        "* Comprobación de las filas con valores nulos o nan y eliminación de las mismas."
      ],
      "metadata": {
        "id": "ExnqFa0zUAsm"
      }
    },
    {
      "cell_type": "code",
      "source": [
        "# Comprobación de los valores nulos y eliminación de los mismos'''\n",
        "print('Null Values =',dataset2.isnull().values.any())"
      ],
      "metadata": {
        "colab": {
          "base_uri": "https://localhost:8080/"
        },
        "id": "c58bw830TjtY",
        "outputId": "98462ffe-7d35-4dfa-ddee-67cdf9e00b75"
      },
      "execution_count": null,
      "outputs": [
        {
          "output_type": "stream",
          "name": "stdout",
          "text": [
            "Null Values = True\n"
          ]
        }
      ]
    },
    {
      "cell_type": "code",
      "source": [
        "# Eliminar las filas que contienen NA\n",
        "dataset2=dataset2.dropna(axis=0)\n",
        "\n",
        "dataset2=dataset2[~dataset2.isin([np.nan, np.inf, -np.inf]).any(1)]\n",
        "\n",
        "# Comprobación de los valores nulos y eliminación de los mismos'''\n",
        "print('Null Values =',dataset2.isnull().values.any())"
      ],
      "metadata": {
        "colab": {
          "base_uri": "https://localhost:8080/"
        },
        "id": "cfGegmIdUVsF",
        "outputId": "a7b8f62a-13ee-4ec4-dbc0-08f914bf7f97"
      },
      "execution_count": null,
      "outputs": [
        {
          "output_type": "stream",
          "name": "stdout",
          "text": [
            "Null Values = False\n"
          ]
        }
      ]
    },
    {
      "cell_type": "markdown",
      "source": [
        "* Graficamos la tolerancia al riesgo de 2007 y 2009."
      ],
      "metadata": {
        "id": "uhCsqM--Upto"
      }
    },
    {
      "cell_type": "code",
      "source": [
        "plt.figure(figsize=(10,6))\n",
        "sns.distplot(dataset2['RT07'], hist=True, kde=False, \n",
        "             bins=int(180/5), color = 'blue',\n",
        "             hist_kws={'edgecolor':'black'})"
      ],
      "metadata": {
        "colab": {
          "base_uri": "https://localhost:8080/",
          "height": 406
        },
        "id": "SVtHjZN1UlpV",
        "outputId": "5214a533-09d2-47f3-9e59-de1966706660"
      },
      "execution_count": null,
      "outputs": [
        {
          "output_type": "execute_result",
          "data": {
            "text/plain": [
              "<matplotlib.axes._subplots.AxesSubplot at 0x7f4b744916d0>"
            ]
          },
          "metadata": {},
          "execution_count": 11
        },
        {
          "output_type": "display_data",
          "data": {
            "image/png": "[encoded data removed]",
            "text/plain": [
              "<Figure size 720x432 with 1 Axes>"
            ]
          },
          "metadata": {
            "needs_background": "light"
          }
        }
      ]
    },
    {
      "cell_type": "markdown",
      "source": [
        "* Si observamos la tolerancia al riesgo de 2007, vemos que un número significativo de individuos tenía una tolerancia al riesgo cercana a uno, lo que significa que la inversión estaba más sesgada hacia los activos de riesgo en comparación con los activos sin riesgo. Ahora veamos la tolerancia al riesgo de 2009."
      ],
      "metadata": {
        "id": "lg0NGGB9W4gC"
      }
    },
    {
      "cell_type": "code",
      "source": [
        "plt.figure(figsize=(10,6))\n",
        "sns.distplot(dataset2['RT09'], hist=True, kde=False, \n",
        "             bins=int(180/5), color = 'blue',\n",
        "             hist_kws={'edgecolor':'black'})"
      ],
      "metadata": {
        "colab": {
          "base_uri": "https://localhost:8080/",
          "height": 406
        },
        "id": "INStJi7hU6ci",
        "outputId": "fcf85e2a-1da2-4e90-bdf4-18b4a8513bb6"
      },
      "execution_count": null,
      "outputs": [
        {
          "output_type": "execute_result",
          "data": {
            "text/plain": [
              "<matplotlib.axes._subplots.AxesSubplot at 0x7f4b744a9550>"
            ]
          },
          "metadata": {},
          "execution_count": 12
        },
        {
          "output_type": "display_data",
          "data": {
            "image/png": "[encoded data removed]",
            "text/plain": [
              "<Figure size 720x432 with 1 Axes>"
            ]
          },
          "metadata": {
            "needs_background": "light"
          }
        }
      ]
    },
    {
      "cell_type": "code",
      "source": [
        "dataset3 = copy.deepcopy(dataset2)  "
      ],
      "metadata": {
        "id": "8lDtBaPJXFdP"
      },
      "execution_count": null,
      "outputs": []
    },
    {
      "cell_type": "markdown",
      "source": [
        "* Claramente, el comportamiento de los individuos se invirtió en 2009 después de la crisis y la mayoría de la inversión fue en activos sin riesgo. La tolerancia al riesgo en general disminuyó, lo que se demuestra por el hecho de que la mayoría de la tolerancia al riesgo se acercó a 0 en 2009. En el siguiente paso elegimos a los inversores inteligentes cuya variación de la tolerancia al riesgo entre 2007 y 2009 fue inferior al 10%.\n"
      ],
      "metadata": {
        "id": "IypXHSqRXPli"
      }
    },
    {
      "cell_type": "code",
      "source": [
        "dataset3 = dataset3[dataset3['PercentageChange']<=.1]"
      ],
      "metadata": {
        "id": "Cj_TLe-jXOtZ"
      },
      "execution_count": null,
      "outputs": []
    },
    {
      "cell_type": "markdown",
      "source": [
        "* Asignamos la verdadera tolerancia al riesgo como la tolerancia al riesgo media de estos inversores inteligentes entre 2007 y 2009. Esta es la variable predicha para este estudio de caso. El objetivo sería predecir la verdadera tolerancia al riesgo de un individuo teniendo en cuenta las características demográficas, financieras y de disposición a asumir riesgos."
      ],
      "metadata": {
        "id": "3Etv_WYnlLhF"
      }
    },
    {
      "cell_type": "code",
      "source": [
        "dataset3['TrueRiskTolerance'] = (dataset3['RT07'] + dataset3['RT09'])/2"
      ],
      "metadata": {
        "id": "hLydHjyOlBns"
      },
      "execution_count": null,
      "outputs": []
    },
    {
      "cell_type": "markdown",
      "source": [
        "* Dejemos de lado otras etiquetas que podrían no ser necesarias para la predicción."
      ],
      "metadata": {
        "id": "rQ9PomTFlVeM"
      }
    },
    {
      "cell_type": "code",
      "source": [
        "dataset3.drop(labels=['RT07', 'RT09'], axis=1, inplace=True)\n",
        "dataset3.drop(labels=['PercentageChange'], axis=1, inplace=True)"
      ],
      "metadata": {
        "id": "sXmKPQfxlPJ7"
      },
      "execution_count": null,
      "outputs": []
    },
    {
      "cell_type": "markdown",
      "source": [
        "<a id='2.2'></a>\n",
        "## 3.2. Feature Selection-Limit the Feature Space "
      ],
      "metadata": {
        "id": "5qcQgBNgldvL"
      }
    },
    {
      "cell_type": "markdown",
      "source": [
        "<a id='2.2.2'></a>\n",
        "### 3.2.2.  Features elimination"
      ],
      "metadata": {
        "id": "_1gNh7szleEa"
      }
    },
    {
      "cell_type": "markdown",
      "source": [
        "*Para filtrar más las características hacemos lo siguiente:*\n",
        "\n",
        "1.Comprobamos la descripción en el diccionario de datos (https://www.federalreserve.gov/econres/files/codebk2009p.txt, https://www.federalreserve.gov/econresdata/scf/files/fedstables.macro.txt) y mantenemos sólo las características que sean intuitivas. La descripción es la siguiente:\n",
        "\n",
        "**AGE:**  Hay 6 categorías de edad, donde 1 representa la edad inferior a 35 años y 6 la edad superior a 75 años.\n",
        "\n",
        "**EDUC:** Hay 4 categorías de educación, donde 1 representa no tener estudios secundarios y 4 representa el grado universitario.\n",
        "\n",
        "**MARRIED:** Representa el estado civil. Hay dos categorías donde 1 representa casado y 2 representa soltero.\n",
        "\n",
        "**OCCU:** Representa la categoría de ocupación. El 1 representa la categoría de directivo y el 4 la de desempleado.\n",
        "\n",
        "**KIDS:** Representa el número de hijos.\n",
        "\n",
        "**NWCAT:** Representa la categoría de patrimonio neto. Hay 5 categorías, en las que 1 representa el patrimonio neto inferior al 25 por ciento y 5 el patrimonio neto superior al 90 por ciento.\n",
        "\n",
        "**INCCL:** Representa la categoría de ingresos. Hay 5 categorías, en las que 1 es la de ingresos inferiores a 10.000 y 5 la de patrimonio neto superior a 100.000.\n",
        "\n",
        "**RISK:** Representa la disposición a asumir riesgos en una escala de 1 a 4, donde 1 representa el mayor nivel de disposición a asumir riesgos.\n",
        "\n",
        "1.Mantenemos sólo los factores intuitivos de 2007 y eliminamos todas las características intermedias y las relacionadas con 2009, ya que las variables de 2007 son las únicas necesarias para predecir la tolerancia al riesgo."
      ],
      "metadata": {
        "id": "WOOEU_TD1kFi"
      }
    },
    {
      "cell_type": "code",
      "source": [
        "keep_list2 = ['AGE07','EDCL07','MARRIED07','KIDS07','OCCAT107','INCOME07','RISK07','NETWORTH07','TrueRiskTolerance']\n",
        "\n",
        "drop_list2 = [col for col in dataset3.columns if col not in keep_list2]\n",
        "\n",
        "dataset3.drop(labels=drop_list2, axis=1, inplace=True)"
      ],
      "metadata": {
        "id": "-vufdY95lYzx"
      },
      "execution_count": null,
      "outputs": []
    },
    {
      "cell_type": "markdown",
      "source": [
        "* Veamos la correlación entre las características."
      ],
      "metadata": {
        "id": "qofHZb7s4BXJ"
      }
    },
    {
      "cell_type": "code",
      "source": [
        "# correlacion\n",
        "correlation = dataset3.corr()\n",
        "plt.figure(figsize=(15,15))\n",
        "plt.title('Correlation Matrix')\n",
        "sns.heatmap(correlation, vmax=1, square=True,annot=True,cmap='cubehelix')"
      ],
      "metadata": {
        "colab": {
          "base_uri": "https://localhost:8080/",
          "height": 892
        },
        "id": "XZpUBj9Z38KR",
        "outputId": "da2a76a4-a10a-40c0-b8bd-c47a5406404f"
      },
      "execution_count": null,
      "outputs": [
        {
          "output_type": "execute_result",
          "data": {
            "text/plain": [
              "<matplotlib.axes._subplots.AxesSubplot at 0x7f4b83bd2b90>"
            ]
          },
          "metadata": {},
          "execution_count": 18
        },
        {
          "output_type": "display_data",
          "data": {
            "image/png": "[encoded data removed]",
            "text/plain": [
              "<Figure size 1080x1080 with 2 Axes>"
            ]
          },
          "metadata": {
            "needs_background": "light"
          }
        }
      ]
    },
    {
      "cell_type": "markdown",
      "source": [
        "* El patrimonio neto y los ingresos estan positivamente correlacionados con la tolerancia al riesgo.\n",
        "* Con un mayor numero de hijos y el matrimonio, la tolerancia al riesgo disminuye.\n",
        "* A medida que disminuye la disposicion a asumir riesgos, disminuye la tolerancia al riesgo.\n",
        "* Con la edad existe una relacion positiva de la tolerancia al riesgo."
      ],
      "metadata": {
        "id": "-9CiBhqZ4M0r"
      }
    },
    {
      "cell_type": "code",
      "source": [
        "plt.figure(figsize=(7,7))\n",
        "sns.pairplot(dataset3)\n",
        "plt.show()"
      ],
      "metadata": {
        "colab": {
          "base_uri": "https://localhost:8080/",
          "height": 1000
        },
        "id": "CM7JI3Li4y-n",
        "outputId": "2e724b3a-0d82-4637-e806-3dadf904ed49"
      },
      "execution_count": null,
      "outputs": [
        {
          "output_type": "display_data",
          "data": {
            "text/plain": [
              "<Figure size 504x504 with 0 Axes>"
            ]
          },
          "metadata": {}
        },
        {
          "output_type": "display_data",
          "data": {
            "image/png": "[encoded data removed]",
            "text/plain": [
              "<Figure size 1620x1620 with 90 Axes>"
            ]
          },
          "metadata": {
            "needs_background": "light"
          }
        }
      ]
    },
    {
      "cell_type": "markdown",
      "source": [
        "* Todas las variables y su relación con la tolerancia al riesgo parecen intuitivas."
      ],
      "metadata": {
        "id": "g65Vl4uB8hVn"
      }
    },
    {
      "cell_type": "markdown",
      "source": [
        "<a id='4'></a>\n",
        "# 4. Evaluate Algorithms and Models"
      ],
      "metadata": {
        "id": "uM-cJD148oKK"
      }
    },
    {
      "cell_type": "markdown",
      "source": [
        "<a id='4.1'></a>\n",
        "## 4.1. Train Test Split\n",
        "Evaluemos los algoritmos y los modelos."
      ],
      "metadata": {
        "id": "T0CacUH88pdQ"
      }
    },
    {
      "cell_type": "code",
      "source": [
        "# dividir el conjunto de datos de validación para el final\n",
        "Y= dataset3[\"TrueRiskTolerance\"]\n",
        "X = dataset3.loc[:, dataset3.columns != 'TrueRiskTolerance']\n",
        "# scaler = StandardScaler().fit(X)\n",
        "# rescaledX = scaler.transform(X)\n",
        "validation_size = 0.2\n",
        "seed = 3\n",
        "X_train, X_validation, Y_train, Y_validation = train_test_split(X, Y, test_size=validation_size, random_state=seed)"
      ],
      "metadata": {
        "id": "_h558u3u8sFk"
      },
      "execution_count": null,
      "outputs": []
    },
    {
      "cell_type": "markdown",
      "source": [
        "<a id='4.2'></a>\n",
        "## 4.2. Test Options and Evaluation Metrics"
      ],
      "metadata": {
        "id": "3AuQmNCZ9AIT"
      }
    },
    {
      "cell_type": "code",
      "source": [
        "# opciones de prueba para la regresión\n",
        "num_folds = 10\n",
        "#scoring = 'neg_mean_squared_error'\n",
        "#scoring ='neg_mean_absolute_error'\n",
        "scoring = 'r2'"
      ],
      "metadata": {
        "id": "yU3SRb2b9CUC"
      },
      "execution_count": null,
      "outputs": []
    },
    {
      "cell_type": "markdown",
      "source": [
        "<a id='4.3'></a>\n",
        "## 4.3. Compare Models and Algorithms"
      ],
      "metadata": {
        "id": "Q4XtzE1G9OEH"
      }
    },
    {
      "cell_type": "code",
      "source": [
        "# comprobar los algoritmos \n",
        "models = []\n",
        "\n",
        "models.append(('LR', LinearRegression()))\n",
        "models.append(('LASSO', Lasso()))\n",
        "models.append(('EN', ElasticNet()))\n",
        "models.append(('KNN', KNeighborsRegressor()))\n",
        "models.append(('CART', DecisionTreeRegressor()))\n",
        "models.append(('SVR', SVR()))\n",
        "\n",
        "#Neural Network\n",
        "#models.append(('MLP', MLPRegressor()))\n",
        "\n",
        "#Ensable Models \n",
        "# Boosting methods\n",
        "models.append(('ABR', AdaBoostRegressor()))\n",
        "models.append(('GBR', GradientBoostingRegressor()))\n",
        "# Bagging methods\n",
        "models.append(('RFR', RandomForestRegressor()))\n",
        "models.append(('ETR', ExtraTreesRegressor()))"
      ],
      "metadata": {
        "id": "bt9y7HLE89hN"
      },
      "execution_count": null,
      "outputs": []
    },
    {
      "cell_type": "markdown",
      "source": [
        ""
      ],
      "metadata": {
        "id": "uOLHryNw9pIC"
      }
    },
    {
      "cell_type": "code",
      "source": [
        "results = []\n",
        "names = []\n",
        "for name, model in models:\n",
        "    kfold = KFold(n_splits=num_folds, random_state=seed, shuffle=True)\n",
        "    #converted mean square error to positive. The lower the beter\n",
        "    cv_results = -1* cross_val_score(model, X_train, Y_train, cv=kfold, scoring=scoring)\n",
        "    results.append(cv_results)\n",
        "    names.append(name)\n",
        "    msg = \"%s: %f (%f)\" % (name, cv_results.mean(), cv_results.std())\n",
        "    print(msg)"
      ],
      "metadata": {
        "colab": {
          "base_uri": "https://localhost:8080/"
        },
        "id": "cuT4rAfV9fG9",
        "outputId": "c7647813-1ef6-42eb-a8f0-c43774f8a726"
      },
      "execution_count": null,
      "outputs": [
        {
          "output_type": "stream",
          "name": "stdout",
          "text": [
            "LR: -0.102704 (0.179297)\n",
            "LASSO: -0.041555 (0.109033)\n",
            "EN: -0.047729 (0.108990)\n",
            "KNN: -0.424599 (0.141428)\n",
            "CART: -0.582327 (0.243575)\n",
            "SVR: -0.127821 (0.100887)\n",
            "ABR: -0.376187 (0.128370)\n",
            "GBR: -0.621187 (0.140844)\n",
            "RFR: -0.716324 (0.107082)\n",
            "ETR: -0.708728 (0.153399)\n"
          ]
        }
      ]
    },
    {
      "cell_type": "markdown",
      "source": [
        "### Algorithm comparison"
      ],
      "metadata": {
        "id": "PUhxv5XH9rmM"
      }
    },
    {
      "cell_type": "code",
      "source": [
        "# comparar algoritmos\n",
        "fig = plt.figure()\n",
        "fig.suptitle('Algorithm Comparison')\n",
        "ax = fig.add_subplot(111)\n",
        "plt.boxplot(results)\n",
        "ax.set_xticklabels(names)\n",
        "fig.set_size_inches(15,8)\n",
        "plt.show()"
      ],
      "metadata": {
        "colab": {
          "base_uri": "https://localhost:8080/",
          "height": 540
        },
        "id": "pSIIRJzK9kNa",
        "outputId": "99cfc9ee-d7dc-4d49-a7d4-e48ac947860a"
      },
      "execution_count": null,
      "outputs": [
        {
          "output_type": "display_data",
          "data": {
            "image/png": "[encoded data removed]",
            "text/plain": [
              "<Figure size 1080x576 with 1 Axes>"
            ]
          },
          "metadata": {
            "needs_background": "light"
          }
        }
      ]
    },
    {
      "cell_type": "markdown",
      "source": [
        "* Los modelos no lineales obtienen mejores resultados que los modelos lineales, lo que significa que se utiliza una relación no lineal entre la tolerancia al riesgo y las variables de diferencia para predecirla. Dado que la regresión de bosque aleatorio es uno de los mejores métodos, lo utilizamos para seguir buscando en la red."
      ],
      "metadata": {
        "id": "N7HaMlMh-C84"
      }
    },
    {
      "cell_type": "markdown",
      "source": [
        "<a id='5'></a>\n",
        "# 5. Model Tuning and Grid Search"
      ],
      "metadata": {
        "id": "5NSOCy_rZ4AR"
      }
    },
    {
      "cell_type": "code",
      "source": [
        "# 8. Grid search : RandomForestRegressor \n",
        "'''\n",
        "n_estimators : entero, opcional (por defecto=10)\n",
        "    El número de árboles en el bosque.\n",
        "'''\n",
        "param_grid = {'n_estimators': [50,100,150,200,250,300,350,400]}\n",
        "model = RandomForestRegressor()\n",
        "kfold = KFold(n_splits=num_folds, random_state=seed, shuffle=True)\n",
        "grid = GridSearchCV(estimator=model, param_grid=param_grid, scoring=scoring, cv=kfold)\n",
        "grid_result = grid.fit(X_train, Y_train)\n",
        "print(\"Best: %f using %s\" % (grid_result.best_score_, grid_result.best_params_))\n",
        "means = grid_result.cv_results_['mean_test_score']\n",
        "stds = grid_result.cv_results_['std_test_score']\n",
        "params = grid_result.cv_results_['params']\n",
        "for mean, stdev, param in zip(means, stds, params):\n",
        "    print(\"%f (%f) with: %r\" % (mean, stdev, param))"
      ],
      "metadata": {
        "id": "Np7e6HoG9zX6",
        "colab": {
          "base_uri": "https://localhost:8080/"
        },
        "outputId": "f8f53b57-7297-40bb-901e-e66f3c974ff1"
      },
      "execution_count": null,
      "outputs": [
        {
          "output_type": "stream",
          "name": "stdout",
          "text": [
            "Best: 0.712349 using {'n_estimators': 100}\n",
            "0.705973 (0.108962) with: {'n_estimators': 50}\n",
            "0.712349 (0.096629) with: {'n_estimators': 100}\n",
            "0.711725 (0.108148) with: {'n_estimators': 150}\n",
            "0.705290 (0.106737) with: {'n_estimators': 200}\n",
            "0.707641 (0.108760) with: {'n_estimators': 250}\n",
            "0.710719 (0.104997) with: {'n_estimators': 300}\n",
            "0.708874 (0.103594) with: {'n_estimators': 350}\n",
            "0.711944 (0.100753) with: {'n_estimators': 400}\n"
          ]
        }
      ]
    },
    {
      "cell_type": "markdown",
      "source": [
        "* El bosque aleatorio con un número de estimadores de 100, es el mejor modelo después de la búsqueda en la cuadrícula."
      ],
      "metadata": {
        "id": "NfGkvwL0amPV"
      }
    },
    {
      "cell_type": "markdown",
      "source": [
        "<a id='6'></a>\n",
        "# 6. Finalise the Model"
      ],
      "metadata": {
        "id": "LWWNZfBVa28v"
      }
    },
    {
      "cell_type": "markdown",
      "source": [
        "<a id='6.1'></a>\n",
        "## 6.1. Results on the Test Dataset"
      ],
      "metadata": {
        "id": "N7zXNTL3a4tv"
      }
    },
    {
      "cell_type": "code",
      "source": [
        "# preparar el modelo\n",
        "model = RandomForestRegressor(n_estimators = 100)\n",
        "model.fit(X_train, Y_train)"
      ],
      "metadata": {
        "colab": {
          "base_uri": "https://localhost:8080/"
        },
        "id": "F1fw1mtxa5Gl",
        "outputId": "638e82ef-b14b-4a18-8268-937449d53838"
      },
      "execution_count": null,
      "outputs": [
        {
          "output_type": "execute_result",
          "data": {
            "text/plain": [
              "RandomForestRegressor()"
            ]
          },
          "metadata": {},
          "execution_count": 26
        }
      ]
    },
    {
      "cell_type": "code",
      "source": [
        "from sklearn.metrics import r2_score\n",
        "predictions_train = model.predict(X_train)\n",
        "print(r2_score(Y_train, predictions_train))"
      ],
      "metadata": {
        "colab": {
          "base_uri": "https://localhost:8080/"
        },
        "id": "1yg5M_r0bCJ9",
        "outputId": "7291c6fb-2d9a-4f4d-d0a6-33855cbcdd9a"
      },
      "execution_count": null,
      "outputs": [
        {
          "output_type": "stream",
          "name": "stdout",
          "text": [
            "0.963380208622111\n"
          ]
        }
      ]
    },
    {
      "cell_type": "code",
      "source": [
        "# estimar la precisión en el conjunto de validación\n",
        "# transformar el conjunto de datos de validación\n",
        "from sklearn.metrics import mean_squared_error\n",
        "from sklearn.metrics import r2_score\n",
        "#rescaledValidationX = scaler.transform(X_validation)\n",
        "predictions = model.predict(X_validation)\n",
        "print(mean_squared_error(Y_validation, predictions))\n",
        "print(r2_score(Y_validation, predictions))"
      ],
      "metadata": {
        "colab": {
          "base_uri": "https://localhost:8080/"
        },
        "id": "M96wOrk9bGNv",
        "outputId": "631aa170-b111-4ee8-bc3e-01cad08d2064"
      },
      "execution_count": null,
      "outputs": [
        {
          "output_type": "stream",
          "name": "stdout",
          "text": [
            "0.006956953572839517\n",
            "0.7867361858826243\n"
          ]
        }
      ]
    },
    {
      "cell_type": "markdown",
      "source": [
        "* A partir del error cuadrático medio y el R2 mostrados anteriormente para el conjunto de pruebas, los resultados parecen buenos"
      ],
      "metadata": {
        "id": "RnVPT2wybacA"
      }
    },
    {
      "cell_type": "markdown",
      "source": [
        "<a id='6.2'></a>\n",
        "## 6.2. Feature Importance and Features Intuition\n",
        "Si observamos los detalles anteriores, el bosque aleatorio merece un estudio más profundo. Veamos la importancia de las características del modelo RF"
      ],
      "metadata": {
        "id": "5J7SM0vgbepR"
      }
    },
    {
      "cell_type": "code",
      "source": [
        "import pandas as pd\n",
        "import numpy as np\n",
        "model = RandomForestRegressor(n_estimators= 100,n_jobs=-1)\n",
        "model.fit(X_train,Y_train)\n",
        "print(model.feature_importances_) # utilizar la clase incorporada feature_importances de los clasificadores basados en árboles\n",
        "\n",
        "# trazar un gráfico de la importancia de las características para una mejor visualización\n",
        "feat_importances = pd.Series(model.feature_importances_, index=X.columns)\n",
        "plt.figure(figsize=(10,7))\n",
        "feat_importances.nlargest(10).plot(kind='barh')\n",
        "plt.show()"
      ],
      "metadata": {
        "colab": {
          "base_uri": "https://localhost:8080/",
          "height": 465
        },
        "id": "H4AZ07X-bSmP",
        "outputId": "4f9b6a87-f78d-4789-ad79-2bb913b217da"
      },
      "execution_count": null,
      "outputs": [
        {
          "output_type": "stream",
          "name": "stdout",
          "text": [
            "[0.21489753 0.0244694  0.01370608 0.04866335 0.02505994 0.23085275\n",
            " 0.05576272 0.38658822]\n"
          ]
        },
        {
          "output_type": "display_data",
          "data": {
            "image/png": "[encoded data removed]",
            "text/plain": [
              "<Figure size 720x504 with 1 Axes>"
            ]
          },
          "metadata": {
            "needs_background": "light"
          }
        }
      ]
    },
    {
      "cell_type": "markdown",
      "source": [
        "* Según el gráfico anterior, los ingresos y el patrimonio neto, seguidos de la edad y la disposición a asumir riesgos, son las variables clave para decidir la tolerancia al riesgo. Estas variables han sido consideradas como las principales para modelar la tolerancia al riesgo en varias publicaciones."
      ],
      "metadata": {
        "id": "DDGq1VJYcTIB"
      }
    },
    {
      "cell_type": "markdown",
      "source": [
        "<a id='6.3'></a>\n",
        "## 6.3. Save Model for Later Use"
      ],
      "metadata": {
        "id": "igTH8Munca8h"
      }
    },
    {
      "cell_type": "code",
      "source": [
        "# Guardar el modelo usando Pickle\n",
        "from pickle import dump\n",
        "from pickle import load\n",
        "\n",
        "# guardar el modelo en el disco\n",
        "filename = 'finalized_model.sav'\n",
        "dump(model, open(filename, 'wb'))"
      ],
      "metadata": {
        "id": "qsRRuV8gcEhL"
      },
      "execution_count": null,
      "outputs": []
    },
    {
      "cell_type": "code",
      "source": [
        "# cargar el modelo desde el disco\n",
        "loaded_model = load(open(filename, 'rb'))\n",
        "\n",
        "# estimar la precisión en el conjunto de validación\n",
        "predictions = loaded_model.predict(X_validation)\n",
        "result = mean_squared_error(Y_validation, predictions)\n",
        "print(r2_score(Y_validation, predictions))\n",
        "print(result)"
      ],
      "metadata": {
        "colab": {
          "base_uri": "https://localhost:8080/"
        },
        "id": "2Yca4wMrcqoY",
        "outputId": "b17c94b1-7d4b-4eed-e6f6-246c0c8f6102"
      },
      "execution_count": null,
      "outputs": [
        {
          "output_type": "stream",
          "name": "stdout",
          "text": [
            "0.7575896756829157\n",
            "0.007907752090201052\n"
          ]
        }
      ]
    },
    {
      "cell_type": "markdown",
      "source": [
        "## **Conclusión:**\n",
        "\n",
        "Demostramos que los modelos de aprendizaje automático podrían ser capaces de analizar objetivamente el comportamiento de los distintos inversores en un mercado cambiante y atribuir estos cambios a las variables que intervienen en la determinación del apetito por el riesgo. Con el aumento del volumen de datos de los inversores y la disponibilidad de una rica infraestructura de aprendizaje automático, estos modelos podrían resultar más útiles.\n",
        "\n",
        "Existe una relación no lineal entre las variables y la tolerancia al riesgo. Los ingresos y el patrimonio neto, seguidos de la edad y la disposición a asumir riesgos, son las variables clave para decidir la tolerancia al riesgo. Estas variables han sido consideradas como las más importantes para modelar la tolerancia al riesgo en varias publicaciones."
      ],
      "metadata": {
        "id": "BCHSWOMsdDJ9"
      }
    },
    {
      "cell_type": "markdown",
      "source": [
        "# **Robo Advisor - Dashboard**"
      ],
      "metadata": {
        "id": "cqH6nEM5gIkn"
      }
    },
    {
      "cell_type": "markdown",
      "source": [
        "## Content\n",
        "* [1. Carga de las Bibliotecas y los datos](#1)\n",
        "* [2. Código para la interfaz del cuadro de mandos](#2)\n",
        "* [3. Código para las funciones subyacentes dentro de la interfaz](#3)"
      ],
      "metadata": {
        "id": "5vxuQIuDgPF2"
      }
    },
    {
      "cell_type": "markdown",
      "source": [
        "<a id='1'></a>\n",
        "## 1. Loading the Libraries and the data"
      ],
      "metadata": {
        "id": "ZKRf1i56gaEQ"
      }
    },
    {
      "cell_type": "code",
      "source": [
        "import pkg_resources\n",
        "import pip\n",
        "installedPackages = {pkg.key for pkg in pkg_resources.working_set}\n",
        "required = {'dash', 'dash-core-components', 'dash-html-components', 'dash-daq', 'cvxopt' }\n",
        "missing = required - installedPackages\n",
        "if missing:\n",
        "    !pip install dash==1.9.1\n",
        "    !pip install dash-core-components==1.8.1\n",
        "    !pip install dash-html-components==1.0.2\n",
        "    !pip install dash-daq==0.4.0\n",
        "    !pip install cvxopt==1.2.5"
      ],
      "metadata": {
        "colab": {
          "base_uri": "https://localhost:8080/",
          "height": 1000
        },
        "id": "3JXKZMujc20E",
        "outputId": "bca59fd9-0a14-436c-b837-6b9b05905384"
      },
      "execution_count": null,
      "outputs": [
        {
          "output_type": "stream",
          "name": "stdout",
          "text": [
            "Collecting dash==1.9.1\n",
            "  Downloading dash-1.9.1.tar.gz (64 kB)\n",
            "\u001b[?25l\r\u001b[K     |█████                           | 10 kB 17.2 MB/s eta 0:00:01\r\u001b[K     |██████████▏                     | 20 kB 14.4 MB/s eta 0:00:01\r\u001b[K     |███████████████▎                | 30 kB 9.7 MB/s eta 0:00:01\r\u001b[K     |████████████████████▍           | 40 kB 8.0 MB/s eta 0:00:01\r\u001b[K     |█████████████████████████▌      | 51 kB 4.7 MB/s eta 0:00:01\r\u001b[K     |██████████████████████████████▋ | 61 kB 4.9 MB/s eta 0:00:01\r\u001b[K     |████████████████████████████████| 64 kB 1.6 MB/s \n",
            "\u001b[?25hRequirement already satisfied: Flask>=1.0.2 in /usr/local/lib/python3.7/dist-packages (from dash==1.9.1) (1.1.4)\n",
            "Collecting flask-compress\n",
            "  Downloading Flask_Compress-1.10.1-py3-none-any.whl (7.9 kB)\n",
            "Requirement already satisfied: plotly in /usr/local/lib/python3.7/dist-packages (from dash==1.9.1) (4.4.1)\n",
            "Collecting dash_renderer==1.2.4\n",
            "  Downloading dash_renderer-1.2.4.tar.gz (1.1 MB)\n",
            "\u001b[K     |████████████████████████████████| 1.1 MB 8.9 MB/s \n",
            "\u001b[?25hCollecting dash-core-components==1.8.1\n",
            "  Downloading dash_core_components-1.8.1.tar.gz (3.3 MB)\n",
            "\u001b[K     |████████████████████████████████| 3.3 MB 33.2 MB/s \n",
            "\u001b[?25hCollecting dash-html-components==1.0.2\n",
            "  Downloading dash_html_components-1.0.2.tar.gz (187 kB)\n",
            "\u001b[K     |████████████████████████████████| 187 kB 48.0 MB/s \n",
            "\u001b[?25hCollecting dash-table==4.6.1\n",
            "  Downloading dash_table-4.6.1.tar.gz (1.8 MB)\n",
            "\u001b[K     |████████████████████████████████| 1.8 MB 40.9 MB/s \n",
            "\u001b[?25hRequirement already satisfied: future in /usr/local/lib/python3.7/dist-packages (from dash==1.9.1) (0.16.0)\n",
            "Requirement already satisfied: Werkzeug<2.0,>=0.15 in /usr/local/lib/python3.7/dist-packages (from Flask>=1.0.2->dash==1.9.1) (1.0.1)\n",
            "Requirement already satisfied: itsdangerous<2.0,>=0.24 in /usr/local/lib/python3.7/dist-packages (from Flask>=1.0.2->dash==1.9.1) (1.1.0)\n",
            "Requirement already satisfied: click<8.0,>=5.1 in /usr/local/lib/python3.7/dist-packages (from Flask>=1.0.2->dash==1.9.1) (7.1.2)\n",
            "Requirement already satisfied: Jinja2<3.0,>=2.10.1 in /usr/local/lib/python3.7/dist-packages (from Flask>=1.0.2->dash==1.9.1) (2.11.3)\n",
            "Requirement already satisfied: MarkupSafe>=0.23 in /usr/local/lib/python3.7/dist-packages (from Jinja2<3.0,>=2.10.1->Flask>=1.0.2->dash==1.9.1) (2.0.1)\n",
            "Collecting brotli\n",
            "  Downloading Brotli-1.0.9-cp37-cp37m-manylinux1_x86_64.whl (357 kB)\n",
            "\u001b[K     |████████████████████████████████| 357 kB 52.2 MB/s \n",
            "\u001b[?25hRequirement already satisfied: retrying>=1.3.3 in /usr/local/lib/python3.7/dist-packages (from plotly->dash==1.9.1) (1.3.3)\n",
            "Requirement already satisfied: six in /usr/local/lib/python3.7/dist-packages (from plotly->dash==1.9.1) (1.15.0)\n",
            "Building wheels for collected packages: dash, dash-core-components, dash-html-components, dash-renderer, dash-table\n",
            "  Building wheel for dash (setup.py) ... \u001b[?25l\u001b[?25hdone\n",
            "  Created wheel for dash: filename=dash-1.9.1-py3-none-any.whl size=71524 sha256=19ffbad4eabfafadc5e5ba5341e428f54298d5afb94ba214ade720b4cc11fa7c\n",
            "  Stored in directory: /root/.cache/pip/wheels/45/9c/48/ade935f76bd79a4dcccf402cf3599a26d4e5564c71ba33efbd\n",
            "  Building wheel for dash-core-components (setup.py) ... \u001b[?25l\u001b[?25hdone\n",
            "  Created wheel for dash-core-components: filename=dash_core_components-1.8.1-py3-none-any.whl size=3395723 sha256=984f3b0774237eb60d475fdadf1e1db9e32a4e10b282cfb591d1b6aaabee6b6a\n",
            "  Stored in directory: /root/.cache/pip/wheels/78/b8/b8/4cc057c729635376ba6b04618fca5a870671ae9bc18881231c\n",
            "  Building wheel for dash-html-components (setup.py) ... \u001b[?25l\u001b[?25hdone\n",
            "  Created wheel for dash-html-components: filename=dash_html_components-1.0.2-py3-none-any.whl size=427919 sha256=b31bc6a4ea22249da2381f8585e4761780d0c2f518741d95e5d8f3a2d5183661\n",
            "  Stored in directory: /root/.cache/pip/wheels/a6/d8/ef/32c8d935a11ddd862853d296a0963e7326fa10e7a14fe51343\n",
            "  Building wheel for dash-renderer (setup.py) ... \u001b[?25l\u001b[?25hdone\n",
            "  Created wheel for dash-renderer: filename=dash_renderer-1.2.4-py3-none-any.whl size=1146888 sha256=9f95bd0bc197b12c67fe75baac609ae8e7645351b84cf40641d319a3b2c5a509\n",
            "  Stored in directory: /root/.cache/pip/wheels/5a/12/e8/9920d4d2ceeb46831c85b42a1ffd58f4ed59e0178bc031e7f0\n",
            "  Building wheel for dash-table (setup.py) ... \u001b[?25l\u001b[?25hdone\n",
            "  Created wheel for dash-table: filename=dash_table-4.6.1-py3-none-any.whl size=1765781 sha256=150ceffcd48e3035acb744f749051fb77884061efa011b2d81e3e0edcf9d33bc\n",
            "  Stored in directory: /root/.cache/pip/wheels/47/6c/d0/48034b3cd336868328ecff4d9ef3e3a47cf2215bcb617bbd32\n",
            "Successfully built dash dash-core-components dash-html-components dash-renderer dash-table\n",
            "Installing collected packages: brotli, flask-compress, dash-table, dash-renderer, dash-html-components, dash-core-components, dash\n",
            "Successfully installed brotli-1.0.9 dash-1.9.1 dash-core-components-1.8.1 dash-html-components-1.0.2 dash-renderer-1.2.4 dash-table-4.6.1 flask-compress-1.10.1\n",
            "Requirement already satisfied: dash-core-components==1.8.1 in /usr/local/lib/python3.7/dist-packages (1.8.1)\n",
            "Requirement already satisfied: dash-html-components==1.0.2 in /usr/local/lib/python3.7/dist-packages (1.0.2)\n",
            "Collecting dash-daq==0.4.0\n",
            "  Downloading dash_daq-0.4.0.tar.gz (643 kB)\n",
            "\u001b[K     |████████████████████████████████| 643 kB 4.3 MB/s \n",
            "\u001b[?25hRequirement already satisfied: dash>=1.6.1 in /usr/local/lib/python3.7/dist-packages (from dash-daq==0.4.0) (1.9.1)\n",
            "Requirement already satisfied: plotly in /usr/local/lib/python3.7/dist-packages (from dash>=1.6.1->dash-daq==0.4.0) (4.4.1)\n",
            "Requirement already satisfied: dash-table==4.6.1 in /usr/local/lib/python3.7/dist-packages (from dash>=1.6.1->dash-daq==0.4.0) (4.6.1)\n",
            "Requirement already satisfied: dash-html-components==1.0.2 in /usr/local/lib/python3.7/dist-packages (from dash>=1.6.1->dash-daq==0.4.0) (1.0.2)\n",
            "Requirement already satisfied: future in /usr/local/lib/python3.7/dist-packages (from dash>=1.6.1->dash-daq==0.4.0) (0.16.0)\n",
            "Requirement already satisfied: dash-core-components==1.8.1 in /usr/local/lib/python3.7/dist-packages (from dash>=1.6.1->dash-daq==0.4.0) (1.8.1)\n",
            "Requirement already satisfied: dash-renderer==1.2.4 in /usr/local/lib/python3.7/dist-packages (from dash>=1.6.1->dash-daq==0.4.0) (1.2.4)\n",
            "Requirement already satisfied: Flask>=1.0.2 in /usr/local/lib/python3.7/dist-packages (from dash>=1.6.1->dash-daq==0.4.0) (1.1.4)\n",
            "Requirement already satisfied: flask-compress in /usr/local/lib/python3.7/dist-packages (from dash>=1.6.1->dash-daq==0.4.0) (1.10.1)\n",
            "Requirement already satisfied: click<8.0,>=5.1 in /usr/local/lib/python3.7/dist-packages (from Flask>=1.0.2->dash>=1.6.1->dash-daq==0.4.0) (7.1.2)\n",
            "Requirement already satisfied: Werkzeug<2.0,>=0.15 in /usr/local/lib/python3.7/dist-packages (from Flask>=1.0.2->dash>=1.6.1->dash-daq==0.4.0) (1.0.1)\n",
            "Requirement already satisfied: itsdangerous<2.0,>=0.24 in /usr/local/lib/python3.7/dist-packages (from Flask>=1.0.2->dash>=1.6.1->dash-daq==0.4.0) (1.1.0)\n",
            "Requirement already satisfied: Jinja2<3.0,>=2.10.1 in /usr/local/lib/python3.7/dist-packages (from Flask>=1.0.2->dash>=1.6.1->dash-daq==0.4.0) (2.11.3)\n",
            "Requirement already satisfied: MarkupSafe>=0.23 in /usr/local/lib/python3.7/dist-packages (from Jinja2<3.0,>=2.10.1->Flask>=1.0.2->dash>=1.6.1->dash-daq==0.4.0) (2.0.1)\n",
            "Requirement already satisfied: brotli in /usr/local/lib/python3.7/dist-packages (from flask-compress->dash>=1.6.1->dash-daq==0.4.0) (1.0.9)\n",
            "Requirement already satisfied: retrying>=1.3.3 in /usr/local/lib/python3.7/dist-packages (from plotly->dash>=1.6.1->dash-daq==0.4.0) (1.3.3)\n",
            "Requirement already satisfied: six in /usr/local/lib/python3.7/dist-packages (from plotly->dash>=1.6.1->dash-daq==0.4.0) (1.15.0)\n",
            "Building wheels for collected packages: dash-daq\n",
            "  Building wheel for dash-daq (setup.py) ... \u001b[?25l\u001b[?25hdone\n",
            "  Created wheel for dash-daq: filename=dash_daq-0.4.0-py3-none-any.whl size=662161 sha256=47a2a70994c12267a2f5bea65af36294f1429b17b5ad7500b8c83fffaa1f5cfb\n",
            "  Stored in directory: /root/.cache/pip/wheels/95/52/ac/c47bfd5e17f47c7268ba955e7e74aab870e590137dc6145c58\n",
            "Successfully built dash-daq\n",
            "Installing collected packages: dash-daq\n",
            "Successfully installed dash-daq-0.4.0\n",
            "Collecting cvxopt==1.2.5\n",
            "  Downloading cvxopt-1.2.5-cp37-cp37m-manylinux1_x86_64.whl (11.6 MB)\n",
            "\u001b[K     |████████████████████████████████| 11.6 MB 4.0 MB/s \n",
            "\u001b[?25hInstalling collected packages: cvxopt\n",
            "  Attempting uninstall: cvxopt\n",
            "    Found existing installation: cvxopt 1.2.7\n",
            "    Uninstalling cvxopt-1.2.7:\n",
            "      Successfully uninstalled cvxopt-1.2.7\n",
            "Successfully installed cvxopt-1.2.5\n"
          ]
        },
        {
          "output_type": "display_data",
          "data": {
            "application/vnd.colab-display-data+json": {
              "pip_warning": {
                "packages": [
                  "cvxopt",
                  "lapack"
                ]
              }
            }
          },
          "metadata": {}
        }
      ]
    },
    {
      "cell_type": "code",
      "source": [
        "import dash\n",
        "import dash_core_components as dcc\n",
        "import dash_html_components as html\n",
        "from dash.dependencies import Input,Output,State\n",
        "import pandas as pd\n",
        "import numpy as np\n",
        "import plotly.graph_objs as go\n",
        "import dash_daq as daq\n",
        "from pickle import load\n",
        "import cvxopt as opt\n",
        "from cvxopt import blas, solvers"
      ],
      "metadata": {
        "id": "MYm_NoVqgrEU"
      },
      "execution_count": null,
      "outputs": []
    },
    {
      "cell_type": "markdown",
      "source": [
        "### Load the data of the investors/individuals"
      ],
      "metadata": {
        "id": "cIkOZFVihCwE"
      }
    },
    {
      "cell_type": "code",
      "source": [
        "# df.head()\n",
        "raw = 'https://raw.githubusercontent.com/tatsath/fin-ml/master/Chapter%205%20-%20Sup.%20Learning%20-%20Regression%20and%20Time%20Series%20models/Case%20Study%203%20-%20Investor%20Risk%20Tolerance%20and%20Robo-advisors/InputData.csv'\n",
        "investors = pd.read_csv(raw, index_col = 0 )\n",
        "investors.head(1)"
      ],
      "metadata": {
        "colab": {
          "base_uri": "https://localhost:8080/",
          "height": 81
        },
        "id": "S3edVql1g6RQ",
        "outputId": "875ab629-6304-47bf-9a56-77702ce5279e"
      },
      "execution_count": null,
      "outputs": [
        {
          "output_type": "execute_result",
          "data": {
            "text/html": [
              "\n",
              "  <div id=\"df-fca8160c-820d-4838-9ebd-e9c48dd0c9e1\">\n",
              "    <div class=\"colab-df-container\">\n",
              "      <div>\n",
              "<style scoped>\n",
              "    .dataframe tbody tr th:only-of-type {\n",
              "        vertical-align: middle;\n",
              "    }\n",
              "\n",
              "    .dataframe tbody tr th {\n",
              "        vertical-align: top;\n",
              "    }\n",
              "\n",
              "    .dataframe thead th {\n",
              "        text-align: right;\n",
              "    }\n",
              "</style>\n",
              "<table border=\"1\" class=\"dataframe\">\n",
              "  <thead>\n",
              "    <tr style=\"text-align: right;\">\n",
              "      <th></th>\n",
              "      <th>AGE07</th>\n",
              "      <th>EDCL07</th>\n",
              "      <th>MARRIED07</th>\n",
              "      <th>KIDS07</th>\n",
              "      <th>LIFECL07</th>\n",
              "      <th>OCCAT107</th>\n",
              "      <th>INCOME07</th>\n",
              "      <th>RISK07</th>\n",
              "      <th>WSAVED07</th>\n",
              "      <th>SPENDMOR07</th>\n",
              "      <th>NETWORTH07</th>\n",
              "      <th>TrueRiskTol</th>\n",
              "    </tr>\n",
              "  </thead>\n",
              "  <tbody>\n",
              "    <tr>\n",
              "      <th>0</th>\n",
              "      <td>47</td>\n",
              "      <td>2</td>\n",
              "      <td>1</td>\n",
              "      <td>0</td>\n",
              "      <td>2</td>\n",
              "      <td>1</td>\n",
              "      <td>56443.744181</td>\n",
              "      <td>3</td>\n",
              "      <td>1</td>\n",
              "      <td>5</td>\n",
              "      <td>352641.7113</td>\n",
              "      <td>6.947439</td>\n",
              "    </tr>\n",
              "  </tbody>\n",
              "</table>\n",
              "</div>\n",
              "      <button class=\"colab-df-convert\" onclick=\"convertToInteractive('df-fca8160c-820d-4838-9ebd-e9c48dd0c9e1')\"\n",
              "              title=\"Convert this dataframe to an interactive table.\"\n",
              "              style=\"display:none;\">\n",
              "        \n",
              "  <svg xmlns=\"http://www.w3.org/2000/svg\" height=\"24px\"viewBox=\"0 0 24 24\"\n",
              "       width=\"24px\">\n",
              "    <path d=\"M0 0h24v24H0V0z\" fill=\"none\"/>\n",
              "    <path d=\"M18.56 5.44l.94 2.06.94-2.06 2.06-.94-2.06-.94-.94-2.06-.94 2.06-2.06.94zm-11 1L8.5 8.5l.94-2.06 2.06-.94-2.06-.94L8.5 2.5l-.94 2.06-2.06.94zm10 10l.94 2.06.94-2.06 2.06-.94-2.06-.94-.94-2.06-.94 2.06-2.06.94z\"/><path d=\"M17.41 7.96l-1.37-1.37c-.4-.4-.92-.59-1.43-.59-.52 0-1.04.2-1.43.59L10.3 9.45l-7.72 7.72c-.78.78-.78 2.05 0 2.83L4 21.41c.39.39.9.59 1.41.59.51 0 1.02-.2 1.41-.59l7.78-7.78 2.81-2.81c.8-.78.8-2.07 0-2.86zM5.41 20L4 18.59l7.72-7.72 1.47 1.35L5.41 20z\"/>\n",
              "  </svg>\n",
              "      </button>\n",
              "      \n",
              "  <style>\n",
              "    .colab-df-container {\n",
              "      display:flex;\n",
              "      flex-wrap:wrap;\n",
              "      gap: 12px;\n",
              "    }\n",
              "\n",
              "    .colab-df-convert {\n",
              "      background-color: #E8F0FE;\n",
              "      border: none;\n",
              "      border-radius: 50%;\n",
              "      cursor: pointer;\n",
              "      display: none;\n",
              "      fill: #1967D2;\n",
              "      height: 32px;\n",
              "      padding: 0 0 0 0;\n",
              "      width: 32px;\n",
              "    }\n",
              "\n",
              "    .colab-df-convert:hover {\n",
              "      background-color: #E2EBFA;\n",
              "      box-shadow: 0px 1px 2px rgba(60, 64, 67, 0.3), 0px 1px 3px 1px rgba(60, 64, 67, 0.15);\n",
              "      fill: #174EA6;\n",
              "    }\n",
              "\n",
              "    [theme=dark] .colab-df-convert {\n",
              "      background-color: #3B4455;\n",
              "      fill: #D2E3FC;\n",
              "    }\n",
              "\n",
              "    [theme=dark] .colab-df-convert:hover {\n",
              "      background-color: #434B5C;\n",
              "      box-shadow: 0px 1px 3px 1px rgba(0, 0, 0, 0.15);\n",
              "      filter: drop-shadow(0px 1px 2px rgba(0, 0, 0, 0.3));\n",
              "      fill: #FFFFFF;\n",
              "    }\n",
              "  </style>\n",
              "\n",
              "      <script>\n",
              "        const buttonEl =\n",
              "          document.querySelector('#df-fca8160c-820d-4838-9ebd-e9c48dd0c9e1 button.colab-df-convert');\n",
              "        buttonEl.style.display =\n",
              "          google.colab.kernel.accessAllowed ? 'block' : 'none';\n",
              "\n",
              "        async function convertToInteractive(key) {\n",
              "          const element = document.querySelector('#df-fca8160c-820d-4838-9ebd-e9c48dd0c9e1');\n",
              "          const dataTable =\n",
              "            await google.colab.kernel.invokeFunction('convertToInteractive',\n",
              "                                                     [key], {});\n",
              "          if (!dataTable) return;\n",
              "\n",
              "          const docLinkHtml = 'Like what you see? Visit the ' +\n",
              "            '<a target=\"_blank\" href=https://colab.research.google.com/notebooks/data_table.ipynb>data table notebook</a>'\n",
              "            + ' to learn more about interactive tables.';\n",
              "          element.innerHTML = '';\n",
              "          dataTable['output_type'] = 'display_data';\n",
              "          await google.colab.output.renderOutput(dataTable, element);\n",
              "          const docLink = document.createElement('div');\n",
              "          docLink.innerHTML = docLinkHtml;\n",
              "          element.appendChild(docLink);\n",
              "        }\n",
              "      </script>\n",
              "    </div>\n",
              "  </div>\n",
              "  "
            ],
            "text/plain": [
              "   AGE07  EDCL07  MARRIED07  ...  SPENDMOR07   NETWORTH07  TrueRiskTol\n",
              "0     47       2          1  ...           5  352641.7113     6.947439\n",
              "\n",
              "[1 rows x 12 columns]"
            ]
          },
          "metadata": {},
          "execution_count": 36
        }
      ]
    },
    {
      "cell_type": "markdown",
      "source": [
        "### Load the market data and clean the data"
      ],
      "metadata": {
        "id": "l3HLoAsUhgWx"
      }
    },
    {
      "cell_type": "code",
      "source": [
        "raw_sp500 = 'https://raw.githubusercontent.com/tatsath/fin-ml/master/Chapter%205%20-%20Sup.%20Learning%20-%20Regression%20and%20Time%20Series%20models/Case%20Study%203%20-%20Investor%20Risk%20Tolerance%20and%20Robo-advisors/SP500Data.csv'\n",
        "assets = pd.read_csv(raw_sp500,index_col=0)\n",
        "missing_fractions = assets.isnull().mean().sort_values(ascending=False)\n",
        "\n",
        "missing_fractions.head(10)\n",
        "\n",
        "drop_list = sorted(list(missing_fractions[missing_fractions > 0.3].index))\n",
        "\n",
        "assets.drop(labels=drop_list, axis=1, inplace=True)\n",
        "assets.shape\n",
        "# Fill the missing values with the last value available in the dataset. \n",
        "assets=assets.fillna(method='ffill')\n",
        "assets.head(2)"
      ],
      "metadata": {
        "colab": {
          "base_uri": "https://localhost:8080/",
          "height": 272
        },
        "id": "CjiOdjl1hGk2",
        "outputId": "83a63052-bd41-49d1-818e-298c388b6912"
      },
      "execution_count": null,
      "outputs": [
        {
          "output_type": "execute_result",
          "data": {
            "text/html": [
              "\n",
              "  <div id=\"df-a3397218-9bd7-485a-abd3-c8ee5dad334c\">\n",
              "    <div class=\"colab-df-container\">\n",
              "      <div>\n",
              "<style scoped>\n",
              "    .dataframe tbody tr th:only-of-type {\n",
              "        vertical-align: middle;\n",
              "    }\n",
              "\n",
              "    .dataframe tbody tr th {\n",
              "        vertical-align: top;\n",
              "    }\n",
              "\n",
              "    .dataframe thead th {\n",
              "        text-align: right;\n",
              "    }\n",
              "</style>\n",
              "<table border=\"1\" class=\"dataframe\">\n",
              "  <thead>\n",
              "    <tr style=\"text-align: right;\">\n",
              "      <th></th>\n",
              "      <th>ABT</th>\n",
              "      <th>ABBV</th>\n",
              "      <th>ABMD</th>\n",
              "      <th>ACN</th>\n",
              "      <th>ATVI</th>\n",
              "      <th>ADBE</th>\n",
              "      <th>AMD</th>\n",
              "      <th>AAP</th>\n",
              "      <th>AES</th>\n",
              "      <th>AMG</th>\n",
              "      <th>AFL</th>\n",
              "      <th>A</th>\n",
              "      <th>APD</th>\n",
              "      <th>AKAM</th>\n",
              "      <th>ALK</th>\n",
              "      <th>ALB</th>\n",
              "      <th>ARE</th>\n",
              "      <th>ALXN</th>\n",
              "      <th>ALGN</th>\n",
              "      <th>ALLE</th>\n",
              "      <th>AGN</th>\n",
              "      <th>ADS</th>\n",
              "      <th>LNT</th>\n",
              "      <th>ALL</th>\n",
              "      <th>GOOGL</th>\n",
              "      <th>GOOG</th>\n",
              "      <th>MO</th>\n",
              "      <th>AMZN</th>\n",
              "      <th>AMCR</th>\n",
              "      <th>AEE</th>\n",
              "      <th>AAL</th>\n",
              "      <th>AEP</th>\n",
              "      <th>AXP</th>\n",
              "      <th>AIG</th>\n",
              "      <th>AMT</th>\n",
              "      <th>AWK</th>\n",
              "      <th>AMP</th>\n",
              "      <th>ABC</th>\n",
              "      <th>AME</th>\n",
              "      <th>AMGN</th>\n",
              "      <th>...</th>\n",
              "      <th>UHS</th>\n",
              "      <th>UNM</th>\n",
              "      <th>VFC</th>\n",
              "      <th>VLO</th>\n",
              "      <th>VAR</th>\n",
              "      <th>VTR</th>\n",
              "      <th>VRSN</th>\n",
              "      <th>VRSK</th>\n",
              "      <th>VZ</th>\n",
              "      <th>VRTX</th>\n",
              "      <th>VIAB</th>\n",
              "      <th>V</th>\n",
              "      <th>VNO</th>\n",
              "      <th>VMC</th>\n",
              "      <th>WAB</th>\n",
              "      <th>WMT</th>\n",
              "      <th>WBA</th>\n",
              "      <th>DIS</th>\n",
              "      <th>WM</th>\n",
              "      <th>WAT</th>\n",
              "      <th>WEC</th>\n",
              "      <th>WCG</th>\n",
              "      <th>WFC</th>\n",
              "      <th>WELL</th>\n",
              "      <th>WDC</th>\n",
              "      <th>WU</th>\n",
              "      <th>WRK</th>\n",
              "      <th>WY</th>\n",
              "      <th>WHR</th>\n",
              "      <th>WMB</th>\n",
              "      <th>WLTW</th>\n",
              "      <th>WYNN</th>\n",
              "      <th>XEL</th>\n",
              "      <th>XRX</th>\n",
              "      <th>XLNX</th>\n",
              "      <th>XYL</th>\n",
              "      <th>YUM</th>\n",
              "      <th>ZBH</th>\n",
              "      <th>ZION</th>\n",
              "      <th>ZTS</th>\n",
              "    </tr>\n",
              "    <tr>\n",
              "      <th>Date</th>\n",
              "      <th></th>\n",
              "      <th></th>\n",
              "      <th></th>\n",
              "      <th></th>\n",
              "      <th></th>\n",
              "      <th></th>\n",
              "      <th></th>\n",
              "      <th></th>\n",
              "      <th></th>\n",
              "      <th></th>\n",
              "      <th></th>\n",
              "      <th></th>\n",
              "      <th></th>\n",
              "      <th></th>\n",
              "      <th></th>\n",
              "      <th></th>\n",
              "      <th></th>\n",
              "      <th></th>\n",
              "      <th></th>\n",
              "      <th></th>\n",
              "      <th></th>\n",
              "      <th></th>\n",
              "      <th></th>\n",
              "      <th></th>\n",
              "      <th></th>\n",
              "      <th></th>\n",
              "      <th></th>\n",
              "      <th></th>\n",
              "      <th></th>\n",
              "      <th></th>\n",
              "      <th></th>\n",
              "      <th></th>\n",
              "      <th></th>\n",
              "      <th></th>\n",
              "      <th></th>\n",
              "      <th></th>\n",
              "      <th></th>\n",
              "      <th></th>\n",
              "      <th></th>\n",
              "      <th></th>\n",
              "      <th></th>\n",
              "      <th></th>\n",
              "      <th></th>\n",
              "      <th></th>\n",
              "      <th></th>\n",
              "      <th></th>\n",
              "      <th></th>\n",
              "      <th></th>\n",
              "      <th></th>\n",
              "      <th></th>\n",
              "      <th></th>\n",
              "      <th></th>\n",
              "      <th></th>\n",
              "      <th></th>\n",
              "      <th></th>\n",
              "      <th></th>\n",
              "      <th></th>\n",
              "      <th></th>\n",
              "      <th></th>\n",
              "      <th></th>\n",
              "      <th></th>\n",
              "      <th></th>\n",
              "      <th></th>\n",
              "      <th></th>\n",
              "      <th></th>\n",
              "      <th></th>\n",
              "      <th></th>\n",
              "      <th></th>\n",
              "      <th></th>\n",
              "      <th></th>\n",
              "      <th></th>\n",
              "      <th></th>\n",
              "      <th></th>\n",
              "      <th></th>\n",
              "      <th></th>\n",
              "      <th></th>\n",
              "      <th></th>\n",
              "      <th></th>\n",
              "      <th></th>\n",
              "      <th></th>\n",
              "      <th></th>\n",
              "    </tr>\n",
              "  </thead>\n",
              "  <tbody>\n",
              "    <tr>\n",
              "      <th>2018-01-02</th>\n",
              "      <td>58.790001</td>\n",
              "      <td>98.410004</td>\n",
              "      <td>192.490005</td>\n",
              "      <td>153.839996</td>\n",
              "      <td>64.309998</td>\n",
              "      <td>177.699997</td>\n",
              "      <td>10.98</td>\n",
              "      <td>106.089996</td>\n",
              "      <td>10.88</td>\n",
              "      <td>203.039993</td>\n",
              "      <td>43.985001</td>\n",
              "      <td>67.599998</td>\n",
              "      <td>165.509995</td>\n",
              "      <td>65.559998</td>\n",
              "      <td>75.010002</td>\n",
              "      <td>131.529999</td>\n",
              "      <td>129.929993</td>\n",
              "      <td>124.050003</td>\n",
              "      <td>224.619995</td>\n",
              "      <td>79.910004</td>\n",
              "      <td>170.320007</td>\n",
              "      <td>255.330002</td>\n",
              "      <td>42.110001</td>\n",
              "      <td>101.919998</td>\n",
              "      <td>1073.209961</td>\n",
              "      <td>1065.00000</td>\n",
              "      <td>70.739998</td>\n",
              "      <td>1189.010010</td>\n",
              "      <td>11.8</td>\n",
              "      <td>58.389999</td>\n",
              "      <td>52.990002</td>\n",
              "      <td>72.410004</td>\n",
              "      <td>98.940002</td>\n",
              "      <td>59.50</td>\n",
              "      <td>141.130005</td>\n",
              "      <td>89.080002</td>\n",
              "      <td>169.910004</td>\n",
              "      <td>94.040001</td>\n",
              "      <td>72.750000</td>\n",
              "      <td>177.000000</td>\n",
              "      <td>...</td>\n",
              "      <td>115.599998</td>\n",
              "      <td>54.860001</td>\n",
              "      <td>70.075333</td>\n",
              "      <td>92.800003</td>\n",
              "      <td>110.980003</td>\n",
              "      <td>59.759998</td>\n",
              "      <td>109.470001</td>\n",
              "      <td>95.830002</td>\n",
              "      <td>53.529999</td>\n",
              "      <td>152.910004</td>\n",
              "      <td>31.190001</td>\n",
              "      <td>114.510002</td>\n",
              "      <td>77.320000</td>\n",
              "      <td>131.869995</td>\n",
              "      <td>82.930000</td>\n",
              "      <td>98.589996</td>\n",
              "      <td>74.949997</td>\n",
              "      <td>111.800003</td>\n",
              "      <td>86.099998</td>\n",
              "      <td>195.690002</td>\n",
              "      <td>65.769997</td>\n",
              "      <td>202.550003</td>\n",
              "      <td>61.090000</td>\n",
              "      <td>64.029999</td>\n",
              "      <td>81.379997</td>\n",
              "      <td>19.08</td>\n",
              "      <td>64.709999</td>\n",
              "      <td>35.299999</td>\n",
              "      <td>167.990005</td>\n",
              "      <td>31.139999</td>\n",
              "      <td>146.990005</td>\n",
              "      <td>164.300003</td>\n",
              "      <td>47.810001</td>\n",
              "      <td>29.370001</td>\n",
              "      <td>67.879997</td>\n",
              "      <td>68.070000</td>\n",
              "      <td>81.599998</td>\n",
              "      <td>124.059998</td>\n",
              "      <td>50.700001</td>\n",
              "      <td>71.769997</td>\n",
              "    </tr>\n",
              "    <tr>\n",
              "      <th>2018-01-03</th>\n",
              "      <td>58.919998</td>\n",
              "      <td>99.949997</td>\n",
              "      <td>195.820007</td>\n",
              "      <td>154.550003</td>\n",
              "      <td>65.309998</td>\n",
              "      <td>181.039993</td>\n",
              "      <td>11.55</td>\n",
              "      <td>107.050003</td>\n",
              "      <td>10.87</td>\n",
              "      <td>202.119995</td>\n",
              "      <td>44.115002</td>\n",
              "      <td>69.320000</td>\n",
              "      <td>166.410004</td>\n",
              "      <td>65.940002</td>\n",
              "      <td>74.660004</td>\n",
              "      <td>131.789993</td>\n",
              "      <td>129.320007</td>\n",
              "      <td>124.949997</td>\n",
              "      <td>231.199997</td>\n",
              "      <td>80.250000</td>\n",
              "      <td>170.139999</td>\n",
              "      <td>260.070007</td>\n",
              "      <td>41.740002</td>\n",
              "      <td>101.980003</td>\n",
              "      <td>1091.520020</td>\n",
              "      <td>1082.47998</td>\n",
              "      <td>70.480003</td>\n",
              "      <td>1204.199951</td>\n",
              "      <td>11.8</td>\n",
              "      <td>58.090000</td>\n",
              "      <td>52.340000</td>\n",
              "      <td>71.800003</td>\n",
              "      <td>99.550003</td>\n",
              "      <td>60.16</td>\n",
              "      <td>141.679993</td>\n",
              "      <td>88.449997</td>\n",
              "      <td>169.070007</td>\n",
              "      <td>94.389999</td>\n",
              "      <td>73.389999</td>\n",
              "      <td>180.339996</td>\n",
              "      <td>...</td>\n",
              "      <td>113.389999</td>\n",
              "      <td>55.259998</td>\n",
              "      <td>69.472694</td>\n",
              "      <td>93.290001</td>\n",
              "      <td>111.309998</td>\n",
              "      <td>60.119999</td>\n",
              "      <td>110.900002</td>\n",
              "      <td>95.550003</td>\n",
              "      <td>52.430000</td>\n",
              "      <td>152.009995</td>\n",
              "      <td>29.950001</td>\n",
              "      <td>115.650002</td>\n",
              "      <td>77.099998</td>\n",
              "      <td>134.289993</td>\n",
              "      <td>82.260002</td>\n",
              "      <td>99.449997</td>\n",
              "      <td>75.510002</td>\n",
              "      <td>112.279999</td>\n",
              "      <td>87.349998</td>\n",
              "      <td>197.770004</td>\n",
              "      <td>65.540001</td>\n",
              "      <td>203.320007</td>\n",
              "      <td>61.560001</td>\n",
              "      <td>64.139999</td>\n",
              "      <td>82.669998</td>\n",
              "      <td>19.07</td>\n",
              "      <td>65.400002</td>\n",
              "      <td>35.610001</td>\n",
              "      <td>168.839996</td>\n",
              "      <td>32.000000</td>\n",
              "      <td>149.740005</td>\n",
              "      <td>162.520004</td>\n",
              "      <td>47.490002</td>\n",
              "      <td>29.330000</td>\n",
              "      <td>69.239998</td>\n",
              "      <td>68.900002</td>\n",
              "      <td>81.529999</td>\n",
              "      <td>124.919998</td>\n",
              "      <td>50.639999</td>\n",
              "      <td>72.099998</td>\n",
              "    </tr>\n",
              "  </tbody>\n",
              "</table>\n",
              "<p>2 rows × 498 columns</p>\n",
              "</div>\n",
              "      <button class=\"colab-df-convert\" onclick=\"convertToInteractive('df-a3397218-9bd7-485a-abd3-c8ee5dad334c')\"\n",
              "              title=\"Convert this dataframe to an interactive table.\"\n",
              "              style=\"display:none;\">\n",
              "        \n",
              "  <svg xmlns=\"http://www.w3.org/2000/svg\" height=\"24px\"viewBox=\"0 0 24 24\"\n",
              "       width=\"24px\">\n",
              "    <path d=\"M0 0h24v24H0V0z\" fill=\"none\"/>\n",
              "    <path d=\"M18.56 5.44l.94 2.06.94-2.06 2.06-.94-2.06-.94-.94-2.06-.94 2.06-2.06.94zm-11 1L8.5 8.5l.94-2.06 2.06-.94-2.06-.94L8.5 2.5l-.94 2.06-2.06.94zm10 10l.94 2.06.94-2.06 2.06-.94-2.06-.94-.94-2.06-.94 2.06-2.06.94z\"/><path d=\"M17.41 7.96l-1.37-1.37c-.4-.4-.92-.59-1.43-.59-.52 0-1.04.2-1.43.59L10.3 9.45l-7.72 7.72c-.78.78-.78 2.05 0 2.83L4 21.41c.39.39.9.59 1.41.59.51 0 1.02-.2 1.41-.59l7.78-7.78 2.81-2.81c.8-.78.8-2.07 0-2.86zM5.41 20L4 18.59l7.72-7.72 1.47 1.35L5.41 20z\"/>\n",
              "  </svg>\n",
              "      </button>\n",
              "      \n",
              "  <style>\n",
              "    .colab-df-container {\n",
              "      display:flex;\n",
              "      flex-wrap:wrap;\n",
              "      gap: 12px;\n",
              "    }\n",
              "\n",
              "    .colab-df-convert {\n",
              "      background-color: #E8F0FE;\n",
              "      border: none;\n",
              "      border-radius: 50%;\n",
              "      cursor: pointer;\n",
              "      display: none;\n",
              "      fill: #1967D2;\n",
              "      height: 32px;\n",
              "      padding: 0 0 0 0;\n",
              "      width: 32px;\n",
              "    }\n",
              "\n",
              "    .colab-df-convert:hover {\n",
              "      background-color: #E2EBFA;\n",
              "      box-shadow: 0px 1px 2px rgba(60, 64, 67, 0.3), 0px 1px 3px 1px rgba(60, 64, 67, 0.15);\n",
              "      fill: #174EA6;\n",
              "    }\n",
              "\n",
              "    [theme=dark] .colab-df-convert {\n",
              "      background-color: #3B4455;\n",
              "      fill: #D2E3FC;\n",
              "    }\n",
              "\n",
              "    [theme=dark] .colab-df-convert:hover {\n",
              "      background-color: #434B5C;\n",
              "      box-shadow: 0px 1px 3px 1px rgba(0, 0, 0, 0.15);\n",
              "      filter: drop-shadow(0px 1px 2px rgba(0, 0, 0, 0.3));\n",
              "      fill: #FFFFFF;\n",
              "    }\n",
              "  </style>\n",
              "\n",
              "      <script>\n",
              "        const buttonEl =\n",
              "          document.querySelector('#df-a3397218-9bd7-485a-abd3-c8ee5dad334c button.colab-df-convert');\n",
              "        buttonEl.style.display =\n",
              "          google.colab.kernel.accessAllowed ? 'block' : 'none';\n",
              "\n",
              "        async function convertToInteractive(key) {\n",
              "          const element = document.querySelector('#df-a3397218-9bd7-485a-abd3-c8ee5dad334c');\n",
              "          const dataTable =\n",
              "            await google.colab.kernel.invokeFunction('convertToInteractive',\n",
              "                                                     [key], {});\n",
              "          if (!dataTable) return;\n",
              "\n",
              "          const docLinkHtml = 'Like what you see? Visit the ' +\n",
              "            '<a target=\"_blank\" href=https://colab.research.google.com/notebooks/data_table.ipynb>data table notebook</a>'\n",
              "            + ' to learn more about interactive tables.';\n",
              "          element.innerHTML = '';\n",
              "          dataTable['output_type'] = 'display_data';\n",
              "          await google.colab.output.renderOutput(dataTable, element);\n",
              "          const docLink = document.createElement('div');\n",
              "          docLink.innerHTML = docLinkHtml;\n",
              "          element.appendChild(docLink);\n",
              "        }\n",
              "      </script>\n",
              "    </div>\n",
              "  </div>\n",
              "  "
            ],
            "text/plain": [
              "                  ABT       ABBV        ABMD  ...         ZBH       ZION        ZTS\n",
              "Date                                          ...                                  \n",
              "2018-01-02  58.790001  98.410004  192.490005  ...  124.059998  50.700001  71.769997\n",
              "2018-01-03  58.919998  99.949997  195.820007  ...  124.919998  50.639999  72.099998\n",
              "\n",
              "[2 rows x 498 columns]"
            ]
          },
          "metadata": {},
          "execution_count": 38
        }
      ]
    },
    {
      "cell_type": "code",
      "source": [
        "options=np.array(assets.columns)\n",
        "# str(options)\n",
        "options = []\n",
        "\n",
        "for tic in assets.columns:\n",
        "    #{'label': 'user sees', 'value': 'script sees'}\n",
        "    mydict = {}\n",
        "    mydict['label'] = tic #Apple Co. AAPL\n",
        "    mydict['value'] = tic\n",
        "    options.append(mydict)"
      ],
      "metadata": {
        "id": "zboPVOEXhl_c"
      },
      "execution_count": null,
      "outputs": []
    },
    {
      "cell_type": "markdown",
      "source": [
        "<a id='2'></a>\n",
        "## 2. Code for the dashboard Interface"
      ],
      "metadata": {
        "id": "l32g-yjAiKrl"
      }
    },
    {
      "cell_type": "code",
      "source": [
        "app = dash.Dash(__name__, external_stylesheets=['https://codepen.io/chriddyp/pen/bWLwgP.css'])"
      ],
      "metadata": {
        "id": "p4GoWec9iFca"
      },
      "execution_count": null,
      "outputs": []
    },
    {
      "cell_type": "code",
      "source": [
        "app.layout = html.Div([\n",
        "    html.Div([ \n",
        "        #Dashboard Name\n",
        "        html.Div([\n",
        "            html.H3(children='Robo Advisor Dashboard'),\n",
        "            html.Div([\n",
        "                html.H5(children='Step 1 : Enter Investor Characteristics '),            \n",
        "                ],style={'display': 'inline-block','vertical-align': 'top',  'width': '30%',\\\n",
        "                         'color':'black', 'background-color': 'LightGray'}), \n",
        "            html.Div([\n",
        "                html.H5(children='Step 2 : Asset Allocation and portfolio performance'),            \n",
        "                ],style={'display': 'inline-block', 'vertical-align': 'top',  \\\n",
        "                         'color':'white','horizontalAlign' : \"left\", 'width': '70%', 'background-color':'black'}), \n",
        "            ],style={'font-family': 'calibri'}),        \n",
        "         \n",
        "         #All the Investor Characteristics\n",
        "                      \n",
        "       #********************Demographics Features DropDown********\n",
        "         html.Div([   \n",
        "          html.Div([ \n",
        "            \n",
        "            html.Label('Age:',style={'padding': 5}),\n",
        "            dcc.Slider(\n",
        "                id='Age',\n",
        "                min = investors['AGE07'].min(),\n",
        "                max = 70,\n",
        "                marks={ 25: '25',35: '35',45: '45',55: '55',70: '70'},              \n",
        "                value=25),   \n",
        "            #html.Br(),\n",
        "            \n",
        "            html.Label('NetWorth:', style={'padding': 5}),\n",
        "            dcc.Slider(\n",
        "                id='Nwcat',\n",
        "                #min = investors['NETWORTH07'].min(), \n",
        "                min = -1000000, max = 3000000,\n",
        "                marks={-1000000: '-$1M',0: '0',500000: '$500K',1000000: '$1M',2000000: '$2M',},                \n",
        "                value=10000),\n",
        "            #html.Br(),\n",
        "            html.Label('Income:', style={'padding': 5}),\n",
        "            dcc.Slider(\n",
        "                id='Inccl',\n",
        "                #min = investors['INCOME07'].min(), max = investors['INCOME07'].max(),\n",
        "                min = -1000000,\n",
        "                max = 3000000,\n",
        "                marks={-1000000: '-$1M',0: '0',500000: '$500K',1000000: '$1M',2000000: '$2M',},\n",
        "                value=100000),\n",
        "            \n",
        "           # html.Br(),\n",
        "            html.Label('Education Level (scale of 4):', style={'padding': 5}),\n",
        "            dcc.Slider(\n",
        "                id='Edu',\n",
        "                min = investors['EDCL07'].min(), max = investors['EDCL07'].max(),\n",
        "                marks={ 1: '1',2: '2',3: '3',4: '4'},\n",
        "                value=2), \n",
        "            #html.Br(),\n",
        "            html.Label('Married:', style={'padding': 5}),\n",
        "            dcc.Slider(\n",
        "                id='Married',\n",
        "                min = investors['MARRIED07'].min(), max = investors['MARRIED07'].max(),\n",
        "                marks={ 1: '1',2: '2'},\n",
        "                value=1), \n",
        "            #html.Br(),\n",
        "            html.Label('Kids:', style={'padding': 5}),\n",
        "            dcc.Slider(\n",
        "                id='Kids',\n",
        "                min = investors['KIDS07'].min(), max = investors['KIDS07'].max(),\n",
        "                #marks={ 1: '1',2: '2',3: '3',4: '4'},\n",
        "                marks=[{'label': j, 'value': j} for j in investors['KIDS07'].unique()],\n",
        "                value=3), \n",
        "            #html.Br(),\n",
        "            html.Label('Occupation:', style={'padding': 5}),\n",
        "            dcc.Slider(\n",
        "                id='Occ',\n",
        "                min = investors['OCCAT107'].min(), max = investors['OCCAT107'].max(),\n",
        "                marks={ 1: '1',2: '2',3: '3',4: '4'},\n",
        "                value=3),            \n",
        "            #html.Br(),\n",
        "            html.Label('Willingness to take Risk:', style={'padding': 5}),\n",
        "            dcc.Slider(\n",
        "                id='Risk',\n",
        "                min = investors['RISK07'].min(), max = investors['RISK07'].max(),\n",
        "                marks={ 1: '1',2: '2',3: '3',4: '4'},\n",
        "                value=3), \n",
        "            #html.Br(),\n",
        "            html.Button(id='investor_char_button',\n",
        "                            n_clicks = 0,\n",
        "                            children = 'Calculate Risk Tolerance',\n",
        "                            style = {'fontSize': 14, 'marginLeft': '30px', 'color' : 'white',\\\n",
        "                                     'horizontal-align': 'left','backgroundColor': 'grey'}),             \n",
        "            #html.Br(),            \n",
        "              ],style={'width': '80%'}),           \n",
        "            \n",
        "            ],style={'width': '30%', 'font-family': 'calibri','vertical-align': 'top','display': 'inline-block'\\\n",
        "                     }),\n",
        "#                     , \"border\":\".5px black solid\"}),\n",
        "\n",
        "    # ********************Risk Tolerance Charts********            \n",
        "       html.Div([    \n",
        "               #html.H5(children='Step 2 : Enter the Instruments for the allocation portfolio'),  \n",
        "        html.Div([\n",
        "            html.Div([ \n",
        "                html.Label('Risk Tolerance (scale of 100) :', style={'padding': 5}),\n",
        "                dcc.Input(id= 'risk-tolerance-text'),\n",
        "               \n",
        "                ],style={'width': '100%','font-family': 'calibri','vertical-align': 'top','display': 'inline-block'}),\n",
        "\n",
        "            html.Div([ \n",
        "                html.Label('Select the assets for the portfolio:', style={'padding': 5}),\n",
        "                dcc.Dropdown(\n",
        "                        id='ticker_symbol',\n",
        "                        options = options,\n",
        "                        value = ['GOOGL', 'FB', 'GS','MS','GE','MSFT'], \n",
        "                        multi = True\n",
        "                        # style={'fontSize': 24, 'width': 75}\n",
        "                        ),\n",
        "                html.Button(id='submit-asset_alloc_button',\n",
        "                            n_clicks = 0,\n",
        "                            children = 'Submit',\n",
        "                            style = {'fontSize': 12, 'marginLeft': '25px','color' : 'white', 'backgroundColor': 'grey'}\n",
        "\n",
        "                ), \n",
        "               ],style={'width': '100%','font-family': 'calibri','vertical-align': 'top','display': 'inline-block'}),\n",
        "            ],style={'width': '100%','display': 'inline-block','font-family': 'calibri','vertical-align': 'top'}),\n",
        "           \n",
        "           html.Div([                \n",
        "                html.Div([\n",
        "                    dcc.Graph(id='Asset-Allocation'), \n",
        "                    ], style={'width': '50%', 'vertical-align': 'top', 'display': 'inline-block', \\\n",
        "                      'font-family': 'calibri', 'horizontal-align': 'right'}),\n",
        "                html.Div([\n",
        "                    dcc.Graph(id='Performance')\n",
        "                    ], style={'width': '50%', 'vertical-align': 'top', 'display': 'inline-block', \\\n",
        "                      'font-family': 'calibri', 'horizontal-align': 'right'}),\n",
        "                   ], style={'width': '100%', 'vertical-align': 'top', 'display': 'inline-block', \\\n",
        "                          'font-family': 'calibri', 'horizontal-align': 'right'}),          \n",
        "\n",
        "\n",
        "        ], style={'width': '70%','display': 'inline-block','font-family': 'calibri','vertical-align': 'top', 'horizontal-align': 'right'}),\n",
        "       ],style={'width': '70%','display': 'inline-block','font-family': 'calibri','vertical-align': 'top'}),               \n",
        "\n",
        "  ])    "
      ],
      "metadata": {
        "id": "VAXztKZMiS1T"
      },
      "execution_count": null,
      "outputs": []
    },
    {
      "cell_type": "markdown",
      "source": [
        "<a id='3'></a>\n",
        "## 3. Code for the underlying functions within the interface\n",
        "\n",
        "Los pasos realizados son los siguientes: \n",
        "\n",
        "1) Carga del modelo de regresión para predecir la tolerancia al riesgo\n",
        "\n",
        "2) Utilización del análisis de varianza media de Markovitz para la asignación de activos\n",
        "\n",
        "3) Elaboración de un gráfico para la asignación de activos y el rendimiento de la cartera\n",
        "\n",
        "#### **Click the url produced by this code to see the dashboard**"
      ],
      "metadata": {
        "id": "s-vT-bRRikia"
      }
    },
    {
      "cell_type": "code",
      "source": [
        "def predict_riskTolerance(X_input):\n",
        "\n",
        "    filename = 'finalized_model.sav'\n",
        "    loaded_model = load(open(filename, 'rb'))\n",
        "    # estimate accuracy on validation set\n",
        "    predictions = loaded_model.predict(X_input)\n",
        "    return predictions\n",
        "\n",
        "#Asset allocation given the Return, variance\n",
        "def get_asset_allocation(riskTolerance,stock_ticker):\n",
        "    #ipdb.set_trace()\n",
        "    assets_selected = assets.loc[:,stock_ticker]\n",
        "    return_vec = np.array(assets_selected.pct_change().dropna(axis=0)).T\n",
        "    n = len(return_vec)\n",
        "    returns = np.asmatrix(return_vec)\n",
        "    mus = 1-riskTolerance\n",
        "    \n",
        "    # Convert to cvxopt matrices\n",
        "    S = opt.matrix(np.cov(return_vec))\n",
        "    pbar = opt.matrix(np.mean(return_vec, axis=1))\n",
        "    # Create constraint matrices\n",
        "    G = -opt.matrix(np.eye(n))   # negative n x n identity matrix\n",
        "    h = opt.matrix(0.0, (n ,1))\n",
        "    A = opt.matrix(1.0, (1, n))\n",
        "    b = opt.matrix(1.0)\n",
        "    # Calculate efficient frontier weights using quadratic programming\n",
        "    portfolios = solvers.qp(mus*S, -pbar, G, h, A, b)\n",
        "    w=portfolios['x'].T\n",
        "    print (w)\n",
        "    Alloc =  pd.DataFrame(data = np.array(portfolios['x']),index = assets_selected.columns)\n",
        "\n",
        "    # Calculate efficient frontier weights using quadratic programming\n",
        "    portfolios = solvers.qp(mus*S, -pbar, G, h, A, b)\n",
        "    returns_final=(np.array(assets_selected) * np.array(w))\n",
        "    returns_sum = np.sum(returns_final,axis =1)\n",
        "    returns_sum_pd = pd.DataFrame(returns_sum, index = assets.index )\n",
        "    returns_sum_pd = returns_sum_pd - returns_sum_pd.iloc[0,:] + 100   \n",
        "    return Alloc,returns_sum_pd\n",
        "\n",
        "\n",
        "\n",
        "#Callback for the graph\n",
        "#This function takes all the inputs and computes the cluster and the risk tolerance\n",
        "\n",
        "\n",
        "@app.callback(\n",
        "     [Output('risk-tolerance-text', 'value')],\n",
        "    [Input('investor_char_button', 'n_clicks'),\n",
        "    Input('Age', 'value'),Input('Nwcat', 'value'),\n",
        "    Input('Inccl', 'value'), Input('Risk', 'value'),\n",
        "    Input('Edu', 'value'),Input('Married', 'value'),\n",
        "    Input('Kids', 'value'),Input('Occ', 'value')])\n",
        "#get the x and y axis details \n",
        "\n",
        "def update_risk_tolerance(n_clicks,Age,Nwcat,Inccl,Risk,Edu,Married,Kids,Occ):\n",
        "      \n",
        "    #ipdb.set_trace()\n",
        "    \n",
        "    RiskTolerance = 0\n",
        "    if n_clicks != None:    \n",
        "        X_input = [[Age,Edu,Married,Kids,Occ,Inccl, Risk,Nwcat]]\n",
        "        RiskTolerance= predict_riskTolerance(X_input)\n",
        "    #print(RiskAversion)\n",
        "    #Using linear regression to get the risk tolerance within the cluster.    \n",
        "    return list([round(float(RiskTolerance*100),2)])\n",
        "\n",
        "@app.callback([Output('Asset-Allocation', 'figure'),\n",
        "              Output('Performance', 'figure')],\n",
        "            [Input('submit-asset_alloc_button', 'n_clicks'),\n",
        "            Input('risk-tolerance-text', 'value')], \n",
        "            [State('ticker_symbol', 'value')\n",
        "            ])\n",
        "def update_asset_allocationChart(n_clicks, risk_tolerance, stock_ticker):\n",
        "    \n",
        "    Allocated, InvestmentReturn = get_asset_allocation(risk_tolerance,stock_ticker)  \n",
        "    \n",
        "    return [{'data' : [go.Bar(\n",
        "                        x=Allocated.index,\n",
        "                        y=Allocated.iloc[:,0],\n",
        "                        marker=dict(color='red'),\n",
        "                    ),\n",
        "                    ],\n",
        "            'layout': {'title':\" Asset allocation - Mean-Variance Allocation\"}\n",
        "\n",
        "       },\n",
        "            {'data' : [go.Scatter(\n",
        "                        x=InvestmentReturn.index,\n",
        "                        y=InvestmentReturn.iloc[:,0],\n",
        "                        name = 'OEE (%)',\n",
        "                        marker=dict(color='red'),\n",
        "                    ),\n",
        "                    ],\n",
        "            'layout': {'title':\"Portfolio value of $100 investment\"}\n",
        "\n",
        "       }]\n",
        "\n",
        "if __name__ == '__main__':\n",
        "    app.run_server()"
      ],
      "metadata": {
        "colab": {
          "base_uri": "https://localhost:8080/"
        },
        "id": "7EjSbBCTifLV",
        "outputId": "c610b281-ba14-4be9-a26c-4e75c92be6b5"
      },
      "execution_count": null,
      "outputs": [
        {
          "output_type": "stream",
          "name": "stdout",
          "text": [
            " * Serving Flask app \"__main__\" (lazy loading)\n",
            " * Environment: production\n",
            "\u001b[31m   WARNING: This is a development server. Do not use it in a production deployment.\u001b[0m\n",
            "\u001b[2m   Use a production WSGI server instead.\u001b[0m\n",
            " * Debug mode: off\n"
          ]
        },
        {
          "output_type": "stream",
          "name": "stderr",
          "text": [
            " * Running on http://127.0.0.1:8050/ (Press CTRL+C to quit)\n"
          ]
        }
      ]
    },
    {
      "cell_type": "code",
      "source": [
        ""
      ],
      "metadata": {
        "id": "WSyVz9Eii4EQ"
      },
      "execution_count": null,
      "outputs": []
    }
  ]
}