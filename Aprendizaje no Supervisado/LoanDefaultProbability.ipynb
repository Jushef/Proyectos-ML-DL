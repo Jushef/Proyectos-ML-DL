{
  "nbformat": 4,
  "nbformat_minor": 0,
  "metadata": {
    "colab": {
      "name": "LoanDefaultProbability.ipynb",
      "provenance": [],
      "authorship_tag": "ABX9TyMeWxuNq1ZEZtZZd+GKqyYr",
      "include_colab_link": true
    },
    "kernelspec": {
      "name": "python3",
      "display_name": "Python 3"
    },
    "language_info": {
      "name": "python"
    }
  },
  "cells": [
    {
      "cell_type": "markdown",
      "metadata": {
        "id": "view-in-github",
        "colab_type": "text"
      },
      "source": [
        "<a href=\"https://colab.research.google.com/github/Jushef/Proyectos-ML-DL/blob/main/Aprendizaje%20no%20Supervisado/LoanDefaultProbability.ipynb\" target=\"_parent\"><img src=\"https://colab.research.google.com/assets/colab-badge.svg\" alt=\"Open In Colab\"/></a>"
      ]
    },
    {
      "cell_type": "markdown",
      "source": [
        "#**Probabilidad de impago de préstamos.**\n",
        "El objetivo de este proyecto es construir un modelo de aprendizaje automático para predecir la probabilidad de que un préstamo entre en impago."
      ],
      "metadata": {
        "id": "G8vMzvpJx2OD"
      }
    },
    {
      "cell_type": "markdown",
      "source": [
        "## **Content.**"
      ],
      "metadata": {
        "id": "YaCs3V6IyGHY"
      }
    },
    {
      "cell_type": "markdown",
      "source": [
        "* [1. Problem Definition](#0)\n",
        "* [2. Getting Started - Load Libraries and Dataset](#1)\n",
        "    * [2.1. Load Libraries](#1.1)    \n",
        "    * [2.2. Load Dataset](#1.2)\n",
        "* [3. Data Preparation and Feature Selection](#2)\n",
        "    * [3.1. Preparing the predicted variable](#2.1)    \n",
        "    * [3.2. Feature Selection-Limit the Feature Space](#2.2)\n",
        "        * [3.2.1.  Features elimination by significant missing values ](#2.2.1)\n",
        "        * [3.2.2.  Features elimination based on the intutiveness](#2.2.2)\n",
        "        * [3.2.3.  Features elimination based on the correlation](#2.2.3)   \n",
        "* [4. Feature Engineering and Exploratory Analysis](#3)\n",
        "    * [4.1 Feature Analysis and Exploration](#3.1)\n",
        "        * [4.1.1. Analysing the categorical features](#3.1.1)\n",
        "        * [4.1.2  Analysing the continuous features ](#3.1.2) \n",
        "    * [4.2.Encoding Categorical Data](#3.2)\n",
        "    * [4.3.Sampling Data](#3.3)    \n",
        "* [5.Evaluate Algorithms and Models](#4)        \n",
        "    * [5.1. Train/Test Split](#4.1)\n",
        "    * [5.2. Test Options and Evaluation Metrics](#4.2)\n",
        "    * [5.3. Compare Models and Algorithms](#4.3)\n",
        "* [6. Model Tuning and Grid Search](#5)  \n",
        "* [7. Finalize the Model](#6)  \n",
        "    * [7.1. Results on test dataset](#6.1)\n",
        "    * [7.1. Variable Intuition/Feature Selection](#6.2) \n",
        "    * [7.3. Save model for later use](#6.3)"
      ],
      "metadata": {
        "id": "lO4Pvo5EyGWV"
      }
    },
    {
      "cell_type": "markdown",
      "source": [
        "<a id='0'></a>\n",
        "# 1. Problem Definition"
      ],
      "metadata": {
        "id": "unJiz_DPydhC"
      }
    },
    {
      "cell_type": "markdown",
      "source": [
        "El problema se define en el marco de la clasificación, donde la variable prevista es \"Charge-Off \". Un \"charge-off\" es una deuda que un acreedor ha dejado de intentar cobrar después de que haya dejado de pagar durante varios meses. La variable de predicción toma el valor de 1 en caso de que se produzca una suspensión de pagos y de 0 en caso contrario.\n",
        "\n",
        "Este caso de estudio tiene como objetivo analizar los datos de los préstamos hasta el 2007-2017Q3 de Lending Club disponibles en Kaggle. El conjunto de datos contiene más de 887 mil observaciones y 150 variables entre las cuales una describe el estado del préstamo."
      ],
      "metadata": {
        "id": "FeNWkqbiyswR"
      }
    },
    {
      "cell_type": "markdown",
      "source": [
        "<a id='1'></a>\n",
        "# 2. Getting Started- Loading the data and python packages"
      ],
      "metadata": {
        "id": "2QAJQ2E_y-La"
      }
    },
    {
      "cell_type": "markdown",
      "source": [
        "<a id='1.1'></a>\n",
        "## 2.1. Loading the python packages"
      ],
      "metadata": {
        "id": "2J8T5lM-zDN9"
      }
    },
    {
      "cell_type": "code",
      "execution_count": 1,
      "metadata": {
        "id": "HS0kDrp9x1Xi"
      },
      "outputs": [],
      "source": [
        "# Load libraries\n",
        "import numpy as np\n",
        "import pandas as pd\n",
        "from matplotlib import pyplot\n",
        "from pandas import read_csv, set_option\n",
        "from pandas.plotting import scatter_matrix\n",
        "import seaborn as sns\n",
        "from sklearn.preprocessing import StandardScaler\n",
        "from sklearn.model_selection import train_test_split, KFold, cross_val_score, GridSearchCV\n",
        "from sklearn.linear_model import LogisticRegression\n",
        "from sklearn.tree import DecisionTreeClassifier\n",
        "from sklearn.neighbors import KNeighborsClassifier\n",
        "from sklearn.discriminant_analysis import LinearDiscriminantAnalysis\n",
        "from sklearn.naive_bayes import GaussianNB\n",
        "from sklearn.svm import SVC\n",
        "from sklearn.neural_network import MLPClassifier\n",
        "from sklearn.pipeline import Pipeline\n",
        "from sklearn.ensemble import AdaBoostClassifier, GradientBoostingClassifier, RandomForestClassifier, ExtraTreesClassifier\n",
        "from sklearn.metrics import classification_report, confusion_matrix, accuracy_score\n",
        "\n",
        "# Libraries for Deep Learning Models\n",
        "from tensorflow.keras.models import Sequential\n",
        "from tensorflow.keras.layers import Dense\n",
        "from tensorflow.keras.wrappers.scikit_learn import KerasClassifier\n",
        "from tensorflow.keras.optimizers import SGD\n",
        "\n",
        "# Libraries for Saving the Model\n",
        "from pickle import dump\n",
        "from pickle import load"
      ]
    },
    {
      "cell_type": "markdown",
      "source": [
        "<a id='1.2'></a>\n",
        "## 2.2. Loading the Data"
      ],
      "metadata": {
        "id": "qUcYDfK8zcbQ"
      }
    },
    {
      "cell_type": "code",
      "source": [
        "# load dataset\n",
        "loans = pd.read_csv('/content/accepted_2007_to_2017.csv')"
      ],
      "metadata": {
        "id": "tIMllRVuzTm7",
        "colab": {
          "base_uri": "https://localhost:8080/"
        },
        "outputId": "019d332b-6ee2-431a-e541-c8bfe74e6a6b"
      },
      "execution_count": 2,
      "outputs": [
        {
          "output_type": "stream",
          "name": "stderr",
          "text": [
            "/usr/local/lib/python3.7/dist-packages/IPython/core/interactiveshell.py:2718: DtypeWarning: Columns (0,18,48,58,117,128,129,130,133,134,135,138,144,145,146) have mixed types.Specify dtype option on import or set low_memory=False.\n",
            "  interactivity=interactivity, compiler=compiler, result=result)\n"
          ]
        }
      ]
    },
    {
      "cell_type": "code",
      "source": [
        "dataset = loans"
      ],
      "metadata": {
        "id": "qH52eYuw2W_A"
      },
      "execution_count": 3,
      "outputs": []
    },
    {
      "cell_type": "code",
      "source": [
        "import warnings\n",
        "warnings.filterwarnings('ignore')"
      ],
      "metadata": {
        "id": "_EvYmzJz6HF2"
      },
      "execution_count": 4,
      "outputs": []
    },
    {
      "cell_type": "code",
      "source": [
        "type(dataset)"
      ],
      "metadata": {
        "colab": {
          "base_uri": "https://localhost:8080/"
        },
        "id": "0ZCuI7719WjJ",
        "outputId": "01ebb21e-81b0-41ce-ac58-8439a3e854a7"
      },
      "execution_count": 5,
      "outputs": [
        {
          "output_type": "execute_result",
          "data": {
            "text/plain": [
              "pandas.core.frame.DataFrame"
            ]
          },
          "metadata": {},
          "execution_count": 5
        }
      ]
    },
    {
      "cell_type": "markdown",
      "source": [
        "<a id='2'></a>\n",
        "## 3. Data Preparation and Feature Selection"
      ],
      "metadata": {
        "id": "5ZLl7EPD9feM"
      }
    },
    {
      "cell_type": "markdown",
      "source": [
        "<a id='2.1'></a>\n",
        "## 3.1. Preparing the predicted variable"
      ],
      "metadata": {
        "id": "y9Ex62mv9i8K"
      }
    },
    {
      "cell_type": "code",
      "source": [
        "# Vamos a intentar predecir la variable loan_status. ¿Cuáles son los valores de esta variable?\n",
        "dataset['loan_status'].value_counts(dropna=False)"
      ],
      "metadata": {
        "colab": {
          "base_uri": "https://localhost:8080/"
        },
        "id": "kdtAh28_9Ztx",
        "outputId": "5d2c2f14-4a4c-486d-8a4d-7b06f376817b"
      },
      "execution_count": 6,
      "outputs": [
        {
          "output_type": "execute_result",
          "data": {
            "text/plain": [
              "Fully Paid                                             564833\n",
              "Current                                                554985\n",
              "Charged Off                                            140952\n",
              "Late (31-120 days)                                      15809\n",
              "In Grace Period                                          7279\n",
              "Late (16-30 days)                                        3841\n",
              "Does not meet the credit policy. Status:Fully Paid       1988\n",
              "Does not meet the credit policy. Status:Charged Off       761\n",
              "Default                                                    44\n",
              "NaN                                                        15\n",
              "Name: loan_status, dtype: int64"
            ]
          },
          "metadata": {},
          "execution_count": 6
        }
      ]
    },
    {
      "cell_type": "markdown",
      "source": [
        "* Vamos a tratar de conocer las diferencias en las características entre los préstamos terminados que han sido totalmente pagados o cancelados. No vamos a considerar los préstamos que están al día, que no cumplen la política de crédito, que están en mora o que tienen un estado perdido. Así que sólo mantendremos los préstamos con estado \"Totalmente pagado\" o \"Cargado\"."
      ],
      "metadata": {
        "id": "tdp6IS7idWQJ"
      }
    },
    {
      "cell_type": "code",
      "source": [
        "dataset = dataset.loc[dataset['loan_status'].isin(['Fully Paid', 'Charged Off'])]\n",
        "\n",
        "dataset['loan_status'].value_counts(dropna=False)\n",
        "\n",
        "dataset['loan_status'].value_counts(normalize=True, dropna=False)"
      ],
      "metadata": {
        "id": "r9ryM-Bn9v_2",
        "colab": {
          "base_uri": "https://localhost:8080/"
        },
        "outputId": "b1670422-573b-4bdf-b749-297cbe41c25c"
      },
      "execution_count": 7,
      "outputs": [
        {
          "output_type": "execute_result",
          "data": {
            "text/plain": [
              "Fully Paid     0.80029\n",
              "Charged Off    0.19971\n",
              "Name: loan_status, dtype: float64"
            ]
          },
          "metadata": {},
          "execution_count": 7
        }
      ]
    },
    {
      "cell_type": "markdown",
      "source": [
        "Aproximadamente el 80% de los préstamos restantes han sido pagados en su totalidad y el 20% han sido cargados, por lo que tenemos un problema de clasificación algo desequilibrado."
      ],
      "metadata": {
        "id": "jUtJPB2WdigW"
      }
    },
    {
      "cell_type": "code",
      "source": [
        "dataset['charged_off'] = (dataset['loan_status'] == 'Charged Off').apply(np.uint8)\n",
        "dataset.drop('loan_status', axis=1, inplace=True)"
      ],
      "metadata": {
        "id": "RCNcvbGPdjkV"
      },
      "execution_count": 8,
      "outputs": []
    },
    {
      "cell_type": "markdown",
      "source": [
        "<a id='2.2'></a>\n",
        "## 3.2. Feature Selection-Limit the Feature Space "
      ],
      "metadata": {
        "id": "ukQl1xKjdnFp"
      }
    },
    {
      "cell_type": "markdown",
      "source": [
        "El conjunto de datos completo tiene 150 características para cada préstamo. Eliminaremos las características en los siguientes pasos utilizando tres enfoques diferentes:\n",
        "\n",
        "* Eliminar las características que tengan más de un 30% de valores perdidos.\n",
        "* Eliminar las características que no son intuitivas en base a un juicio subjetivo.\n",
        "* Eliminar las características con baja correlación con la variable predicha\n"
      ],
      "metadata": {
        "id": "LXrpXG1CdxlB"
      }
    },
    {
      "cell_type": "markdown",
      "source": [
        "<a id='2.2.1'></a>\n",
        "### 3.2.1.  Features elimination by significant missing values"
      ],
      "metadata": {
        "id": "mTUcgbwsd8m_"
      }
    },
    {
      "cell_type": "markdown",
      "source": [
        "Primero se calcula el porcentaje de datos que faltan para cada característica:"
      ],
      "metadata": {
        "id": "Seuny44ceCVV"
      }
    },
    {
      "cell_type": "code",
      "source": [
        "missing_fractions = dataset.isnull().mean().sort_values(ascending=False)\n",
        "\n",
        "missing_fractions.head(10)"
      ],
      "metadata": {
        "id": "S8WDP_b1dsGI",
        "colab": {
          "base_uri": "https://localhost:8080/"
        },
        "outputId": "e62a60b7-edf8-4fb9-c014-e8248e086935"
      },
      "execution_count": 9,
      "outputs": [
        {
          "output_type": "execute_result",
          "data": {
            "text/plain": [
              "next_pymnt_d                                  1.000000\n",
              "member_id                                     1.000000\n",
              "orig_projected_additional_accrued_interest    0.999908\n",
              "sec_app_mths_since_last_major_derog           0.999609\n",
              "hardship_dpd                                  0.999493\n",
              "hardship_reason                               0.999493\n",
              "hardship_status                               0.999493\n",
              "deferral_term                                 0.999493\n",
              "hardship_amount                               0.999493\n",
              "hardship_start_date                           0.999493\n",
              "dtype: float64"
            ]
          },
          "metadata": {},
          "execution_count": 9
        }
      ]
    },
    {
      "cell_type": "code",
      "source": [
        "drop_list = sorted(list(missing_fractions[missing_fractions > 0.3].index))\n",
        "print(drop_list)"
      ],
      "metadata": {
        "id": "VHzgcfOReGlr",
        "colab": {
          "base_uri": "https://localhost:8080/"
        },
        "outputId": "7f85af94-e028-4a46-c2e8-58dd861b7d26"
      },
      "execution_count": 10,
      "outputs": [
        {
          "output_type": "stream",
          "name": "stdout",
          "text": [
            "['all_util', 'annual_inc_joint', 'debt_settlement_flag_date', 'deferral_term', 'desc', 'dti_joint', 'hardship_amount', 'hardship_dpd', 'hardship_end_date', 'hardship_last_payment_amount', 'hardship_length', 'hardship_loan_status', 'hardship_payoff_balance_amount', 'hardship_reason', 'hardship_start_date', 'hardship_status', 'hardship_type', 'il_util', 'inq_fi', 'inq_last_12m', 'max_bal_bc', 'member_id', 'mths_since_last_delinq', 'mths_since_last_major_derog', 'mths_since_last_record', 'mths_since_rcnt_il', 'mths_since_recent_bc_dlq', 'mths_since_recent_revol_delinq', 'next_pymnt_d', 'open_acc_6m', 'open_act_il', 'open_il_12m', 'open_il_24m', 'open_rv_12m', 'open_rv_24m', 'orig_projected_additional_accrued_interest', 'payment_plan_start_date', 'revol_bal_joint', 'sec_app_chargeoff_within_12_mths', 'sec_app_collections_12_mths_ex_med', 'sec_app_earliest_cr_line', 'sec_app_fico_range_high', 'sec_app_fico_range_low', 'sec_app_inq_last_6mths', 'sec_app_mort_acc', 'sec_app_mths_since_last_major_derog', 'sec_app_num_rev_accts', 'sec_app_open_acc', 'sec_app_open_act_il', 'sec_app_revol_util', 'settlement_amount', 'settlement_date', 'settlement_percentage', 'settlement_status', 'settlement_term', 'total_bal_il', 'total_cu_tl', 'verification_status_joint']\n"
          ]
        }
      ]
    },
    {
      "cell_type": "code",
      "source": [
        "len(drop_list)"
      ],
      "metadata": {
        "id": "6Ydpi7CqeLGt",
        "colab": {
          "base_uri": "https://localhost:8080/"
        },
        "outputId": "a8e460cc-3edd-451c-9af7-b710db69c137"
      },
      "execution_count": 11,
      "outputs": [
        {
          "output_type": "execute_result",
          "data": {
            "text/plain": [
              "58"
            ]
          },
          "metadata": {},
          "execution_count": 11
        }
      ]
    },
    {
      "cell_type": "code",
      "source": [
        "dataset.drop(labels=drop_list, axis=1, inplace=True)\n",
        "dataset.shape"
      ],
      "metadata": {
        "id": "ls9jWnOpeN1E",
        "colab": {
          "base_uri": "https://localhost:8080/"
        },
        "outputId": "45fda5f8-b8aa-4436-dea2-313f43681702"
      },
      "execution_count": 12,
      "outputs": [
        {
          "output_type": "execute_result",
          "data": {
            "text/plain": [
              "(705785, 92)"
            ]
          },
          "metadata": {},
          "execution_count": 12
        }
      ]
    },
    {
      "cell_type": "markdown",
      "source": [
        "<a id='2.2.2'></a>\n",
        "### 3.2.2.  Features elimination based on the intutiveness"
      ],
      "metadata": {
        "id": "AcjfEsGGeQOJ"
      }
    },
    {
      "cell_type": "code",
      "source": [
        "print(sorted(dataset.columns))"
      ],
      "metadata": {
        "id": "Nqc2U6iBeTF4",
        "colab": {
          "base_uri": "https://localhost:8080/"
        },
        "outputId": "c26a2e17-f9dd-45c0-c247-a710f631029b"
      },
      "execution_count": 13,
      "outputs": [
        {
          "output_type": "stream",
          "name": "stdout",
          "text": [
            "['acc_now_delinq', 'acc_open_past_24mths', 'addr_state', 'annual_inc', 'application_type', 'avg_cur_bal', 'bc_open_to_buy', 'bc_util', 'charged_off', 'chargeoff_within_12_mths', 'collection_recovery_fee', 'collections_12_mths_ex_med', 'debt_settlement_flag', 'delinq_2yrs', 'delinq_amnt', 'disbursement_method', 'dti', 'earliest_cr_line', 'emp_length', 'emp_title', 'fico_range_high', 'fico_range_low', 'funded_amnt', 'funded_amnt_inv', 'grade', 'hardship_flag', 'home_ownership', 'id', 'initial_list_status', 'inq_last_6mths', 'installment', 'int_rate', 'issue_d', 'last_credit_pull_d', 'last_fico_range_high', 'last_fico_range_low', 'last_pymnt_amnt', 'last_pymnt_d', 'loan_amnt', 'mo_sin_old_il_acct', 'mo_sin_old_rev_tl_op', 'mo_sin_rcnt_rev_tl_op', 'mo_sin_rcnt_tl', 'mort_acc', 'mths_since_recent_bc', 'mths_since_recent_inq', 'num_accts_ever_120_pd', 'num_actv_bc_tl', 'num_actv_rev_tl', 'num_bc_sats', 'num_bc_tl', 'num_il_tl', 'num_op_rev_tl', 'num_rev_accts', 'num_rev_tl_bal_gt_0', 'num_sats', 'num_tl_120dpd_2m', 'num_tl_30dpd', 'num_tl_90g_dpd_24m', 'num_tl_op_past_12m', 'open_acc', 'out_prncp', 'out_prncp_inv', 'pct_tl_nvr_dlq', 'percent_bc_gt_75', 'policy_code', 'pub_rec', 'pub_rec_bankruptcies', 'purpose', 'pymnt_plan', 'recoveries', 'revol_bal', 'revol_util', 'sub_grade', 'tax_liens', 'term', 'title', 'tot_coll_amt', 'tot_cur_bal', 'tot_hi_cred_lim', 'total_acc', 'total_bal_ex_mort', 'total_bc_limit', 'total_il_high_credit_limit', 'total_pymnt', 'total_pymnt_inv', 'total_rec_int', 'total_rec_late_fee', 'total_rec_prncp', 'total_rev_hi_lim', 'verification_status', 'zip_code']\n"
          ]
        }
      ]
    },
    {
      "cell_type": "markdown",
      "source": [
        "* La lista que se mantiene es la siguiente:"
      ],
      "metadata": {
        "id": "6j3ImzQvehdT"
      }
    },
    {
      "cell_type": "code",
      "source": [
        "keep_list = ['charged_off','funded_amnt','addr_state', 'annual_inc', 'application_type', 'dti', 'earliest_cr_line', 'emp_length', 'emp_title', 'fico_range_high', 'fico_range_low', 'grade', 'home_ownership', 'id', 'initial_list_status', 'installment', 'int_rate', 'loan_amnt', 'loan_status', 'mort_acc', 'open_acc', 'pub_rec', 'pub_rec_bankruptcies', 'purpose', 'revol_bal', 'revol_util', 'sub_grade', 'term', 'title', 'total_acc', 'verification_status', 'zip_code','last_pymnt_amnt','num_actv_rev_tl', 'mo_sin_rcnt_rev_tl_op','mo_sin_old_rev_tl_op',\"bc_util\",\"bc_open_to_buy\",\"avg_cur_bal\",\"acc_open_past_24mths\" ]\n",
        "\n",
        "len(keep_list)"
      ],
      "metadata": {
        "id": "vAzNfkudeZGV",
        "colab": {
          "base_uri": "https://localhost:8080/"
        },
        "outputId": "61cc3b96-24ef-4ac9-b2b7-2ec8ff356c84"
      },
      "execution_count": 14,
      "outputs": [
        {
          "output_type": "execute_result",
          "data": {
            "text/plain": [
              "40"
            ]
          },
          "metadata": {},
          "execution_count": 14
        }
      ]
    },
    {
      "cell_type": "code",
      "source": [
        "drop_list = [col for col in dataset.columns if col not in keep_list]\n",
        "\n",
        "dataset.drop(labels=drop_list, axis=1, inplace=True)\n",
        "\n",
        "dataset.shape"
      ],
      "metadata": {
        "id": "MfqhcJqheeLJ",
        "colab": {
          "base_uri": "https://localhost:8080/"
        },
        "outputId": "a2e71cbb-37ce-4fc8-d699-447258846ae0"
      },
      "execution_count": 15,
      "outputs": [
        {
          "output_type": "execute_result",
          "data": {
            "text/plain": [
              "(705785, 39)"
            ]
          },
          "metadata": {},
          "execution_count": 15
        }
      ]
    },
    {
      "cell_type": "markdown",
      "source": [
        "<a id='2.2.3'></a>\n",
        "### 3.2.3.  Features elimination based on the correlation"
      ],
      "metadata": {
        "id": "7t6PjXz9esCk"
      }
    },
    {
      "cell_type": "code",
      "source": [
        "correlation = dataset.corr()\n",
        "correlation_chargeOff = abs(correlation['charged_off'])"
      ],
      "metadata": {
        "id": "LVTR7qC-esms"
      },
      "execution_count": 16,
      "outputs": []
    },
    {
      "cell_type": "code",
      "source": [
        "correlation_chargeOff.sort_values(ascending=False)"
      ],
      "metadata": {
        "id": "-CutUNfeevxT",
        "colab": {
          "base_uri": "https://localhost:8080/"
        },
        "outputId": "4f93921a-89ee-4b47-f63a-ebce44452f8c"
      },
      "execution_count": 17,
      "outputs": [
        {
          "output_type": "execute_result",
          "data": {
            "text/plain": [
              "charged_off              1.000000\n",
              "last_pymnt_amnt          0.362838\n",
              "int_rate                 0.242947\n",
              "fico_range_low           0.136101\n",
              "fico_range_high          0.136100\n",
              "dti                      0.119843\n",
              "acc_open_past_24mths     0.100160\n",
              "bc_open_to_buy           0.084554\n",
              "avg_cur_bal              0.082523\n",
              "num_actv_rev_tl          0.076178\n",
              "bc_util                  0.075737\n",
              "mort_acc                 0.071338\n",
              "revol_util               0.070626\n",
              "funded_amnt              0.064195\n",
              "loan_amnt                0.064085\n",
              "mo_sin_rcnt_rev_tl_op    0.054438\n",
              "annual_inc               0.049020\n",
              "mo_sin_old_rev_tl_op     0.048080\n",
              "installment              0.041216\n",
              "open_acc                 0.034518\n",
              "pub_rec                  0.022085\n",
              "pub_rec_bankruptcies     0.016642\n",
              "revol_bal                0.014161\n",
              "total_acc                0.008726\n",
              "Name: charged_off, dtype: float64"
            ]
          },
          "metadata": {},
          "execution_count": 17
        }
      ]
    },
    {
      "cell_type": "code",
      "source": [
        "drop_list_corr = sorted(list(correlation_chargeOff[correlation_chargeOff < 0.03].index))\n",
        "print(drop_list_corr)"
      ],
      "metadata": {
        "id": "W-sJBCREe7Zf",
        "colab": {
          "base_uri": "https://localhost:8080/"
        },
        "outputId": "97d5786c-ccae-45f8-ae85-9f68a8b0edf1"
      },
      "execution_count": 18,
      "outputs": [
        {
          "output_type": "stream",
          "name": "stdout",
          "text": [
            "['pub_rec', 'pub_rec_bankruptcies', 'revol_bal', 'total_acc']\n"
          ]
        }
      ]
    },
    {
      "cell_type": "code",
      "source": [
        "dataset.drop(labels=drop_list_corr, axis=1, inplace=True)\n",
        "dataset.shape"
      ],
      "metadata": {
        "id": "zvw9qThTezHh",
        "colab": {
          "base_uri": "https://localhost:8080/"
        },
        "outputId": "f28c742d-4b4e-48bd-c4a1-72e972e24466"
      },
      "execution_count": 19,
      "outputs": [
        {
          "output_type": "execute_result",
          "data": {
            "text/plain": [
              "(705785, 35)"
            ]
          },
          "metadata": {},
          "execution_count": 19
        }
      ]
    },
    {
      "cell_type": "markdown",
      "source": [
        "<a id='3'></a>\n",
        "# 4. Feature Engineering and Exploratory Analysis"
      ],
      "metadata": {
        "id": "6_tCdF_NfB6x"
      }
    },
    {
      "cell_type": "code",
      "source": [
        "dataset.describe()"
      ],
      "metadata": {
        "id": "_1dgJztjfCeP",
        "colab": {
          "base_uri": "https://localhost:8080/",
          "height": 364
        },
        "outputId": "deffbb7b-d4b6-4874-d1e5-de4b31981355"
      },
      "execution_count": 20,
      "outputs": [
        {
          "output_type": "execute_result",
          "data": {
            "text/html": [
              "\n",
              "  <div id=\"df-512d4d9c-cd42-4ed5-a9af-503b67d4e47b\">\n",
              "    <div class=\"colab-df-container\">\n",
              "      <div>\n",
              "<style scoped>\n",
              "    .dataframe tbody tr th:only-of-type {\n",
              "        vertical-align: middle;\n",
              "    }\n",
              "\n",
              "    .dataframe tbody tr th {\n",
              "        vertical-align: top;\n",
              "    }\n",
              "\n",
              "    .dataframe thead th {\n",
              "        text-align: right;\n",
              "    }\n",
              "</style>\n",
              "<table border=\"1\" class=\"dataframe\">\n",
              "  <thead>\n",
              "    <tr style=\"text-align: right;\">\n",
              "      <th></th>\n",
              "      <th>loan_amnt</th>\n",
              "      <th>funded_amnt</th>\n",
              "      <th>int_rate</th>\n",
              "      <th>installment</th>\n",
              "      <th>annual_inc</th>\n",
              "      <th>dti</th>\n",
              "      <th>fico_range_low</th>\n",
              "      <th>fico_range_high</th>\n",
              "      <th>open_acc</th>\n",
              "      <th>revol_util</th>\n",
              "      <th>last_pymnt_amnt</th>\n",
              "      <th>acc_open_past_24mths</th>\n",
              "      <th>avg_cur_bal</th>\n",
              "      <th>bc_open_to_buy</th>\n",
              "      <th>bc_util</th>\n",
              "      <th>mo_sin_old_rev_tl_op</th>\n",
              "      <th>mo_sin_rcnt_rev_tl_op</th>\n",
              "      <th>mort_acc</th>\n",
              "      <th>num_actv_rev_tl</th>\n",
              "      <th>charged_off</th>\n",
              "    </tr>\n",
              "  </thead>\n",
              "  <tbody>\n",
              "    <tr>\n",
              "      <th>count</th>\n",
              "      <td>705785.000000</td>\n",
              "      <td>705785.000000</td>\n",
              "      <td>705785.000000</td>\n",
              "      <td>705785.000000</td>\n",
              "      <td>7.057850e+05</td>\n",
              "      <td>705763.000000</td>\n",
              "      <td>705785.000000</td>\n",
              "      <td>705785.00000</td>\n",
              "      <td>705785.000000</td>\n",
              "      <td>705369.000000</td>\n",
              "      <td>705785.000000</td>\n",
              "      <td>658504.000000</td>\n",
              "      <td>638246.000000</td>\n",
              "      <td>651890.000000</td>\n",
              "      <td>651467.000000</td>\n",
              "      <td>638257.000000</td>\n",
              "      <td>638257.000000</td>\n",
              "      <td>658504.000000</td>\n",
              "      <td>638258.000000</td>\n",
              "      <td>705785.000000</td>\n",
              "    </tr>\n",
              "    <tr>\n",
              "      <th>mean</th>\n",
              "      <td>14237.435621</td>\n",
              "      <td>14221.395042</td>\n",
              "      <td>13.487580</td>\n",
              "      <td>433.981695</td>\n",
              "      <td>7.459489e+04</td>\n",
              "      <td>17.691321</td>\n",
              "      <td>695.529014</td>\n",
              "      <td>699.52912</td>\n",
              "      <td>11.445784</td>\n",
              "      <td>53.768112</td>\n",
              "      <td>5571.390172</td>\n",
              "      <td>4.611219</td>\n",
              "      <td>13443.023290</td>\n",
              "      <td>9176.616492</td>\n",
              "      <td>62.520896</td>\n",
              "      <td>180.905723</td>\n",
              "      <td>12.823864</td>\n",
              "      <td>1.770966</td>\n",
              "      <td>5.678627</td>\n",
              "      <td>0.199710</td>\n",
              "    </tr>\n",
              "    <tr>\n",
              "      <th>std</th>\n",
              "      <td>8410.766719</td>\n",
              "      <td>8402.639940</td>\n",
              "      <td>4.514995</td>\n",
              "      <td>251.974407</td>\n",
              "      <td>6.237069e+04</td>\n",
              "      <td>8.515975</td>\n",
              "      <td>31.165598</td>\n",
              "      <td>31.16611</td>\n",
              "      <td>5.251230</td>\n",
              "      <td>24.176415</td>\n",
              "      <td>7027.553060</td>\n",
              "      <td>3.079274</td>\n",
              "      <td>16160.892262</td>\n",
              "      <td>14288.288509</td>\n",
              "      <td>27.559318</td>\n",
              "      <td>91.752323</td>\n",
              "      <td>15.730199</td>\n",
              "      <td>2.104960</td>\n",
              "      <td>3.180694</td>\n",
              "      <td>0.399782</td>\n",
              "    </tr>\n",
              "    <tr>\n",
              "      <th>min</th>\n",
              "      <td>500.000000</td>\n",
              "      <td>500.000000</td>\n",
              "      <td>5.320000</td>\n",
              "      <td>4.930000</td>\n",
              "      <td>0.000000e+00</td>\n",
              "      <td>0.000000</td>\n",
              "      <td>625.000000</td>\n",
              "      <td>629.00000</td>\n",
              "      <td>0.000000</td>\n",
              "      <td>0.000000</td>\n",
              "      <td>0.000000</td>\n",
              "      <td>0.000000</td>\n",
              "      <td>0.000000</td>\n",
              "      <td>0.000000</td>\n",
              "      <td>0.000000</td>\n",
              "      <td>3.000000</td>\n",
              "      <td>0.000000</td>\n",
              "      <td>0.000000</td>\n",
              "      <td>0.000000</td>\n",
              "      <td>0.000000</td>\n",
              "    </tr>\n",
              "    <tr>\n",
              "      <th>25%</th>\n",
              "      <td>8000.000000</td>\n",
              "      <td>8000.000000</td>\n",
              "      <td>10.150000</td>\n",
              "      <td>251.560000</td>\n",
              "      <td>4.500000e+04</td>\n",
              "      <td>11.560000</td>\n",
              "      <td>670.000000</td>\n",
              "      <td>674.00000</td>\n",
              "      <td>8.000000</td>\n",
              "      <td>36.000000</td>\n",
              "      <td>419.470000</td>\n",
              "      <td>2.000000</td>\n",
              "      <td>3084.000000</td>\n",
              "      <td>1243.000000</td>\n",
              "      <td>42.200000</td>\n",
              "      <td>117.000000</td>\n",
              "      <td>4.000000</td>\n",
              "      <td>0.000000</td>\n",
              "      <td>3.000000</td>\n",
              "      <td>0.000000</td>\n",
              "    </tr>\n",
              "    <tr>\n",
              "      <th>50%</th>\n",
              "      <td>12000.000000</td>\n",
              "      <td>12000.000000</td>\n",
              "      <td>13.110000</td>\n",
              "      <td>375.990000</td>\n",
              "      <td>6.400000e+04</td>\n",
              "      <td>17.220000</td>\n",
              "      <td>690.000000</td>\n",
              "      <td>694.00000</td>\n",
              "      <td>11.000000</td>\n",
              "      <td>54.600000</td>\n",
              "      <td>2447.270000</td>\n",
              "      <td>4.000000</td>\n",
              "      <td>7417.000000</td>\n",
              "      <td>4055.000000</td>\n",
              "      <td>66.600000</td>\n",
              "      <td>164.000000</td>\n",
              "      <td>8.000000</td>\n",
              "      <td>1.000000</td>\n",
              "      <td>5.000000</td>\n",
              "      <td>0.000000</td>\n",
              "    </tr>\n",
              "    <tr>\n",
              "      <th>75%</th>\n",
              "      <td>20000.000000</td>\n",
              "      <td>20000.000000</td>\n",
              "      <td>16.290000</td>\n",
              "      <td>571.110000</td>\n",
              "      <td>9.000000e+04</td>\n",
              "      <td>23.400000</td>\n",
              "      <td>710.000000</td>\n",
              "      <td>714.00000</td>\n",
              "      <td>14.000000</td>\n",
              "      <td>72.500000</td>\n",
              "      <td>8598.760000</td>\n",
              "      <td>6.000000</td>\n",
              "      <td>18747.000000</td>\n",
              "      <td>10916.000000</td>\n",
              "      <td>86.500000</td>\n",
              "      <td>228.000000</td>\n",
              "      <td>15.000000</td>\n",
              "      <td>3.000000</td>\n",
              "      <td>7.000000</td>\n",
              "      <td>0.000000</td>\n",
              "    </tr>\n",
              "    <tr>\n",
              "      <th>max</th>\n",
              "      <td>40000.000000</td>\n",
              "      <td>40000.000000</td>\n",
              "      <td>30.990000</td>\n",
              "      <td>1714.540000</td>\n",
              "      <td>8.900060e+06</td>\n",
              "      <td>999.000000</td>\n",
              "      <td>845.000000</td>\n",
              "      <td>850.00000</td>\n",
              "      <td>90.000000</td>\n",
              "      <td>892.300000</td>\n",
              "      <td>42148.530000</td>\n",
              "      <td>53.000000</td>\n",
              "      <td>958084.000000</td>\n",
              "      <td>559912.000000</td>\n",
              "      <td>339.600000</td>\n",
              "      <td>842.000000</td>\n",
              "      <td>372.000000</td>\n",
              "      <td>47.000000</td>\n",
              "      <td>57.000000</td>\n",
              "      <td>1.000000</td>\n",
              "    </tr>\n",
              "  </tbody>\n",
              "</table>\n",
              "</div>\n",
              "      <button class=\"colab-df-convert\" onclick=\"convertToInteractive('df-512d4d9c-cd42-4ed5-a9af-503b67d4e47b')\"\n",
              "              title=\"Convert this dataframe to an interactive table.\"\n",
              "              style=\"display:none;\">\n",
              "        \n",
              "  <svg xmlns=\"http://www.w3.org/2000/svg\" height=\"24px\"viewBox=\"0 0 24 24\"\n",
              "       width=\"24px\">\n",
              "    <path d=\"M0 0h24v24H0V0z\" fill=\"none\"/>\n",
              "    <path d=\"M18.56 5.44l.94 2.06.94-2.06 2.06-.94-2.06-.94-.94-2.06-.94 2.06-2.06.94zm-11 1L8.5 8.5l.94-2.06 2.06-.94-2.06-.94L8.5 2.5l-.94 2.06-2.06.94zm10 10l.94 2.06.94-2.06 2.06-.94-2.06-.94-.94-2.06-.94 2.06-2.06.94z\"/><path d=\"M17.41 7.96l-1.37-1.37c-.4-.4-.92-.59-1.43-.59-.52 0-1.04.2-1.43.59L10.3 9.45l-7.72 7.72c-.78.78-.78 2.05 0 2.83L4 21.41c.39.39.9.59 1.41.59.51 0 1.02-.2 1.41-.59l7.78-7.78 2.81-2.81c.8-.78.8-2.07 0-2.86zM5.41 20L4 18.59l7.72-7.72 1.47 1.35L5.41 20z\"/>\n",
              "  </svg>\n",
              "      </button>\n",
              "      \n",
              "  <style>\n",
              "    .colab-df-container {\n",
              "      display:flex;\n",
              "      flex-wrap:wrap;\n",
              "      gap: 12px;\n",
              "    }\n",
              "\n",
              "    .colab-df-convert {\n",
              "      background-color: #E8F0FE;\n",
              "      border: none;\n",
              "      border-radius: 50%;\n",
              "      cursor: pointer;\n",
              "      display: none;\n",
              "      fill: #1967D2;\n",
              "      height: 32px;\n",
              "      padding: 0 0 0 0;\n",
              "      width: 32px;\n",
              "    }\n",
              "\n",
              "    .colab-df-convert:hover {\n",
              "      background-color: #E2EBFA;\n",
              "      box-shadow: 0px 1px 2px rgba(60, 64, 67, 0.3), 0px 1px 3px 1px rgba(60, 64, 67, 0.15);\n",
              "      fill: #174EA6;\n",
              "    }\n",
              "\n",
              "    [theme=dark] .colab-df-convert {\n",
              "      background-color: #3B4455;\n",
              "      fill: #D2E3FC;\n",
              "    }\n",
              "\n",
              "    [theme=dark] .colab-df-convert:hover {\n",
              "      background-color: #434B5C;\n",
              "      box-shadow: 0px 1px 3px 1px rgba(0, 0, 0, 0.15);\n",
              "      filter: drop-shadow(0px 1px 2px rgba(0, 0, 0, 0.3));\n",
              "      fill: #FFFFFF;\n",
              "    }\n",
              "  </style>\n",
              "\n",
              "      <script>\n",
              "        const buttonEl =\n",
              "          document.querySelector('#df-512d4d9c-cd42-4ed5-a9af-503b67d4e47b button.colab-df-convert');\n",
              "        buttonEl.style.display =\n",
              "          google.colab.kernel.accessAllowed ? 'block' : 'none';\n",
              "\n",
              "        async function convertToInteractive(key) {\n",
              "          const element = document.querySelector('#df-512d4d9c-cd42-4ed5-a9af-503b67d4e47b');\n",
              "          const dataTable =\n",
              "            await google.colab.kernel.invokeFunction('convertToInteractive',\n",
              "                                                     [key], {});\n",
              "          if (!dataTable) return;\n",
              "\n",
              "          const docLinkHtml = 'Like what you see? Visit the ' +\n",
              "            '<a target=\"_blank\" href=https://colab.research.google.com/notebooks/data_table.ipynb>data table notebook</a>'\n",
              "            + ' to learn more about interactive tables.';\n",
              "          element.innerHTML = '';\n",
              "          dataTable['output_type'] = 'display_data';\n",
              "          await google.colab.output.renderOutput(dataTable, element);\n",
              "          const docLink = document.createElement('div');\n",
              "          docLink.innerHTML = docLinkHtml;\n",
              "          element.appendChild(docLink);\n",
              "        }\n",
              "      </script>\n",
              "    </div>\n",
              "  </div>\n",
              "  "
            ],
            "text/plain": [
              "           loan_amnt    funded_amnt  ...  num_actv_rev_tl    charged_off\n",
              "count  705785.000000  705785.000000  ...    638258.000000  705785.000000\n",
              "mean    14237.435621   14221.395042  ...         5.678627       0.199710\n",
              "std      8410.766719    8402.639940  ...         3.180694       0.399782\n",
              "min       500.000000     500.000000  ...         0.000000       0.000000\n",
              "25%      8000.000000    8000.000000  ...         3.000000       0.000000\n",
              "50%     12000.000000   12000.000000  ...         5.000000       0.000000\n",
              "75%     20000.000000   20000.000000  ...         7.000000       0.000000\n",
              "max     40000.000000   40000.000000  ...        57.000000       1.000000\n",
              "\n",
              "[8 rows x 20 columns]"
            ]
          },
          "metadata": {},
          "execution_count": 20
        }
      ]
    },
    {
      "cell_type": "markdown",
      "source": [
        "<a id='3.1'></a>\n",
        "## 4.1 Feature Analysis and Exploration"
      ],
      "metadata": {
        "id": "DAJDWzOrfG3P"
      }
    },
    {
      "cell_type": "markdown",
      "source": [
        "<a id='3.1.1'></a>\n",
        "### 4.1.1. Analysing the categorical features "
      ],
      "metadata": {
        "id": "gsKRdX_gfN7-"
      }
    },
    {
      "cell_type": "code",
      "source": [
        "dataset[['id','emp_title','title','zip_code']].describe()"
      ],
      "metadata": {
        "id": "IrQ__VZ6fKrx",
        "colab": {
          "base_uri": "https://localhost:8080/",
          "height": 175
        },
        "outputId": "1f3fa8d3-cd70-4a61-8fbf-e2920e43734c"
      },
      "execution_count": 21,
      "outputs": [
        {
          "output_type": "execute_result",
          "data": {
            "text/html": [
              "\n",
              "  <div id=\"df-9f621fe4-fabd-47cb-8327-e6366a2a54dd\">\n",
              "    <div class=\"colab-df-container\">\n",
              "      <div>\n",
              "<style scoped>\n",
              "    .dataframe tbody tr th:only-of-type {\n",
              "        vertical-align: middle;\n",
              "    }\n",
              "\n",
              "    .dataframe tbody tr th {\n",
              "        vertical-align: top;\n",
              "    }\n",
              "\n",
              "    .dataframe thead th {\n",
              "        text-align: right;\n",
              "    }\n",
              "</style>\n",
              "<table border=\"1\" class=\"dataframe\">\n",
              "  <thead>\n",
              "    <tr style=\"text-align: right;\">\n",
              "      <th></th>\n",
              "      <th>id</th>\n",
              "      <th>emp_title</th>\n",
              "      <th>title</th>\n",
              "      <th>zip_code</th>\n",
              "    </tr>\n",
              "  </thead>\n",
              "  <tbody>\n",
              "    <tr>\n",
              "      <th>count</th>\n",
              "      <td>705785</td>\n",
              "      <td>664407</td>\n",
              "      <td>704176</td>\n",
              "      <td>705785</td>\n",
              "    </tr>\n",
              "    <tr>\n",
              "      <th>unique</th>\n",
              "      <td>705785</td>\n",
              "      <td>258123</td>\n",
              "      <td>60298</td>\n",
              "      <td>921</td>\n",
              "    </tr>\n",
              "    <tr>\n",
              "      <th>top</th>\n",
              "      <td>14680062</td>\n",
              "      <td>Teacher</td>\n",
              "      <td>Debt consolidation</td>\n",
              "      <td>945xx</td>\n",
              "    </tr>\n",
              "    <tr>\n",
              "      <th>freq</th>\n",
              "      <td>1</td>\n",
              "      <td>9500</td>\n",
              "      <td>312204</td>\n",
              "      <td>8235</td>\n",
              "    </tr>\n",
              "  </tbody>\n",
              "</table>\n",
              "</div>\n",
              "      <button class=\"colab-df-convert\" onclick=\"convertToInteractive('df-9f621fe4-fabd-47cb-8327-e6366a2a54dd')\"\n",
              "              title=\"Convert this dataframe to an interactive table.\"\n",
              "              style=\"display:none;\">\n",
              "        \n",
              "  <svg xmlns=\"http://www.w3.org/2000/svg\" height=\"24px\"viewBox=\"0 0 24 24\"\n",
              "       width=\"24px\">\n",
              "    <path d=\"M0 0h24v24H0V0z\" fill=\"none\"/>\n",
              "    <path d=\"M18.56 5.44l.94 2.06.94-2.06 2.06-.94-2.06-.94-.94-2.06-.94 2.06-2.06.94zm-11 1L8.5 8.5l.94-2.06 2.06-.94-2.06-.94L8.5 2.5l-.94 2.06-2.06.94zm10 10l.94 2.06.94-2.06 2.06-.94-2.06-.94-.94-2.06-.94 2.06-2.06.94z\"/><path d=\"M17.41 7.96l-1.37-1.37c-.4-.4-.92-.59-1.43-.59-.52 0-1.04.2-1.43.59L10.3 9.45l-7.72 7.72c-.78.78-.78 2.05 0 2.83L4 21.41c.39.39.9.59 1.41.59.51 0 1.02-.2 1.41-.59l7.78-7.78 2.81-2.81c.8-.78.8-2.07 0-2.86zM5.41 20L4 18.59l7.72-7.72 1.47 1.35L5.41 20z\"/>\n",
              "  </svg>\n",
              "      </button>\n",
              "      \n",
              "  <style>\n",
              "    .colab-df-container {\n",
              "      display:flex;\n",
              "      flex-wrap:wrap;\n",
              "      gap: 12px;\n",
              "    }\n",
              "\n",
              "    .colab-df-convert {\n",
              "      background-color: #E8F0FE;\n",
              "      border: none;\n",
              "      border-radius: 50%;\n",
              "      cursor: pointer;\n",
              "      display: none;\n",
              "      fill: #1967D2;\n",
              "      height: 32px;\n",
              "      padding: 0 0 0 0;\n",
              "      width: 32px;\n",
              "    }\n",
              "\n",
              "    .colab-df-convert:hover {\n",
              "      background-color: #E2EBFA;\n",
              "      box-shadow: 0px 1px 2px rgba(60, 64, 67, 0.3), 0px 1px 3px 1px rgba(60, 64, 67, 0.15);\n",
              "      fill: #174EA6;\n",
              "    }\n",
              "\n",
              "    [theme=dark] .colab-df-convert {\n",
              "      background-color: #3B4455;\n",
              "      fill: #D2E3FC;\n",
              "    }\n",
              "\n",
              "    [theme=dark] .colab-df-convert:hover {\n",
              "      background-color: #434B5C;\n",
              "      box-shadow: 0px 1px 3px 1px rgba(0, 0, 0, 0.15);\n",
              "      filter: drop-shadow(0px 1px 2px rgba(0, 0, 0, 0.3));\n",
              "      fill: #FFFFFF;\n",
              "    }\n",
              "  </style>\n",
              "\n",
              "      <script>\n",
              "        const buttonEl =\n",
              "          document.querySelector('#df-9f621fe4-fabd-47cb-8327-e6366a2a54dd button.colab-df-convert');\n",
              "        buttonEl.style.display =\n",
              "          google.colab.kernel.accessAllowed ? 'block' : 'none';\n",
              "\n",
              "        async function convertToInteractive(key) {\n",
              "          const element = document.querySelector('#df-9f621fe4-fabd-47cb-8327-e6366a2a54dd');\n",
              "          const dataTable =\n",
              "            await google.colab.kernel.invokeFunction('convertToInteractive',\n",
              "                                                     [key], {});\n",
              "          if (!dataTable) return;\n",
              "\n",
              "          const docLinkHtml = 'Like what you see? Visit the ' +\n",
              "            '<a target=\"_blank\" href=https://colab.research.google.com/notebooks/data_table.ipynb>data table notebook</a>'\n",
              "            + ' to learn more about interactive tables.';\n",
              "          element.innerHTML = '';\n",
              "          dataTable['output_type'] = 'display_data';\n",
              "          await google.colab.output.renderOutput(dataTable, element);\n",
              "          const docLink = document.createElement('div');\n",
              "          docLink.innerHTML = docLinkHtml;\n",
              "          element.appendChild(docLink);\n",
              "        }\n",
              "      </script>\n",
              "    </div>\n",
              "  </div>\n",
              "  "
            ],
            "text/plain": [
              "              id emp_title               title zip_code\n",
              "count     705785    664407              704176   705785\n",
              "unique    705785    258123               60298      921\n",
              "top     14680062   Teacher  Debt consolidation    945xx\n",
              "freq           1      9500              312204     8235"
            ]
          },
          "metadata": {},
          "execution_count": 21
        }
      ]
    },
    {
      "cell_type": "code",
      "source": [
        "# Los ID son todos únicos y hay demasiados títulos y cargos y código postal, \n",
        "# esta columna se elimina El ID no es útil para el modelado.\n",
        "dataset.drop(['id','emp_title','title','zip_code'], axis=1, inplace=True)"
      ],
      "metadata": {
        "id": "5vBWCNNjfUPW"
      },
      "execution_count": 22,
      "outputs": []
    },
    {
      "cell_type": "markdown",
      "source": [
        "#### **Feature- Term**"
      ],
      "metadata": {
        "id": "dIFq6GZkfVyb"
      }
    },
    {
      "cell_type": "code",
      "source": [
        "# Diccionario de datos: \"El número de pagos del préstamo. Los valores están en meses y pueden ser 36 o 60\". \n",
        "# Los préstamos a 60 meses son más propensos a cobrar\n",
        "# Convertir el plazo en enteros\n",
        "dataset['term'] = dataset['term'].apply(lambda s: np.int8(s.split()[0]))"
      ],
      "metadata": {
        "id": "CffzSJDifZOj"
      },
      "execution_count": 23,
      "outputs": []
    },
    {
      "cell_type": "code",
      "source": [
        "dataset.groupby('term')['charged_off'].value_counts(normalize=True).loc[:,1]"
      ],
      "metadata": {
        "id": "S_cY0YCvffBz",
        "colab": {
          "base_uri": "https://localhost:8080/"
        },
        "outputId": "41e53655-ff2d-4fae-a3a0-78ff7994a9ca"
      },
      "execution_count": 24,
      "outputs": [
        {
          "output_type": "execute_result",
          "data": {
            "text/plain": [
              "term\n",
              "36    0.157332\n",
              "60    0.332817\n",
              "Name: charged_off, dtype: float64"
            ]
          },
          "metadata": {},
          "execution_count": 24
        }
      ]
    },
    {
      "cell_type": "markdown",
      "source": [
        "* Los préstamos con periodos de cinco años tienen más del doble de probabilidades de ser cancelados que los préstamos con periodos de tres años."
      ],
      "metadata": {
        "id": "d3Jwb44gfifm"
      }
    },
    {
      "cell_type": "markdown",
      "source": [
        "#### **Feature- Employement Length**"
      ],
      "metadata": {
        "id": "YC5DWj_-fteb"
      }
    },
    {
      "cell_type": "code",
      "source": [
        "dataset['emp_length'].replace(to_replace='10+ years', value='10 years', inplace=True)\n",
        "\n",
        "dataset['emp_length'].replace('< 1 year', '0 years', inplace=True)\n",
        "\n",
        "def emp_length_to_int(s):\n",
        "    if pd.isnull(s):\n",
        "        return s\n",
        "    else:\n",
        "        return np.int8(s.split()[0])\n",
        "    \n",
        "dataset['emp_length'] = dataset['emp_length'].apply(emp_length_to_int)"
      ],
      "metadata": {
        "id": "ruinJWYEfmxh"
      },
      "execution_count": 25,
      "outputs": []
    },
    {
      "cell_type": "code",
      "source": [
        "charge_off_rates = dataset.groupby('emp_length')['charged_off'].value_counts(normalize=True).loc[:,1]\n",
        "sns.barplot(x=charge_off_rates.index, y=charge_off_rates.values, color='#5975A4', saturation=1)"
      ],
      "metadata": {
        "id": "nuNerkP2fzw9",
        "colab": {
          "base_uri": "https://localhost:8080/",
          "height": 298
        },
        "outputId": "07c701c0-17cb-4803-ba66-9b98616464b5"
      },
      "execution_count": 26,
      "outputs": [
        {
          "output_type": "execute_result",
          "data": {
            "text/plain": [
              "<matplotlib.axes._subplots.AxesSubplot at 0x7fb5b222ff10>"
            ]
          },
          "metadata": {},
          "execution_count": 26
        },
        {
          "output_type": "display_data",
          "data": {
            "image/png": "[encoded data removed]",
            "text/plain": [
              "<Figure size 432x288 with 1 Axes>"
            ]
          },
          "metadata": {
            "needs_background": "light"
          }
        }
      ]
    },
    {
      "cell_type": "markdown",
      "source": [
        "La situación de los préstamos no parece variar mucho con la duración del empleo por término medio, por lo que se deja de lado"
      ],
      "metadata": {
        "id": "qkbKQrfbf33Q"
      }
    },
    {
      "cell_type": "code",
      "source": [
        "dataset.drop(['emp_length'], axis=1, inplace=True)"
      ],
      "metadata": {
        "id": "0FwrOcqCf-A_"
      },
      "execution_count": 27,
      "outputs": []
    },
    {
      "cell_type": "markdown",
      "source": [
        "#### **Feature : Subgrade**"
      ],
      "metadata": {
        "id": "lBPPsErogFVA"
      }
    },
    {
      "cell_type": "code",
      "source": [
        "charge_off_rates = dataset.groupby('sub_grade')['charged_off'].value_counts(normalize=True).loc[:,1]\n",
        "sns.set(rc={'figure.figsize':(12,5)})\n",
        "sns.barplot(x=charge_off_rates.index, y=charge_off_rates.values, color='#5975A4', saturation=1)"
      ],
      "metadata": {
        "id": "xehcuMxdgHeB",
        "colab": {
          "base_uri": "https://localhost:8080/",
          "height": 357
        },
        "outputId": "92cfd141-b45f-4f4f-b91c-ef9c90f9c117"
      },
      "execution_count": 28,
      "outputs": [
        {
          "output_type": "execute_result",
          "data": {
            "text/plain": [
              "<matplotlib.axes._subplots.AxesSubplot at 0x7fb5b2225650>"
            ]
          },
          "metadata": {},
          "execution_count": 28
        },
        {
          "output_type": "display_data",
          "data": {
            "image/png": "[encoded data removed]",
            "text/plain": [
              "<Figure size 864x360 with 1 Axes>"
            ]
          },
          "metadata": {}
        }
      ]
    },
    {
      "cell_type": "markdown",
      "source": [
        "Hay una clara tendencia de mayor probabilidad de impago a medida que empeora el subgrado."
      ],
      "metadata": {
        "id": "ZERYPfvrgQgn"
      }
    },
    {
      "cell_type": "code",
      "source": [
        "dataset['earliest_cr_line'] = dataset['earliest_cr_line'].apply(lambda s: int(s[-4:]))"
      ],
      "metadata": {
        "id": "f4BNbHbzgRSj"
      },
      "execution_count": 29,
      "outputs": []
    },
    {
      "cell_type": "markdown",
      "source": [
        "<a id='3.1.2'></a>\n",
        "### 4.1.2. Analysing the continuous features"
      ],
      "metadata": {
        "id": "t82d8L-hgT7x"
      }
    },
    {
      "cell_type": "markdown",
      "source": [
        "#### **Feature : Annual Income**"
      ],
      "metadata": {
        "id": "rhgfMLg2gcjS"
      }
    },
    {
      "cell_type": "code",
      "source": [
        "dataset[['annual_inc']].describe()"
      ],
      "metadata": {
        "id": "qvolqPXKgW3P",
        "colab": {
          "base_uri": "https://localhost:8080/",
          "height": 300
        },
        "outputId": "8942f0d9-4f29-450c-9932-92a0a9f684db"
      },
      "execution_count": 30,
      "outputs": [
        {
          "output_type": "execute_result",
          "data": {
            "text/html": [
              "\n",
              "  <div id=\"df-f19790fe-12ca-4807-855c-70d5b120f8be\">\n",
              "    <div class=\"colab-df-container\">\n",
              "      <div>\n",
              "<style scoped>\n",
              "    .dataframe tbody tr th:only-of-type {\n",
              "        vertical-align: middle;\n",
              "    }\n",
              "\n",
              "    .dataframe tbody tr th {\n",
              "        vertical-align: top;\n",
              "    }\n",
              "\n",
              "    .dataframe thead th {\n",
              "        text-align: right;\n",
              "    }\n",
              "</style>\n",
              "<table border=\"1\" class=\"dataframe\">\n",
              "  <thead>\n",
              "    <tr style=\"text-align: right;\">\n",
              "      <th></th>\n",
              "      <th>annual_inc</th>\n",
              "    </tr>\n",
              "  </thead>\n",
              "  <tbody>\n",
              "    <tr>\n",
              "      <th>count</th>\n",
              "      <td>7.057850e+05</td>\n",
              "    </tr>\n",
              "    <tr>\n",
              "      <th>mean</th>\n",
              "      <td>7.459489e+04</td>\n",
              "    </tr>\n",
              "    <tr>\n",
              "      <th>std</th>\n",
              "      <td>6.237069e+04</td>\n",
              "    </tr>\n",
              "    <tr>\n",
              "      <th>min</th>\n",
              "      <td>0.000000e+00</td>\n",
              "    </tr>\n",
              "    <tr>\n",
              "      <th>25%</th>\n",
              "      <td>4.500000e+04</td>\n",
              "    </tr>\n",
              "    <tr>\n",
              "      <th>50%</th>\n",
              "      <td>6.400000e+04</td>\n",
              "    </tr>\n",
              "    <tr>\n",
              "      <th>75%</th>\n",
              "      <td>9.000000e+04</td>\n",
              "    </tr>\n",
              "    <tr>\n",
              "      <th>max</th>\n",
              "      <td>8.900060e+06</td>\n",
              "    </tr>\n",
              "  </tbody>\n",
              "</table>\n",
              "</div>\n",
              "      <button class=\"colab-df-convert\" onclick=\"convertToInteractive('df-f19790fe-12ca-4807-855c-70d5b120f8be')\"\n",
              "              title=\"Convert this dataframe to an interactive table.\"\n",
              "              style=\"display:none;\">\n",
              "        \n",
              "  <svg xmlns=\"http://www.w3.org/2000/svg\" height=\"24px\"viewBox=\"0 0 24 24\"\n",
              "       width=\"24px\">\n",
              "    <path d=\"M0 0h24v24H0V0z\" fill=\"none\"/>\n",
              "    <path d=\"M18.56 5.44l.94 2.06.94-2.06 2.06-.94-2.06-.94-.94-2.06-.94 2.06-2.06.94zm-11 1L8.5 8.5l.94-2.06 2.06-.94-2.06-.94L8.5 2.5l-.94 2.06-2.06.94zm10 10l.94 2.06.94-2.06 2.06-.94-2.06-.94-.94-2.06-.94 2.06-2.06.94z\"/><path d=\"M17.41 7.96l-1.37-1.37c-.4-.4-.92-.59-1.43-.59-.52 0-1.04.2-1.43.59L10.3 9.45l-7.72 7.72c-.78.78-.78 2.05 0 2.83L4 21.41c.39.39.9.59 1.41.59.51 0 1.02-.2 1.41-.59l7.78-7.78 2.81-2.81c.8-.78.8-2.07 0-2.86zM5.41 20L4 18.59l7.72-7.72 1.47 1.35L5.41 20z\"/>\n",
              "  </svg>\n",
              "      </button>\n",
              "      \n",
              "  <style>\n",
              "    .colab-df-container {\n",
              "      display:flex;\n",
              "      flex-wrap:wrap;\n",
              "      gap: 12px;\n",
              "    }\n",
              "\n",
              "    .colab-df-convert {\n",
              "      background-color: #E8F0FE;\n",
              "      border: none;\n",
              "      border-radius: 50%;\n",
              "      cursor: pointer;\n",
              "      display: none;\n",
              "      fill: #1967D2;\n",
              "      height: 32px;\n",
              "      padding: 0 0 0 0;\n",
              "      width: 32px;\n",
              "    }\n",
              "\n",
              "    .colab-df-convert:hover {\n",
              "      background-color: #E2EBFA;\n",
              "      box-shadow: 0px 1px 2px rgba(60, 64, 67, 0.3), 0px 1px 3px 1px rgba(60, 64, 67, 0.15);\n",
              "      fill: #174EA6;\n",
              "    }\n",
              "\n",
              "    [theme=dark] .colab-df-convert {\n",
              "      background-color: #3B4455;\n",
              "      fill: #D2E3FC;\n",
              "    }\n",
              "\n",
              "    [theme=dark] .colab-df-convert:hover {\n",
              "      background-color: #434B5C;\n",
              "      box-shadow: 0px 1px 3px 1px rgba(0, 0, 0, 0.15);\n",
              "      filter: drop-shadow(0px 1px 2px rgba(0, 0, 0, 0.3));\n",
              "      fill: #FFFFFF;\n",
              "    }\n",
              "  </style>\n",
              "\n",
              "      <script>\n",
              "        const buttonEl =\n",
              "          document.querySelector('#df-f19790fe-12ca-4807-855c-70d5b120f8be button.colab-df-convert');\n",
              "        buttonEl.style.display =\n",
              "          google.colab.kernel.accessAllowed ? 'block' : 'none';\n",
              "\n",
              "        async function convertToInteractive(key) {\n",
              "          const element = document.querySelector('#df-f19790fe-12ca-4807-855c-70d5b120f8be');\n",
              "          const dataTable =\n",
              "            await google.colab.kernel.invokeFunction('convertToInteractive',\n",
              "                                                     [key], {});\n",
              "          if (!dataTable) return;\n",
              "\n",
              "          const docLinkHtml = 'Like what you see? Visit the ' +\n",
              "            '<a target=\"_blank\" href=https://colab.research.google.com/notebooks/data_table.ipynb>data table notebook</a>'\n",
              "            + ' to learn more about interactive tables.';\n",
              "          element.innerHTML = '';\n",
              "          dataTable['output_type'] = 'display_data';\n",
              "          await google.colab.output.renderOutput(dataTable, element);\n",
              "          const docLink = document.createElement('div');\n",
              "          docLink.innerHTML = docLinkHtml;\n",
              "          element.appendChild(docLink);\n",
              "        }\n",
              "      </script>\n",
              "    </div>\n",
              "  </div>\n",
              "  "
            ],
            "text/plain": [
              "         annual_inc\n",
              "count  7.057850e+05\n",
              "mean   7.459489e+04\n",
              "std    6.237069e+04\n",
              "min    0.000000e+00\n",
              "25%    4.500000e+04\n",
              "50%    6.400000e+04\n",
              "75%    9.000000e+04\n",
              "max    8.900060e+06"
            ]
          },
          "metadata": {},
          "execution_count": 30
        }
      ]
    },
    {
      "cell_type": "markdown",
      "source": [
        "* Los ingresos anuales oscilan entre 0 y 8,990.000, con una mediana de 64.000 dólares. Debido al amplio rango de ingresos, debemos tomar una transformación logarítmica de la variable de ingresos anuales."
      ],
      "metadata": {
        "id": "tUHLuVjXgnIy"
      }
    },
    {
      "cell_type": "code",
      "source": [
        "dataset['log_annual_inc'] = dataset['annual_inc'].apply(lambda x: np.log10(x+1))\n",
        "dataset.drop('annual_inc', axis=1, inplace=True)"
      ],
      "metadata": {
        "id": "u4NSthphgn30"
      },
      "execution_count": 31,
      "outputs": []
    },
    {
      "cell_type": "markdown",
      "source": [
        "#### **FICO Scores**"
      ],
      "metadata": {
        "id": "itXegR-0g5ia"
      }
    },
    {
      "cell_type": "code",
      "source": [
        "dataset[['fico_range_low','fico_range_high']].corr()"
      ],
      "metadata": {
        "id": "_fwyZlcvg23X",
        "colab": {
          "base_uri": "https://localhost:8080/",
          "height": 112
        },
        "outputId": "8b97430a-c7cc-4252-9c5b-c62b9326000a"
      },
      "execution_count": 32,
      "outputs": [
        {
          "output_type": "execute_result",
          "data": {
            "text/html": [
              "\n",
              "  <div id=\"df-3e2c68a8-5716-4ee4-8d21-e853cdcf7260\">\n",
              "    <div class=\"colab-df-container\">\n",
              "      <div>\n",
              "<style scoped>\n",
              "    .dataframe tbody tr th:only-of-type {\n",
              "        vertical-align: middle;\n",
              "    }\n",
              "\n",
              "    .dataframe tbody tr th {\n",
              "        vertical-align: top;\n",
              "    }\n",
              "\n",
              "    .dataframe thead th {\n",
              "        text-align: right;\n",
              "    }\n",
              "</style>\n",
              "<table border=\"1\" class=\"dataframe\">\n",
              "  <thead>\n",
              "    <tr style=\"text-align: right;\">\n",
              "      <th></th>\n",
              "      <th>fico_range_low</th>\n",
              "      <th>fico_range_high</th>\n",
              "    </tr>\n",
              "  </thead>\n",
              "  <tbody>\n",
              "    <tr>\n",
              "      <th>fico_range_low</th>\n",
              "      <td>1.0</td>\n",
              "      <td>1.0</td>\n",
              "    </tr>\n",
              "    <tr>\n",
              "      <th>fico_range_high</th>\n",
              "      <td>1.0</td>\n",
              "      <td>1.0</td>\n",
              "    </tr>\n",
              "  </tbody>\n",
              "</table>\n",
              "</div>\n",
              "      <button class=\"colab-df-convert\" onclick=\"convertToInteractive('df-3e2c68a8-5716-4ee4-8d21-e853cdcf7260')\"\n",
              "              title=\"Convert this dataframe to an interactive table.\"\n",
              "              style=\"display:none;\">\n",
              "        \n",
              "  <svg xmlns=\"http://www.w3.org/2000/svg\" height=\"24px\"viewBox=\"0 0 24 24\"\n",
              "       width=\"24px\">\n",
              "    <path d=\"M0 0h24v24H0V0z\" fill=\"none\"/>\n",
              "    <path d=\"M18.56 5.44l.94 2.06.94-2.06 2.06-.94-2.06-.94-.94-2.06-.94 2.06-2.06.94zm-11 1L8.5 8.5l.94-2.06 2.06-.94-2.06-.94L8.5 2.5l-.94 2.06-2.06.94zm10 10l.94 2.06.94-2.06 2.06-.94-2.06-.94-.94-2.06-.94 2.06-2.06.94z\"/><path d=\"M17.41 7.96l-1.37-1.37c-.4-.4-.92-.59-1.43-.59-.52 0-1.04.2-1.43.59L10.3 9.45l-7.72 7.72c-.78.78-.78 2.05 0 2.83L4 21.41c.39.39.9.59 1.41.59.51 0 1.02-.2 1.41-.59l7.78-7.78 2.81-2.81c.8-.78.8-2.07 0-2.86zM5.41 20L4 18.59l7.72-7.72 1.47 1.35L5.41 20z\"/>\n",
              "  </svg>\n",
              "      </button>\n",
              "      \n",
              "  <style>\n",
              "    .colab-df-container {\n",
              "      display:flex;\n",
              "      flex-wrap:wrap;\n",
              "      gap: 12px;\n",
              "    }\n",
              "\n",
              "    .colab-df-convert {\n",
              "      background-color: #E8F0FE;\n",
              "      border: none;\n",
              "      border-radius: 50%;\n",
              "      cursor: pointer;\n",
              "      display: none;\n",
              "      fill: #1967D2;\n",
              "      height: 32px;\n",
              "      padding: 0 0 0 0;\n",
              "      width: 32px;\n",
              "    }\n",
              "\n",
              "    .colab-df-convert:hover {\n",
              "      background-color: #E2EBFA;\n",
              "      box-shadow: 0px 1px 2px rgba(60, 64, 67, 0.3), 0px 1px 3px 1px rgba(60, 64, 67, 0.15);\n",
              "      fill: #174EA6;\n",
              "    }\n",
              "\n",
              "    [theme=dark] .colab-df-convert {\n",
              "      background-color: #3B4455;\n",
              "      fill: #D2E3FC;\n",
              "    }\n",
              "\n",
              "    [theme=dark] .colab-df-convert:hover {\n",
              "      background-color: #434B5C;\n",
              "      box-shadow: 0px 1px 3px 1px rgba(0, 0, 0, 0.15);\n",
              "      filter: drop-shadow(0px 1px 2px rgba(0, 0, 0, 0.3));\n",
              "      fill: #FFFFFF;\n",
              "    }\n",
              "  </style>\n",
              "\n",
              "      <script>\n",
              "        const buttonEl =\n",
              "          document.querySelector('#df-3e2c68a8-5716-4ee4-8d21-e853cdcf7260 button.colab-df-convert');\n",
              "        buttonEl.style.display =\n",
              "          google.colab.kernel.accessAllowed ? 'block' : 'none';\n",
              "\n",
              "        async function convertToInteractive(key) {\n",
              "          const element = document.querySelector('#df-3e2c68a8-5716-4ee4-8d21-e853cdcf7260');\n",
              "          const dataTable =\n",
              "            await google.colab.kernel.invokeFunction('convertToInteractive',\n",
              "                                                     [key], {});\n",
              "          if (!dataTable) return;\n",
              "\n",
              "          const docLinkHtml = 'Like what you see? Visit the ' +\n",
              "            '<a target=\"_blank\" href=https://colab.research.google.com/notebooks/data_table.ipynb>data table notebook</a>'\n",
              "            + ' to learn more about interactive tables.';\n",
              "          element.innerHTML = '';\n",
              "          dataTable['output_type'] = 'display_data';\n",
              "          await google.colab.output.renderOutput(dataTable, element);\n",
              "          const docLink = document.createElement('div');\n",
              "          docLink.innerHTML = docLinkHtml;\n",
              "          element.appendChild(docLink);\n",
              "        }\n",
              "      </script>\n",
              "    </div>\n",
              "  </div>\n",
              "  "
            ],
            "text/plain": [
              "                 fico_range_low  fico_range_high\n",
              "fico_range_low              1.0              1.0\n",
              "fico_range_high             1.0              1.0"
            ]
          },
          "metadata": {},
          "execution_count": 32
        }
      ]
    },
    {
      "cell_type": "markdown",
      "source": [
        "* Dado que la correlación entre fico bajo y alto es 1 se prefiere mantener una sola característica que es la media de las puntuaciones FICO."
      ],
      "metadata": {
        "id": "RFD9ewtyg-qo"
      }
    },
    {
      "cell_type": "code",
      "source": [
        "dataset['fico_score'] = 0.5*dataset['fico_range_low'] + 0.5*dataset['fico_range_high']\n",
        "\n",
        "dataset.drop(['fico_range_high', 'fico_range_low'], axis=1, inplace=True)"
      ],
      "metadata": {
        "id": "lcgBOXOAhEM1"
      },
      "execution_count": 33,
      "outputs": []
    },
    {
      "cell_type": "code",
      "source": [
        "dataset['charged_off'].value_counts()"
      ],
      "metadata": {
        "id": "FEAnRCKohKbm",
        "colab": {
          "base_uri": "https://localhost:8080/"
        },
        "outputId": "9f50139a-9d8c-42a1-eb5f-6b90e6fd51a2"
      },
      "execution_count": 34,
      "outputs": [
        {
          "output_type": "execute_result",
          "data": {
            "text/plain": [
              "0    564833\n",
              "1    140952\n",
              "Name: charged_off, dtype: int64"
            ]
          },
          "metadata": {},
          "execution_count": 34
        }
      ]
    },
    {
      "cell_type": "markdown",
      "source": [
        "<a id='3.2'></a>\n",
        "## 4.2. Encoding Categorical Data"
      ],
      "metadata": {
        "id": "JaijuH0ThL90"
      }
    },
    {
      "cell_type": "code",
      "source": [
        "from sklearn.preprocessing import LabelEncoder"
      ],
      "metadata": {
        "id": "u_ddg5__hPtg"
      },
      "execution_count": 35,
      "outputs": []
    },
    {
      "cell_type": "code",
      "source": [
        "# Máscara booleana categórica\n",
        "categorical_feature_mask = dataset.dtypes==object\n",
        "# filtrar columnas categóricas utilizando la máscara y convertirla en una lista\n",
        "categorical_cols = dataset.columns[categorical_feature_mask].tolist()"
      ],
      "metadata": {
        "id": "W3Ao3I4phWua"
      },
      "execution_count": 36,
      "outputs": []
    },
    {
      "cell_type": "code",
      "source": [
        "categorical_cols"
      ],
      "metadata": {
        "id": "yQlJPoM1hYx4",
        "colab": {
          "base_uri": "https://localhost:8080/"
        },
        "outputId": "0139bdc4-a3e9-4494-8886-7394696c63f0"
      },
      "execution_count": 37,
      "outputs": [
        {
          "output_type": "execute_result",
          "data": {
            "text/plain": [
              "['grade',\n",
              " 'sub_grade',\n",
              " 'home_ownership',\n",
              " 'verification_status',\n",
              " 'purpose',\n",
              " 'addr_state',\n",
              " 'initial_list_status',\n",
              " 'application_type']"
            ]
          },
          "metadata": {},
          "execution_count": 37
        }
      ]
    },
    {
      "cell_type": "code",
      "source": [
        "le = LabelEncoder()\n",
        "# aplicar le en columnas de características categóricas\n",
        "dataset[categorical_cols] = dataset[categorical_cols].apply(lambda col: le.fit_transform(col))\n",
        "dataset[categorical_cols].head(10)"
      ],
      "metadata": {
        "id": "_-mXooWZhazH",
        "colab": {
          "base_uri": "https://localhost:8080/",
          "height": 363
        },
        "outputId": "84dd3fee-2e03-4c6b-980a-29446ebb1246"
      },
      "execution_count": 38,
      "outputs": [
        {
          "output_type": "execute_result",
          "data": {
            "text/html": [
              "\n",
              "  <div id=\"df-4b3b5644-3fa7-4766-a78c-517bf3a9b442\">\n",
              "    <div class=\"colab-df-container\">\n",
              "      <div>\n",
              "<style scoped>\n",
              "    .dataframe tbody tr th:only-of-type {\n",
              "        vertical-align: middle;\n",
              "    }\n",
              "\n",
              "    .dataframe tbody tr th {\n",
              "        vertical-align: top;\n",
              "    }\n",
              "\n",
              "    .dataframe thead th {\n",
              "        text-align: right;\n",
              "    }\n",
              "</style>\n",
              "<table border=\"1\" class=\"dataframe\">\n",
              "  <thead>\n",
              "    <tr style=\"text-align: right;\">\n",
              "      <th></th>\n",
              "      <th>grade</th>\n",
              "      <th>sub_grade</th>\n",
              "      <th>home_ownership</th>\n",
              "      <th>verification_status</th>\n",
              "      <th>purpose</th>\n",
              "      <th>addr_state</th>\n",
              "      <th>initial_list_status</th>\n",
              "      <th>application_type</th>\n",
              "    </tr>\n",
              "  </thead>\n",
              "  <tbody>\n",
              "    <tr>\n",
              "      <th>0</th>\n",
              "      <td>2</td>\n",
              "      <td>10</td>\n",
              "      <td>5</td>\n",
              "      <td>1</td>\n",
              "      <td>2</td>\n",
              "      <td>45</td>\n",
              "      <td>1</td>\n",
              "      <td>0</td>\n",
              "    </tr>\n",
              "    <tr>\n",
              "      <th>1</th>\n",
              "      <td>0</td>\n",
              "      <td>2</td>\n",
              "      <td>1</td>\n",
              "      <td>0</td>\n",
              "      <td>1</td>\n",
              "      <td>4</td>\n",
              "      <td>1</td>\n",
              "      <td>0</td>\n",
              "    </tr>\n",
              "    <tr>\n",
              "      <th>2</th>\n",
              "      <td>3</td>\n",
              "      <td>15</td>\n",
              "      <td>5</td>\n",
              "      <td>1</td>\n",
              "      <td>1</td>\n",
              "      <td>24</td>\n",
              "      <td>1</td>\n",
              "      <td>0</td>\n",
              "    </tr>\n",
              "    <tr>\n",
              "      <th>4</th>\n",
              "      <td>2</td>\n",
              "      <td>12</td>\n",
              "      <td>5</td>\n",
              "      <td>1</td>\n",
              "      <td>2</td>\n",
              "      <td>3</td>\n",
              "      <td>0</td>\n",
              "      <td>0</td>\n",
              "    </tr>\n",
              "    <tr>\n",
              "      <th>5</th>\n",
              "      <td>2</td>\n",
              "      <td>12</td>\n",
              "      <td>5</td>\n",
              "      <td>1</td>\n",
              "      <td>2</td>\n",
              "      <td>31</td>\n",
              "      <td>0</td>\n",
              "      <td>0</td>\n",
              "    </tr>\n",
              "    <tr>\n",
              "      <th>6</th>\n",
              "      <td>1</td>\n",
              "      <td>9</td>\n",
              "      <td>1</td>\n",
              "      <td>1</td>\n",
              "      <td>4</td>\n",
              "      <td>23</td>\n",
              "      <td>0</td>\n",
              "      <td>0</td>\n",
              "    </tr>\n",
              "    <tr>\n",
              "      <th>7</th>\n",
              "      <td>1</td>\n",
              "      <td>8</td>\n",
              "      <td>4</td>\n",
              "      <td>2</td>\n",
              "      <td>2</td>\n",
              "      <td>45</td>\n",
              "      <td>1</td>\n",
              "      <td>0</td>\n",
              "    </tr>\n",
              "    <tr>\n",
              "      <th>8</th>\n",
              "      <td>2</td>\n",
              "      <td>13</td>\n",
              "      <td>5</td>\n",
              "      <td>1</td>\n",
              "      <td>1</td>\n",
              "      <td>47</td>\n",
              "      <td>0</td>\n",
              "      <td>0</td>\n",
              "    </tr>\n",
              "    <tr>\n",
              "      <th>9</th>\n",
              "      <td>1</td>\n",
              "      <td>8</td>\n",
              "      <td>5</td>\n",
              "      <td>0</td>\n",
              "      <td>2</td>\n",
              "      <td>20</td>\n",
              "      <td>0</td>\n",
              "      <td>0</td>\n",
              "    </tr>\n",
              "    <tr>\n",
              "      <th>10</th>\n",
              "      <td>1</td>\n",
              "      <td>9</td>\n",
              "      <td>5</td>\n",
              "      <td>2</td>\n",
              "      <td>2</td>\n",
              "      <td>22</td>\n",
              "      <td>0</td>\n",
              "      <td>0</td>\n",
              "    </tr>\n",
              "  </tbody>\n",
              "</table>\n",
              "</div>\n",
              "      <button class=\"colab-df-convert\" onclick=\"convertToInteractive('df-4b3b5644-3fa7-4766-a78c-517bf3a9b442')\"\n",
              "              title=\"Convert this dataframe to an interactive table.\"\n",
              "              style=\"display:none;\">\n",
              "        \n",
              "  <svg xmlns=\"http://www.w3.org/2000/svg\" height=\"24px\"viewBox=\"0 0 24 24\"\n",
              "       width=\"24px\">\n",
              "    <path d=\"M0 0h24v24H0V0z\" fill=\"none\"/>\n",
              "    <path d=\"M18.56 5.44l.94 2.06.94-2.06 2.06-.94-2.06-.94-.94-2.06-.94 2.06-2.06.94zm-11 1L8.5 8.5l.94-2.06 2.06-.94-2.06-.94L8.5 2.5l-.94 2.06-2.06.94zm10 10l.94 2.06.94-2.06 2.06-.94-2.06-.94-.94-2.06-.94 2.06-2.06.94z\"/><path d=\"M17.41 7.96l-1.37-1.37c-.4-.4-.92-.59-1.43-.59-.52 0-1.04.2-1.43.59L10.3 9.45l-7.72 7.72c-.78.78-.78 2.05 0 2.83L4 21.41c.39.39.9.59 1.41.59.51 0 1.02-.2 1.41-.59l7.78-7.78 2.81-2.81c.8-.78.8-2.07 0-2.86zM5.41 20L4 18.59l7.72-7.72 1.47 1.35L5.41 20z\"/>\n",
              "  </svg>\n",
              "      </button>\n",
              "      \n",
              "  <style>\n",
              "    .colab-df-container {\n",
              "      display:flex;\n",
              "      flex-wrap:wrap;\n",
              "      gap: 12px;\n",
              "    }\n",
              "\n",
              "    .colab-df-convert {\n",
              "      background-color: #E8F0FE;\n",
              "      border: none;\n",
              "      border-radius: 50%;\n",
              "      cursor: pointer;\n",
              "      display: none;\n",
              "      fill: #1967D2;\n",
              "      height: 32px;\n",
              "      padding: 0 0 0 0;\n",
              "      width: 32px;\n",
              "    }\n",
              "\n",
              "    .colab-df-convert:hover {\n",
              "      background-color: #E2EBFA;\n",
              "      box-shadow: 0px 1px 2px rgba(60, 64, 67, 0.3), 0px 1px 3px 1px rgba(60, 64, 67, 0.15);\n",
              "      fill: #174EA6;\n",
              "    }\n",
              "\n",
              "    [theme=dark] .colab-df-convert {\n",
              "      background-color: #3B4455;\n",
              "      fill: #D2E3FC;\n",
              "    }\n",
              "\n",
              "    [theme=dark] .colab-df-convert:hover {\n",
              "      background-color: #434B5C;\n",
              "      box-shadow: 0px 1px 3px 1px rgba(0, 0, 0, 0.15);\n",
              "      filter: drop-shadow(0px 1px 2px rgba(0, 0, 0, 0.3));\n",
              "      fill: #FFFFFF;\n",
              "    }\n",
              "  </style>\n",
              "\n",
              "      <script>\n",
              "        const buttonEl =\n",
              "          document.querySelector('#df-4b3b5644-3fa7-4766-a78c-517bf3a9b442 button.colab-df-convert');\n",
              "        buttonEl.style.display =\n",
              "          google.colab.kernel.accessAllowed ? 'block' : 'none';\n",
              "\n",
              "        async function convertToInteractive(key) {\n",
              "          const element = document.querySelector('#df-4b3b5644-3fa7-4766-a78c-517bf3a9b442');\n",
              "          const dataTable =\n",
              "            await google.colab.kernel.invokeFunction('convertToInteractive',\n",
              "                                                     [key], {});\n",
              "          if (!dataTable) return;\n",
              "\n",
              "          const docLinkHtml = 'Like what you see? Visit the ' +\n",
              "            '<a target=\"_blank\" href=https://colab.research.google.com/notebooks/data_table.ipynb>data table notebook</a>'\n",
              "            + ' to learn more about interactive tables.';\n",
              "          element.innerHTML = '';\n",
              "          dataTable['output_type'] = 'display_data';\n",
              "          await google.colab.output.renderOutput(dataTable, element);\n",
              "          const docLink = document.createElement('div');\n",
              "          docLink.innerHTML = docLinkHtml;\n",
              "          element.appendChild(docLink);\n",
              "        }\n",
              "      </script>\n",
              "    </div>\n",
              "  </div>\n",
              "  "
            ],
            "text/plain": [
              "    grade  sub_grade  ...  initial_list_status  application_type\n",
              "0       2         10  ...                    1                 0\n",
              "1       0          2  ...                    1                 0\n",
              "2       3         15  ...                    1                 0\n",
              "4       2         12  ...                    0                 0\n",
              "5       2         12  ...                    0                 0\n",
              "6       1          9  ...                    0                 0\n",
              "7       1          8  ...                    1                 0\n",
              "8       2         13  ...                    0                 0\n",
              "9       1          8  ...                    0                 0\n",
              "10      1          9  ...                    0                 0\n",
              "\n",
              "[10 rows x 8 columns]"
            ]
          },
          "metadata": {},
          "execution_count": 38
        }
      ]
    },
    {
      "cell_type": "code",
      "source": [
        "dataset.head(5)"
      ],
      "metadata": {
        "id": "jI1uu93_hglQ",
        "colab": {
          "base_uri": "https://localhost:8080/",
          "height": 270
        },
        "outputId": "6afbf929-f33e-40d0-bf3e-e2091fdf7060"
      },
      "execution_count": 39,
      "outputs": [
        {
          "output_type": "execute_result",
          "data": {
            "text/html": [
              "\n",
              "  <div id=\"df-1dc8833d-530f-4b44-991b-b1cbcef44f1d\">\n",
              "    <div class=\"colab-df-container\">\n",
              "      <div>\n",
              "<style scoped>\n",
              "    .dataframe tbody tr th:only-of-type {\n",
              "        vertical-align: middle;\n",
              "    }\n",
              "\n",
              "    .dataframe tbody tr th {\n",
              "        vertical-align: top;\n",
              "    }\n",
              "\n",
              "    .dataframe thead th {\n",
              "        text-align: right;\n",
              "    }\n",
              "</style>\n",
              "<table border=\"1\" class=\"dataframe\">\n",
              "  <thead>\n",
              "    <tr style=\"text-align: right;\">\n",
              "      <th></th>\n",
              "      <th>loan_amnt</th>\n",
              "      <th>funded_amnt</th>\n",
              "      <th>term</th>\n",
              "      <th>int_rate</th>\n",
              "      <th>installment</th>\n",
              "      <th>grade</th>\n",
              "      <th>sub_grade</th>\n",
              "      <th>home_ownership</th>\n",
              "      <th>verification_status</th>\n",
              "      <th>purpose</th>\n",
              "      <th>addr_state</th>\n",
              "      <th>dti</th>\n",
              "      <th>earliest_cr_line</th>\n",
              "      <th>open_acc</th>\n",
              "      <th>revol_util</th>\n",
              "      <th>initial_list_status</th>\n",
              "      <th>last_pymnt_amnt</th>\n",
              "      <th>application_type</th>\n",
              "      <th>acc_open_past_24mths</th>\n",
              "      <th>avg_cur_bal</th>\n",
              "      <th>bc_open_to_buy</th>\n",
              "      <th>bc_util</th>\n",
              "      <th>mo_sin_old_rev_tl_op</th>\n",
              "      <th>mo_sin_rcnt_rev_tl_op</th>\n",
              "      <th>mort_acc</th>\n",
              "      <th>num_actv_rev_tl</th>\n",
              "      <th>charged_off</th>\n",
              "      <th>log_annual_inc</th>\n",
              "      <th>fico_score</th>\n",
              "    </tr>\n",
              "  </thead>\n",
              "  <tbody>\n",
              "    <tr>\n",
              "      <th>0</th>\n",
              "      <td>15000.0</td>\n",
              "      <td>15000.0</td>\n",
              "      <td>60</td>\n",
              "      <td>12.39</td>\n",
              "      <td>336.64</td>\n",
              "      <td>2</td>\n",
              "      <td>10</td>\n",
              "      <td>5</td>\n",
              "      <td>1</td>\n",
              "      <td>2</td>\n",
              "      <td>45</td>\n",
              "      <td>12.03</td>\n",
              "      <td>1994</td>\n",
              "      <td>6.0</td>\n",
              "      <td>29.0</td>\n",
              "      <td>1</td>\n",
              "      <td>12017.81</td>\n",
              "      <td>0</td>\n",
              "      <td>5.0</td>\n",
              "      <td>29828.0</td>\n",
              "      <td>9525.0</td>\n",
              "      <td>4.7</td>\n",
              "      <td>244.0</td>\n",
              "      <td>1.0</td>\n",
              "      <td>0.0</td>\n",
              "      <td>4.0</td>\n",
              "      <td>0</td>\n",
              "      <td>4.892100</td>\n",
              "      <td>752.0</td>\n",
              "    </tr>\n",
              "    <tr>\n",
              "      <th>1</th>\n",
              "      <td>10400.0</td>\n",
              "      <td>10400.0</td>\n",
              "      <td>36</td>\n",
              "      <td>6.99</td>\n",
              "      <td>321.08</td>\n",
              "      <td>0</td>\n",
              "      <td>2</td>\n",
              "      <td>1</td>\n",
              "      <td>0</td>\n",
              "      <td>1</td>\n",
              "      <td>4</td>\n",
              "      <td>14.92</td>\n",
              "      <td>1989</td>\n",
              "      <td>17.0</td>\n",
              "      <td>31.6</td>\n",
              "      <td>1</td>\n",
              "      <td>321.08</td>\n",
              "      <td>0</td>\n",
              "      <td>7.0</td>\n",
              "      <td>9536.0</td>\n",
              "      <td>7599.0</td>\n",
              "      <td>41.5</td>\n",
              "      <td>290.0</td>\n",
              "      <td>1.0</td>\n",
              "      <td>1.0</td>\n",
              "      <td>9.0</td>\n",
              "      <td>1</td>\n",
              "      <td>4.763435</td>\n",
              "      <td>712.0</td>\n",
              "    </tr>\n",
              "    <tr>\n",
              "      <th>2</th>\n",
              "      <td>21425.0</td>\n",
              "      <td>21425.0</td>\n",
              "      <td>60</td>\n",
              "      <td>15.59</td>\n",
              "      <td>516.36</td>\n",
              "      <td>3</td>\n",
              "      <td>15</td>\n",
              "      <td>5</td>\n",
              "      <td>1</td>\n",
              "      <td>1</td>\n",
              "      <td>24</td>\n",
              "      <td>18.49</td>\n",
              "      <td>2003</td>\n",
              "      <td>10.0</td>\n",
              "      <td>76.2</td>\n",
              "      <td>1</td>\n",
              "      <td>17813.19</td>\n",
              "      <td>0</td>\n",
              "      <td>4.0</td>\n",
              "      <td>4232.0</td>\n",
              "      <td>324.0</td>\n",
              "      <td>97.8</td>\n",
              "      <td>136.0</td>\n",
              "      <td>7.0</td>\n",
              "      <td>0.0</td>\n",
              "      <td>4.0</td>\n",
              "      <td>0</td>\n",
              "      <td>4.804827</td>\n",
              "      <td>687.0</td>\n",
              "    </tr>\n",
              "    <tr>\n",
              "      <th>4</th>\n",
              "      <td>7650.0</td>\n",
              "      <td>7650.0</td>\n",
              "      <td>36</td>\n",
              "      <td>13.66</td>\n",
              "      <td>260.20</td>\n",
              "      <td>2</td>\n",
              "      <td>12</td>\n",
              "      <td>5</td>\n",
              "      <td>1</td>\n",
              "      <td>2</td>\n",
              "      <td>3</td>\n",
              "      <td>34.81</td>\n",
              "      <td>2002</td>\n",
              "      <td>11.0</td>\n",
              "      <td>91.9</td>\n",
              "      <td>0</td>\n",
              "      <td>17.70</td>\n",
              "      <td>0</td>\n",
              "      <td>6.0</td>\n",
              "      <td>5857.0</td>\n",
              "      <td>332.0</td>\n",
              "      <td>93.2</td>\n",
              "      <td>148.0</td>\n",
              "      <td>8.0</td>\n",
              "      <td>0.0</td>\n",
              "      <td>4.0</td>\n",
              "      <td>1</td>\n",
              "      <td>4.698979</td>\n",
              "      <td>687.0</td>\n",
              "    </tr>\n",
              "    <tr>\n",
              "      <th>5</th>\n",
              "      <td>9600.0</td>\n",
              "      <td>9600.0</td>\n",
              "      <td>36</td>\n",
              "      <td>13.66</td>\n",
              "      <td>326.53</td>\n",
              "      <td>2</td>\n",
              "      <td>12</td>\n",
              "      <td>5</td>\n",
              "      <td>1</td>\n",
              "      <td>2</td>\n",
              "      <td>31</td>\n",
              "      <td>25.81</td>\n",
              "      <td>1992</td>\n",
              "      <td>12.0</td>\n",
              "      <td>59.4</td>\n",
              "      <td>0</td>\n",
              "      <td>9338.58</td>\n",
              "      <td>0</td>\n",
              "      <td>8.0</td>\n",
              "      <td>3214.0</td>\n",
              "      <td>6494.0</td>\n",
              "      <td>69.2</td>\n",
              "      <td>265.0</td>\n",
              "      <td>23.0</td>\n",
              "      <td>0.0</td>\n",
              "      <td>7.0</td>\n",
              "      <td>0</td>\n",
              "      <td>4.838855</td>\n",
              "      <td>682.0</td>\n",
              "    </tr>\n",
              "  </tbody>\n",
              "</table>\n",
              "</div>\n",
              "      <button class=\"colab-df-convert\" onclick=\"convertToInteractive('df-1dc8833d-530f-4b44-991b-b1cbcef44f1d')\"\n",
              "              title=\"Convert this dataframe to an interactive table.\"\n",
              "              style=\"display:none;\">\n",
              "        \n",
              "  <svg xmlns=\"http://www.w3.org/2000/svg\" height=\"24px\"viewBox=\"0 0 24 24\"\n",
              "       width=\"24px\">\n",
              "    <path d=\"M0 0h24v24H0V0z\" fill=\"none\"/>\n",
              "    <path d=\"M18.56 5.44l.94 2.06.94-2.06 2.06-.94-2.06-.94-.94-2.06-.94 2.06-2.06.94zm-11 1L8.5 8.5l.94-2.06 2.06-.94-2.06-.94L8.5 2.5l-.94 2.06-2.06.94zm10 10l.94 2.06.94-2.06 2.06-.94-2.06-.94-.94-2.06-.94 2.06-2.06.94z\"/><path d=\"M17.41 7.96l-1.37-1.37c-.4-.4-.92-.59-1.43-.59-.52 0-1.04.2-1.43.59L10.3 9.45l-7.72 7.72c-.78.78-.78 2.05 0 2.83L4 21.41c.39.39.9.59 1.41.59.51 0 1.02-.2 1.41-.59l7.78-7.78 2.81-2.81c.8-.78.8-2.07 0-2.86zM5.41 20L4 18.59l7.72-7.72 1.47 1.35L5.41 20z\"/>\n",
              "  </svg>\n",
              "      </button>\n",
              "      \n",
              "  <style>\n",
              "    .colab-df-container {\n",
              "      display:flex;\n",
              "      flex-wrap:wrap;\n",
              "      gap: 12px;\n",
              "    }\n",
              "\n",
              "    .colab-df-convert {\n",
              "      background-color: #E8F0FE;\n",
              "      border: none;\n",
              "      border-radius: 50%;\n",
              "      cursor: pointer;\n",
              "      display: none;\n",
              "      fill: #1967D2;\n",
              "      height: 32px;\n",
              "      padding: 0 0 0 0;\n",
              "      width: 32px;\n",
              "    }\n",
              "\n",
              "    .colab-df-convert:hover {\n",
              "      background-color: #E2EBFA;\n",
              "      box-shadow: 0px 1px 2px rgba(60, 64, 67, 0.3), 0px 1px 3px 1px rgba(60, 64, 67, 0.15);\n",
              "      fill: #174EA6;\n",
              "    }\n",
              "\n",
              "    [theme=dark] .colab-df-convert {\n",
              "      background-color: #3B4455;\n",
              "      fill: #D2E3FC;\n",
              "    }\n",
              "\n",
              "    [theme=dark] .colab-df-convert:hover {\n",
              "      background-color: #434B5C;\n",
              "      box-shadow: 0px 1px 3px 1px rgba(0, 0, 0, 0.15);\n",
              "      filter: drop-shadow(0px 1px 2px rgba(0, 0, 0, 0.3));\n",
              "      fill: #FFFFFF;\n",
              "    }\n",
              "  </style>\n",
              "\n",
              "      <script>\n",
              "        const buttonEl =\n",
              "          document.querySelector('#df-1dc8833d-530f-4b44-991b-b1cbcef44f1d button.colab-df-convert');\n",
              "        buttonEl.style.display =\n",
              "          google.colab.kernel.accessAllowed ? 'block' : 'none';\n",
              "\n",
              "        async function convertToInteractive(key) {\n",
              "          const element = document.querySelector('#df-1dc8833d-530f-4b44-991b-b1cbcef44f1d');\n",
              "          const dataTable =\n",
              "            await google.colab.kernel.invokeFunction('convertToInteractive',\n",
              "                                                     [key], {});\n",
              "          if (!dataTable) return;\n",
              "\n",
              "          const docLinkHtml = 'Like what you see? Visit the ' +\n",
              "            '<a target=\"_blank\" href=https://colab.research.google.com/notebooks/data_table.ipynb>data table notebook</a>'\n",
              "            + ' to learn more about interactive tables.';\n",
              "          element.innerHTML = '';\n",
              "          dataTable['output_type'] = 'display_data';\n",
              "          await google.colab.output.renderOutput(dataTable, element);\n",
              "          const docLink = document.createElement('div');\n",
              "          docLink.innerHTML = docLinkHtml;\n",
              "          element.appendChild(docLink);\n",
              "        }\n",
              "      </script>\n",
              "    </div>\n",
              "  </div>\n",
              "  "
            ],
            "text/plain": [
              "   loan_amnt  funded_amnt  term  ...  charged_off  log_annual_inc  fico_score\n",
              "0    15000.0      15000.0    60  ...            0        4.892100       752.0\n",
              "1    10400.0      10400.0    36  ...            1        4.763435       712.0\n",
              "2    21425.0      21425.0    60  ...            0        4.804827       687.0\n",
              "4     7650.0       7650.0    36  ...            1        4.698979       687.0\n",
              "5     9600.0       9600.0    36  ...            0        4.838855       682.0\n",
              "\n",
              "[5 rows x 29 columns]"
            ]
          },
          "metadata": {},
          "execution_count": 39
        }
      ]
    },
    {
      "cell_type": "code",
      "source": [
        "dataset.shape"
      ],
      "metadata": {
        "id": "hZYtLbqOhjLW",
        "colab": {
          "base_uri": "https://localhost:8080/"
        },
        "outputId": "8259ffa0-3b48-4ff1-b2d1-557c66bc8058"
      },
      "execution_count": 40,
      "outputs": [
        {
          "output_type": "execute_result",
          "data": {
            "text/plain": [
              "(705785, 29)"
            ]
          },
          "metadata": {},
          "execution_count": 40
        }
      ]
    },
    {
      "cell_type": "markdown",
      "source": [
        "<a id='3.4'></a>\n",
        "## 4.3. Sampling Data"
      ],
      "metadata": {
        "id": "aopIxPmIhkev"
      }
    },
    {
      "cell_type": "code",
      "source": [
        "loanstatus_0 = dataset[dataset[\"charged_off\"]==0]\n",
        "loanstatus_1 = dataset[dataset[\"charged_off\"]==1]\n",
        "subset_of_loanstatus_0 = loanstatus_0.sample(n=5500)\n",
        "subset_of_loanstatus_1 = loanstatus_1.sample(n=5500)\n",
        "dataset = pd.concat([subset_of_loanstatus_1, subset_of_loanstatus_0])\n",
        "dataset = dataset.sample(frac=1).reset_index(drop=True)\n",
        "print(\"Current shape of dataset :\",dataset.shape)\n",
        "dataset.head()"
      ],
      "metadata": {
        "id": "oTrlm-AshpIL",
        "colab": {
          "base_uri": "https://localhost:8080/",
          "height": 288
        },
        "outputId": "86f79d57-9251-453e-d680-9a4c3d053ef2"
      },
      "execution_count": 41,
      "outputs": [
        {
          "output_type": "stream",
          "name": "stdout",
          "text": [
            "Current shape of dataset : (11000, 29)\n"
          ]
        },
        {
          "output_type": "execute_result",
          "data": {
            "text/html": [
              "\n",
              "  <div id=\"df-53c7fbed-2744-4f42-9833-63dd6a82d93a\">\n",
              "    <div class=\"colab-df-container\">\n",
              "      <div>\n",
              "<style scoped>\n",
              "    .dataframe tbody tr th:only-of-type {\n",
              "        vertical-align: middle;\n",
              "    }\n",
              "\n",
              "    .dataframe tbody tr th {\n",
              "        vertical-align: top;\n",
              "    }\n",
              "\n",
              "    .dataframe thead th {\n",
              "        text-align: right;\n",
              "    }\n",
              "</style>\n",
              "<table border=\"1\" class=\"dataframe\">\n",
              "  <thead>\n",
              "    <tr style=\"text-align: right;\">\n",
              "      <th></th>\n",
              "      <th>loan_amnt</th>\n",
              "      <th>funded_amnt</th>\n",
              "      <th>term</th>\n",
              "      <th>int_rate</th>\n",
              "      <th>installment</th>\n",
              "      <th>grade</th>\n",
              "      <th>sub_grade</th>\n",
              "      <th>home_ownership</th>\n",
              "      <th>verification_status</th>\n",
              "      <th>purpose</th>\n",
              "      <th>addr_state</th>\n",
              "      <th>dti</th>\n",
              "      <th>earliest_cr_line</th>\n",
              "      <th>open_acc</th>\n",
              "      <th>revol_util</th>\n",
              "      <th>initial_list_status</th>\n",
              "      <th>last_pymnt_amnt</th>\n",
              "      <th>application_type</th>\n",
              "      <th>acc_open_past_24mths</th>\n",
              "      <th>avg_cur_bal</th>\n",
              "      <th>bc_open_to_buy</th>\n",
              "      <th>bc_util</th>\n",
              "      <th>mo_sin_old_rev_tl_op</th>\n",
              "      <th>mo_sin_rcnt_rev_tl_op</th>\n",
              "      <th>mort_acc</th>\n",
              "      <th>num_actv_rev_tl</th>\n",
              "      <th>charged_off</th>\n",
              "      <th>log_annual_inc</th>\n",
              "      <th>fico_score</th>\n",
              "    </tr>\n",
              "  </thead>\n",
              "  <tbody>\n",
              "    <tr>\n",
              "      <th>0</th>\n",
              "      <td>11500.0</td>\n",
              "      <td>11500.0</td>\n",
              "      <td>36</td>\n",
              "      <td>10.16</td>\n",
              "      <td>371.94</td>\n",
              "      <td>1</td>\n",
              "      <td>5</td>\n",
              "      <td>1</td>\n",
              "      <td>2</td>\n",
              "      <td>2</td>\n",
              "      <td>43</td>\n",
              "      <td>10.08</td>\n",
              "      <td>1998</td>\n",
              "      <td>4.0</td>\n",
              "      <td>70.6</td>\n",
              "      <td>0</td>\n",
              "      <td>19.25</td>\n",
              "      <td>0</td>\n",
              "      <td>1.0</td>\n",
              "      <td>41018.0</td>\n",
              "      <td>6353.0</td>\n",
              "      <td>70.6</td>\n",
              "      <td>176.0</td>\n",
              "      <td>19.0</td>\n",
              "      <td>3.0</td>\n",
              "      <td>2.0</td>\n",
              "      <td>0</td>\n",
              "      <td>4.544080</td>\n",
              "      <td>732.0</td>\n",
              "    </tr>\n",
              "    <tr>\n",
              "      <th>1</th>\n",
              "      <td>16000.0</td>\n",
              "      <td>16000.0</td>\n",
              "      <td>60</td>\n",
              "      <td>15.59</td>\n",
              "      <td>385.62</td>\n",
              "      <td>3</td>\n",
              "      <td>15</td>\n",
              "      <td>4</td>\n",
              "      <td>1</td>\n",
              "      <td>2</td>\n",
              "      <td>4</td>\n",
              "      <td>10.91</td>\n",
              "      <td>1999</td>\n",
              "      <td>14.0</td>\n",
              "      <td>46.0</td>\n",
              "      <td>1</td>\n",
              "      <td>385.62</td>\n",
              "      <td>0</td>\n",
              "      <td>8.0</td>\n",
              "      <td>27315.0</td>\n",
              "      <td>13556.0</td>\n",
              "      <td>36.9</td>\n",
              "      <td>111.0</td>\n",
              "      <td>3.0</td>\n",
              "      <td>3.0</td>\n",
              "      <td>5.0</td>\n",
              "      <td>1</td>\n",
              "      <td>4.812920</td>\n",
              "      <td>697.0</td>\n",
              "    </tr>\n",
              "    <tr>\n",
              "      <th>2</th>\n",
              "      <td>24000.0</td>\n",
              "      <td>24000.0</td>\n",
              "      <td>36</td>\n",
              "      <td>13.99</td>\n",
              "      <td>820.15</td>\n",
              "      <td>2</td>\n",
              "      <td>13</td>\n",
              "      <td>5</td>\n",
              "      <td>1</td>\n",
              "      <td>1</td>\n",
              "      <td>4</td>\n",
              "      <td>16.58</td>\n",
              "      <td>1997</td>\n",
              "      <td>14.0</td>\n",
              "      <td>92.0</td>\n",
              "      <td>1</td>\n",
              "      <td>9352.49</td>\n",
              "      <td>0</td>\n",
              "      <td>7.0</td>\n",
              "      <td>2971.0</td>\n",
              "      <td>1036.0</td>\n",
              "      <td>95.8</td>\n",
              "      <td>209.0</td>\n",
              "      <td>5.0</td>\n",
              "      <td>0.0</td>\n",
              "      <td>4.0</td>\n",
              "      <td>0</td>\n",
              "      <td>4.857339</td>\n",
              "      <td>682.0</td>\n",
              "    </tr>\n",
              "    <tr>\n",
              "      <th>3</th>\n",
              "      <td>8000.0</td>\n",
              "      <td>8000.0</td>\n",
              "      <td>36</td>\n",
              "      <td>15.59</td>\n",
              "      <td>279.64</td>\n",
              "      <td>2</td>\n",
              "      <td>14</td>\n",
              "      <td>4</td>\n",
              "      <td>1</td>\n",
              "      <td>7</td>\n",
              "      <td>9</td>\n",
              "      <td>30.33</td>\n",
              "      <td>2005</td>\n",
              "      <td>15.0</td>\n",
              "      <td>54.6</td>\n",
              "      <td>0</td>\n",
              "      <td>326.00</td>\n",
              "      <td>0</td>\n",
              "      <td>7.0</td>\n",
              "      <td>6736.0</td>\n",
              "      <td>1711.0</td>\n",
              "      <td>62.0</td>\n",
              "      <td>134.0</td>\n",
              "      <td>11.0</td>\n",
              "      <td>1.0</td>\n",
              "      <td>5.0</td>\n",
              "      <td>1</td>\n",
              "      <td>4.740371</td>\n",
              "      <td>667.0</td>\n",
              "    </tr>\n",
              "    <tr>\n",
              "      <th>4</th>\n",
              "      <td>13000.0</td>\n",
              "      <td>13000.0</td>\n",
              "      <td>60</td>\n",
              "      <td>18.84</td>\n",
              "      <td>336.09</td>\n",
              "      <td>4</td>\n",
              "      <td>21</td>\n",
              "      <td>1</td>\n",
              "      <td>0</td>\n",
              "      <td>2</td>\n",
              "      <td>2</td>\n",
              "      <td>14.77</td>\n",
              "      <td>2011</td>\n",
              "      <td>6.0</td>\n",
              "      <td>75.3</td>\n",
              "      <td>1</td>\n",
              "      <td>8805.15</td>\n",
              "      <td>0</td>\n",
              "      <td>4.0</td>\n",
              "      <td>17929.0</td>\n",
              "      <td>0.0</td>\n",
              "      <td>101.5</td>\n",
              "      <td>38.0</td>\n",
              "      <td>14.0</td>\n",
              "      <td>1.0</td>\n",
              "      <td>4.0</td>\n",
              "      <td>0</td>\n",
              "      <td>4.591076</td>\n",
              "      <td>662.0</td>\n",
              "    </tr>\n",
              "  </tbody>\n",
              "</table>\n",
              "</div>\n",
              "      <button class=\"colab-df-convert\" onclick=\"convertToInteractive('df-53c7fbed-2744-4f42-9833-63dd6a82d93a')\"\n",
              "              title=\"Convert this dataframe to an interactive table.\"\n",
              "              style=\"display:none;\">\n",
              "        \n",
              "  <svg xmlns=\"http://www.w3.org/2000/svg\" height=\"24px\"viewBox=\"0 0 24 24\"\n",
              "       width=\"24px\">\n",
              "    <path d=\"M0 0h24v24H0V0z\" fill=\"none\"/>\n",
              "    <path d=\"M18.56 5.44l.94 2.06.94-2.06 2.06-.94-2.06-.94-.94-2.06-.94 2.06-2.06.94zm-11 1L8.5 8.5l.94-2.06 2.06-.94-2.06-.94L8.5 2.5l-.94 2.06-2.06.94zm10 10l.94 2.06.94-2.06 2.06-.94-2.06-.94-.94-2.06-.94 2.06-2.06.94z\"/><path d=\"M17.41 7.96l-1.37-1.37c-.4-.4-.92-.59-1.43-.59-.52 0-1.04.2-1.43.59L10.3 9.45l-7.72 7.72c-.78.78-.78 2.05 0 2.83L4 21.41c.39.39.9.59 1.41.59.51 0 1.02-.2 1.41-.59l7.78-7.78 2.81-2.81c.8-.78.8-2.07 0-2.86zM5.41 20L4 18.59l7.72-7.72 1.47 1.35L5.41 20z\"/>\n",
              "  </svg>\n",
              "      </button>\n",
              "      \n",
              "  <style>\n",
              "    .colab-df-container {\n",
              "      display:flex;\n",
              "      flex-wrap:wrap;\n",
              "      gap: 12px;\n",
              "    }\n",
              "\n",
              "    .colab-df-convert {\n",
              "      background-color: #E8F0FE;\n",
              "      border: none;\n",
              "      border-radius: 50%;\n",
              "      cursor: pointer;\n",
              "      display: none;\n",
              "      fill: #1967D2;\n",
              "      height: 32px;\n",
              "      padding: 0 0 0 0;\n",
              "      width: 32px;\n",
              "    }\n",
              "\n",
              "    .colab-df-convert:hover {\n",
              "      background-color: #E2EBFA;\n",
              "      box-shadow: 0px 1px 2px rgba(60, 64, 67, 0.3), 0px 1px 3px 1px rgba(60, 64, 67, 0.15);\n",
              "      fill: #174EA6;\n",
              "    }\n",
              "\n",
              "    [theme=dark] .colab-df-convert {\n",
              "      background-color: #3B4455;\n",
              "      fill: #D2E3FC;\n",
              "    }\n",
              "\n",
              "    [theme=dark] .colab-df-convert:hover {\n",
              "      background-color: #434B5C;\n",
              "      box-shadow: 0px 1px 3px 1px rgba(0, 0, 0, 0.15);\n",
              "      filter: drop-shadow(0px 1px 2px rgba(0, 0, 0, 0.3));\n",
              "      fill: #FFFFFF;\n",
              "    }\n",
              "  </style>\n",
              "\n",
              "      <script>\n",
              "        const buttonEl =\n",
              "          document.querySelector('#df-53c7fbed-2744-4f42-9833-63dd6a82d93a button.colab-df-convert');\n",
              "        buttonEl.style.display =\n",
              "          google.colab.kernel.accessAllowed ? 'block' : 'none';\n",
              "\n",
              "        async function convertToInteractive(key) {\n",
              "          const element = document.querySelector('#df-53c7fbed-2744-4f42-9833-63dd6a82d93a');\n",
              "          const dataTable =\n",
              "            await google.colab.kernel.invokeFunction('convertToInteractive',\n",
              "                                                     [key], {});\n",
              "          if (!dataTable) return;\n",
              "\n",
              "          const docLinkHtml = 'Like what you see? Visit the ' +\n",
              "            '<a target=\"_blank\" href=https://colab.research.google.com/notebooks/data_table.ipynb>data table notebook</a>'\n",
              "            + ' to learn more about interactive tables.';\n",
              "          element.innerHTML = '';\n",
              "          dataTable['output_type'] = 'display_data';\n",
              "          await google.colab.output.renderOutput(dataTable, element);\n",
              "          const docLink = document.createElement('div');\n",
              "          docLink.innerHTML = docLinkHtml;\n",
              "          element.appendChild(docLink);\n",
              "        }\n",
              "      </script>\n",
              "    </div>\n",
              "  </div>\n",
              "  "
            ],
            "text/plain": [
              "   loan_amnt  funded_amnt  term  ...  charged_off  log_annual_inc  fico_score\n",
              "0    11500.0      11500.0    36  ...            0        4.544080       732.0\n",
              "1    16000.0      16000.0    60  ...            1        4.812920       697.0\n",
              "2    24000.0      24000.0    36  ...            0        4.857339       682.0\n",
              "3     8000.0       8000.0    36  ...            1        4.740371       667.0\n",
              "4    13000.0      13000.0    60  ...            0        4.591076       662.0\n",
              "\n",
              "[5 rows x 29 columns]"
            ]
          },
          "metadata": {},
          "execution_count": 41
        }
      ]
    },
    {
      "cell_type": "code",
      "source": [
        "# Rellenar los NA con la media de la columna.\n",
        "dataset.fillna(dataset.mean(),inplace = True)"
      ],
      "metadata": {
        "id": "frFbLeL7hvMc"
      },
      "execution_count": 42,
      "outputs": []
    },
    {
      "cell_type": "markdown",
      "source": [
        "<a id='4'></a>\n",
        "# 5. Evaluate Algorithms and Models"
      ],
      "metadata": {
        "id": "8x1Wv4H_h0lh"
      }
    },
    {
      "cell_type": "markdown",
      "source": [
        "<a id='4.1'></a>\n",
        "## 5.1. Train Test Split"
      ],
      "metadata": {
        "id": "U0Dwpk8-h4Yq"
      }
    },
    {
      "cell_type": "code",
      "source": [
        "# dividir el conjunto de datos de validación para el final\n",
        "Y= dataset[\"charged_off\"]\n",
        "X = dataset.loc[:, dataset.columns != 'charged_off']\n",
        "validation_size = 0.2\n",
        "seed = 7\n",
        "X_train, X_validation, Y_train, Y_validation = train_test_split(X, Y, test_size=validation_size, random_state=seed)"
      ],
      "metadata": {
        "id": "QXx8T24kiAMe"
      },
      "execution_count": 43,
      "outputs": []
    },
    {
      "cell_type": "code",
      "source": [
        "# dataset_temp2=dataset_temp.dropna(axis=0)\n",
        "# Y_total= dataset_temp2[\"charged_off\"]\n",
        "# X_total = dataset_temp2.loc[:, dataset.columns != 'charged_off']\n",
        "# X_dummy, X_validation, Y_dummy, Y_validation = train_test_split(X_total, Y_total, test_size=validation_size)"
      ],
      "metadata": {
        "id": "4wmsUQhwiFCR"
      },
      "execution_count": 44,
      "outputs": []
    },
    {
      "cell_type": "code",
      "source": [
        "dataset['charged_off'].value_counts()"
      ],
      "metadata": {
        "id": "L7IqnapCiFrO",
        "colab": {
          "base_uri": "https://localhost:8080/"
        },
        "outputId": "c5064686-62c8-4155-d5a0-c585cd249b2b"
      },
      "execution_count": 45,
      "outputs": [
        {
          "output_type": "execute_result",
          "data": {
            "text/plain": [
              "1    5500\n",
              "0    5500\n",
              "Name: charged_off, dtype: int64"
            ]
          },
          "metadata": {},
          "execution_count": 45
        }
      ]
    },
    {
      "cell_type": "markdown",
      "source": [
        "<a id='4.2'></a>\n",
        "## 5.2. Test Options and Evaluation Metrics"
      ],
      "metadata": {
        "id": "byEb3aYviIZe"
      }
    },
    {
      "cell_type": "code",
      "source": [
        "# opciones de prueba para la clasificación\n",
        "num_folds = 10\n",
        "seed = 7\n",
        "#scoring = 'accuracy'\n",
        "#scoring ='precision'\n",
        "#scoring ='recall'\n",
        "scoring = 'roc_auc'"
      ],
      "metadata": {
        "id": "SE_arKJ1iLiM"
      },
      "execution_count": 46,
      "outputs": []
    },
    {
      "cell_type": "code",
      "source": [
        "# comprobar los algoritmos al azar\n",
        "models = []\n",
        "models.append(('LR', LogisticRegression()))\n",
        "models.append(('LDA', LinearDiscriminantAnalysis()))\n",
        "models.append(('KNN', KNeighborsClassifier()))\n",
        "models.append(('CART', DecisionTreeClassifier()))\n",
        "models.append(('NB', GaussianNB()))\n",
        "\n",
        "# Neural Network\n",
        "models.append(('NN', MLPClassifier()))\n",
        "\n",
        "#Ensable Models \n",
        "\n",
        "# Boosting methods\n",
        "models.append(('AB', AdaBoostClassifier()))\n",
        "models.append(('GBM', GradientBoostingClassifier()))\n",
        "# Bagging methods\n",
        "models.append(('RF', RandomForestClassifier()))\n",
        "models.append(('ET', ExtraTreesClassifier()))"
      ],
      "metadata": {
        "id": "En4KmvvSk9Cv"
      },
      "execution_count": 47,
      "outputs": []
    },
    {
      "cell_type": "code",
      "source": [
        "results = []\n",
        "names = []\n",
        "\n",
        "for name, model in models:\n",
        "    kfold = KFold(n_splits=num_folds, random_state=seed, shuffle=True)\n",
        "    cv_results = cross_val_score(model, X_train, Y_train, cv=kfold, scoring=scoring)\n",
        "    results.append(cv_results)\n",
        "    names.append(name)\n",
        "    msg = \"%s: %f (%f)\" % (name, cv_results.mean(), cv_results.std())\n",
        "    print(msg)"
      ],
      "metadata": {
        "colab": {
          "base_uri": "https://localhost:8080/"
        },
        "id": "fWKcXkyqlCJ7",
        "outputId": "0319ba25-8d2e-4a41-bb68-4f27e565655f"
      },
      "execution_count": 48,
      "outputs": [
        {
          "output_type": "stream",
          "name": "stdout",
          "text": [
            "LR: 0.913343 (0.011655)\n",
            "LDA: 0.916941 (0.008772)\n",
            "KNN: 0.856367 (0.013727)\n",
            "CART: 0.827391 (0.011607)\n",
            "NB: 0.921972 (0.007369)\n",
            "NN: 0.895122 (0.012955)\n",
            "AB: 0.942108 (0.009313)\n",
            "GBM: 0.949904 (0.008000)\n",
            "RF: 0.942464 (0.008179)\n",
            "ET: 0.937704 (0.007395)\n"
          ]
        }
      ]
    },
    {
      "cell_type": "markdown",
      "source": [
        "### **Algorithm comparison**"
      ],
      "metadata": {
        "id": "4hebzqNBlRhZ"
      }
    },
    {
      "cell_type": "code",
      "source": [
        "# comparar algoritmos\n",
        "fig = pyplot.figure()\n",
        "fig.suptitle('Algorithm Comparison')\n",
        "ax = fig.add_subplot(111)\n",
        "pyplot.boxplot(results)\n",
        "ax.set_xticklabels(names)\n",
        "fig.set_size_inches(15,8)\n",
        "pyplot.show()"
      ],
      "metadata": {
        "colab": {
          "base_uri": "https://localhost:8080/",
          "height": 543
        },
        "id": "IOtCDZvOlIBZ",
        "outputId": "7d6e4ba0-6521-4322-80d8-4cbade6eaf02"
      },
      "execution_count": 49,
      "outputs": [
        {
          "output_type": "display_data",
          "data": {
            "image/png": "[encoded data removed]",
            "text/plain": [
              "<Figure size 1080x576 with 1 Axes>"
            ]
          },
          "metadata": {}
        }
      ]
    },
    {
      "cell_type": "markdown",
      "source": [
        "<a id='5'></a>\n",
        "# 6. Model Tuning and Grid Search"
      ],
      "metadata": {
        "id": "g-reYYxnlkgk"
      }
    },
    {
      "cell_type": "markdown",
      "source": [
        "Dado que el GBM es el mejor modelo, en este paso se realiza la búsqueda de cuadrícula en el GBM."
      ],
      "metadata": {
        "id": "Yf6w-BZ0lpTD"
      }
    },
    {
      "cell_type": "code",
      "source": [
        "# Búsqueda en la cuadrícula: Ajuste de GradientBoosting\n",
        "'''\n",
        "n_estimators : int (por defecto=100)\n",
        "    El número de etapas de refuerzo a realizar. \n",
        "    El refuerzo de gradiente es bastante robusto al sobreajuste, por lo que un número grande suele dar lugar a un mejor rendimiento.\n",
        "max_depth : entero, opcional (por defecto=3)\n",
        "    Profundidad máxima de los estimadores de regresión individuales. \n",
        "    La profundidad máxima limita el número de nodos en el árbol. \n",
        "    Ajuste este parámetro para obtener el mejor rendimiento; el mejor valor depende de la interacción de las variables de entrada.\n",
        "\n",
        "''' \n",
        "n_estimators = [20,180]\n",
        "max_depth= [3,5]\n",
        "param_grid = dict(n_estimators=n_estimators, max_depth=max_depth)\n",
        "model = GradientBoostingClassifier()\n",
        "kfold = KFold(n_splits=num_folds, random_state=seed, shuffle=True)\n",
        "grid = GridSearchCV(estimator=model, param_grid=param_grid, scoring=scoring, cv=kfold)\n",
        "grid_result = grid.fit(X_train, Y_train)\n",
        "\n",
        "# Print Results\n",
        "print(\"Best: %f using %s\" % (grid_result.best_score_, grid_result.best_params_))\n",
        "means = grid_result.cv_results_['mean_test_score']\n",
        "stds = grid_result.cv_results_['std_test_score']\n",
        "params = grid_result.cv_results_['params']\n",
        "ranks = grid_result.cv_results_['rank_test_score']\n",
        "for mean, stdev, param, rank in zip(means, stds, params, ranks):\n",
        "    print(\"#%d %f (%f) with: %r\" % (rank, mean, stdev, param))"
      ],
      "metadata": {
        "colab": {
          "base_uri": "https://localhost:8080/"
        },
        "id": "sS-FYStXllFY",
        "outputId": "9615e196-a590-4005-d8d6-16220ab13878"
      },
      "execution_count": 51,
      "outputs": [
        {
          "output_type": "stream",
          "name": "stdout",
          "text": [
            "Best: 0.952352 using {'max_depth': 3, 'n_estimators': 180}\n",
            "#4 0.939652 (0.007216) with: {'max_depth': 3, 'n_estimators': 20}\n",
            "#1 0.952352 (0.008403) with: {'max_depth': 3, 'n_estimators': 180}\n",
            "#3 0.946079 (0.007502) with: {'max_depth': 5, 'n_estimators': 20}\n",
            "#2 0.952252 (0.009650) with: {'max_depth': 5, 'n_estimators': 180}\n"
          ]
        }
      ]
    },
    {
      "cell_type": "markdown",
      "source": [
        "<a id='6'></a>\n",
        "# 7. Finalise the Model"
      ],
      "metadata": {
        "id": "wgxm0s_4l_-e"
      }
    },
    {
      "cell_type": "markdown",
      "source": [
        "Si se observan los detalles anteriores, la GBM podría ser digna de un estudio más profundo, pero por ahora la SVM se muestra muy prometedora como modelo estable y de baja complejidad para este problema.\n",
        "\n",
        "Finalizar el modelo con los mejores parámetros encontrados durante el paso de ajuste."
      ],
      "metadata": {
        "id": "h7IckcG3mGW-"
      }
    },
    {
      "cell_type": "markdown",
      "source": [
        "<a id='6.1'></a>\n",
        "## 7.1. Results on the Test Dataset"
      ],
      "metadata": {
        "id": "q4L1GPPVmKxB"
      }
    },
    {
      "cell_type": "code",
      "source": [
        "model = GradientBoostingClassifier(max_depth= 3, n_estimators= 180)\n",
        "model.fit(X_train, Y_train)"
      ],
      "metadata": {
        "colab": {
          "base_uri": "https://localhost:8080/"
        },
        "id": "X6r5p_PRl3Cv",
        "outputId": "140d5ba9-7e48-4a6b-8bbb-033f495aa192"
      },
      "execution_count": 52,
      "outputs": [
        {
          "output_type": "execute_result",
          "data": {
            "text/plain": [
              "GradientBoostingClassifier(n_estimators=180)"
            ]
          },
          "metadata": {},
          "execution_count": 52
        }
      ]
    },
    {
      "cell_type": "code",
      "source": [
        "# estimar la precisión en el conjunto de validación\n",
        "predictions = model.predict(X_validation)\n",
        "print(accuracy_score(Y_validation, predictions))\n",
        "print(confusion_matrix(Y_validation, predictions))\n",
        "print(classification_report(Y_validation, predictions))"
      ],
      "metadata": {
        "colab": {
          "base_uri": "https://localhost:8080/"
        },
        "id": "HdiaZRONmUVa",
        "outputId": "ed14d846-2575-499a-a6b5-5034b1c106e3"
      },
      "execution_count": 53,
      "outputs": [
        {
          "output_type": "stream",
          "name": "stdout",
          "text": [
            "0.8768181818181818\n",
            "[[ 887  193]\n",
            " [  78 1042]]\n",
            "              precision    recall  f1-score   support\n",
            "\n",
            "           0       0.92      0.82      0.87      1080\n",
            "           1       0.84      0.93      0.88      1120\n",
            "\n",
            "    accuracy                           0.88      2200\n",
            "   macro avg       0.88      0.88      0.88      2200\n",
            "weighted avg       0.88      0.88      0.88      2200\n",
            "\n"
          ]
        }
      ]
    },
    {
      "cell_type": "code",
      "source": [
        "df_cm = pd.DataFrame(confusion_matrix(Y_validation, predictions), columns=np.unique(Y_validation), index = np.unique(Y_validation))\n",
        "df_cm.index.name = 'Actual'\n",
        "df_cm.columns.name = 'Predicted'\n",
        "sns.heatmap(df_cm, cmap=\"Blues\", annot=True,annot_kws={\"size\": 16})# font sizes"
      ],
      "metadata": {
        "colab": {
          "base_uri": "https://localhost:8080/",
          "height": 357
        },
        "id": "16FysAz8maH_",
        "outputId": "754d6a70-0db2-4107-916e-3ccd83e61266"
      },
      "execution_count": 54,
      "outputs": [
        {
          "output_type": "execute_result",
          "data": {
            "text/plain": [
              "<matplotlib.axes._subplots.AxesSubplot at 0x7fb5b0797f50>"
            ]
          },
          "metadata": {},
          "execution_count": 54
        },
        {
          "output_type": "display_data",
          "data": {
            "image/png": "[encoded data removed]",
            "text/plain": [
              "<Figure size 864x360 with 2 Axes>"
            ]
          },
          "metadata": {}
        }
      ]
    },
    {
      "cell_type": "markdown",
      "source": [
        "<a id='6.2'></a>\n",
        "## 7.2. Variable Intuition/Feature Importance\n",
        "Teniendo en cuenta los detalles anteriores, el GBM podría ser digno de un estudio más profundo. Veamos la importancia de las características del modelo GBM."
      ],
      "metadata": {
        "id": "s0QGKSqemd8c"
      }
    },
    {
      "cell_type": "code",
      "source": [
        "print(model.feature_importances_) # utilizar la clase incorporada feature_importances de los clasificadores basados en árboles\n",
        "# trazar un gráfico de la importancia de las características para una mejor visualización\n",
        "feat_importances = pd.Series(model.feature_importances_, index=X.columns)\n",
        "feat_importances.nlargest(10).plot(kind='barh')\n",
        "pyplot.show()"
      ],
      "metadata": {
        "colab": {
          "base_uri": "https://localhost:8080/",
          "height": 450
        },
        "id": "-6PrfkA2mj_s",
        "outputId": "6e07a65a-1d5f-4d33-feaa-1720b5d6ed5b"
      },
      "execution_count": 55,
      "outputs": [
        {
          "output_type": "stream",
          "name": "stdout",
          "text": [
            "[1.02759134e-02 5.26260507e-03 3.21834094e-02 3.90175339e-03\n",
            " 1.62014544e-02 4.07764419e-03 8.16086651e-02 6.02519264e-04\n",
            " 9.84591339e-04 2.34920890e-03 1.09455825e-03 4.91777454e-03\n",
            " 1.80078150e-03 5.44622862e-04 1.49526000e-03 4.97917904e-03\n",
            " 7.88036941e-01 0.00000000e+00 1.68618461e-02 5.31996045e-03\n",
            " 2.37649430e-03 1.78724289e-03 2.07239836e-03 3.34826252e-03\n",
            " 1.75412303e-04 1.77889099e-03 2.45083644e-03 3.51177407e-03]\n"
          ]
        },
        {
          "output_type": "display_data",
          "data": {
            "image/png": "[encoded data removed]",
            "text/plain": [
              "<Figure size 864x360 with 1 Axes>"
            ]
          },
          "metadata": {}
        }
      ]
    },
    {
      "cell_type": "markdown",
      "source": [
        "## **Conclusión:**\n",
        "\n",
        "Hemos demostrado que la preparación de los datos es uno de los pasos más importantes. Lo abordamos realizando la eliminación de características mediante el uso de diferentes técnicas como el juicio subjetivo, la correlación, la visualización y la calidad de los datos de la característica. Ilustramos que puede haber diferentes maneras de manejar y analizar los datos categóricos y de convertir los datos categóricos en un formato utilizable por el modelo.\n",
        "\n",
        "Por último, analizamos la importancia de las características y descubrimos que los resultados del estudio de casos son bastante intuitivos.\n"
      ],
      "metadata": {
        "id": "htefGEB6mzjm"
      }
    }
  ]
}