{
  "nbformat": 4,
  "nbformat_minor": 0,
  "metadata": {
    "colab": {
      "name": "PortfolioManagementClusteringInvestors.ipynb",
      "provenance": [],
      "authorship_tag": "ABX9TyOLolPBs8aZWVLoEy83uqRZ",
      "include_colab_link": true
    },
    "kernelspec": {
      "name": "python3",
      "display_name": "Python 3"
    },
    "language_info": {
      "name": "python"
    }
  },
  "cells": [
    {
      "cell_type": "markdown",
      "metadata": {
        "id": "view-in-github",
        "colab_type": "text"
      },
      "source": [
        "<a href=\"https://colab.research.google.com/github/Jushef/Proyectos-ML-DL/blob/main/Unsupervised%20Learning/Clustering/PortfolioManagementClusteringInvestors.ipynb\" target=\"_parent\"><img src=\"https://colab.research.google.com/assets/colab-badge.svg\" alt=\"Open In Colab\"/></a>"
      ]
    },
    {
      "cell_type": "markdown",
      "source": [
        "# **Agrupación de individuos según sus características demográficas**\n",
        "\n",
        "En este proyecto, utilizaremos métodos de agrupación para identificar diferentes tipos de inversores."
      ],
      "metadata": {
        "id": "keHagmR5-noY"
      }
    },
    {
      "cell_type": "markdown",
      "source": [
        "## **Contenido**"
      ],
      "metadata": {
        "id": "NRRA1-Go-zJO"
      }
    },
    {
      "cell_type": "markdown",
      "source": [
        "* [1. Problem Definition](#0)\n",
        "* [2. Getting Started - Load Libraries and Dataset](#1)\n",
        "    * [2.1. Load Libraries](#1.1)    \n",
        "    * [2.2. Load Dataset](#1.2)\n",
        "* [3. Exploratory Data Analysis](#2)\n",
        "    * [3.1 Descriptive Statistics](#2.1)    \n",
        "    * [3.2. Data Visualisation](#2.2)\n",
        "* [4. Data Preparation](#3)\n",
        "    * [4.1 Data Cleaning](#3.1)\n",
        "    * [4.3.Data Transformation](#3.2)  \n",
        "* [5.Evaluate Algorithms and Models](#5)        \n",
        "    * [5.1. k-Means Clustering](#5.1)\n",
        "        * [5.1.1 Finding right number of clusters](#5.1.1)   \n",
        "    * [5.2. Affinity Propagation Clustering](#5.2)\n",
        "    * [5.3. Cluster Evaluation](#5.3)\n",
        "* [6.Cluster Intuition](#6)   "
      ],
      "metadata": {
        "id": "EkUqYJ03-1o-"
      }
    },
    {
      "cell_type": "markdown",
      "source": [
        "<a id='0'></a>\n",
        "# 1. Problem Definition"
      ],
      "metadata": {
        "id": "a5rFxrEp_BgT"
      }
    },
    {
      "cell_type": "markdown",
      "source": [
        "El objetivo de este estudio de caso es construir un modelo de aprendizaje automático para agrupar a los individuos/inversores en función de los parámetros relacionados con la capacidad y la voluntad de asumir riesgos. Para ello, nos centraremos en utilizar características demográficas y financieras comunes.\n",
        "\n",
        "Para este estudio de caso, los datos utilizados proceden de la encuesta sobre las finanzas de los consumidores, realizada por la Junta de la Reserva Federal."
      ],
      "metadata": {
        "id": "XJmRqsoE_DYx"
      }
    },
    {
      "cell_type": "markdown",
      "source": [
        "<a id='1'></a>\n",
        "# 2. Getting Started- Loading the data and python packages"
      ],
      "metadata": {
        "id": "zlTLwww2_kiK"
      }
    },
    {
      "cell_type": "markdown",
      "source": [
        "<a id='1.1'></a>\n",
        "## 2.1. Loading the python packages"
      ],
      "metadata": {
        "id": "9injG00C_lw8"
      }
    },
    {
      "cell_type": "code",
      "execution_count": null,
      "metadata": {
        "id": "t4mVDxHX9nai"
      },
      "outputs": [],
      "source": [
        "# Carga de bibliotecas\n",
        "import numpy as np\n",
        "import pandas as pd\n",
        "import matplotlib.pyplot as plt\n",
        "from pandas import read_csv, set_option\n",
        "from pandas.plotting import scatter_matrix\n",
        "import seaborn as sns\n",
        "from sklearn.preprocessing import StandardScaler\n",
        "import datetime\n",
        "\n",
        "# Importar paquetes de modelos \n",
        "from sklearn.cluster import KMeans, AgglomerativeClustering,AffinityPropagation\n",
        "from sklearn.metrics import adjusted_mutual_info_score\n",
        "from sklearn import cluster, covariance, manifold\n",
        "\n",
        "\n",
        "# Otros paquetes y funciones de ayuda\n",
        "import matplotlib.ticker as ticker\n",
        "from itertools import cycle"
      ]
    },
    {
      "cell_type": "markdown",
      "source": [
        "<a id='1.2'></a>\n",
        "## 2.2. Loading the Data"
      ],
      "metadata": {
        "id": "Prq_hgznAODk"
      }
    },
    {
      "cell_type": "code",
      "source": [
        "# cargar conjunto de datos\n",
        "dataset = pd.read_excel('/content/ProcessedData.xlsx')"
      ],
      "metadata": {
        "id": "tVUM4Bgb_3KZ"
      },
      "execution_count": null,
      "outputs": []
    },
    {
      "cell_type": "code",
      "source": [
        "import warnings\n",
        "warnings.filterwarnings('ignore')"
      ],
      "metadata": {
        "id": "GQgVEmj4Acg6"
      },
      "execution_count": null,
      "outputs": []
    },
    {
      "cell_type": "code",
      "source": [
        "type(dataset)"
      ],
      "metadata": {
        "colab": {
          "base_uri": "https://localhost:8080/"
        },
        "id": "8yRv2EIdAfmB",
        "outputId": "0fb9d9c3-1249-4717-83e2-36fc55a9481c"
      },
      "execution_count": null,
      "outputs": [
        {
          "output_type": "execute_result",
          "data": {
            "text/plain": [
              "pandas.core.frame.DataFrame"
            ]
          },
          "metadata": {},
          "execution_count": 5
        }
      ]
    },
    {
      "cell_type": "markdown",
      "source": [
        "<a id='2'></a>\n",
        "# 3. Exploratory Data Analysis"
      ],
      "metadata": {
        "id": "YiAySKfmAm6p"
      }
    },
    {
      "cell_type": "markdown",
      "source": [
        "<a id='2.1'></a>\n",
        "## 3.1. Descriptive Statistics"
      ],
      "metadata": {
        "id": "kue2I_S7Aoy1"
      }
    },
    {
      "cell_type": "code",
      "source": [
        "# forma\n",
        "dataset.shape"
      ],
      "metadata": {
        "colab": {
          "base_uri": "https://localhost:8080/"
        },
        "id": "6eUAa4TiAjPW",
        "outputId": "197ae3b9-b1ef-41d8-b29b-d8a72c851bce"
      },
      "execution_count": null,
      "outputs": [
        {
          "output_type": "execute_result",
          "data": {
            "text/plain": [
              "(3866, 13)"
            ]
          },
          "metadata": {},
          "execution_count": 6
        }
      ]
    },
    {
      "cell_type": "code",
      "source": [
        "# consultar los datos\n",
        "set_option('display.width', 100)\n",
        "dataset.head(5)"
      ],
      "metadata": {
        "colab": {
          "base_uri": "https://localhost:8080/",
          "height": 206
        },
        "id": "q3PFMhOrAu6Z",
        "outputId": "d6170025-3209-4bd5-a0aa-4fabe7c84cdb"
      },
      "execution_count": null,
      "outputs": [
        {
          "output_type": "execute_result",
          "data": {
            "text/html": [
              "\n",
              "  <div id=\"df-78a5f88b-b19b-448b-89c8-90ed90ef1a35\">\n",
              "    <div class=\"colab-df-container\">\n",
              "      <div>\n",
              "<style scoped>\n",
              "    .dataframe tbody tr th:only-of-type {\n",
              "        vertical-align: middle;\n",
              "    }\n",
              "\n",
              "    .dataframe tbody tr th {\n",
              "        vertical-align: top;\n",
              "    }\n",
              "\n",
              "    .dataframe thead th {\n",
              "        text-align: right;\n",
              "    }\n",
              "</style>\n",
              "<table border=\"1\" class=\"dataframe\">\n",
              "  <thead>\n",
              "    <tr style=\"text-align: right;\">\n",
              "      <th></th>\n",
              "      <th>ID</th>\n",
              "      <th>AGE</th>\n",
              "      <th>EDUC</th>\n",
              "      <th>MARRIED</th>\n",
              "      <th>KIDS</th>\n",
              "      <th>LIFECL</th>\n",
              "      <th>OCCAT</th>\n",
              "      <th>RISK</th>\n",
              "      <th>HHOUSES</th>\n",
              "      <th>WSAVED</th>\n",
              "      <th>SPENDMOR</th>\n",
              "      <th>NWCAT</th>\n",
              "      <th>INCCL</th>\n",
              "    </tr>\n",
              "  </thead>\n",
              "  <tbody>\n",
              "    <tr>\n",
              "      <th>0</th>\n",
              "      <td>1</td>\n",
              "      <td>3</td>\n",
              "      <td>2</td>\n",
              "      <td>1</td>\n",
              "      <td>0</td>\n",
              "      <td>2</td>\n",
              "      <td>1</td>\n",
              "      <td>3</td>\n",
              "      <td>1</td>\n",
              "      <td>1</td>\n",
              "      <td>5</td>\n",
              "      <td>3</td>\n",
              "      <td>4</td>\n",
              "    </tr>\n",
              "    <tr>\n",
              "      <th>1</th>\n",
              "      <td>2</td>\n",
              "      <td>4</td>\n",
              "      <td>4</td>\n",
              "      <td>1</td>\n",
              "      <td>2</td>\n",
              "      <td>5</td>\n",
              "      <td>2</td>\n",
              "      <td>3</td>\n",
              "      <td>0</td>\n",
              "      <td>2</td>\n",
              "      <td>5</td>\n",
              "      <td>5</td>\n",
              "      <td>5</td>\n",
              "    </tr>\n",
              "    <tr>\n",
              "      <th>2</th>\n",
              "      <td>3</td>\n",
              "      <td>3</td>\n",
              "      <td>1</td>\n",
              "      <td>1</td>\n",
              "      <td>2</td>\n",
              "      <td>3</td>\n",
              "      <td>2</td>\n",
              "      <td>2</td>\n",
              "      <td>1</td>\n",
              "      <td>2</td>\n",
              "      <td>4</td>\n",
              "      <td>4</td>\n",
              "      <td>4</td>\n",
              "    </tr>\n",
              "    <tr>\n",
              "      <th>3</th>\n",
              "      <td>4</td>\n",
              "      <td>3</td>\n",
              "      <td>1</td>\n",
              "      <td>1</td>\n",
              "      <td>2</td>\n",
              "      <td>3</td>\n",
              "      <td>2</td>\n",
              "      <td>2</td>\n",
              "      <td>1</td>\n",
              "      <td>2</td>\n",
              "      <td>4</td>\n",
              "      <td>3</td>\n",
              "      <td>4</td>\n",
              "    </tr>\n",
              "    <tr>\n",
              "      <th>4</th>\n",
              "      <td>5</td>\n",
              "      <td>4</td>\n",
              "      <td>3</td>\n",
              "      <td>1</td>\n",
              "      <td>1</td>\n",
              "      <td>5</td>\n",
              "      <td>1</td>\n",
              "      <td>2</td>\n",
              "      <td>1</td>\n",
              "      <td>3</td>\n",
              "      <td>3</td>\n",
              "      <td>5</td>\n",
              "      <td>5</td>\n",
              "    </tr>\n",
              "  </tbody>\n",
              "</table>\n",
              "</div>\n",
              "      <button class=\"colab-df-convert\" onclick=\"convertToInteractive('df-78a5f88b-b19b-448b-89c8-90ed90ef1a35')\"\n",
              "              title=\"Convert this dataframe to an interactive table.\"\n",
              "              style=\"display:none;\">\n",
              "        \n",
              "  <svg xmlns=\"http://www.w3.org/2000/svg\" height=\"24px\"viewBox=\"0 0 24 24\"\n",
              "       width=\"24px\">\n",
              "    <path d=\"M0 0h24v24H0V0z\" fill=\"none\"/>\n",
              "    <path d=\"M18.56 5.44l.94 2.06.94-2.06 2.06-.94-2.06-.94-.94-2.06-.94 2.06-2.06.94zm-11 1L8.5 8.5l.94-2.06 2.06-.94-2.06-.94L8.5 2.5l-.94 2.06-2.06.94zm10 10l.94 2.06.94-2.06 2.06-.94-2.06-.94-.94-2.06-.94 2.06-2.06.94z\"/><path d=\"M17.41 7.96l-1.37-1.37c-.4-.4-.92-.59-1.43-.59-.52 0-1.04.2-1.43.59L10.3 9.45l-7.72 7.72c-.78.78-.78 2.05 0 2.83L4 21.41c.39.39.9.59 1.41.59.51 0 1.02-.2 1.41-.59l7.78-7.78 2.81-2.81c.8-.78.8-2.07 0-2.86zM5.41 20L4 18.59l7.72-7.72 1.47 1.35L5.41 20z\"/>\n",
              "  </svg>\n",
              "      </button>\n",
              "      \n",
              "  <style>\n",
              "    .colab-df-container {\n",
              "      display:flex;\n",
              "      flex-wrap:wrap;\n",
              "      gap: 12px;\n",
              "    }\n",
              "\n",
              "    .colab-df-convert {\n",
              "      background-color: #E8F0FE;\n",
              "      border: none;\n",
              "      border-radius: 50%;\n",
              "      cursor: pointer;\n",
              "      display: none;\n",
              "      fill: #1967D2;\n",
              "      height: 32px;\n",
              "      padding: 0 0 0 0;\n",
              "      width: 32px;\n",
              "    }\n",
              "\n",
              "    .colab-df-convert:hover {\n",
              "      background-color: #E2EBFA;\n",
              "      box-shadow: 0px 1px 2px rgba(60, 64, 67, 0.3), 0px 1px 3px 1px rgba(60, 64, 67, 0.15);\n",
              "      fill: #174EA6;\n",
              "    }\n",
              "\n",
              "    [theme=dark] .colab-df-convert {\n",
              "      background-color: #3B4455;\n",
              "      fill: #D2E3FC;\n",
              "    }\n",
              "\n",
              "    [theme=dark] .colab-df-convert:hover {\n",
              "      background-color: #434B5C;\n",
              "      box-shadow: 0px 1px 3px 1px rgba(0, 0, 0, 0.15);\n",
              "      filter: drop-shadow(0px 1px 2px rgba(0, 0, 0, 0.3));\n",
              "      fill: #FFFFFF;\n",
              "    }\n",
              "  </style>\n",
              "\n",
              "      <script>\n",
              "        const buttonEl =\n",
              "          document.querySelector('#df-78a5f88b-b19b-448b-89c8-90ed90ef1a35 button.colab-df-convert');\n",
              "        buttonEl.style.display =\n",
              "          google.colab.kernel.accessAllowed ? 'block' : 'none';\n",
              "\n",
              "        async function convertToInteractive(key) {\n",
              "          const element = document.querySelector('#df-78a5f88b-b19b-448b-89c8-90ed90ef1a35');\n",
              "          const dataTable =\n",
              "            await google.colab.kernel.invokeFunction('convertToInteractive',\n",
              "                                                     [key], {});\n",
              "          if (!dataTable) return;\n",
              "\n",
              "          const docLinkHtml = 'Like what you see? Visit the ' +\n",
              "            '<a target=\"_blank\" href=https://colab.research.google.com/notebooks/data_table.ipynb>data table notebook</a>'\n",
              "            + ' to learn more about interactive tables.';\n",
              "          element.innerHTML = '';\n",
              "          dataTable['output_type'] = 'display_data';\n",
              "          await google.colab.output.renderOutput(dataTable, element);\n",
              "          const docLink = document.createElement('div');\n",
              "          docLink.innerHTML = docLinkHtml;\n",
              "          element.appendChild(docLink);\n",
              "        }\n",
              "      </script>\n",
              "    </div>\n",
              "  </div>\n",
              "  "
            ],
            "text/plain": [
              "   ID  AGE  EDUC  MARRIED  KIDS  ...  HHOUSES  WSAVED  SPENDMOR  NWCAT  INCCL\n",
              "0   1    3     2        1     0  ...        1       1         5      3      4\n",
              "1   2    4     4        1     2  ...        0       2         5      5      5\n",
              "2   3    3     1        1     2  ...        1       2         4      4      4\n",
              "3   4    3     1        1     2  ...        1       2         4      3      4\n",
              "4   5    4     3        1     1  ...        1       3         3      5      5\n",
              "\n",
              "[5 rows x 13 columns]"
            ]
          },
          "metadata": {},
          "execution_count": 7
        }
      ]
    },
    {
      "cell_type": "markdown",
      "source": [
        "* Como podemos ver en la tabla anterior, hay 12 atributos para cada uno de los individuos. Estos atributos pueden clasificarse como demográficos, financieros y de comportamiento."
      ],
      "metadata": {
        "id": "JcxwdAI9A4-D"
      }
    },
    {
      "cell_type": "code",
      "source": [
        "# describir los datos\n",
        "set_option('precision', 3)\n",
        "dataset.describe()"
      ],
      "metadata": {
        "colab": {
          "base_uri": "https://localhost:8080/",
          "height": 300
        },
        "id": "ZCnHZt8DAxpX",
        "outputId": "bd376503-0bf3-46d8-a6f6-962c80de8af0"
      },
      "execution_count": null,
      "outputs": [
        {
          "output_type": "execute_result",
          "data": {
            "text/html": [
              "\n",
              "  <div id=\"df-f1984108-a7b3-4d85-9d1e-70bbe94fb93b\">\n",
              "    <div class=\"colab-df-container\">\n",
              "      <div>\n",
              "<style scoped>\n",
              "    .dataframe tbody tr th:only-of-type {\n",
              "        vertical-align: middle;\n",
              "    }\n",
              "\n",
              "    .dataframe tbody tr th {\n",
              "        vertical-align: top;\n",
              "    }\n",
              "\n",
              "    .dataframe thead th {\n",
              "        text-align: right;\n",
              "    }\n",
              "</style>\n",
              "<table border=\"1\" class=\"dataframe\">\n",
              "  <thead>\n",
              "    <tr style=\"text-align: right;\">\n",
              "      <th></th>\n",
              "      <th>ID</th>\n",
              "      <th>AGE</th>\n",
              "      <th>EDUC</th>\n",
              "      <th>MARRIED</th>\n",
              "      <th>KIDS</th>\n",
              "      <th>LIFECL</th>\n",
              "      <th>OCCAT</th>\n",
              "      <th>RISK</th>\n",
              "      <th>HHOUSES</th>\n",
              "      <th>WSAVED</th>\n",
              "      <th>SPENDMOR</th>\n",
              "      <th>NWCAT</th>\n",
              "      <th>INCCL</th>\n",
              "    </tr>\n",
              "  </thead>\n",
              "  <tbody>\n",
              "    <tr>\n",
              "      <th>count</th>\n",
              "      <td>3866.000</td>\n",
              "      <td>3866.000</td>\n",
              "      <td>3866.000</td>\n",
              "      <td>3866.000</td>\n",
              "      <td>3866.000</td>\n",
              "      <td>3866.000</td>\n",
              "      <td>3866.000</td>\n",
              "      <td>3866.000</td>\n",
              "      <td>3866.000</td>\n",
              "      <td>3866.000</td>\n",
              "      <td>3866.000</td>\n",
              "      <td>3866.000</td>\n",
              "      <td>3866.000</td>\n",
              "    </tr>\n",
              "    <tr>\n",
              "      <th>mean</th>\n",
              "      <td>1933.500</td>\n",
              "      <td>3.107</td>\n",
              "      <td>2.906</td>\n",
              "      <td>1.353</td>\n",
              "      <td>0.938</td>\n",
              "      <td>3.697</td>\n",
              "      <td>1.742</td>\n",
              "      <td>3.043</td>\n",
              "      <td>0.717</td>\n",
              "      <td>2.446</td>\n",
              "      <td>3.561</td>\n",
              "      <td>2.976</td>\n",
              "      <td>3.671</td>\n",
              "    </tr>\n",
              "    <tr>\n",
              "      <th>std</th>\n",
              "      <td>1116.162</td>\n",
              "      <td>1.513</td>\n",
              "      <td>1.066</td>\n",
              "      <td>0.478</td>\n",
              "      <td>1.249</td>\n",
              "      <td>1.618</td>\n",
              "      <td>0.934</td>\n",
              "      <td>0.879</td>\n",
              "      <td>0.451</td>\n",
              "      <td>0.743</td>\n",
              "      <td>1.304</td>\n",
              "      <td>1.463</td>\n",
              "      <td>1.184</td>\n",
              "    </tr>\n",
              "    <tr>\n",
              "      <th>min</th>\n",
              "      <td>1.000</td>\n",
              "      <td>1.000</td>\n",
              "      <td>1.000</td>\n",
              "      <td>1.000</td>\n",
              "      <td>0.000</td>\n",
              "      <td>1.000</td>\n",
              "      <td>1.000</td>\n",
              "      <td>1.000</td>\n",
              "      <td>0.000</td>\n",
              "      <td>1.000</td>\n",
              "      <td>1.000</td>\n",
              "      <td>1.000</td>\n",
              "      <td>1.000</td>\n",
              "    </tr>\n",
              "    <tr>\n",
              "      <th>25%</th>\n",
              "      <td>967.250</td>\n",
              "      <td>2.000</td>\n",
              "      <td>2.000</td>\n",
              "      <td>1.000</td>\n",
              "      <td>0.000</td>\n",
              "      <td>3.000</td>\n",
              "      <td>1.000</td>\n",
              "      <td>2.000</td>\n",
              "      <td>0.000</td>\n",
              "      <td>2.000</td>\n",
              "      <td>2.000</td>\n",
              "      <td>2.000</td>\n",
              "      <td>3.000</td>\n",
              "    </tr>\n",
              "    <tr>\n",
              "      <th>50%</th>\n",
              "      <td>1933.500</td>\n",
              "      <td>3.000</td>\n",
              "      <td>3.000</td>\n",
              "      <td>1.000</td>\n",
              "      <td>0.000</td>\n",
              "      <td>3.000</td>\n",
              "      <td>1.000</td>\n",
              "      <td>3.000</td>\n",
              "      <td>1.000</td>\n",
              "      <td>3.000</td>\n",
              "      <td>4.000</td>\n",
              "      <td>3.000</td>\n",
              "      <td>4.000</td>\n",
              "    </tr>\n",
              "    <tr>\n",
              "      <th>75%</th>\n",
              "      <td>2899.750</td>\n",
              "      <td>4.000</td>\n",
              "      <td>4.000</td>\n",
              "      <td>2.000</td>\n",
              "      <td>2.000</td>\n",
              "      <td>5.000</td>\n",
              "      <td>3.000</td>\n",
              "      <td>4.000</td>\n",
              "      <td>1.000</td>\n",
              "      <td>3.000</td>\n",
              "      <td>5.000</td>\n",
              "      <td>4.000</td>\n",
              "      <td>5.000</td>\n",
              "    </tr>\n",
              "    <tr>\n",
              "      <th>max</th>\n",
              "      <td>3866.000</td>\n",
              "      <td>6.000</td>\n",
              "      <td>4.000</td>\n",
              "      <td>2.000</td>\n",
              "      <td>8.000</td>\n",
              "      <td>6.000</td>\n",
              "      <td>4.000</td>\n",
              "      <td>4.000</td>\n",
              "      <td>1.000</td>\n",
              "      <td>3.000</td>\n",
              "      <td>5.000</td>\n",
              "      <td>5.000</td>\n",
              "      <td>5.000</td>\n",
              "    </tr>\n",
              "  </tbody>\n",
              "</table>\n",
              "</div>\n",
              "      <button class=\"colab-df-convert\" onclick=\"convertToInteractive('df-f1984108-a7b3-4d85-9d1e-70bbe94fb93b')\"\n",
              "              title=\"Convert this dataframe to an interactive table.\"\n",
              "              style=\"display:none;\">\n",
              "        \n",
              "  <svg xmlns=\"http://www.w3.org/2000/svg\" height=\"24px\"viewBox=\"0 0 24 24\"\n",
              "       width=\"24px\">\n",
              "    <path d=\"M0 0h24v24H0V0z\" fill=\"none\"/>\n",
              "    <path d=\"M18.56 5.44l.94 2.06.94-2.06 2.06-.94-2.06-.94-.94-2.06-.94 2.06-2.06.94zm-11 1L8.5 8.5l.94-2.06 2.06-.94-2.06-.94L8.5 2.5l-.94 2.06-2.06.94zm10 10l.94 2.06.94-2.06 2.06-.94-2.06-.94-.94-2.06-.94 2.06-2.06.94z\"/><path d=\"M17.41 7.96l-1.37-1.37c-.4-.4-.92-.59-1.43-.59-.52 0-1.04.2-1.43.59L10.3 9.45l-7.72 7.72c-.78.78-.78 2.05 0 2.83L4 21.41c.39.39.9.59 1.41.59.51 0 1.02-.2 1.41-.59l7.78-7.78 2.81-2.81c.8-.78.8-2.07 0-2.86zM5.41 20L4 18.59l7.72-7.72 1.47 1.35L5.41 20z\"/>\n",
              "  </svg>\n",
              "      </button>\n",
              "      \n",
              "  <style>\n",
              "    .colab-df-container {\n",
              "      display:flex;\n",
              "      flex-wrap:wrap;\n",
              "      gap: 12px;\n",
              "    }\n",
              "\n",
              "    .colab-df-convert {\n",
              "      background-color: #E8F0FE;\n",
              "      border: none;\n",
              "      border-radius: 50%;\n",
              "      cursor: pointer;\n",
              "      display: none;\n",
              "      fill: #1967D2;\n",
              "      height: 32px;\n",
              "      padding: 0 0 0 0;\n",
              "      width: 32px;\n",
              "    }\n",
              "\n",
              "    .colab-df-convert:hover {\n",
              "      background-color: #E2EBFA;\n",
              "      box-shadow: 0px 1px 2px rgba(60, 64, 67, 0.3), 0px 1px 3px 1px rgba(60, 64, 67, 0.15);\n",
              "      fill: #174EA6;\n",
              "    }\n",
              "\n",
              "    [theme=dark] .colab-df-convert {\n",
              "      background-color: #3B4455;\n",
              "      fill: #D2E3FC;\n",
              "    }\n",
              "\n",
              "    [theme=dark] .colab-df-convert:hover {\n",
              "      background-color: #434B5C;\n",
              "      box-shadow: 0px 1px 3px 1px rgba(0, 0, 0, 0.15);\n",
              "      filter: drop-shadow(0px 1px 2px rgba(0, 0, 0, 0.3));\n",
              "      fill: #FFFFFF;\n",
              "    }\n",
              "  </style>\n",
              "\n",
              "      <script>\n",
              "        const buttonEl =\n",
              "          document.querySelector('#df-f1984108-a7b3-4d85-9d1e-70bbe94fb93b button.colab-df-convert');\n",
              "        buttonEl.style.display =\n",
              "          google.colab.kernel.accessAllowed ? 'block' : 'none';\n",
              "\n",
              "        async function convertToInteractive(key) {\n",
              "          const element = document.querySelector('#df-f1984108-a7b3-4d85-9d1e-70bbe94fb93b');\n",
              "          const dataTable =\n",
              "            await google.colab.kernel.invokeFunction('convertToInteractive',\n",
              "                                                     [key], {});\n",
              "          if (!dataTable) return;\n",
              "\n",
              "          const docLinkHtml = 'Like what you see? Visit the ' +\n",
              "            '<a target=\"_blank\" href=https://colab.research.google.com/notebooks/data_table.ipynb>data table notebook</a>'\n",
              "            + ' to learn more about interactive tables.';\n",
              "          element.innerHTML = '';\n",
              "          dataTable['output_type'] = 'display_data';\n",
              "          await google.colab.output.renderOutput(dataTable, element);\n",
              "          const docLink = document.createElement('div');\n",
              "          docLink.innerHTML = docLinkHtml;\n",
              "          element.appendChild(docLink);\n",
              "        }\n",
              "      </script>\n",
              "    </div>\n",
              "  </div>\n",
              "  "
            ],
            "text/plain": [
              "             ID       AGE      EDUC  ...  SPENDMOR     NWCAT     INCCL\n",
              "count  3866.000  3866.000  3866.000  ...  3866.000  3866.000  3866.000\n",
              "mean   1933.500     3.107     2.906  ...     3.561     2.976     3.671\n",
              "std    1116.162     1.513     1.066  ...     1.304     1.463     1.184\n",
              "min       1.000     1.000     1.000  ...     1.000     1.000     1.000\n",
              "25%     967.250     2.000     2.000  ...     2.000     2.000     3.000\n",
              "50%    1933.500     3.000     3.000  ...     4.000     3.000     4.000\n",
              "75%    2899.750     4.000     4.000  ...     5.000     4.000     5.000\n",
              "max    3866.000     6.000     4.000  ...     5.000     5.000     5.000\n",
              "\n",
              "[8 rows x 13 columns]"
            ]
          },
          "metadata": {},
          "execution_count": 8
        }
      ]
    },
    {
      "cell_type": "markdown",
      "source": [
        "<a id='2.2'></a>\n",
        "## 3.2. Data Visualization"
      ],
      "metadata": {
        "id": "uO-Q6keXBHMz"
      }
    },
    {
      "cell_type": "markdown",
      "source": [
        "Veamos la correlación. Vamos a echar un vistazo detallado a la visualización después de la agrupación."
      ],
      "metadata": {
        "id": "TVpkCPBQBPi6"
      }
    },
    {
      "cell_type": "code",
      "source": [
        "# correlacion\n",
        "from pylab import rcParams\n",
        "\n",
        "#rcParams['figure.figsize'] = (15,15)\n",
        "correlation = dataset.corr()\n",
        "plt.figure(figsize=(15,15))\n",
        "plt.title('Correlation Matrix')\n",
        "sns.heatmap(correlation, vmax=1, square=True,annot=True,cmap='cubehelix')"
      ],
      "metadata": {
        "colab": {
          "base_uri": "https://localhost:8080/",
          "height": 867
        },
        "id": "ook-aP-KA_QY",
        "outputId": "0bc0daa0-13b0-4f06-9a3c-b4ab7bc1f8d3"
      },
      "execution_count": null,
      "outputs": [
        {
          "output_type": "execute_result",
          "data": {
            "text/plain": [
              "<matplotlib.axes._subplots.AxesSubplot at 0x7f4bf35fd190>"
            ]
          },
          "metadata": {},
          "execution_count": 9
        },
        {
          "output_type": "display_data",
          "data": {
            "image/png": "[encoded data removed]",
            "text/plain": [
              "<Figure size 1080x1080 with 2 Axes>"
            ]
          },
          "metadata": {
            "needs_background": "light"
          }
        }
      ]
    },
    {
      "cell_type": "markdown",
      "source": [
        "* Como puede verse en la imagen anterior, existe una correlación positiva significativa entre los valores."
      ],
      "metadata": {
        "id": "St46tBJWBtg2"
      }
    },
    {
      "cell_type": "markdown",
      "source": [
        "<a id='3'></a>\n",
        "## 4. Data Preparation"
      ],
      "metadata": {
        "id": "BP-3HCnVBxiB"
      }
    },
    {
      "cell_type": "markdown",
      "source": [
        "<a id='3.1'></a>\n",
        "## 4.1. Data Cleaning\n",
        "\n",
        "Comprobemos los NA en las filas, o bien los eliminamos o los rellenamos con la media de la columna."
      ],
      "metadata": {
        "id": "oGeHu8JQBy5t"
      }
    },
    {
      "cell_type": "code",
      "source": [
        "# Comprobación de los valores nulos y eliminación de los mismos'''\n",
        "print('Null Values =',dataset.isnull().values.any())"
      ],
      "metadata": {
        "colab": {
          "base_uri": "https://localhost:8080/"
        },
        "id": "sYMCoxGjBj_W",
        "outputId": "6ad29d72-0f61-4965-97fd-0c5585479779"
      },
      "execution_count": null,
      "outputs": [
        {
          "output_type": "stream",
          "name": "stdout",
          "text": [
            "Null Values = False\n"
          ]
        }
      ]
    },
    {
      "cell_type": "markdown",
      "source": [
        "* Dado que no hay datos que falten y que los datos ya están en formato categórico, no se realizó ninguna otra limpieza de datos. La columna ID, que no es necesaria, se ha eliminado"
      ],
      "metadata": {
        "id": "tYtMMHIkCGVF"
      }
    },
    {
      "cell_type": "code",
      "source": [
        "X=dataset.copy(\"deep\")\n",
        "X=X.drop(['ID'], axis=1)\n",
        "X.head()"
      ],
      "metadata": {
        "colab": {
          "base_uri": "https://localhost:8080/",
          "height": 206
        },
        "id": "zjV1BmU9B-4c",
        "outputId": "a57443a5-bddd-4166-f827-5501d1d134d2"
      },
      "execution_count": null,
      "outputs": [
        {
          "output_type": "execute_result",
          "data": {
            "text/html": [
              "\n",
              "  <div id=\"df-62d46ce3-a513-4ef9-8ea4-d4ee7e523d15\">\n",
              "    <div class=\"colab-df-container\">\n",
              "      <div>\n",
              "<style scoped>\n",
              "    .dataframe tbody tr th:only-of-type {\n",
              "        vertical-align: middle;\n",
              "    }\n",
              "\n",
              "    .dataframe tbody tr th {\n",
              "        vertical-align: top;\n",
              "    }\n",
              "\n",
              "    .dataframe thead th {\n",
              "        text-align: right;\n",
              "    }\n",
              "</style>\n",
              "<table border=\"1\" class=\"dataframe\">\n",
              "  <thead>\n",
              "    <tr style=\"text-align: right;\">\n",
              "      <th></th>\n",
              "      <th>AGE</th>\n",
              "      <th>EDUC</th>\n",
              "      <th>MARRIED</th>\n",
              "      <th>KIDS</th>\n",
              "      <th>LIFECL</th>\n",
              "      <th>OCCAT</th>\n",
              "      <th>RISK</th>\n",
              "      <th>HHOUSES</th>\n",
              "      <th>WSAVED</th>\n",
              "      <th>SPENDMOR</th>\n",
              "      <th>NWCAT</th>\n",
              "      <th>INCCL</th>\n",
              "    </tr>\n",
              "  </thead>\n",
              "  <tbody>\n",
              "    <tr>\n",
              "      <th>0</th>\n",
              "      <td>3</td>\n",
              "      <td>2</td>\n",
              "      <td>1</td>\n",
              "      <td>0</td>\n",
              "      <td>2</td>\n",
              "      <td>1</td>\n",
              "      <td>3</td>\n",
              "      <td>1</td>\n",
              "      <td>1</td>\n",
              "      <td>5</td>\n",
              "      <td>3</td>\n",
              "      <td>4</td>\n",
              "    </tr>\n",
              "    <tr>\n",
              "      <th>1</th>\n",
              "      <td>4</td>\n",
              "      <td>4</td>\n",
              "      <td>1</td>\n",
              "      <td>2</td>\n",
              "      <td>5</td>\n",
              "      <td>2</td>\n",
              "      <td>3</td>\n",
              "      <td>0</td>\n",
              "      <td>2</td>\n",
              "      <td>5</td>\n",
              "      <td>5</td>\n",
              "      <td>5</td>\n",
              "    </tr>\n",
              "    <tr>\n",
              "      <th>2</th>\n",
              "      <td>3</td>\n",
              "      <td>1</td>\n",
              "      <td>1</td>\n",
              "      <td>2</td>\n",
              "      <td>3</td>\n",
              "      <td>2</td>\n",
              "      <td>2</td>\n",
              "      <td>1</td>\n",
              "      <td>2</td>\n",
              "      <td>4</td>\n",
              "      <td>4</td>\n",
              "      <td>4</td>\n",
              "    </tr>\n",
              "    <tr>\n",
              "      <th>3</th>\n",
              "      <td>3</td>\n",
              "      <td>1</td>\n",
              "      <td>1</td>\n",
              "      <td>2</td>\n",
              "      <td>3</td>\n",
              "      <td>2</td>\n",
              "      <td>2</td>\n",
              "      <td>1</td>\n",
              "      <td>2</td>\n",
              "      <td>4</td>\n",
              "      <td>3</td>\n",
              "      <td>4</td>\n",
              "    </tr>\n",
              "    <tr>\n",
              "      <th>4</th>\n",
              "      <td>4</td>\n",
              "      <td>3</td>\n",
              "      <td>1</td>\n",
              "      <td>1</td>\n",
              "      <td>5</td>\n",
              "      <td>1</td>\n",
              "      <td>2</td>\n",
              "      <td>1</td>\n",
              "      <td>3</td>\n",
              "      <td>3</td>\n",
              "      <td>5</td>\n",
              "      <td>5</td>\n",
              "    </tr>\n",
              "  </tbody>\n",
              "</table>\n",
              "</div>\n",
              "      <button class=\"colab-df-convert\" onclick=\"convertToInteractive('df-62d46ce3-a513-4ef9-8ea4-d4ee7e523d15')\"\n",
              "              title=\"Convert this dataframe to an interactive table.\"\n",
              "              style=\"display:none;\">\n",
              "        \n",
              "  <svg xmlns=\"http://www.w3.org/2000/svg\" height=\"24px\"viewBox=\"0 0 24 24\"\n",
              "       width=\"24px\">\n",
              "    <path d=\"M0 0h24v24H0V0z\" fill=\"none\"/>\n",
              "    <path d=\"M18.56 5.44l.94 2.06.94-2.06 2.06-.94-2.06-.94-.94-2.06-.94 2.06-2.06.94zm-11 1L8.5 8.5l.94-2.06 2.06-.94-2.06-.94L8.5 2.5l-.94 2.06-2.06.94zm10 10l.94 2.06.94-2.06 2.06-.94-2.06-.94-.94-2.06-.94 2.06-2.06.94z\"/><path d=\"M17.41 7.96l-1.37-1.37c-.4-.4-.92-.59-1.43-.59-.52 0-1.04.2-1.43.59L10.3 9.45l-7.72 7.72c-.78.78-.78 2.05 0 2.83L4 21.41c.39.39.9.59 1.41.59.51 0 1.02-.2 1.41-.59l7.78-7.78 2.81-2.81c.8-.78.8-2.07 0-2.86zM5.41 20L4 18.59l7.72-7.72 1.47 1.35L5.41 20z\"/>\n",
              "  </svg>\n",
              "      </button>\n",
              "      \n",
              "  <style>\n",
              "    .colab-df-container {\n",
              "      display:flex;\n",
              "      flex-wrap:wrap;\n",
              "      gap: 12px;\n",
              "    }\n",
              "\n",
              "    .colab-df-convert {\n",
              "      background-color: #E8F0FE;\n",
              "      border: none;\n",
              "      border-radius: 50%;\n",
              "      cursor: pointer;\n",
              "      display: none;\n",
              "      fill: #1967D2;\n",
              "      height: 32px;\n",
              "      padding: 0 0 0 0;\n",
              "      width: 32px;\n",
              "    }\n",
              "\n",
              "    .colab-df-convert:hover {\n",
              "      background-color: #E2EBFA;\n",
              "      box-shadow: 0px 1px 2px rgba(60, 64, 67, 0.3), 0px 1px 3px 1px rgba(60, 64, 67, 0.15);\n",
              "      fill: #174EA6;\n",
              "    }\n",
              "\n",
              "    [theme=dark] .colab-df-convert {\n",
              "      background-color: #3B4455;\n",
              "      fill: #D2E3FC;\n",
              "    }\n",
              "\n",
              "    [theme=dark] .colab-df-convert:hover {\n",
              "      background-color: #434B5C;\n",
              "      box-shadow: 0px 1px 3px 1px rgba(0, 0, 0, 0.15);\n",
              "      filter: drop-shadow(0px 1px 2px rgba(0, 0, 0, 0.3));\n",
              "      fill: #FFFFFF;\n",
              "    }\n",
              "  </style>\n",
              "\n",
              "      <script>\n",
              "        const buttonEl =\n",
              "          document.querySelector('#df-62d46ce3-a513-4ef9-8ea4-d4ee7e523d15 button.colab-df-convert');\n",
              "        buttonEl.style.display =\n",
              "          google.colab.kernel.accessAllowed ? 'block' : 'none';\n",
              "\n",
              "        async function convertToInteractive(key) {\n",
              "          const element = document.querySelector('#df-62d46ce3-a513-4ef9-8ea4-d4ee7e523d15');\n",
              "          const dataTable =\n",
              "            await google.colab.kernel.invokeFunction('convertToInteractive',\n",
              "                                                     [key], {});\n",
              "          if (!dataTable) return;\n",
              "\n",
              "          const docLinkHtml = 'Like what you see? Visit the ' +\n",
              "            '<a target=\"_blank\" href=https://colab.research.google.com/notebooks/data_table.ipynb>data table notebook</a>'\n",
              "            + ' to learn more about interactive tables.';\n",
              "          element.innerHTML = '';\n",
              "          dataTable['output_type'] = 'display_data';\n",
              "          await google.colab.output.renderOutput(dataTable, element);\n",
              "          const docLink = document.createElement('div');\n",
              "          docLink.innerHTML = docLinkHtml;\n",
              "          element.appendChild(docLink);\n",
              "        }\n",
              "      </script>\n",
              "    </div>\n",
              "  </div>\n",
              "  "
            ],
            "text/plain": [
              "   AGE  EDUC  MARRIED  KIDS  LIFECL  ...  HHOUSES  WSAVED  SPENDMOR  NWCAT  INCCL\n",
              "0    3     2        1     0       2  ...        1       1         5      3      4\n",
              "1    4     4        1     2       5  ...        0       2         5      5      5\n",
              "2    3     1        1     2       3  ...        1       2         4      4      4\n",
              "3    3     1        1     2       3  ...        1       2         4      3      4\n",
              "4    4     3        1     1       5  ...        1       3         3      5      5\n",
              "\n",
              "[5 rows x 12 columns]"
            ]
          },
          "metadata": {},
          "execution_count": 11
        }
      ]
    },
    {
      "cell_type": "markdown",
      "source": [
        "<a id='3.2'></a>\n",
        "## 4.2. Data Transformation"
      ],
      "metadata": {
        "id": "-KEt-0VTCQEK"
      }
    },
    {
      "cell_type": "markdown",
      "source": [
        "Los datos disponibles se componen de atributos con una escala similar. Por lo tanto, no es necesario transformar los datos."
      ],
      "metadata": {
        "id": "tSIyTmF0CRrs"
      }
    },
    {
      "cell_type": "markdown",
      "source": [
        "<a id='5.1'></a>\n",
        "## 5.1. K-Means Clustering"
      ],
      "metadata": {
        "id": "XUmXryoqCW_b"
      }
    },
    {
      "cell_type": "markdown",
      "source": [
        "En este paso se observan las siguientes métricas para obtener el número óptimo de clusters.\n",
        "\n",
        "1. Suma de errores cuadrados (SSE) dentro de los clusters,\n",
        "2. Puntuación de la silueta."
      ],
      "metadata": {
        "id": "Hxko7UV0CcXL"
      }
    },
    {
      "cell_type": "markdown",
      "source": [
        "<a id='5.1.1'></a>\n",
        "### 5.1.1. Finding optimal number of clusters"
      ],
      "metadata": {
        "id": "MxpkGYQZCsM_"
      }
    },
    {
      "cell_type": "markdown",
      "source": [
        "Normalmente, se utilizan dos métricas para evaluar el número de clusters en el modelo K-means.\n",
        "\n",
        "1. Suma de errores cuadrados (SSE) dentro de los clusters\n",
        "2. Puntuación de la silueta"
      ],
      "metadata": {
        "id": "AbClmW6UCuKa"
      }
    },
    {
      "cell_type": "code",
      "source": [
        "rcParams['figure.figsize'] = (15, 8)\n",
        "\n",
        "distorsions = []\n",
        "max_loop=40\n",
        "for k in range(2, max_loop):\n",
        "    k_means = KMeans(n_clusters=k)\n",
        "    k_means.fit(X)\n",
        "    distorsions.append(k_means.inertia_)\n",
        "plt.plot(range(2, max_loop), distorsions)\n",
        "plt.xticks([i for i in range(2, max_loop)], rotation=75)\n",
        "plt.xlabel(\"Number of clusters\")\n",
        "plt.ylabel(\"Sum of Square Error\")\n",
        "plt.grid(True)"
      ],
      "metadata": {
        "colab": {
          "base_uri": "https://localhost:8080/",
          "height": 502
        },
        "id": "BsRcVFf0CLSm",
        "outputId": "3ed60e8d-5053-49c1-d22f-ce49eda31046"
      },
      "execution_count": null,
      "outputs": [
        {
          "output_type": "display_data",
          "data": {
            "image/png": "[encoded data removed]",
            "text/plain": [
              "<Figure size 1080x576 with 1 Axes>"
            ]
          },
          "metadata": {
            "needs_background": "light"
          }
        }
      ]
    },
    {
      "cell_type": "markdown",
      "source": [
        "#### **Silhouette score**"
      ],
      "metadata": {
        "id": "C2gRhVfPDSko"
      }
    },
    {
      "cell_type": "code",
      "source": [
        "from sklearn import metrics\n",
        "\n",
        "silhouette_score = []\n",
        "for k in range(2, max_loop):\n",
        "        kmeans = KMeans(n_clusters=k,  random_state=10, n_init=10)\n",
        "        kmeans.fit(X)        \n",
        "        silhouette_score.append(metrics.silhouette_score(X, kmeans.labels_, random_state=10))\n",
        "plt.plot(range(2, max_loop), silhouette_score)\n",
        "plt.xticks([i for i in range(2, max_loop)], rotation=75)\n",
        "plt.xlabel(\"Number of clusters\")\n",
        "plt.ylabel(\"Silhouette score\")\n",
        "plt.grid(True)"
      ],
      "metadata": {
        "colab": {
          "base_uri": "https://localhost:8080/",
          "height": 503
        },
        "id": "gxH-LfhHDK04",
        "outputId": "9cec8d04-9f48-45cd-88da-c6bae9e0fd75"
      },
      "execution_count": null,
      "outputs": [
        {
          "output_type": "display_data",
          "data": {
            "image/png": "[encoded data removed]",
            "text/plain": [
              "<Figure size 1080x576 with 1 Axes>"
            ]
          },
          "metadata": {
            "needs_background": "light"
          }
        }
      ]
    },
    {
      "cell_type": "markdown",
      "source": [
        "Si se observan los dos gráficos anteriores, el número óptimo de conglomerados parece estar en torno a 7. Podemos ver que, a medida que el número de conglomerados pasa de 6, la suma del cuadrado de los errores dentro de los conglomerados se estabiliza. En el segundo gráfico, podemos ver que hay varias partes del gráfico en las que se aprecia una curvatura. Dado que no hay mucha diferencia en la SSE después de 7 clusters, utilizaremos 7 clusters en el modelo de k-means que se muestra a continuación."
      ],
      "metadata": {
        "id": "knaZ4zKfDzpA"
      }
    },
    {
      "cell_type": "markdown",
      "source": [
        "<a id='5.1.2'></a>\n",
        "### 5.1.2. Clustering and Visualisation"
      ],
      "metadata": {
        "id": "DdVL8jx-ERBd"
      }
    },
    {
      "cell_type": "code",
      "source": [
        "nclust=7"
      ],
      "metadata": {
        "id": "m99xS1BmDf6e"
      },
      "execution_count": null,
      "outputs": []
    },
    {
      "cell_type": "code",
      "source": [
        "# Ajuste con k-means\n",
        "k_means = cluster.KMeans(n_clusters=nclust)\n",
        "k_means.fit(X)"
      ],
      "metadata": {
        "colab": {
          "base_uri": "https://localhost:8080/"
        },
        "id": "_-srdtpvEVPB",
        "outputId": "83c022f9-f782-487d-fafe-c98e292dca17"
      },
      "execution_count": null,
      "outputs": [
        {
          "output_type": "execute_result",
          "data": {
            "text/plain": [
              "KMeans(n_clusters=7)"
            ]
          },
          "metadata": {},
          "execution_count": 17
        }
      ]
    },
    {
      "cell_type": "code",
      "source": [
        "# Extracción de etiquetas \n",
        "target_labels = k_means.predict(X)"
      ],
      "metadata": {
        "id": "Kabw9rJUEaHn"
      },
      "execution_count": null,
      "outputs": []
    },
    {
      "cell_type": "markdown",
      "source": [
        "<a id='5.2'></a>\n",
        "## 5.2. Affinity Propagation"
      ],
      "metadata": {
        "id": "QhDGI-_4EyVd"
      }
    },
    {
      "cell_type": "code",
      "source": [
        "ap = AffinityPropagation(damping = 0.5, max_iter = 250, affinity = 'euclidean')\n",
        "ap.fit(X)\n",
        "clust_labels2 = ap.predict(X)"
      ],
      "metadata": {
        "id": "ESW_NbHHEeBJ"
      },
      "execution_count": null,
      "outputs": []
    },
    {
      "cell_type": "code",
      "source": [
        "cluster_centers_indices = ap.cluster_centers_indices_\n",
        "labels = ap.labels_\n",
        "n_clusters_ = len(cluster_centers_indices)\n",
        "print('Estimated number of clusters: %d' % n_clusters_)"
      ],
      "metadata": {
        "colab": {
          "base_uri": "https://localhost:8080/"
        },
        "id": "5lYNg7O0E2vW",
        "outputId": "0073c396-41ff-4a9c-d607-87c52b31a6de"
      },
      "execution_count": null,
      "outputs": [
        {
          "output_type": "stream",
          "name": "stdout",
          "text": [
            "Estimated number of clusters: 161\n"
          ]
        }
      ]
    },
    {
      "cell_type": "markdown",
      "source": [
        "<a id='5.3'></a>\n",
        "## 5.3. Cluster Evaluation\n",
        "\n",
        "Evaluamos los clusters utilizando el Coeficiente de Silueta (sklearn.metrics.silhouette_score). Una puntuación de Coeficiente de Silueta más alta significa un modelo con clusters mejor definidos."
      ],
      "metadata": {
        "id": "oNMyCgB0E_7b"
      }
    },
    {
      "cell_type": "code",
      "source": [
        "from sklearn import metrics\n",
        "print(\"km\", metrics.silhouette_score(X, k_means.labels_, metric='euclidean'))\n",
        "print(\"ap\", metrics.silhouette_score(X, ap.labels_, metric='euclidean'))"
      ],
      "metadata": {
        "colab": {
          "base_uri": "https://localhost:8080/"
        },
        "id": "UFxKMmizE7ac",
        "outputId": "7ed8bc40-8348-4726-d7f3-9a910789a7a9"
      },
      "execution_count": null,
      "outputs": [
        {
          "output_type": "stream",
          "name": "stdout",
          "text": [
            "km 0.17119987137780202\n",
            "ap 0.09733518906949089\n"
          ]
        }
      ]
    },
    {
      "cell_type": "markdown",
      "source": [
        "* k-means tiene un coeficiente de silueta mucho mayor que la propagación por afinidad."
      ],
      "metadata": {
        "id": "huvEBg_cFM1i"
      }
    },
    {
      "cell_type": "markdown",
      "source": [
        "<a id='6'></a>\n",
        "# 6. Cluster Intuition\n",
        "\n",
        "En el siguiente paso, comprobaremos cada cluster y entenderemos la intuición que hay detrás de los clusters."
      ],
      "metadata": {
        "id": "aGYsuLdqFWa6"
      }
    },
    {
      "cell_type": "code",
      "source": [
        "cluster_output= pd.concat([pd.DataFrame(X), pd.DataFrame(k_means.labels_, columns = ['cluster'])],axis = 1)\n",
        "output=cluster_output.groupby('cluster').mean()\n",
        "output"
      ],
      "metadata": {
        "colab": {
          "base_uri": "https://localhost:8080/",
          "height": 300
        },
        "id": "pta_M8jhFKk5",
        "outputId": "4d735423-11aa-4ee1-a70a-11dd0a7f73eb"
      },
      "execution_count": null,
      "outputs": [
        {
          "output_type": "execute_result",
          "data": {
            "text/html": [
              "\n",
              "  <div id=\"df-1745c8ab-46d7-49e2-b6f7-4d118dbbe106\">\n",
              "    <div class=\"colab-df-container\">\n",
              "      <div>\n",
              "<style scoped>\n",
              "    .dataframe tbody tr th:only-of-type {\n",
              "        vertical-align: middle;\n",
              "    }\n",
              "\n",
              "    .dataframe tbody tr th {\n",
              "        vertical-align: top;\n",
              "    }\n",
              "\n",
              "    .dataframe thead th {\n",
              "        text-align: right;\n",
              "    }\n",
              "</style>\n",
              "<table border=\"1\" class=\"dataframe\">\n",
              "  <thead>\n",
              "    <tr style=\"text-align: right;\">\n",
              "      <th></th>\n",
              "      <th>AGE</th>\n",
              "      <th>EDUC</th>\n",
              "      <th>MARRIED</th>\n",
              "      <th>KIDS</th>\n",
              "      <th>LIFECL</th>\n",
              "      <th>OCCAT</th>\n",
              "      <th>RISK</th>\n",
              "      <th>HHOUSES</th>\n",
              "      <th>WSAVED</th>\n",
              "      <th>SPENDMOR</th>\n",
              "      <th>NWCAT</th>\n",
              "      <th>INCCL</th>\n",
              "    </tr>\n",
              "    <tr>\n",
              "      <th>cluster</th>\n",
              "      <th></th>\n",
              "      <th></th>\n",
              "      <th></th>\n",
              "      <th></th>\n",
              "      <th></th>\n",
              "      <th></th>\n",
              "      <th></th>\n",
              "      <th></th>\n",
              "      <th></th>\n",
              "      <th></th>\n",
              "      <th></th>\n",
              "      <th></th>\n",
              "    </tr>\n",
              "  </thead>\n",
              "  <tbody>\n",
              "    <tr>\n",
              "      <th>0</th>\n",
              "      <td>2.508</td>\n",
              "      <td>3.583</td>\n",
              "      <td>1.102</td>\n",
              "      <td>2.275</td>\n",
              "      <td>3.144</td>\n",
              "      <td>1.469</td>\n",
              "      <td>2.513</td>\n",
              "      <td>0.954</td>\n",
              "      <td>2.686</td>\n",
              "      <td>3.474</td>\n",
              "      <td>4.271</td>\n",
              "      <td>4.702</td>\n",
              "    </tr>\n",
              "    <tr>\n",
              "      <th>1</th>\n",
              "      <td>4.839</td>\n",
              "      <td>2.157</td>\n",
              "      <td>1.578</td>\n",
              "      <td>0.186</td>\n",
              "      <td>5.621</td>\n",
              "      <td>2.373</td>\n",
              "      <td>3.555</td>\n",
              "      <td>0.710</td>\n",
              "      <td>2.268</td>\n",
              "      <td>3.900</td>\n",
              "      <td>2.363</td>\n",
              "      <td>2.677</td>\n",
              "    </tr>\n",
              "    <tr>\n",
              "      <th>2</th>\n",
              "      <td>1.801</td>\n",
              "      <td>2.695</td>\n",
              "      <td>1.643</td>\n",
              "      <td>0.007</td>\n",
              "      <td>1.364</td>\n",
              "      <td>1.649</td>\n",
              "      <td>3.233</td>\n",
              "      <td>0.299</td>\n",
              "      <td>2.369</td>\n",
              "      <td>3.450</td>\n",
              "      <td>1.486</td>\n",
              "      <td>2.695</td>\n",
              "    </tr>\n",
              "    <tr>\n",
              "      <th>3</th>\n",
              "      <td>1.898</td>\n",
              "      <td>2.408</td>\n",
              "      <td>1.329</td>\n",
              "      <td>2.118</td>\n",
              "      <td>3.353</td>\n",
              "      <td>1.443</td>\n",
              "      <td>3.380</td>\n",
              "      <td>0.512</td>\n",
              "      <td>2.241</td>\n",
              "      <td>4.525</td>\n",
              "      <td>1.712</td>\n",
              "      <td>3.110</td>\n",
              "    </tr>\n",
              "    <tr>\n",
              "      <th>4</th>\n",
              "      <td>4.666</td>\n",
              "      <td>3.458</td>\n",
              "      <td>1.226</td>\n",
              "      <td>0.299</td>\n",
              "      <td>5.351</td>\n",
              "      <td>2.077</td>\n",
              "      <td>2.745</td>\n",
              "      <td>0.942</td>\n",
              "      <td>2.624</td>\n",
              "      <td>3.551</td>\n",
              "      <td>4.515</td>\n",
              "      <td>4.506</td>\n",
              "    </tr>\n",
              "    <tr>\n",
              "      <th>5</th>\n",
              "      <td>1.946</td>\n",
              "      <td>2.448</td>\n",
              "      <td>1.287</td>\n",
              "      <td>1.974</td>\n",
              "      <td>3.315</td>\n",
              "      <td>1.399</td>\n",
              "      <td>3.266</td>\n",
              "      <td>0.520</td>\n",
              "      <td>2.205</td>\n",
              "      <td>1.963</td>\n",
              "      <td>1.802</td>\n",
              "      <td>3.252</td>\n",
              "    </tr>\n",
              "    <tr>\n",
              "      <th>6</th>\n",
              "      <td>2.348</td>\n",
              "      <td>3.387</td>\n",
              "      <td>1.368</td>\n",
              "      <td>0.126</td>\n",
              "      <td>1.759</td>\n",
              "      <td>1.333</td>\n",
              "      <td>2.705</td>\n",
              "      <td>0.857</td>\n",
              "      <td>2.624</td>\n",
              "      <td>3.720</td>\n",
              "      <td>3.547</td>\n",
              "      <td>4.350</td>\n",
              "    </tr>\n",
              "  </tbody>\n",
              "</table>\n",
              "</div>\n",
              "      <button class=\"colab-df-convert\" onclick=\"convertToInteractive('df-1745c8ab-46d7-49e2-b6f7-4d118dbbe106')\"\n",
              "              title=\"Convert this dataframe to an interactive table.\"\n",
              "              style=\"display:none;\">\n",
              "        \n",
              "  <svg xmlns=\"http://www.w3.org/2000/svg\" height=\"24px\"viewBox=\"0 0 24 24\"\n",
              "       width=\"24px\">\n",
              "    <path d=\"M0 0h24v24H0V0z\" fill=\"none\"/>\n",
              "    <path d=\"M18.56 5.44l.94 2.06.94-2.06 2.06-.94-2.06-.94-.94-2.06-.94 2.06-2.06.94zm-11 1L8.5 8.5l.94-2.06 2.06-.94-2.06-.94L8.5 2.5l-.94 2.06-2.06.94zm10 10l.94 2.06.94-2.06 2.06-.94-2.06-.94-.94-2.06-.94 2.06-2.06.94z\"/><path d=\"M17.41 7.96l-1.37-1.37c-.4-.4-.92-.59-1.43-.59-.52 0-1.04.2-1.43.59L10.3 9.45l-7.72 7.72c-.78.78-.78 2.05 0 2.83L4 21.41c.39.39.9.59 1.41.59.51 0 1.02-.2 1.41-.59l7.78-7.78 2.81-2.81c.8-.78.8-2.07 0-2.86zM5.41 20L4 18.59l7.72-7.72 1.47 1.35L5.41 20z\"/>\n",
              "  </svg>\n",
              "      </button>\n",
              "      \n",
              "  <style>\n",
              "    .colab-df-container {\n",
              "      display:flex;\n",
              "      flex-wrap:wrap;\n",
              "      gap: 12px;\n",
              "    }\n",
              "\n",
              "    .colab-df-convert {\n",
              "      background-color: #E8F0FE;\n",
              "      border: none;\n",
              "      border-radius: 50%;\n",
              "      cursor: pointer;\n",
              "      display: none;\n",
              "      fill: #1967D2;\n",
              "      height: 32px;\n",
              "      padding: 0 0 0 0;\n",
              "      width: 32px;\n",
              "    }\n",
              "\n",
              "    .colab-df-convert:hover {\n",
              "      background-color: #E2EBFA;\n",
              "      box-shadow: 0px 1px 2px rgba(60, 64, 67, 0.3), 0px 1px 3px 1px rgba(60, 64, 67, 0.15);\n",
              "      fill: #174EA6;\n",
              "    }\n",
              "\n",
              "    [theme=dark] .colab-df-convert {\n",
              "      background-color: #3B4455;\n",
              "      fill: #D2E3FC;\n",
              "    }\n",
              "\n",
              "    [theme=dark] .colab-df-convert:hover {\n",
              "      background-color: #434B5C;\n",
              "      box-shadow: 0px 1px 3px 1px rgba(0, 0, 0, 0.15);\n",
              "      filter: drop-shadow(0px 1px 2px rgba(0, 0, 0, 0.3));\n",
              "      fill: #FFFFFF;\n",
              "    }\n",
              "  </style>\n",
              "\n",
              "      <script>\n",
              "        const buttonEl =\n",
              "          document.querySelector('#df-1745c8ab-46d7-49e2-b6f7-4d118dbbe106 button.colab-df-convert');\n",
              "        buttonEl.style.display =\n",
              "          google.colab.kernel.accessAllowed ? 'block' : 'none';\n",
              "\n",
              "        async function convertToInteractive(key) {\n",
              "          const element = document.querySelector('#df-1745c8ab-46d7-49e2-b6f7-4d118dbbe106');\n",
              "          const dataTable =\n",
              "            await google.colab.kernel.invokeFunction('convertToInteractive',\n",
              "                                                     [key], {});\n",
              "          if (!dataTable) return;\n",
              "\n",
              "          const docLinkHtml = 'Like what you see? Visit the ' +\n",
              "            '<a target=\"_blank\" href=https://colab.research.google.com/notebooks/data_table.ipynb>data table notebook</a>'\n",
              "            + ' to learn more about interactive tables.';\n",
              "          element.innerHTML = '';\n",
              "          dataTable['output_type'] = 'display_data';\n",
              "          await google.colab.output.renderOutput(dataTable, element);\n",
              "          const docLink = document.createElement('div');\n",
              "          docLink.innerHTML = docLinkHtml;\n",
              "          element.appendChild(docLink);\n",
              "        }\n",
              "      </script>\n",
              "    </div>\n",
              "  </div>\n",
              "  "
            ],
            "text/plain": [
              "           AGE   EDUC  MARRIED   KIDS  ...  WSAVED  SPENDMOR  NWCAT  INCCL\n",
              "cluster                                ...                                \n",
              "0        2.508  3.583    1.102  2.275  ...   2.686     3.474  4.271  4.702\n",
              "1        4.839  2.157    1.578  0.186  ...   2.268     3.900  2.363  2.677\n",
              "2        1.801  2.695    1.643  0.007  ...   2.369     3.450  1.486  2.695\n",
              "3        1.898  2.408    1.329  2.118  ...   2.241     4.525  1.712  3.110\n",
              "4        4.666  3.458    1.226  0.299  ...   2.624     3.551  4.515  4.506\n",
              "5        1.946  2.448    1.287  1.974  ...   2.205     1.963  1.802  3.252\n",
              "6        2.348  3.387    1.368  0.126  ...   2.624     3.720  3.547  4.350\n",
              "\n",
              "[7 rows x 12 columns]"
            ]
          },
          "metadata": {},
          "execution_count": 22
        }
      ]
    },
    {
      "cell_type": "markdown",
      "source": [
        "### **Demographics Features**"
      ],
      "metadata": {
        "id": "VEQpwXapFoc-"
      }
    },
    {
      "cell_type": "code",
      "source": [
        "output[['AGE','EDUC','MARRIED','KIDS','LIFECL','OCCAT']].plot.bar(rot=0, figsize=(18,7));"
      ],
      "metadata": {
        "colab": {
          "base_uri": "https://localhost:8080/",
          "height": 442
        },
        "id": "2etUgENpFhDv",
        "outputId": "42fe722a-f06c-4801-81c1-14a1f29ab36b"
      },
      "execution_count": null,
      "outputs": [
        {
          "output_type": "display_data",
          "data": {
            "image/png": "[encoded data removed]",
            "text/plain": [
              "<Figure size 1296x504 with 1 Axes>"
            ]
          },
          "metadata": {
            "needs_background": "light"
          }
        }
      ]
    },
    {
      "cell_type": "markdown",
      "source": [
        "* El gráfico muestra el valor medio de los atributos para cada uno de los clusters. Por ejemplo, comparando el cluster 0 y el cluster 1, el cluster 0 tiene una edad media más baja, pero una educación media más alta. En términos de matrimonio y número de hijos, estos dos clusters son similares. Por lo tanto, los individuos del cluster 0 tendrán de media una mayor tolerancia al riesgo en comparación con los individuos del cluster 1, basándose en los atributos demográficos."
      ],
      "metadata": {
        "id": "FWe2USQlF2Wi"
      }
    },
    {
      "cell_type": "markdown",
      "source": [
        "### **Financial Features and Features related to willingness to take risk**"
      ],
      "metadata": {
        "id": "ISf_n6O1GDpf"
      }
    },
    {
      "cell_type": "code",
      "source": [
        "output[['HHOUSES','NWCAT','INCCL','WSAVED','SPENDMOR','RISK']].plot.bar(rot=0, figsize=(18,7));"
      ],
      "metadata": {
        "colab": {
          "base_uri": "https://localhost:8080/",
          "height": 442
        },
        "id": "GAM_qDqfFt58",
        "outputId": "b0bd05a2-ee6f-48d4-ff8d-8f1029c0ec95"
      },
      "execution_count": null,
      "outputs": [
        {
          "output_type": "display_data",
          "data": {
            "image/png": "[encoded data removed]",
            "text/plain": [
              "<Figure size 1296x504 with 1 Axes>"
            ]
          },
          "metadata": {
            "needs_background": "light"
          }
        }
      ]
    },
    {
      "cell_type": "markdown",
      "source": [
        "* El gráfico muestra el valor medio de los atributos para cada uno de los clusters en los atributos financieros y de comportamiento. Por ejemplo, comparando el cluster 0 y el cluster 1, el cluster 0 tiene una media más alta de propiedad de la vivienda, una media más alta de patrimonio neto e ingresos, y una menor disposición a asumir riesgos. En cuanto a la comparación del ahorro con la renta y la disposición a ahorrar, los dos clusters son comparables. Por lo tanto, podemos afirmar que los individuos del grupo 0 tendrán, por término medio, una mayor capacidad, aunque menor voluntad, de asumir riesgos en comparación con el grupo 1."
      ],
      "metadata": {
        "id": "2mX_XHXBGQaK"
      }
    },
    {
      "cell_type": "code",
      "source": [
        "sns.heatmap(output.T)"
      ],
      "metadata": {
        "colab": {
          "base_uri": "https://localhost:8080/",
          "height": 514
        },
        "id": "4e-AkwCvGJK6",
        "outputId": "0a5bda25-3afa-4abe-df37-3897dedb8844"
      },
      "execution_count": null,
      "outputs": [
        {
          "output_type": "execute_result",
          "data": {
            "text/plain": [
              "<matplotlib.axes._subplots.AxesSubplot at 0x7f4bec22cf10>"
            ]
          },
          "metadata": {},
          "execution_count": 27
        },
        {
          "output_type": "display_data",
          "data": {
            "image/png": "[encoded data removed]",
            "text/plain": [
              "<Figure size 1080x576 with 2 Axes>"
            ]
          },
          "metadata": {
            "needs_background": "light"
          }
        }
      ]
    },
    {
      "cell_type": "markdown",
      "source": [
        "Combinando la información de los atributos demográficos, financieros y de comportamiento del clúster 0 y del clúster 1, la capacidad general de asumir riesgos del clúster 0 es mayor que la del clúster 1. Realizando un análisis similar en todas las demás agrupaciones, resumimos los resultados en la siguiente tabla. La columna de tolerancia al riesgo representa la evaluación subjetiva de la tolerancia al riesgo de cada uno de los grupos.\n",
        "\n",
        "| Cluster| Features | Risk Capacity |\n",
        "| --- | --- | --- |\n",
        "| Cluster 0\t | Edad baja, patrimonio e ingresos elevados, categoría de vida menos arriesgada, disposición a gastar más | Alta |\n",
        "| Cluster 1\t | Edad elevada, patrimonio e ingresos bajos, categoría de vida muy arriesgada, disposición a asumir riesgos, baja educación | Alta |\n",
        "| Cluster 2\t | Edad alta, patrimonio e ingresos elevados, categoría de vida muy arriesgada, disposición a asumir riesgos, casa propia | Media |\n",
        "| Cluster 3\t | \tEdad baja, ingresos y patrimonio neto muy bajos, alta disposición a asumir riesgos, muchos hijos | Baja |\n",
        "| Cluster 4\t | Edad media, ingresos y patrimonio neto muy elevados, alta disposición a asumir riesgos, muchos hijos, casa propia | Alta |\n",
        "| Cluster 5\t | Edad baja, ingresos y patrimonio neto muy bajos, alta disposición a asumir riesgos, sin hijos | Media |\n",
        "| Cluster 6\t | Edad baja, ingresos y patrimonio medios, alta disposición a asumir riesgos, muchos hijos, casa propia | Baja |\n"
      ],
      "metadata": {
        "id": "R7lD34zIGxDX"
      }
    },
    {
      "cell_type": "markdown",
      "source": [
        "## **Conclución**\n",
        "Una de las claves de este proyecto es el enfoque para entender la intuición de los clusters. Utilizamos técnicas de visualización para comprender el comportamiento esperado de un miembro de un clúster mediante la interpretación cualitativa de los valores medios de las variables de cada clúster.\n",
        "\n",
        "Demostramos la eficacia de la técnica de clustering para descubrir los grupos intuitivos naturales de los diferentes inversores en función de su tolerancia al riesgo.\n",
        "\n",
        "Dado que los algoritmos de clustering pueden agrupar con éxito a los inversores en función de diferentes factores, como la edad, los ingresos y la tolerancia al riesgo, los gestores de carteras pueden utilizarlos para comprender el comportamiento de los inversores y estandarizar la asignación y el reequilibrio de las carteras en los clusters, haciendo que el proceso de gestión de las inversiones sea más rápido y eficaz."
      ],
      "metadata": {
        "id": "lf5OgNlAHl8L"
      }
    }
  ]
}