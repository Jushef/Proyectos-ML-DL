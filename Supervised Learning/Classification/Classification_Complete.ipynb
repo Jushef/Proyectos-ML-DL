{
  "nbformat": 4,
  "nbformat_minor": 0,
  "metadata": {
    "colab": {
      "name": "Classification-Complete.ipynb",
      "provenance": [],
      "authorship_tag": "ABX9TyNQtGz5qXtyEo/1heAf3yy7",
      "include_colab_link": true
    },
    "kernelspec": {
      "name": "python3",
      "display_name": "Python 3"
    },
    "language_info": {
      "name": "python"
    }
  },
  "cells": [
    {
      "cell_type": "markdown",
      "metadata": {
        "id": "view-in-github",
        "colab_type": "text"
      },
      "source": [
        "<a href=\"https://colab.research.google.com/github/Jushef/Proyectos-ML-DL/blob/main/Supervised%20Learning/Classification/Classification_Complete.ipynb\" target=\"_parent\"><img src=\"https://colab.research.google.com/assets/colab-badge.svg\" alt=\"Open In Colab\"/></a>"
      ]
    },
    {
      "cell_type": "markdown",
      "source": [
        "# **Classification-Master Template**\n",
        "¿Cómo trabajar a través de un problema de aprendizaje automático basado en la clasificación o la regresión? En este proyecto lo veremos a través de un problema de modelado predictivo de clasificación en Python, incluyendo cada paso del proceso de aprendizaje automático aplicado. Sin embargo, este cuaderno es aplicable también a un caso de estudio basado en la regresión. Los modelos, la búsqueda en la red y las métricas de evaluación tendrán que cambiar para el caso de estudio basado en la regresión."
      ],
      "metadata": {
        "id": "53XyysWXH8Cb"
      }
    },
    {
      "cell_type": "markdown",
      "source": [
        "## **Contenido**"
      ],
      "metadata": {
        "id": "3AHoELspH90J"
      }
    },
    {
      "cell_type": "markdown",
      "source": [
        "* [1. Introducción](#0)\n",
        "* [2. Introducción - Carga de bibliotecas y conjunto de datos](#1)\n",
        "    * [2.1. Cargar bibliotecas](#1.1)    \n",
        "    * [2.2. Cargar el conjunto de datos](#1.2)\n",
        "* [3. Análisis exploratorio de datos](#2)\n",
        "    * [3.1. Estadísticas descriptivas](#2.1)    \n",
        "    * [3.2. Visualización de datos](#2.2)\n",
        "* [4. Preparación de los datos](#3)\n",
        "    * [4.1. Limpieza de datos](#3.1)\n",
        "    * [4.2.Tratamiento de datos categóricos](#3.2)\n",
        "    * [4.3.Selección de características](#3.3)\n",
        "    * [4.3.Transformación de datos](#3.4) \n",
        "        * [4.3.1 Reescalado](#3.4.1)\n",
        "        * [4.3.2 Normalización](#3.4.2)\n",
        "        * [4.3.3 Normalización](#3.4.3)    \n",
        "* [5.Evaluar algoritmos y modelos](#4)        \n",
        "    * [5.1. División de entrenamiento/prueba](#4.1)\n",
        "    * [5.2. Opciones de prueba y métricas de evaluación](#4.2)\n",
        "    * [5.3. Comparación de modelos y algoritmos](#4.3)\n",
        "        * [5.3.1 Modelos de clasificación comunes](#4.3.1)\n",
        "        * [5.3.2 Modelos de conjunto](#4.3.2)\n",
        "        * [5.3.3 Modelos de aprendizaje profundo](#4.3.3)    \n",
        "* [6. Ajuste del modelo y búsqueda de la cuadrícula](#5)  \n",
        "* [7. Finalizar el modelo](#6)  \n",
        "    * [7.1. Resultados en el conjunto de datos de prueba](#6.1)\n",
        "    * [7.1. Intuición de variables/Selección de características](#6.2) \n",
        "    * [7.3. Guardar el modelo para su uso posterior](#6.3)\n",
        "   "
      ],
      "metadata": {
        "id": "ywB04nDhH8Sm"
      }
    },
    {
      "cell_type": "markdown",
      "source": [
        "<a id='0'></a>\n",
        "# 1. Definición del problema"
      ],
      "metadata": {
        "id": "p7Rg84EPIkje"
      }
    },
    {
      "cell_type": "markdown",
      "source": [
        "Nuestro objetivo en este cuaderno jupyter es bajo lo siguiente\n",
        "\n",
        "* Cómo trabajar con un problema de modelado predictivo de principio a fin. Este cuaderno es aplicable tanto a problemas de regresión como de clasificación.\n",
        "\n",
        "* Cómo utilizar las transformaciones de datos para mejorar el rendimiento del modelo.\n",
        "* Cómo utilizar el ajuste del algoritmo para mejorar el rendimiento del modelo.\n",
        "* Cómo utilizar los métodos de conjunto y el ajuste de los métodos de conjunto para mejorar el rendimiento del modelo.\n",
        "* Cómo utilizar los métodos de aprendizaje profundo.\n",
        "\n",
        "Los datos son un subconjunto de los datos alemanes por defecto (https://archive.ics.uci.edu/ml/datasets/statlog+(german+credit+data) con los siguientes atributos. Edad, sexo, empleo, vivienda, cuentas de ahorro, cuenta corriente, importe de crédito, duración, finalidad.\n",
        "\n",
        "* Se han implementado y comprobado los siguientes modelos:\n",
        "\n",
        "  * Regresión logística\n",
        "  * Análisis discriminante lineal\n",
        "  * K Vecinos más cercanos\n",
        "  * Árbol de decisión (CART)\n",
        "  * Máquina de vectores de apoyo\n",
        "  * Ada Boost\n",
        "  * Método Gradient Boosting\n",
        "  * Bosque aleatorio\n",
        "  * Árboles adicionales\n",
        "  * Red neuronal - superficial\n",
        "  * Red neuronal profunda"
      ],
      "metadata": {
        "id": "3RZyswqVImOq"
      }
    },
    {
      "cell_type": "markdown",
      "source": [
        "<a id='1'></a>\n",
        "# 2. Cómo empezar- Cargar los datos y los paquetes de python"
      ],
      "metadata": {
        "id": "_ssyw42XI8nR"
      }
    },
    {
      "cell_type": "markdown",
      "source": [
        "<a id='1.1'></a>\n",
        "## 2.1. Carga de los paquetes de python"
      ],
      "metadata": {
        "id": "ti_GgVYII-Em"
      }
    },
    {
      "cell_type": "code",
      "source": [
        "# Carga de bibliotecas\n",
        "import numpy as np\n",
        "import pandas as pd\n",
        "import matplotlib.pyplot as plt\n",
        "from pylab import rcParams\n",
        "from pandas import read_csv, set_option\n",
        "from pandas.plotting import scatter_matrix\n",
        "import seaborn as sns\n",
        "from sklearn.preprocessing import StandardScaler\n",
        "from sklearn.model_selection import train_test_split, KFold, cross_val_score, GridSearchCV\n",
        "from sklearn.linear_model import LogisticRegression\n",
        "from sklearn.tree import DecisionTreeClassifier\n",
        "from sklearn.neighbors import KNeighborsClassifier\n",
        "from sklearn.discriminant_analysis import LinearDiscriminantAnalysis\n",
        "from sklearn.naive_bayes import GaussianNB\n",
        "from sklearn.svm import SVC\n",
        "from sklearn.neural_network import MLPClassifier\n",
        "from sklearn.pipeline import Pipeline\n",
        "from sklearn.ensemble import AdaBoostClassifier, GradientBoostingClassifier, RandomForestClassifier, ExtraTreesClassifier\n",
        "from sklearn.metrics import classification_report, confusion_matrix, accuracy_score\n",
        "\n",
        "# Bibliotecas para modelos de aprendizaje profundo\n",
        "from tensorflow.keras.models import Sequential\n",
        "from tensorflow.keras.layers import Dense\n",
        "from tensorflow.keras.wrappers.scikit_learn import KerasClassifier\n",
        "from tensorflow.keras.optimizers import SGD\n",
        "\n",
        "# Bibliotecas para guardar el modelo\n",
        "from pickle import dump\n",
        "from pickle import load"
      ],
      "metadata": {
        "id": "mN7w_pPpIZxk"
      },
      "execution_count": 1,
      "outputs": []
    },
    {
      "cell_type": "markdown",
      "source": [
        "<a id='1.2'></a>\n",
        "## 2.2. Carga de los datos"
      ],
      "metadata": {
        "id": "Niahxsf_KAt-"
      }
    },
    {
      "cell_type": "code",
      "source": [
        "# cargar el conjunto de datos\n",
        "dataset = pd.read_csv('/content/german_credit_data.csv')"
      ],
      "metadata": {
        "id": "7hr8M7a9JmoG"
      },
      "execution_count": 2,
      "outputs": []
    },
    {
      "cell_type": "code",
      "source": [
        "import warnings\n",
        "warnings.filterwarnings('ignore')"
      ],
      "metadata": {
        "id": "oFV2BBRtLfm8"
      },
      "execution_count": 3,
      "outputs": []
    },
    {
      "cell_type": "markdown",
      "source": [
        "<a id='2'></a>\n",
        "# 3. Análisis exploratorio de datos"
      ],
      "metadata": {
        "id": "CYqDkTwPLjRY"
      }
    },
    {
      "cell_type": "markdown",
      "source": [
        "<a id='2.1'></a>\n",
        "## 3.1. Estadísticas descriptivas"
      ],
      "metadata": {
        "id": "2tqIc9GQLu8x"
      }
    },
    {
      "cell_type": "code",
      "source": [
        "# shape\n",
        "dataset.shape"
      ],
      "metadata": {
        "colab": {
          "base_uri": "https://localhost:8080/"
        },
        "id": "DCbkcXiQLoiG",
        "outputId": "33c37b89-60f6-4ad7-8a8c-c5880d5fabe1"
      },
      "execution_count": 4,
      "outputs": [
        {
          "output_type": "execute_result",
          "data": {
            "text/plain": [
              "(1000, 10)"
            ]
          },
          "metadata": {},
          "execution_count": 4
        }
      ]
    },
    {
      "cell_type": "code",
      "source": [
        "# consultar los datos\n",
        "set_option('display.width', 100)\n",
        "dataset.tail()"
      ],
      "metadata": {
        "colab": {
          "base_uri": "https://localhost:8080/",
          "height": 206
        },
        "id": "fbVpnpiOLzqb",
        "outputId": "4ab88fda-b614-4f45-f643-530630197c63"
      },
      "execution_count": 8,
      "outputs": [
        {
          "output_type": "execute_result",
          "data": {
            "text/html": [
              "\n",
              "  <div id=\"df-a4cd0dd9-62f4-40c6-b93c-da40ad16a9eb\">\n",
              "    <div class=\"colab-df-container\">\n",
              "      <div>\n",
              "<style scoped>\n",
              "    .dataframe tbody tr th:only-of-type {\n",
              "        vertical-align: middle;\n",
              "    }\n",
              "\n",
              "    .dataframe tbody tr th {\n",
              "        vertical-align: top;\n",
              "    }\n",
              "\n",
              "    .dataframe thead th {\n",
              "        text-align: right;\n",
              "    }\n",
              "</style>\n",
              "<table border=\"1\" class=\"dataframe\">\n",
              "  <thead>\n",
              "    <tr style=\"text-align: right;\">\n",
              "      <th></th>\n",
              "      <th>Age</th>\n",
              "      <th>Sex</th>\n",
              "      <th>Job</th>\n",
              "      <th>Housing</th>\n",
              "      <th>SavingAccounts</th>\n",
              "      <th>CheckingAccount</th>\n",
              "      <th>CreditAmount</th>\n",
              "      <th>Duration</th>\n",
              "      <th>Purpose</th>\n",
              "      <th>Risk</th>\n",
              "    </tr>\n",
              "  </thead>\n",
              "  <tbody>\n",
              "    <tr>\n",
              "      <th>995</th>\n",
              "      <td>31</td>\n",
              "      <td>female</td>\n",
              "      <td>1</td>\n",
              "      <td>own</td>\n",
              "      <td>little</td>\n",
              "      <td>NaN</td>\n",
              "      <td>1736</td>\n",
              "      <td>12</td>\n",
              "      <td>furniture/equipment</td>\n",
              "      <td>good</td>\n",
              "    </tr>\n",
              "    <tr>\n",
              "      <th>996</th>\n",
              "      <td>40</td>\n",
              "      <td>male</td>\n",
              "      <td>3</td>\n",
              "      <td>own</td>\n",
              "      <td>little</td>\n",
              "      <td>little</td>\n",
              "      <td>3857</td>\n",
              "      <td>30</td>\n",
              "      <td>car</td>\n",
              "      <td>good</td>\n",
              "    </tr>\n",
              "    <tr>\n",
              "      <th>997</th>\n",
              "      <td>38</td>\n",
              "      <td>male</td>\n",
              "      <td>2</td>\n",
              "      <td>own</td>\n",
              "      <td>little</td>\n",
              "      <td>NaN</td>\n",
              "      <td>804</td>\n",
              "      <td>12</td>\n",
              "      <td>radio/TV</td>\n",
              "      <td>good</td>\n",
              "    </tr>\n",
              "    <tr>\n",
              "      <th>998</th>\n",
              "      <td>23</td>\n",
              "      <td>male</td>\n",
              "      <td>2</td>\n",
              "      <td>free</td>\n",
              "      <td>little</td>\n",
              "      <td>little</td>\n",
              "      <td>1845</td>\n",
              "      <td>45</td>\n",
              "      <td>radio/TV</td>\n",
              "      <td>bad</td>\n",
              "    </tr>\n",
              "    <tr>\n",
              "      <th>999</th>\n",
              "      <td>27</td>\n",
              "      <td>male</td>\n",
              "      <td>2</td>\n",
              "      <td>own</td>\n",
              "      <td>moderate</td>\n",
              "      <td>moderate</td>\n",
              "      <td>4576</td>\n",
              "      <td>45</td>\n",
              "      <td>car</td>\n",
              "      <td>good</td>\n",
              "    </tr>\n",
              "  </tbody>\n",
              "</table>\n",
              "</div>\n",
              "      <button class=\"colab-df-convert\" onclick=\"convertToInteractive('df-a4cd0dd9-62f4-40c6-b93c-da40ad16a9eb')\"\n",
              "              title=\"Convert this dataframe to an interactive table.\"\n",
              "              style=\"display:none;\">\n",
              "        \n",
              "  <svg xmlns=\"http://www.w3.org/2000/svg\" height=\"24px\"viewBox=\"0 0 24 24\"\n",
              "       width=\"24px\">\n",
              "    <path d=\"M0 0h24v24H0V0z\" fill=\"none\"/>\n",
              "    <path d=\"M18.56 5.44l.94 2.06.94-2.06 2.06-.94-2.06-.94-.94-2.06-.94 2.06-2.06.94zm-11 1L8.5 8.5l.94-2.06 2.06-.94-2.06-.94L8.5 2.5l-.94 2.06-2.06.94zm10 10l.94 2.06.94-2.06 2.06-.94-2.06-.94-.94-2.06-.94 2.06-2.06.94z\"/><path d=\"M17.41 7.96l-1.37-1.37c-.4-.4-.92-.59-1.43-.59-.52 0-1.04.2-1.43.59L10.3 9.45l-7.72 7.72c-.78.78-.78 2.05 0 2.83L4 21.41c.39.39.9.59 1.41.59.51 0 1.02-.2 1.41-.59l7.78-7.78 2.81-2.81c.8-.78.8-2.07 0-2.86zM5.41 20L4 18.59l7.72-7.72 1.47 1.35L5.41 20z\"/>\n",
              "  </svg>\n",
              "      </button>\n",
              "      \n",
              "  <style>\n",
              "    .colab-df-container {\n",
              "      display:flex;\n",
              "      flex-wrap:wrap;\n",
              "      gap: 12px;\n",
              "    }\n",
              "\n",
              "    .colab-df-convert {\n",
              "      background-color: #E8F0FE;\n",
              "      border: none;\n",
              "      border-radius: 50%;\n",
              "      cursor: pointer;\n",
              "      display: none;\n",
              "      fill: #1967D2;\n",
              "      height: 32px;\n",
              "      padding: 0 0 0 0;\n",
              "      width: 32px;\n",
              "    }\n",
              "\n",
              "    .colab-df-convert:hover {\n",
              "      background-color: #E2EBFA;\n",
              "      box-shadow: 0px 1px 2px rgba(60, 64, 67, 0.3), 0px 1px 3px 1px rgba(60, 64, 67, 0.15);\n",
              "      fill: #174EA6;\n",
              "    }\n",
              "\n",
              "    [theme=dark] .colab-df-convert {\n",
              "      background-color: #3B4455;\n",
              "      fill: #D2E3FC;\n",
              "    }\n",
              "\n",
              "    [theme=dark] .colab-df-convert:hover {\n",
              "      background-color: #434B5C;\n",
              "      box-shadow: 0px 1px 3px 1px rgba(0, 0, 0, 0.15);\n",
              "      filter: drop-shadow(0px 1px 2px rgba(0, 0, 0, 0.3));\n",
              "      fill: #FFFFFF;\n",
              "    }\n",
              "  </style>\n",
              "\n",
              "      <script>\n",
              "        const buttonEl =\n",
              "          document.querySelector('#df-a4cd0dd9-62f4-40c6-b93c-da40ad16a9eb button.colab-df-convert');\n",
              "        buttonEl.style.display =\n",
              "          google.colab.kernel.accessAllowed ? 'block' : 'none';\n",
              "\n",
              "        async function convertToInteractive(key) {\n",
              "          const element = document.querySelector('#df-a4cd0dd9-62f4-40c6-b93c-da40ad16a9eb');\n",
              "          const dataTable =\n",
              "            await google.colab.kernel.invokeFunction('convertToInteractive',\n",
              "                                                     [key], {});\n",
              "          if (!dataTable) return;\n",
              "\n",
              "          const docLinkHtml = 'Like what you see? Visit the ' +\n",
              "            '<a target=\"_blank\" href=https://colab.research.google.com/notebooks/data_table.ipynb>data table notebook</a>'\n",
              "            + ' to learn more about interactive tables.';\n",
              "          element.innerHTML = '';\n",
              "          dataTable['output_type'] = 'display_data';\n",
              "          await google.colab.output.renderOutput(dataTable, element);\n",
              "          const docLink = document.createElement('div');\n",
              "          docLink.innerHTML = docLinkHtml;\n",
              "          element.appendChild(docLink);\n",
              "        }\n",
              "      </script>\n",
              "    </div>\n",
              "  </div>\n",
              "  "
            ],
            "text/plain": [
              "     Age     Sex  Job Housing SavingAccounts CheckingAccount  CreditAmount  Duration  \\\n",
              "995   31  female    1     own         little             NaN          1736        12   \n",
              "996   40    male    3     own         little          little          3857        30   \n",
              "997   38    male    2     own         little             NaN           804        12   \n",
              "998   23    male    2    free         little          little          1845        45   \n",
              "999   27    male    2     own       moderate        moderate          4576        45   \n",
              "\n",
              "                 Purpose  Risk  \n",
              "995  furniture/equipment  good  \n",
              "996                  car  good  \n",
              "997             radio/TV  good  \n",
              "998             radio/TV   bad  \n",
              "999                  car  good  "
            ]
          },
          "metadata": {},
          "execution_count": 8
        }
      ]
    },
    {
      "cell_type": "code",
      "source": [
        "# types\n",
        "set_option('display.max_rows', 500)\n",
        "dataset.dtypes"
      ],
      "metadata": {
        "colab": {
          "base_uri": "https://localhost:8080/"
        },
        "id": "xsi1wBO1Zehu",
        "outputId": "9460ec59-7854-4e53-deae-920bb5584c69"
      },
      "execution_count": 5,
      "outputs": [
        {
          "output_type": "execute_result",
          "data": {
            "text/plain": [
              "Age                 int64\n",
              "Sex                object\n",
              "Job                 int64\n",
              "Housing            object\n",
              "SavingAccounts     object\n",
              "CheckingAccount    object\n",
              "CreditAmount        int64\n",
              "Duration            int64\n",
              "Purpose            object\n",
              "Risk               object\n",
              "dtype: object"
            ]
          },
          "metadata": {},
          "execution_count": 5
        }
      ]
    },
    {
      "cell_type": "code",
      "source": [
        "# describir los datos\n",
        "set_option('precision', 3)\n",
        "dataset.describe()"
      ],
      "metadata": {
        "colab": {
          "base_uri": "https://localhost:8080/",
          "height": 300
        },
        "id": "Zg-ZJm0HL27J",
        "outputId": "97d61d77-ec84-4167-f432-fdd65d3d0a05"
      },
      "execution_count": 6,
      "outputs": [
        {
          "output_type": "execute_result",
          "data": {
            "text/html": [
              "\n",
              "  <div id=\"df-e6079601-8814-4054-86a6-a8121db0f4c4\">\n",
              "    <div class=\"colab-df-container\">\n",
              "      <div>\n",
              "<style scoped>\n",
              "    .dataframe tbody tr th:only-of-type {\n",
              "        vertical-align: middle;\n",
              "    }\n",
              "\n",
              "    .dataframe tbody tr th {\n",
              "        vertical-align: top;\n",
              "    }\n",
              "\n",
              "    .dataframe thead th {\n",
              "        text-align: right;\n",
              "    }\n",
              "</style>\n",
              "<table border=\"1\" class=\"dataframe\">\n",
              "  <thead>\n",
              "    <tr style=\"text-align: right;\">\n",
              "      <th></th>\n",
              "      <th>Age</th>\n",
              "      <th>Job</th>\n",
              "      <th>CreditAmount</th>\n",
              "      <th>Duration</th>\n",
              "    </tr>\n",
              "  </thead>\n",
              "  <tbody>\n",
              "    <tr>\n",
              "      <th>count</th>\n",
              "      <td>1000.000</td>\n",
              "      <td>1000.000</td>\n",
              "      <td>1000.000</td>\n",
              "      <td>1000.000</td>\n",
              "    </tr>\n",
              "    <tr>\n",
              "      <th>mean</th>\n",
              "      <td>35.546</td>\n",
              "      <td>1.904</td>\n",
              "      <td>3271.258</td>\n",
              "      <td>20.903</td>\n",
              "    </tr>\n",
              "    <tr>\n",
              "      <th>std</th>\n",
              "      <td>11.375</td>\n",
              "      <td>0.654</td>\n",
              "      <td>2822.737</td>\n",
              "      <td>12.059</td>\n",
              "    </tr>\n",
              "    <tr>\n",
              "      <th>min</th>\n",
              "      <td>19.000</td>\n",
              "      <td>0.000</td>\n",
              "      <td>250.000</td>\n",
              "      <td>4.000</td>\n",
              "    </tr>\n",
              "    <tr>\n",
              "      <th>25%</th>\n",
              "      <td>27.000</td>\n",
              "      <td>2.000</td>\n",
              "      <td>1365.500</td>\n",
              "      <td>12.000</td>\n",
              "    </tr>\n",
              "    <tr>\n",
              "      <th>50%</th>\n",
              "      <td>33.000</td>\n",
              "      <td>2.000</td>\n",
              "      <td>2319.500</td>\n",
              "      <td>18.000</td>\n",
              "    </tr>\n",
              "    <tr>\n",
              "      <th>75%</th>\n",
              "      <td>42.000</td>\n",
              "      <td>2.000</td>\n",
              "      <td>3972.250</td>\n",
              "      <td>24.000</td>\n",
              "    </tr>\n",
              "    <tr>\n",
              "      <th>max</th>\n",
              "      <td>75.000</td>\n",
              "      <td>3.000</td>\n",
              "      <td>18424.000</td>\n",
              "      <td>72.000</td>\n",
              "    </tr>\n",
              "  </tbody>\n",
              "</table>\n",
              "</div>\n",
              "      <button class=\"colab-df-convert\" onclick=\"convertToInteractive('df-e6079601-8814-4054-86a6-a8121db0f4c4')\"\n",
              "              title=\"Convert this dataframe to an interactive table.\"\n",
              "              style=\"display:none;\">\n",
              "        \n",
              "  <svg xmlns=\"http://www.w3.org/2000/svg\" height=\"24px\"viewBox=\"0 0 24 24\"\n",
              "       width=\"24px\">\n",
              "    <path d=\"M0 0h24v24H0V0z\" fill=\"none\"/>\n",
              "    <path d=\"M18.56 5.44l.94 2.06.94-2.06 2.06-.94-2.06-.94-.94-2.06-.94 2.06-2.06.94zm-11 1L8.5 8.5l.94-2.06 2.06-.94-2.06-.94L8.5 2.5l-.94 2.06-2.06.94zm10 10l.94 2.06.94-2.06 2.06-.94-2.06-.94-.94-2.06-.94 2.06-2.06.94z\"/><path d=\"M17.41 7.96l-1.37-1.37c-.4-.4-.92-.59-1.43-.59-.52 0-1.04.2-1.43.59L10.3 9.45l-7.72 7.72c-.78.78-.78 2.05 0 2.83L4 21.41c.39.39.9.59 1.41.59.51 0 1.02-.2 1.41-.59l7.78-7.78 2.81-2.81c.8-.78.8-2.07 0-2.86zM5.41 20L4 18.59l7.72-7.72 1.47 1.35L5.41 20z\"/>\n",
              "  </svg>\n",
              "      </button>\n",
              "      \n",
              "  <style>\n",
              "    .colab-df-container {\n",
              "      display:flex;\n",
              "      flex-wrap:wrap;\n",
              "      gap: 12px;\n",
              "    }\n",
              "\n",
              "    .colab-df-convert {\n",
              "      background-color: #E8F0FE;\n",
              "      border: none;\n",
              "      border-radius: 50%;\n",
              "      cursor: pointer;\n",
              "      display: none;\n",
              "      fill: #1967D2;\n",
              "      height: 32px;\n",
              "      padding: 0 0 0 0;\n",
              "      width: 32px;\n",
              "    }\n",
              "\n",
              "    .colab-df-convert:hover {\n",
              "      background-color: #E2EBFA;\n",
              "      box-shadow: 0px 1px 2px rgba(60, 64, 67, 0.3), 0px 1px 3px 1px rgba(60, 64, 67, 0.15);\n",
              "      fill: #174EA6;\n",
              "    }\n",
              "\n",
              "    [theme=dark] .colab-df-convert {\n",
              "      background-color: #3B4455;\n",
              "      fill: #D2E3FC;\n",
              "    }\n",
              "\n",
              "    [theme=dark] .colab-df-convert:hover {\n",
              "      background-color: #434B5C;\n",
              "      box-shadow: 0px 1px 3px 1px rgba(0, 0, 0, 0.15);\n",
              "      filter: drop-shadow(0px 1px 2px rgba(0, 0, 0, 0.3));\n",
              "      fill: #FFFFFF;\n",
              "    }\n",
              "  </style>\n",
              "\n",
              "      <script>\n",
              "        const buttonEl =\n",
              "          document.querySelector('#df-e6079601-8814-4054-86a6-a8121db0f4c4 button.colab-df-convert');\n",
              "        buttonEl.style.display =\n",
              "          google.colab.kernel.accessAllowed ? 'block' : 'none';\n",
              "\n",
              "        async function convertToInteractive(key) {\n",
              "          const element = document.querySelector('#df-e6079601-8814-4054-86a6-a8121db0f4c4');\n",
              "          const dataTable =\n",
              "            await google.colab.kernel.invokeFunction('convertToInteractive',\n",
              "                                                     [key], {});\n",
              "          if (!dataTable) return;\n",
              "\n",
              "          const docLinkHtml = 'Like what you see? Visit the ' +\n",
              "            '<a target=\"_blank\" href=https://colab.research.google.com/notebooks/data_table.ipynb>data table notebook</a>'\n",
              "            + ' to learn more about interactive tables.';\n",
              "          element.innerHTML = '';\n",
              "          dataTable['output_type'] = 'display_data';\n",
              "          await google.colab.output.renderOutput(dataTable, element);\n",
              "          const docLink = document.createElement('div');\n",
              "          docLink.innerHTML = docLinkHtml;\n",
              "          element.appendChild(docLink);\n",
              "        }\n",
              "      </script>\n",
              "    </div>\n",
              "  </div>\n",
              "  "
            ],
            "text/plain": [
              "            Age       Job  CreditAmount  Duration\n",
              "count  1000.000  1000.000      1000.000  1000.000\n",
              "mean     35.546     1.904      3271.258    20.903\n",
              "std      11.375     0.654      2822.737    12.059\n",
              "min      19.000     0.000       250.000     4.000\n",
              "25%      27.000     2.000      1365.500    12.000\n",
              "50%      33.000     2.000      2319.500    18.000\n",
              "75%      42.000     2.000      3972.250    24.000\n",
              "max      75.000     3.000     18424.000    72.000"
            ]
          },
          "metadata": {},
          "execution_count": 6
        }
      ]
    },
    {
      "cell_type": "markdown",
      "source": [
        "<a id='2.2'></a>\n",
        "## 3.2. Visualización de datos"
      ],
      "metadata": {
        "id": "GUIAa0p0ZqJA"
      }
    },
    {
      "cell_type": "code",
      "source": [
        "# histogramas\n",
        "\n",
        "rcParams['figure.figsize'] = (12,8)\n",
        "plt.style.use('seaborn')\n",
        "\n",
        "dataset.hist(sharex=False, sharey=False, xlabelsize=1, ylabelsize=1, figsize=(12,12))\n",
        "plt.show()"
      ],
      "metadata": {
        "colab": {
          "base_uri": "https://localhost:8080/",
          "height": 706
        },
        "id": "ucUSyKLOZyeU",
        "outputId": "1397403d-7dc7-437f-dc64-4a541c513940"
      },
      "execution_count": 7,
      "outputs": [
        {
          "output_type": "display_data",
          "data": {
            "image/png": "[encoded data removed]",
            "text/plain": [
              "<Figure size 864x864 with 4 Axes>"
            ]
          },
          "metadata": {}
        }
      ]
    },
    {
      "cell_type": "code",
      "source": [
        "# densidad\n",
        "dataset.plot(kind='density', subplots=True, layout=(3,3), sharex=False, legend=True, fontsize=1, figsize=(15,15))\n",
        "plt.show()"
      ],
      "metadata": {
        "colab": {
          "base_uri": "https://localhost:8080/",
          "height": 567
        },
        "id": "ArlqCXXfaeOm",
        "outputId": "56715cb9-8f95-46bb-de67-c37826e2e5f4"
      },
      "execution_count": 10,
      "outputs": [
        {
          "output_type": "display_data",
          "data": {
            "image/png": "[encoded data removed]",
            "text/plain": [
              "<Figure size 1080x1080 with 9 Axes>"
            ]
          },
          "metadata": {}
        }
      ]
    },
    {
      "cell_type": "code",
      "source": [
        "# Plots de cajas y bigotes\n",
        "dataset.plot(kind='box', subplots=True, layout=(3,3), sharex=False, sharey=False, figsize=(15,15))\n",
        "plt.show()"
      ],
      "metadata": {
        "colab": {
          "base_uri": "https://localhost:8080/",
          "height": 576
        },
        "id": "ZD24b5dGaotx",
        "outputId": "91a94e13-d630-4233-ac56-a9978dd9e962"
      },
      "execution_count": 11,
      "outputs": [
        {
          "output_type": "display_data",
          "data": {
            "image/png": "[encoded data removed]",
            "text/plain": [
              "<Figure size 1080x1080 with 9 Axes>"
            ]
          },
          "metadata": {}
        }
      ]
    },
    {
      "cell_type": "code",
      "source": [
        "# correlación\n",
        "plt.figure(figsize=(15,15))\n",
        "correlation = dataset.corr()\n",
        "plt.title('Correlation Matrix')\n",
        "sns.heatmap(correlation, vmax=1, square=True,annot=True,cmap='cubehelix')"
      ],
      "metadata": {
        "colab": {
          "base_uri": "https://localhost:8080/",
          "height": 867
        },
        "id": "YYMTWb3Pawk5",
        "outputId": "ecc3e601-f718-4605-d626-877484f3d3f0"
      },
      "execution_count": 9,
      "outputs": [
        {
          "output_type": "execute_result",
          "data": {
            "text/plain": [
              "<matplotlib.axes._subplots.AxesSubplot at 0x7f62bacfbf90>"
            ]
          },
          "metadata": {},
          "execution_count": 9
        },
        {
          "output_type": "display_data",
          "data": {
            "image/png": "[encoded data removed]",
            "text/plain": [
              "<Figure size 1080x1080 with 2 Axes>"
            ]
          },
          "metadata": {}
        }
      ]
    },
    {
      "cell_type": "code",
      "source": [
        "# Matriz de dispersión\n",
        "\n",
        "plt.figure(figsize=(15,15))\n",
        "sns.pairplot(dataset)\n",
        "plt.show()\n"
      ],
      "metadata": {
        "colab": {
          "base_uri": "https://localhost:8080/",
          "height": 743
        },
        "id": "IP6IFh3YbMFI",
        "outputId": "a623e305-b02f-4af5-fb8d-6dfd23e4ee5f"
      },
      "execution_count": 12,
      "outputs": [
        {
          "output_type": "display_data",
          "data": {
            "text/plain": [
              "<Figure size 1080x1080 with 0 Axes>"
            ]
          },
          "metadata": {}
        },
        {
          "output_type": "display_data",
          "data": {
            "image/png": "[encoded data removed]",
            "text/plain": [
              "<Figure size 720x720 with 20 Axes>"
            ]
          },
          "metadata": {}
        }
      ]
    },
    {
      "cell_type": "markdown",
      "source": [
        "<a id='3'></a>\n",
        "# 4. Preparación de los datos"
      ],
      "metadata": {
        "id": "Ho3wwxtJL9aD"
      }
    },
    {
      "cell_type": "markdown",
      "source": [
        "<a id='3.1'></a>\n",
        "## 4.1. Limpieza de datos"
      ],
      "metadata": {
        "id": "XAKGbndRMEOE"
      }
    },
    {
      "cell_type": "code",
      "source": [
        "# Comprobación de cualquier valor nulo y eliminación de los valores nulos''\n",
        "print('Null Values =',dataset.isnull().values.any())"
      ],
      "metadata": {
        "colab": {
          "base_uri": "https://localhost:8080/"
        },
        "id": "o3HLx-NwMCf_",
        "outputId": "ac64c567-0c39-4730-8d9e-e07549d9acc8"
      },
      "execution_count": 13,
      "outputs": [
        {
          "output_type": "stream",
          "name": "stdout",
          "text": [
            "Null Values = True\n"
          ]
        }
      ]
    },
    {
      "cell_type": "code",
      "source": [
        "dataset.isna().sum()"
      ],
      "metadata": {
        "colab": {
          "base_uri": "https://localhost:8080/"
        },
        "id": "gHxUcX7gMTSG",
        "outputId": "94a06269-909e-40f1-db96-2756247b5e31"
      },
      "execution_count": 14,
      "outputs": [
        {
          "output_type": "execute_result",
          "data": {
            "text/plain": [
              "Age                  0\n",
              "Sex                  0\n",
              "Job                  0\n",
              "Housing              0\n",
              "SavingAccounts     183\n",
              "CheckingAccount    394\n",
              "CreditAmount         0\n",
              "Duration             0\n",
              "Purpose              0\n",
              "Risk                 0\n",
              "dtype: int64"
            ]
          },
          "metadata": {},
          "execution_count": 14
        }
      ]
    },
    {
      "cell_type": "markdown",
      "source": [
        "* Dado que hay valores nulos, se elimina la raíz que contiene los valores nulos."
      ],
      "metadata": {
        "id": "26bgMfEwMb_-"
      }
    },
    {
      "cell_type": "code",
      "source": [
        "# Eliminar las filas que contengan NA\n",
        "dataset = dataset.dropna(axis=0)"
      ],
      "metadata": {
        "id": "xCwI2281btvs"
      },
      "execution_count": 15,
      "outputs": []
    },
    {
      "cell_type": "markdown",
      "source": [
        "<a id='3.2'></a>\n",
        "## 4.2. Manejo de datos categóricos"
      ],
      "metadata": {
        "id": "2S_y6GplMoC2"
      }
    },
    {
      "cell_type": "code",
      "source": [
        "from sklearn.preprocessing import LabelEncoder\n",
        "\n",
        "lb_make = LabelEncoder()\n",
        "dataset[\"Sex_Code\"] = lb_make.fit_transform(dataset[\"Sex\"])\n",
        "dataset[\"Housing_Code\"] = lb_make.fit_transform(dataset[\"Housing\"])\n",
        "dataset[\"SavingAccount_Code\"] = lb_make.fit_transform(dataset[\"SavingAccounts\"].fillna('0'))\n",
        "dataset[\"CheckingAccount_Code\"] = lb_make.fit_transform(dataset[\"CheckingAccount\"].fillna('0'))\n",
        "dataset[\"Purpose_Code\"] = lb_make.fit_transform(dataset[\"Purpose\"])\n",
        "dataset[\"Risk_Code\"] = lb_make.fit_transform(dataset[\"Risk\"])\n",
        "dataset[[\"Sex\", \"Sex_Code\",\"Housing\",\"Housing_Code\",\"Risk_Code\",\"Risk\"]].head(10)"
      ],
      "metadata": {
        "colab": {
          "base_uri": "https://localhost:8080/",
          "height": 363
        },
        "id": "xu0xCuhrMsc-",
        "outputId": "c4ec4cdf-33de-43b5-c4d8-577f9ad36b20"
      },
      "execution_count": 16,
      "outputs": [
        {
          "output_type": "execute_result",
          "data": {
            "text/html": [
              "\n",
              "  <div id=\"df-5083c401-1f25-44df-a936-6c6ad999f8dc\">\n",
              "    <div class=\"colab-df-container\">\n",
              "      <div>\n",
              "<style scoped>\n",
              "    .dataframe tbody tr th:only-of-type {\n",
              "        vertical-align: middle;\n",
              "    }\n",
              "\n",
              "    .dataframe tbody tr th {\n",
              "        vertical-align: top;\n",
              "    }\n",
              "\n",
              "    .dataframe thead th {\n",
              "        text-align: right;\n",
              "    }\n",
              "</style>\n",
              "<table border=\"1\" class=\"dataframe\">\n",
              "  <thead>\n",
              "    <tr style=\"text-align: right;\">\n",
              "      <th></th>\n",
              "      <th>Sex</th>\n",
              "      <th>Sex_Code</th>\n",
              "      <th>Housing</th>\n",
              "      <th>Housing_Code</th>\n",
              "      <th>Risk_Code</th>\n",
              "      <th>Risk</th>\n",
              "    </tr>\n",
              "  </thead>\n",
              "  <tbody>\n",
              "    <tr>\n",
              "      <th>1</th>\n",
              "      <td>female</td>\n",
              "      <td>0</td>\n",
              "      <td>own</td>\n",
              "      <td>1</td>\n",
              "      <td>0</td>\n",
              "      <td>bad</td>\n",
              "    </tr>\n",
              "    <tr>\n",
              "      <th>3</th>\n",
              "      <td>male</td>\n",
              "      <td>1</td>\n",
              "      <td>free</td>\n",
              "      <td>0</td>\n",
              "      <td>1</td>\n",
              "      <td>good</td>\n",
              "    </tr>\n",
              "    <tr>\n",
              "      <th>4</th>\n",
              "      <td>male</td>\n",
              "      <td>1</td>\n",
              "      <td>free</td>\n",
              "      <td>0</td>\n",
              "      <td>0</td>\n",
              "      <td>bad</td>\n",
              "    </tr>\n",
              "    <tr>\n",
              "      <th>7</th>\n",
              "      <td>male</td>\n",
              "      <td>1</td>\n",
              "      <td>rent</td>\n",
              "      <td>2</td>\n",
              "      <td>1</td>\n",
              "      <td>good</td>\n",
              "    </tr>\n",
              "    <tr>\n",
              "      <th>9</th>\n",
              "      <td>male</td>\n",
              "      <td>1</td>\n",
              "      <td>own</td>\n",
              "      <td>1</td>\n",
              "      <td>0</td>\n",
              "      <td>bad</td>\n",
              "    </tr>\n",
              "    <tr>\n",
              "      <th>10</th>\n",
              "      <td>female</td>\n",
              "      <td>0</td>\n",
              "      <td>rent</td>\n",
              "      <td>2</td>\n",
              "      <td>0</td>\n",
              "      <td>bad</td>\n",
              "    </tr>\n",
              "    <tr>\n",
              "      <th>11</th>\n",
              "      <td>female</td>\n",
              "      <td>0</td>\n",
              "      <td>rent</td>\n",
              "      <td>2</td>\n",
              "      <td>0</td>\n",
              "      <td>bad</td>\n",
              "    </tr>\n",
              "    <tr>\n",
              "      <th>12</th>\n",
              "      <td>female</td>\n",
              "      <td>0</td>\n",
              "      <td>own</td>\n",
              "      <td>1</td>\n",
              "      <td>1</td>\n",
              "      <td>good</td>\n",
              "    </tr>\n",
              "    <tr>\n",
              "      <th>13</th>\n",
              "      <td>male</td>\n",
              "      <td>1</td>\n",
              "      <td>own</td>\n",
              "      <td>1</td>\n",
              "      <td>0</td>\n",
              "      <td>bad</td>\n",
              "    </tr>\n",
              "    <tr>\n",
              "      <th>14</th>\n",
              "      <td>female</td>\n",
              "      <td>0</td>\n",
              "      <td>rent</td>\n",
              "      <td>2</td>\n",
              "      <td>1</td>\n",
              "      <td>good</td>\n",
              "    </tr>\n",
              "  </tbody>\n",
              "</table>\n",
              "</div>\n",
              "      <button class=\"colab-df-convert\" onclick=\"convertToInteractive('df-5083c401-1f25-44df-a936-6c6ad999f8dc')\"\n",
              "              title=\"Convert this dataframe to an interactive table.\"\n",
              "              style=\"display:none;\">\n",
              "        \n",
              "  <svg xmlns=\"http://www.w3.org/2000/svg\" height=\"24px\"viewBox=\"0 0 24 24\"\n",
              "       width=\"24px\">\n",
              "    <path d=\"M0 0h24v24H0V0z\" fill=\"none\"/>\n",
              "    <path d=\"M18.56 5.44l.94 2.06.94-2.06 2.06-.94-2.06-.94-.94-2.06-.94 2.06-2.06.94zm-11 1L8.5 8.5l.94-2.06 2.06-.94-2.06-.94L8.5 2.5l-.94 2.06-2.06.94zm10 10l.94 2.06.94-2.06 2.06-.94-2.06-.94-.94-2.06-.94 2.06-2.06.94z\"/><path d=\"M17.41 7.96l-1.37-1.37c-.4-.4-.92-.59-1.43-.59-.52 0-1.04.2-1.43.59L10.3 9.45l-7.72 7.72c-.78.78-.78 2.05 0 2.83L4 21.41c.39.39.9.59 1.41.59.51 0 1.02-.2 1.41-.59l7.78-7.78 2.81-2.81c.8-.78.8-2.07 0-2.86zM5.41 20L4 18.59l7.72-7.72 1.47 1.35L5.41 20z\"/>\n",
              "  </svg>\n",
              "      </button>\n",
              "      \n",
              "  <style>\n",
              "    .colab-df-container {\n",
              "      display:flex;\n",
              "      flex-wrap:wrap;\n",
              "      gap: 12px;\n",
              "    }\n",
              "\n",
              "    .colab-df-convert {\n",
              "      background-color: #E8F0FE;\n",
              "      border: none;\n",
              "      border-radius: 50%;\n",
              "      cursor: pointer;\n",
              "      display: none;\n",
              "      fill: #1967D2;\n",
              "      height: 32px;\n",
              "      padding: 0 0 0 0;\n",
              "      width: 32px;\n",
              "    }\n",
              "\n",
              "    .colab-df-convert:hover {\n",
              "      background-color: #E2EBFA;\n",
              "      box-shadow: 0px 1px 2px rgba(60, 64, 67, 0.3), 0px 1px 3px 1px rgba(60, 64, 67, 0.15);\n",
              "      fill: #174EA6;\n",
              "    }\n",
              "\n",
              "    [theme=dark] .colab-df-convert {\n",
              "      background-color: #3B4455;\n",
              "      fill: #D2E3FC;\n",
              "    }\n",
              "\n",
              "    [theme=dark] .colab-df-convert:hover {\n",
              "      background-color: #434B5C;\n",
              "      box-shadow: 0px 1px 3px 1px rgba(0, 0, 0, 0.15);\n",
              "      filter: drop-shadow(0px 1px 2px rgba(0, 0, 0, 0.3));\n",
              "      fill: #FFFFFF;\n",
              "    }\n",
              "  </style>\n",
              "\n",
              "      <script>\n",
              "        const buttonEl =\n",
              "          document.querySelector('#df-5083c401-1f25-44df-a936-6c6ad999f8dc button.colab-df-convert');\n",
              "        buttonEl.style.display =\n",
              "          google.colab.kernel.accessAllowed ? 'block' : 'none';\n",
              "\n",
              "        async function convertToInteractive(key) {\n",
              "          const element = document.querySelector('#df-5083c401-1f25-44df-a936-6c6ad999f8dc');\n",
              "          const dataTable =\n",
              "            await google.colab.kernel.invokeFunction('convertToInteractive',\n",
              "                                                     [key], {});\n",
              "          if (!dataTable) return;\n",
              "\n",
              "          const docLinkHtml = 'Like what you see? Visit the ' +\n",
              "            '<a target=\"_blank\" href=https://colab.research.google.com/notebooks/data_table.ipynb>data table notebook</a>'\n",
              "            + ' to learn more about interactive tables.';\n",
              "          element.innerHTML = '';\n",
              "          dataTable['output_type'] = 'display_data';\n",
              "          await google.colab.output.renderOutput(dataTable, element);\n",
              "          const docLink = document.createElement('div');\n",
              "          docLink.innerHTML = docLinkHtml;\n",
              "          element.appendChild(docLink);\n",
              "        }\n",
              "      </script>\n",
              "    </div>\n",
              "  </div>\n",
              "  "
            ],
            "text/plain": [
              "       Sex  Sex_Code Housing  Housing_Code  Risk_Code  Risk\n",
              "1   female         0     own             1          0   bad\n",
              "3     male         1    free             0          1  good\n",
              "4     male         1    free             0          0   bad\n",
              "7     male         1    rent             2          1  good\n",
              "9     male         1     own             1          0   bad\n",
              "10  female         0    rent             2          0   bad\n",
              "11  female         0    rent             2          0   bad\n",
              "12  female         0     own             1          1  good\n",
              "13    male         1     own             1          0   bad\n",
              "14  female         0    rent             2          1  good"
            ]
          },
          "metadata": {},
          "execution_count": 16
        }
      ]
    },
    {
      "cell_type": "code",
      "source": [
        "# dejar de lado las viejas características\n",
        "dataset.drop(['Sex','Housing','SavingAccounts','CheckingAccount','Purpose','Risk'],axis=1,inplace=True)"
      ],
      "metadata": {
        "id": "T97le6ZncaK_"
      },
      "execution_count": 17,
      "outputs": []
    },
    {
      "cell_type": "code",
      "source": [
        "dataset.head()"
      ],
      "metadata": {
        "colab": {
          "base_uri": "https://localhost:8080/",
          "height": 206
        },
        "id": "hiR00h3LckV7",
        "outputId": "c7103d8f-9e72-4794-88ff-543c7757ed2a"
      },
      "execution_count": null,
      "outputs": [
        {
          "output_type": "execute_result",
          "data": {
            "text/html": [
              "\n",
              "  <div id=\"df-96bb64bd-8374-4241-bc37-a659885bfeeb\">\n",
              "    <div class=\"colab-df-container\">\n",
              "      <div>\n",
              "<style scoped>\n",
              "    .dataframe tbody tr th:only-of-type {\n",
              "        vertical-align: middle;\n",
              "    }\n",
              "\n",
              "    .dataframe tbody tr th {\n",
              "        vertical-align: top;\n",
              "    }\n",
              "\n",
              "    .dataframe thead th {\n",
              "        text-align: right;\n",
              "    }\n",
              "</style>\n",
              "<table border=\"1\" class=\"dataframe\">\n",
              "  <thead>\n",
              "    <tr style=\"text-align: right;\">\n",
              "      <th></th>\n",
              "      <th>Age</th>\n",
              "      <th>Job</th>\n",
              "      <th>CreditAmount</th>\n",
              "      <th>Duration</th>\n",
              "      <th>Sex_Code</th>\n",
              "      <th>Housing_Code</th>\n",
              "      <th>SavingAccount_Code</th>\n",
              "      <th>CheckingAccount_Code</th>\n",
              "      <th>Purpose_Code</th>\n",
              "      <th>Risk_Code</th>\n",
              "    </tr>\n",
              "  </thead>\n",
              "  <tbody>\n",
              "    <tr>\n",
              "      <th>1</th>\n",
              "      <td>22</td>\n",
              "      <td>2</td>\n",
              "      <td>5951</td>\n",
              "      <td>48</td>\n",
              "      <td>0</td>\n",
              "      <td>1</td>\n",
              "      <td>0</td>\n",
              "      <td>1</td>\n",
              "      <td>5</td>\n",
              "      <td>0</td>\n",
              "    </tr>\n",
              "    <tr>\n",
              "      <th>3</th>\n",
              "      <td>45</td>\n",
              "      <td>2</td>\n",
              "      <td>7882</td>\n",
              "      <td>42</td>\n",
              "      <td>1</td>\n",
              "      <td>0</td>\n",
              "      <td>0</td>\n",
              "      <td>0</td>\n",
              "      <td>4</td>\n",
              "      <td>1</td>\n",
              "    </tr>\n",
              "    <tr>\n",
              "      <th>4</th>\n",
              "      <td>53</td>\n",
              "      <td>2</td>\n",
              "      <td>4870</td>\n",
              "      <td>24</td>\n",
              "      <td>1</td>\n",
              "      <td>0</td>\n",
              "      <td>0</td>\n",
              "      <td>0</td>\n",
              "      <td>1</td>\n",
              "      <td>0</td>\n",
              "    </tr>\n",
              "    <tr>\n",
              "      <th>7</th>\n",
              "      <td>35</td>\n",
              "      <td>3</td>\n",
              "      <td>6948</td>\n",
              "      <td>36</td>\n",
              "      <td>1</td>\n",
              "      <td>2</td>\n",
              "      <td>0</td>\n",
              "      <td>1</td>\n",
              "      <td>1</td>\n",
              "      <td>1</td>\n",
              "    </tr>\n",
              "    <tr>\n",
              "      <th>9</th>\n",
              "      <td>28</td>\n",
              "      <td>3</td>\n",
              "      <td>5234</td>\n",
              "      <td>30</td>\n",
              "      <td>1</td>\n",
              "      <td>1</td>\n",
              "      <td>0</td>\n",
              "      <td>1</td>\n",
              "      <td>1</td>\n",
              "      <td>0</td>\n",
              "    </tr>\n",
              "  </tbody>\n",
              "</table>\n",
              "</div>\n",
              "      <button class=\"colab-df-convert\" onclick=\"convertToInteractive('df-96bb64bd-8374-4241-bc37-a659885bfeeb')\"\n",
              "              title=\"Convert this dataframe to an interactive table.\"\n",
              "              style=\"display:none;\">\n",
              "        \n",
              "  <svg xmlns=\"http://www.w3.org/2000/svg\" height=\"24px\"viewBox=\"0 0 24 24\"\n",
              "       width=\"24px\">\n",
              "    <path d=\"M0 0h24v24H0V0z\" fill=\"none\"/>\n",
              "    <path d=\"M18.56 5.44l.94 2.06.94-2.06 2.06-.94-2.06-.94-.94-2.06-.94 2.06-2.06.94zm-11 1L8.5 8.5l.94-2.06 2.06-.94-2.06-.94L8.5 2.5l-.94 2.06-2.06.94zm10 10l.94 2.06.94-2.06 2.06-.94-2.06-.94-.94-2.06-.94 2.06-2.06.94z\"/><path d=\"M17.41 7.96l-1.37-1.37c-.4-.4-.92-.59-1.43-.59-.52 0-1.04.2-1.43.59L10.3 9.45l-7.72 7.72c-.78.78-.78 2.05 0 2.83L4 21.41c.39.39.9.59 1.41.59.51 0 1.02-.2 1.41-.59l7.78-7.78 2.81-2.81c.8-.78.8-2.07 0-2.86zM5.41 20L4 18.59l7.72-7.72 1.47 1.35L5.41 20z\"/>\n",
              "  </svg>\n",
              "      </button>\n",
              "      \n",
              "  <style>\n",
              "    .colab-df-container {\n",
              "      display:flex;\n",
              "      flex-wrap:wrap;\n",
              "      gap: 12px;\n",
              "    }\n",
              "\n",
              "    .colab-df-convert {\n",
              "      background-color: #E8F0FE;\n",
              "      border: none;\n",
              "      border-radius: 50%;\n",
              "      cursor: pointer;\n",
              "      display: none;\n",
              "      fill: #1967D2;\n",
              "      height: 32px;\n",
              "      padding: 0 0 0 0;\n",
              "      width: 32px;\n",
              "    }\n",
              "\n",
              "    .colab-df-convert:hover {\n",
              "      background-color: #E2EBFA;\n",
              "      box-shadow: 0px 1px 2px rgba(60, 64, 67, 0.3), 0px 1px 3px 1px rgba(60, 64, 67, 0.15);\n",
              "      fill: #174EA6;\n",
              "    }\n",
              "\n",
              "    [theme=dark] .colab-df-convert {\n",
              "      background-color: #3B4455;\n",
              "      fill: #D2E3FC;\n",
              "    }\n",
              "\n",
              "    [theme=dark] .colab-df-convert:hover {\n",
              "      background-color: #434B5C;\n",
              "      box-shadow: 0px 1px 3px 1px rgba(0, 0, 0, 0.15);\n",
              "      filter: drop-shadow(0px 1px 2px rgba(0, 0, 0, 0.3));\n",
              "      fill: #FFFFFF;\n",
              "    }\n",
              "  </style>\n",
              "\n",
              "      <script>\n",
              "        const buttonEl =\n",
              "          document.querySelector('#df-96bb64bd-8374-4241-bc37-a659885bfeeb button.colab-df-convert');\n",
              "        buttonEl.style.display =\n",
              "          google.colab.kernel.accessAllowed ? 'block' : 'none';\n",
              "\n",
              "        async function convertToInteractive(key) {\n",
              "          const element = document.querySelector('#df-96bb64bd-8374-4241-bc37-a659885bfeeb');\n",
              "          const dataTable =\n",
              "            await google.colab.kernel.invokeFunction('convertToInteractive',\n",
              "                                                     [key], {});\n",
              "          if (!dataTable) return;\n",
              "\n",
              "          const docLinkHtml = 'Like what you see? Visit the ' +\n",
              "            '<a target=\"_blank\" href=https://colab.research.google.com/notebooks/data_table.ipynb>data table notebook</a>'\n",
              "            + ' to learn more about interactive tables.';\n",
              "          element.innerHTML = '';\n",
              "          dataTable['output_type'] = 'display_data';\n",
              "          await google.colab.output.renderOutput(dataTable, element);\n",
              "          const docLink = document.createElement('div');\n",
              "          docLink.innerHTML = docLinkHtml;\n",
              "          element.appendChild(docLink);\n",
              "        }\n",
              "      </script>\n",
              "    </div>\n",
              "  </div>\n",
              "  "
            ],
            "text/plain": [
              "   Age  Job  CreditAmount  ...  CheckingAccount_Code  Purpose_Code  Risk_Code\n",
              "1   22    2          5951  ...                     1             5          0\n",
              "3   45    2          7882  ...                     0             4          1\n",
              "4   53    2          4870  ...                     0             1          0\n",
              "7   35    3          6948  ...                     1             1          1\n",
              "9   28    3          5234  ...                     1             1          0\n",
              "\n",
              "[5 rows x 10 columns]"
            ]
          },
          "metadata": {},
          "execution_count": 30
        }
      ]
    },
    {
      "cell_type": "markdown",
      "source": [
        "<a id='3.3'></a>\n",
        "## 4.3. Selección de características\n",
        "\n",
        "La biblioteca scikit-learn proporciona la clase SelectKBest que puede ser utilizada con un conjunto de diferentes pruebas estadísticas para seleccionar un número específico de características.\n",
        "El ejemplo siguiente utiliza la prueba estadística chi-cuadrado (chi²) para características no negativas para seleccionar 10 de las mejores características del conjunto de datos."
      ],
      "metadata": {
        "id": "gt3eMSYlctmH"
      }
    },
    {
      "cell_type": "code",
      "source": [
        "from sklearn.feature_selection import SelectKBest\n",
        "from sklearn.feature_selection import chi2\n",
        "\n",
        "bestfeatures = SelectKBest(score_func=chi2, k=5)\n",
        "bestfeatures"
      ],
      "metadata": {
        "colab": {
          "base_uri": "https://localhost:8080/"
        },
        "id": "E19LYYsWcm9E",
        "outputId": "f0b5cb09-25b8-4d90-ff77-2fdc310356cd"
      },
      "execution_count": 18,
      "outputs": [
        {
          "output_type": "execute_result",
          "data": {
            "text/plain": [
              "SelectKBest(k=5, score_func=<function chi2 at 0x7f62b5797440>)"
            ]
          },
          "metadata": {},
          "execution_count": 18
        }
      ]
    },
    {
      "cell_type": "code",
      "source": [
        "Y= dataset[\"Risk_Code\"]\n",
        "X = dataset.loc[:, dataset.columns != 'Risk_Code']\n",
        "fit = bestfeatures.fit(X,Y)\n",
        "dfscores = pd.DataFrame(fit.scores_)\n",
        "dfcolumns = pd.DataFrame(X.columns)\n",
        "# concatenar dos marcos de datos para una mejor visualización \n",
        "featureScores = pd.concat([dfcolumns,dfscores],axis=1)\n",
        "featureScores.columns = ['Specs','Score']  # nombrar las columnas del marco de datos\n",
        "print(featureScores.nlargest(10,'Score'))  # imprimir 10 mejores características"
      ],
      "metadata": {
        "colab": {
          "base_uri": "https://localhost:8080/"
        },
        "id": "uQinvtIEc7JF",
        "outputId": "5b53deff-0bce-4e8d-8336-b1d1b2eb5bc7"
      },
      "execution_count": 20,
      "outputs": [
        {
          "output_type": "stream",
          "name": "stdout",
          "text": [
            "                  Specs      Score\n",
            "2          CreditAmount  45853.601\n",
            "3              Duration    327.508\n",
            "6    SavingAccount_Code     14.395\n",
            "7  CheckingAccount_Code      7.096\n",
            "0                   Age      6.534\n",
            "8          Purpose_Code      1.902\n",
            "4              Sex_Code      0.671\n",
            "1                   Job      0.318\n",
            "5          Housing_Code      0.007\n"
          ]
        }
      ]
    },
    {
      "cell_type": "markdown",
      "source": [
        "* Como puede verse en las cifras anteriores, el importe del crédito es la característica más importante, seguida de la duración."
      ],
      "metadata": {
        "id": "KaUoxnHZdK4t"
      }
    },
    {
      "cell_type": "markdown",
      "source": [
        "<a id='3.4'></a>\n",
        "## 4.4. Transformación de datos"
      ],
      "metadata": {
        "id": "DFYDRwQtdRog"
      }
    },
    {
      "cell_type": "markdown",
      "source": [
        "<a id='3.4.1'></a>\n",
        "### 4.4.1. Reescalado de datos\n",
        "\n",
        "Cuando los datos se componen de atributos con escalas diferentes, muchos algoritmos de aprendizaje automático\n",
        "pueden beneficiarse de reescalar los atributos para que todos tengan la misma escala. A menudo esto se denomina\n",
        "normalización y los atributos se reescalan a menudo en un rango entre 0 y 1."
      ],
      "metadata": {
        "id": "g2Bn55QmdiIV"
      }
    },
    {
      "cell_type": "code",
      "source": [
        "from sklearn.preprocessing import MinMaxScaler\n",
        "\n",
        "X = dataset.loc[:, dataset.columns != 'Risk_Code']\n",
        "scaler = MinMaxScaler(feature_range=(0, 1))\n",
        "rescaledX = pd.DataFrame(scaler.fit_transform(X))\n",
        "# resumir los datos transformados\n",
        "rescaledX.head()"
      ],
      "metadata": {
        "colab": {
          "base_uri": "https://localhost:8080/",
          "height": 206
        },
        "id": "gDWDGBwidD3a",
        "outputId": "5ac2faa3-218b-4283-d3db-f5703fd2dda5"
      },
      "execution_count": 21,
      "outputs": [
        {
          "output_type": "execute_result",
          "data": {
            "text/html": [
              "\n",
              "  <div id=\"df-d6162c43-fd09-4948-99c2-c9a3cffff367\">\n",
              "    <div class=\"colab-df-container\">\n",
              "      <div>\n",
              "<style scoped>\n",
              "    .dataframe tbody tr th:only-of-type {\n",
              "        vertical-align: middle;\n",
              "    }\n",
              "\n",
              "    .dataframe tbody tr th {\n",
              "        vertical-align: top;\n",
              "    }\n",
              "\n",
              "    .dataframe thead th {\n",
              "        text-align: right;\n",
              "    }\n",
              "</style>\n",
              "<table border=\"1\" class=\"dataframe\">\n",
              "  <thead>\n",
              "    <tr style=\"text-align: right;\">\n",
              "      <th></th>\n",
              "      <th>0</th>\n",
              "      <th>1</th>\n",
              "      <th>2</th>\n",
              "      <th>3</th>\n",
              "      <th>4</th>\n",
              "      <th>5</th>\n",
              "      <th>6</th>\n",
              "      <th>7</th>\n",
              "      <th>8</th>\n",
              "    </tr>\n",
              "  </thead>\n",
              "  <tbody>\n",
              "    <tr>\n",
              "      <th>0</th>\n",
              "      <td>0.054</td>\n",
              "      <td>0.667</td>\n",
              "      <td>0.313</td>\n",
              "      <td>0.636</td>\n",
              "      <td>0.0</td>\n",
              "      <td>0.5</td>\n",
              "      <td>0.0</td>\n",
              "      <td>0.5</td>\n",
              "      <td>0.714</td>\n",
              "    </tr>\n",
              "    <tr>\n",
              "      <th>1</th>\n",
              "      <td>0.464</td>\n",
              "      <td>0.667</td>\n",
              "      <td>0.419</td>\n",
              "      <td>0.545</td>\n",
              "      <td>1.0</td>\n",
              "      <td>0.0</td>\n",
              "      <td>0.0</td>\n",
              "      <td>0.0</td>\n",
              "      <td>0.571</td>\n",
              "    </tr>\n",
              "    <tr>\n",
              "      <th>2</th>\n",
              "      <td>0.607</td>\n",
              "      <td>0.667</td>\n",
              "      <td>0.253</td>\n",
              "      <td>0.273</td>\n",
              "      <td>1.0</td>\n",
              "      <td>0.0</td>\n",
              "      <td>0.0</td>\n",
              "      <td>0.0</td>\n",
              "      <td>0.143</td>\n",
              "    </tr>\n",
              "    <tr>\n",
              "      <th>3</th>\n",
              "      <td>0.286</td>\n",
              "      <td>1.000</td>\n",
              "      <td>0.368</td>\n",
              "      <td>0.455</td>\n",
              "      <td>1.0</td>\n",
              "      <td>1.0</td>\n",
              "      <td>0.0</td>\n",
              "      <td>0.5</td>\n",
              "      <td>0.143</td>\n",
              "    </tr>\n",
              "    <tr>\n",
              "      <th>4</th>\n",
              "      <td>0.161</td>\n",
              "      <td>1.000</td>\n",
              "      <td>0.273</td>\n",
              "      <td>0.364</td>\n",
              "      <td>1.0</td>\n",
              "      <td>0.5</td>\n",
              "      <td>0.0</td>\n",
              "      <td>0.5</td>\n",
              "      <td>0.143</td>\n",
              "    </tr>\n",
              "  </tbody>\n",
              "</table>\n",
              "</div>\n",
              "      <button class=\"colab-df-convert\" onclick=\"convertToInteractive('df-d6162c43-fd09-4948-99c2-c9a3cffff367')\"\n",
              "              title=\"Convert this dataframe to an interactive table.\"\n",
              "              style=\"display:none;\">\n",
              "        \n",
              "  <svg xmlns=\"http://www.w3.org/2000/svg\" height=\"24px\"viewBox=\"0 0 24 24\"\n",
              "       width=\"24px\">\n",
              "    <path d=\"M0 0h24v24H0V0z\" fill=\"none\"/>\n",
              "    <path d=\"M18.56 5.44l.94 2.06.94-2.06 2.06-.94-2.06-.94-.94-2.06-.94 2.06-2.06.94zm-11 1L8.5 8.5l.94-2.06 2.06-.94-2.06-.94L8.5 2.5l-.94 2.06-2.06.94zm10 10l.94 2.06.94-2.06 2.06-.94-2.06-.94-.94-2.06-.94 2.06-2.06.94z\"/><path d=\"M17.41 7.96l-1.37-1.37c-.4-.4-.92-.59-1.43-.59-.52 0-1.04.2-1.43.59L10.3 9.45l-7.72 7.72c-.78.78-.78 2.05 0 2.83L4 21.41c.39.39.9.59 1.41.59.51 0 1.02-.2 1.41-.59l7.78-7.78 2.81-2.81c.8-.78.8-2.07 0-2.86zM5.41 20L4 18.59l7.72-7.72 1.47 1.35L5.41 20z\"/>\n",
              "  </svg>\n",
              "      </button>\n",
              "      \n",
              "  <style>\n",
              "    .colab-df-container {\n",
              "      display:flex;\n",
              "      flex-wrap:wrap;\n",
              "      gap: 12px;\n",
              "    }\n",
              "\n",
              "    .colab-df-convert {\n",
              "      background-color: #E8F0FE;\n",
              "      border: none;\n",
              "      border-radius: 50%;\n",
              "      cursor: pointer;\n",
              "      display: none;\n",
              "      fill: #1967D2;\n",
              "      height: 32px;\n",
              "      padding: 0 0 0 0;\n",
              "      width: 32px;\n",
              "    }\n",
              "\n",
              "    .colab-df-convert:hover {\n",
              "      background-color: #E2EBFA;\n",
              "      box-shadow: 0px 1px 2px rgba(60, 64, 67, 0.3), 0px 1px 3px 1px rgba(60, 64, 67, 0.15);\n",
              "      fill: #174EA6;\n",
              "    }\n",
              "\n",
              "    [theme=dark] .colab-df-convert {\n",
              "      background-color: #3B4455;\n",
              "      fill: #D2E3FC;\n",
              "    }\n",
              "\n",
              "    [theme=dark] .colab-df-convert:hover {\n",
              "      background-color: #434B5C;\n",
              "      box-shadow: 0px 1px 3px 1px rgba(0, 0, 0, 0.15);\n",
              "      filter: drop-shadow(0px 1px 2px rgba(0, 0, 0, 0.3));\n",
              "      fill: #FFFFFF;\n",
              "    }\n",
              "  </style>\n",
              "\n",
              "      <script>\n",
              "        const buttonEl =\n",
              "          document.querySelector('#df-d6162c43-fd09-4948-99c2-c9a3cffff367 button.colab-df-convert');\n",
              "        buttonEl.style.display =\n",
              "          google.colab.kernel.accessAllowed ? 'block' : 'none';\n",
              "\n",
              "        async function convertToInteractive(key) {\n",
              "          const element = document.querySelector('#df-d6162c43-fd09-4948-99c2-c9a3cffff367');\n",
              "          const dataTable =\n",
              "            await google.colab.kernel.invokeFunction('convertToInteractive',\n",
              "                                                     [key], {});\n",
              "          if (!dataTable) return;\n",
              "\n",
              "          const docLinkHtml = 'Like what you see? Visit the ' +\n",
              "            '<a target=\"_blank\" href=https://colab.research.google.com/notebooks/data_table.ipynb>data table notebook</a>'\n",
              "            + ' to learn more about interactive tables.';\n",
              "          element.innerHTML = '';\n",
              "          dataTable['output_type'] = 'display_data';\n",
              "          await google.colab.output.renderOutput(dataTable, element);\n",
              "          const docLink = document.createElement('div');\n",
              "          docLink.innerHTML = docLinkHtml;\n",
              "          element.appendChild(docLink);\n",
              "        }\n",
              "      </script>\n",
              "    </div>\n",
              "  </div>\n",
              "  "
            ],
            "text/plain": [
              "       0      1      2      3    4    5    6    7      8\n",
              "0  0.054  0.667  0.313  0.636  0.0  0.5  0.0  0.5  0.714\n",
              "1  0.464  0.667  0.419  0.545  1.0  0.0  0.0  0.0  0.571\n",
              "2  0.607  0.667  0.253  0.273  1.0  0.0  0.0  0.0  0.143\n",
              "3  0.286  1.000  0.368  0.455  1.0  1.0  0.0  0.5  0.143\n",
              "4  0.161  1.000  0.273  0.364  1.0  0.5  0.0  0.5  0.143"
            ]
          },
          "metadata": {},
          "execution_count": 21
        }
      ]
    },
    {
      "cell_type": "markdown",
      "source": [
        "<a id='3.4.2'></a>\n",
        "### 4.4.2. Estandarizar los datos\n",
        "\n",
        "La estandarización es una técnica útil para transformar atributos con una distribución gaussiana y\n",
        "diferentes medias y desviaciones estándar a una distribución gaussiana estándar con una media de\n",
        "0 y una desviación estándar de 1."
      ],
      "metadata": {
        "id": "YQhpEbueeQyx"
      }
    },
    {
      "cell_type": "code",
      "source": [
        "from sklearn.preprocessing import StandardScaler\n",
        "\n",
        "X = dataset.loc[:, dataset.columns != 'Risk_Code']\n",
        "scaler = StandardScaler().fit(X)\n",
        "StandardisedX = pd.DataFrame(scaler.fit_transform(X))\n",
        "\n",
        "# resumir los datos transformados\n",
        "StandardisedX.head()"
      ],
      "metadata": {
        "colab": {
          "base_uri": "https://localhost:8080/",
          "height": 206
        },
        "id": "nz901jGQeLQz",
        "outputId": "5f32fcaf-86c6-4a38-ada8-4720bbd3b785"
      },
      "execution_count": 22,
      "outputs": [
        {
          "output_type": "execute_result",
          "data": {
            "text/html": [
              "\n",
              "  <div id=\"df-3fb76d4e-8462-454c-8ad2-78e5a764aa00\">\n",
              "    <div class=\"colab-df-container\">\n",
              "      <div>\n",
              "<style scoped>\n",
              "    .dataframe tbody tr th:only-of-type {\n",
              "        vertical-align: middle;\n",
              "    }\n",
              "\n",
              "    .dataframe tbody tr th {\n",
              "        vertical-align: top;\n",
              "    }\n",
              "\n",
              "    .dataframe thead th {\n",
              "        text-align: right;\n",
              "    }\n",
              "</style>\n",
              "<table border=\"1\" class=\"dataframe\">\n",
              "  <thead>\n",
              "    <tr style=\"text-align: right;\">\n",
              "      <th></th>\n",
              "      <th>0</th>\n",
              "      <th>1</th>\n",
              "      <th>2</th>\n",
              "      <th>3</th>\n",
              "      <th>4</th>\n",
              "      <th>5</th>\n",
              "      <th>6</th>\n",
              "      <th>7</th>\n",
              "      <th>8</th>\n",
              "    </tr>\n",
              "  </thead>\n",
              "  <tbody>\n",
              "    <tr>\n",
              "      <th>0</th>\n",
              "      <td>-1.094</td>\n",
              "      <td>0.183</td>\n",
              "      <td>0.913</td>\n",
              "      <td>2.139</td>\n",
              "      <td>-1.452</td>\n",
              "      <td>-0.145</td>\n",
              "      <td>-0.451</td>\n",
              "      <td>0.557</td>\n",
              "      <td>1.063</td>\n",
              "    </tr>\n",
              "    <tr>\n",
              "      <th>1</th>\n",
              "      <td>0.859</td>\n",
              "      <td>0.183</td>\n",
              "      <td>1.573</td>\n",
              "      <td>1.658</td>\n",
              "      <td>0.689</td>\n",
              "      <td>-1.900</td>\n",
              "      <td>-0.451</td>\n",
              "      <td>-0.958</td>\n",
              "      <td>0.561</td>\n",
              "    </tr>\n",
              "    <tr>\n",
              "      <th>2</th>\n",
              "      <td>1.538</td>\n",
              "      <td>0.183</td>\n",
              "      <td>0.544</td>\n",
              "      <td>0.214</td>\n",
              "      <td>0.689</td>\n",
              "      <td>-1.900</td>\n",
              "      <td>-0.451</td>\n",
              "      <td>-0.958</td>\n",
              "      <td>-0.944</td>\n",
              "    </tr>\n",
              "    <tr>\n",
              "      <th>3</th>\n",
              "      <td>0.009</td>\n",
              "      <td>1.648</td>\n",
              "      <td>1.254</td>\n",
              "      <td>1.176</td>\n",
              "      <td>0.689</td>\n",
              "      <td>1.611</td>\n",
              "      <td>-0.451</td>\n",
              "      <td>0.557</td>\n",
              "      <td>-0.944</td>\n",
              "    </tr>\n",
              "    <tr>\n",
              "      <th>4</th>\n",
              "      <td>-0.585</td>\n",
              "      <td>1.648</td>\n",
              "      <td>0.668</td>\n",
              "      <td>0.695</td>\n",
              "      <td>0.689</td>\n",
              "      <td>-0.145</td>\n",
              "      <td>-0.451</td>\n",
              "      <td>0.557</td>\n",
              "      <td>-0.944</td>\n",
              "    </tr>\n",
              "  </tbody>\n",
              "</table>\n",
              "</div>\n",
              "      <button class=\"colab-df-convert\" onclick=\"convertToInteractive('df-3fb76d4e-8462-454c-8ad2-78e5a764aa00')\"\n",
              "              title=\"Convert this dataframe to an interactive table.\"\n",
              "              style=\"display:none;\">\n",
              "        \n",
              "  <svg xmlns=\"http://www.w3.org/2000/svg\" height=\"24px\"viewBox=\"0 0 24 24\"\n",
              "       width=\"24px\">\n",
              "    <path d=\"M0 0h24v24H0V0z\" fill=\"none\"/>\n",
              "    <path d=\"M18.56 5.44l.94 2.06.94-2.06 2.06-.94-2.06-.94-.94-2.06-.94 2.06-2.06.94zm-11 1L8.5 8.5l.94-2.06 2.06-.94-2.06-.94L8.5 2.5l-.94 2.06-2.06.94zm10 10l.94 2.06.94-2.06 2.06-.94-2.06-.94-.94-2.06-.94 2.06-2.06.94z\"/><path d=\"M17.41 7.96l-1.37-1.37c-.4-.4-.92-.59-1.43-.59-.52 0-1.04.2-1.43.59L10.3 9.45l-7.72 7.72c-.78.78-.78 2.05 0 2.83L4 21.41c.39.39.9.59 1.41.59.51 0 1.02-.2 1.41-.59l7.78-7.78 2.81-2.81c.8-.78.8-2.07 0-2.86zM5.41 20L4 18.59l7.72-7.72 1.47 1.35L5.41 20z\"/>\n",
              "  </svg>\n",
              "      </button>\n",
              "      \n",
              "  <style>\n",
              "    .colab-df-container {\n",
              "      display:flex;\n",
              "      flex-wrap:wrap;\n",
              "      gap: 12px;\n",
              "    }\n",
              "\n",
              "    .colab-df-convert {\n",
              "      background-color: #E8F0FE;\n",
              "      border: none;\n",
              "      border-radius: 50%;\n",
              "      cursor: pointer;\n",
              "      display: none;\n",
              "      fill: #1967D2;\n",
              "      height: 32px;\n",
              "      padding: 0 0 0 0;\n",
              "      width: 32px;\n",
              "    }\n",
              "\n",
              "    .colab-df-convert:hover {\n",
              "      background-color: #E2EBFA;\n",
              "      box-shadow: 0px 1px 2px rgba(60, 64, 67, 0.3), 0px 1px 3px 1px rgba(60, 64, 67, 0.15);\n",
              "      fill: #174EA6;\n",
              "    }\n",
              "\n",
              "    [theme=dark] .colab-df-convert {\n",
              "      background-color: #3B4455;\n",
              "      fill: #D2E3FC;\n",
              "    }\n",
              "\n",
              "    [theme=dark] .colab-df-convert:hover {\n",
              "      background-color: #434B5C;\n",
              "      box-shadow: 0px 1px 3px 1px rgba(0, 0, 0, 0.15);\n",
              "      filter: drop-shadow(0px 1px 2px rgba(0, 0, 0, 0.3));\n",
              "      fill: #FFFFFF;\n",
              "    }\n",
              "  </style>\n",
              "\n",
              "      <script>\n",
              "        const buttonEl =\n",
              "          document.querySelector('#df-3fb76d4e-8462-454c-8ad2-78e5a764aa00 button.colab-df-convert');\n",
              "        buttonEl.style.display =\n",
              "          google.colab.kernel.accessAllowed ? 'block' : 'none';\n",
              "\n",
              "        async function convertToInteractive(key) {\n",
              "          const element = document.querySelector('#df-3fb76d4e-8462-454c-8ad2-78e5a764aa00');\n",
              "          const dataTable =\n",
              "            await google.colab.kernel.invokeFunction('convertToInteractive',\n",
              "                                                     [key], {});\n",
              "          if (!dataTable) return;\n",
              "\n",
              "          const docLinkHtml = 'Like what you see? Visit the ' +\n",
              "            '<a target=\"_blank\" href=https://colab.research.google.com/notebooks/data_table.ipynb>data table notebook</a>'\n",
              "            + ' to learn more about interactive tables.';\n",
              "          element.innerHTML = '';\n",
              "          dataTable['output_type'] = 'display_data';\n",
              "          await google.colab.output.renderOutput(dataTable, element);\n",
              "          const docLink = document.createElement('div');\n",
              "          docLink.innerHTML = docLinkHtml;\n",
              "          element.appendChild(docLink);\n",
              "        }\n",
              "      </script>\n",
              "    </div>\n",
              "  </div>\n",
              "  "
            ],
            "text/plain": [
              "       0      1      2      3      4      5      6      7      8\n",
              "0 -1.094  0.183  0.913  2.139 -1.452 -0.145 -0.451  0.557  1.063\n",
              "1  0.859  0.183  1.573  1.658  0.689 -1.900 -0.451 -0.958  0.561\n",
              "2  1.538  0.183  0.544  0.214  0.689 -1.900 -0.451 -0.958 -0.944\n",
              "3  0.009  1.648  1.254  1.176  0.689  1.611 -0.451  0.557 -0.944\n",
              "4 -0.585  1.648  0.668  0.695  0.689 -0.145 -0.451  0.557 -0.944"
            ]
          },
          "metadata": {},
          "execution_count": 22
        }
      ]
    },
    {
      "cell_type": "markdown",
      "source": [
        "<a id='3.4.3'></a>\n",
        "### 4.4.1. Normalizar datos\n",
        "\n",
        "Normalizar en scikit-learn se refiere a reescalar cada observación (fila) para que tenga una longitud de 1 (llamada\n",
        "una norma unitaria o un vector con la longitud de 1 en álgebra lineal)."
      ],
      "metadata": {
        "id": "zE_rRW-4eimN"
      }
    },
    {
      "cell_type": "code",
      "source": [
        "from sklearn.preprocessing import Normalizer\n",
        "\n",
        "X = dataset.loc[:, dataset.columns != 'Risk_Code']\n",
        "scaler = Normalizer().fit(X)\n",
        "NormalizedX = pd.DataFrame(scaler.fit_transform(X))\n",
        "\n",
        "# resumir los datos transformados\n",
        "NormalizedX.head()"
      ],
      "metadata": {
        "colab": {
          "base_uri": "https://localhost:8080/",
          "height": 206
        },
        "id": "FaRoZmkHebk0",
        "outputId": "7d810fe1-aeea-475d-d43a-691d74cbef38"
      },
      "execution_count": 23,
      "outputs": [
        {
          "output_type": "execute_result",
          "data": {
            "text/html": [
              "\n",
              "  <div id=\"df-02332077-e3b8-4211-91c8-84d0c6cae222\">\n",
              "    <div class=\"colab-df-container\">\n",
              "      <div>\n",
              "<style scoped>\n",
              "    .dataframe tbody tr th:only-of-type {\n",
              "        vertical-align: middle;\n",
              "    }\n",
              "\n",
              "    .dataframe tbody tr th {\n",
              "        vertical-align: top;\n",
              "    }\n",
              "\n",
              "    .dataframe thead th {\n",
              "        text-align: right;\n",
              "    }\n",
              "</style>\n",
              "<table border=\"1\" class=\"dataframe\">\n",
              "  <thead>\n",
              "    <tr style=\"text-align: right;\">\n",
              "      <th></th>\n",
              "      <th>0</th>\n",
              "      <th>1</th>\n",
              "      <th>2</th>\n",
              "      <th>3</th>\n",
              "      <th>4</th>\n",
              "      <th>5</th>\n",
              "      <th>6</th>\n",
              "      <th>7</th>\n",
              "      <th>8</th>\n",
              "    </tr>\n",
              "  </thead>\n",
              "  <tbody>\n",
              "    <tr>\n",
              "      <th>0</th>\n",
              "      <td>0.004</td>\n",
              "      <td>3.361e-04</td>\n",
              "      <td>1.0</td>\n",
              "      <td>0.008</td>\n",
              "      <td>0.000e+00</td>\n",
              "      <td>1.680e-04</td>\n",
              "      <td>0.0</td>\n",
              "      <td>1.680e-04</td>\n",
              "      <td>8.402e-04</td>\n",
              "    </tr>\n",
              "    <tr>\n",
              "      <th>1</th>\n",
              "      <td>0.006</td>\n",
              "      <td>2.537e-04</td>\n",
              "      <td>1.0</td>\n",
              "      <td>0.005</td>\n",
              "      <td>1.269e-04</td>\n",
              "      <td>0.000e+00</td>\n",
              "      <td>0.0</td>\n",
              "      <td>0.000e+00</td>\n",
              "      <td>5.075e-04</td>\n",
              "    </tr>\n",
              "    <tr>\n",
              "      <th>2</th>\n",
              "      <td>0.011</td>\n",
              "      <td>4.106e-04</td>\n",
              "      <td>1.0</td>\n",
              "      <td>0.005</td>\n",
              "      <td>2.053e-04</td>\n",
              "      <td>0.000e+00</td>\n",
              "      <td>0.0</td>\n",
              "      <td>0.000e+00</td>\n",
              "      <td>2.053e-04</td>\n",
              "    </tr>\n",
              "    <tr>\n",
              "      <th>3</th>\n",
              "      <td>0.005</td>\n",
              "      <td>4.318e-04</td>\n",
              "      <td>1.0</td>\n",
              "      <td>0.005</td>\n",
              "      <td>1.439e-04</td>\n",
              "      <td>2.878e-04</td>\n",
              "      <td>0.0</td>\n",
              "      <td>1.439e-04</td>\n",
              "      <td>1.439e-04</td>\n",
              "    </tr>\n",
              "    <tr>\n",
              "      <th>4</th>\n",
              "      <td>0.005</td>\n",
              "      <td>5.732e-04</td>\n",
              "      <td>1.0</td>\n",
              "      <td>0.006</td>\n",
              "      <td>1.911e-04</td>\n",
              "      <td>1.911e-04</td>\n",
              "      <td>0.0</td>\n",
              "      <td>1.911e-04</td>\n",
              "      <td>1.911e-04</td>\n",
              "    </tr>\n",
              "  </tbody>\n",
              "</table>\n",
              "</div>\n",
              "      <button class=\"colab-df-convert\" onclick=\"convertToInteractive('df-02332077-e3b8-4211-91c8-84d0c6cae222')\"\n",
              "              title=\"Convert this dataframe to an interactive table.\"\n",
              "              style=\"display:none;\">\n",
              "        \n",
              "  <svg xmlns=\"http://www.w3.org/2000/svg\" height=\"24px\"viewBox=\"0 0 24 24\"\n",
              "       width=\"24px\">\n",
              "    <path d=\"M0 0h24v24H0V0z\" fill=\"none\"/>\n",
              "    <path d=\"M18.56 5.44l.94 2.06.94-2.06 2.06-.94-2.06-.94-.94-2.06-.94 2.06-2.06.94zm-11 1L8.5 8.5l.94-2.06 2.06-.94-2.06-.94L8.5 2.5l-.94 2.06-2.06.94zm10 10l.94 2.06.94-2.06 2.06-.94-2.06-.94-.94-2.06-.94 2.06-2.06.94z\"/><path d=\"M17.41 7.96l-1.37-1.37c-.4-.4-.92-.59-1.43-.59-.52 0-1.04.2-1.43.59L10.3 9.45l-7.72 7.72c-.78.78-.78 2.05 0 2.83L4 21.41c.39.39.9.59 1.41.59.51 0 1.02-.2 1.41-.59l7.78-7.78 2.81-2.81c.8-.78.8-2.07 0-2.86zM5.41 20L4 18.59l7.72-7.72 1.47 1.35L5.41 20z\"/>\n",
              "  </svg>\n",
              "      </button>\n",
              "      \n",
              "  <style>\n",
              "    .colab-df-container {\n",
              "      display:flex;\n",
              "      flex-wrap:wrap;\n",
              "      gap: 12px;\n",
              "    }\n",
              "\n",
              "    .colab-df-convert {\n",
              "      background-color: #E8F0FE;\n",
              "      border: none;\n",
              "      border-radius: 50%;\n",
              "      cursor: pointer;\n",
              "      display: none;\n",
              "      fill: #1967D2;\n",
              "      height: 32px;\n",
              "      padding: 0 0 0 0;\n",
              "      width: 32px;\n",
              "    }\n",
              "\n",
              "    .colab-df-convert:hover {\n",
              "      background-color: #E2EBFA;\n",
              "      box-shadow: 0px 1px 2px rgba(60, 64, 67, 0.3), 0px 1px 3px 1px rgba(60, 64, 67, 0.15);\n",
              "      fill: #174EA6;\n",
              "    }\n",
              "\n",
              "    [theme=dark] .colab-df-convert {\n",
              "      background-color: #3B4455;\n",
              "      fill: #D2E3FC;\n",
              "    }\n",
              "\n",
              "    [theme=dark] .colab-df-convert:hover {\n",
              "      background-color: #434B5C;\n",
              "      box-shadow: 0px 1px 3px 1px rgba(0, 0, 0, 0.15);\n",
              "      filter: drop-shadow(0px 1px 2px rgba(0, 0, 0, 0.3));\n",
              "      fill: #FFFFFF;\n",
              "    }\n",
              "  </style>\n",
              "\n",
              "      <script>\n",
              "        const buttonEl =\n",
              "          document.querySelector('#df-02332077-e3b8-4211-91c8-84d0c6cae222 button.colab-df-convert');\n",
              "        buttonEl.style.display =\n",
              "          google.colab.kernel.accessAllowed ? 'block' : 'none';\n",
              "\n",
              "        async function convertToInteractive(key) {\n",
              "          const element = document.querySelector('#df-02332077-e3b8-4211-91c8-84d0c6cae222');\n",
              "          const dataTable =\n",
              "            await google.colab.kernel.invokeFunction('convertToInteractive',\n",
              "                                                     [key], {});\n",
              "          if (!dataTable) return;\n",
              "\n",
              "          const docLinkHtml = 'Like what you see? Visit the ' +\n",
              "            '<a target=\"_blank\" href=https://colab.research.google.com/notebooks/data_table.ipynb>data table notebook</a>'\n",
              "            + ' to learn more about interactive tables.';\n",
              "          element.innerHTML = '';\n",
              "          dataTable['output_type'] = 'display_data';\n",
              "          await google.colab.output.renderOutput(dataTable, element);\n",
              "          const docLink = document.createElement('div');\n",
              "          docLink.innerHTML = docLinkHtml;\n",
              "          element.appendChild(docLink);\n",
              "        }\n",
              "      </script>\n",
              "    </div>\n",
              "  </div>\n",
              "  "
            ],
            "text/plain": [
              "       0          1    2      3          4          5    6          7          8\n",
              "0  0.004  3.361e-04  1.0  0.008  0.000e+00  1.680e-04  0.0  1.680e-04  8.402e-04\n",
              "1  0.006  2.537e-04  1.0  0.005  1.269e-04  0.000e+00  0.0  0.000e+00  5.075e-04\n",
              "2  0.011  4.106e-04  1.0  0.005  2.053e-04  0.000e+00  0.0  0.000e+00  2.053e-04\n",
              "3  0.005  4.318e-04  1.0  0.005  1.439e-04  2.878e-04  0.0  1.439e-04  1.439e-04\n",
              "4  0.005  5.732e-04  1.0  0.006  1.911e-04  1.911e-04  0.0  1.911e-04  1.911e-04"
            ]
          },
          "metadata": {},
          "execution_count": 23
        }
      ]
    },
    {
      "cell_type": "markdown",
      "source": [
        "<a id='4'></a>\n",
        "# 5. Evaluar algoritmos y modelos"
      ],
      "metadata": {
        "id": "fkaNGiAYe30H"
      }
    },
    {
      "cell_type": "markdown",
      "source": [
        "<a id='4.1'></a>\n",
        "## 5.1. Train Test Split"
      ],
      "metadata": {
        "id": "T7ktL0wffGFm"
      }
    },
    {
      "cell_type": "code",
      "source": [
        "# dividir el conjunto de datos de validación para el final\n",
        "Y= dataset[\"Risk_Code\"]\n",
        "X = dataset.loc[:, dataset.columns != 'Risk_Code']\n",
        "\n",
        "scaler = StandardScaler().fit(X)\n",
        "StandardisedX = pd.DataFrame(scaler.fit_transform(X))\n",
        "\n",
        "validation_size = 0.2\n",
        "seed = 7\n",
        "\n",
        "X_train, X_validation, Y_train, Y_validation = train_test_split(X, Y, test_size=validation_size, random_state=seed)"
      ],
      "metadata": {
        "id": "Ma3fZohDeuy5"
      },
      "execution_count": 24,
      "outputs": []
    },
    {
      "cell_type": "markdown",
      "source": [
        "<a id='4.2'></a>\n",
        "## 5.2. Opciones de prueba y métricas de evaluación"
      ],
      "metadata": {
        "id": "0pjKs9mVfSei"
      }
    },
    {
      "cell_type": "code",
      "source": [
        "# opciones de prueba para la clasificación\n",
        "num_folds = 10\n",
        "seed = 7\n",
        "scoring = 'accuracy'\n",
        "#scoring ='neg_log_loss'\n",
        "#scoring = 'roc_auc'"
      ],
      "metadata": {
        "id": "SwRD4FrIfMaV"
      },
      "execution_count": 25,
      "outputs": []
    },
    {
      "cell_type": "markdown",
      "source": [
        "<a id='4.3'></a>\n",
        "## 5.3. Comparar modelos y algoritmos"
      ],
      "metadata": {
        "id": "9zqhe5QLfb1M"
      }
    },
    {
      "cell_type": "markdown",
      "source": [
        "<a id='4.3.1'></a>\n",
        "### 5.3.1. Modelos comunes"
      ],
      "metadata": {
        "id": "bNnOj2Dpfgp4"
      }
    },
    {
      "cell_type": "code",
      "source": [
        "models = []\n",
        "\n",
        "models.append(('LR', LogisticRegression()))\n",
        "models.append(('LDA', LinearDiscriminantAnalysis()))\n",
        "models.append(('KNN', KNeighborsClassifier()))\n",
        "models.append(('CART', DecisionTreeClassifier()))\n",
        "models.append(('NB', GaussianNB()))\n",
        "models.append(('SVM', SVC()))\n",
        "\n",
        "# Neural Network\n",
        "models.append(('NN', MLPClassifier()))"
      ],
      "metadata": {
        "id": "FuWRVOC3fVLQ"
      },
      "execution_count": 26,
      "outputs": []
    },
    {
      "cell_type": "markdown",
      "source": [
        "<a id='4.3.2'></a>\n",
        "### 5.3.2. Ensemble Models"
      ],
      "metadata": {
        "id": "ryyfy-A2fqmw"
      }
    },
    {
      "cell_type": "code",
      "source": [
        "#Ensable Models \n",
        "# Boosting methods\n",
        "models.append(('AB', AdaBoostClassifier()))\n",
        "models.append(('GBM', GradientBoostingClassifier()))\n",
        "# Bagging methods\n",
        "models.append(('RF', RandomForestClassifier()))\n",
        "models.append(('ET', ExtraTreesClassifier()))"
      ],
      "metadata": {
        "id": "fdXag5kQfk6t"
      },
      "execution_count": 27,
      "outputs": []
    },
    {
      "cell_type": "code",
      "source": [
        "# Escribir el clasificador de aprendizaje profundo en caso de que el indicador de aprendizaje profundo se establezca como verdadero\n",
        "# Poner el siguiente Flag a 0 si el Flag de Modelos de Aprendizaje Profundo tiene que ser habilitado\n",
        "EnableDLModelsFlag = 1\n",
        "if EnableDLModelsFlag == 1 :   \n",
        "    # Función para crear el modelo, necesaria para KerasClassifier\n",
        "    def create_model(neurons=12, activation='relu', learn_rate = 0.01, momentum=0):\n",
        "        # crear un modelo\n",
        "        model = Sequential()\n",
        "        model.add(Dense(neurons, input_dim=X_train.shape[1], activation=activation))\n",
        "        model.add(Dense(2, activation=activation))\n",
        "        model.add(Dense(1, activation='sigmoid'))\n",
        "        # Compilar el modelo\n",
        "        optimizer = SGD(lr=learn_rate, momentum=momentum)\n",
        "        model.compile(loss='binary_crossentropy', optimizer='adam', metrics=['accuracy'])\n",
        "        return model    \n",
        "    models.append(('DNN', KerasClassifier(build_fn=create_model, epochs=10, batch_size=10, verbose=1)))"
      ],
      "metadata": {
        "id": "nQZglsvuftdG"
      },
      "execution_count": 28,
      "outputs": []
    },
    {
      "cell_type": "code",
      "source": [
        "results = []\n",
        "names = []\n",
        "for name, model in models:\n",
        "    kfold = KFold(n_splits=num_folds, random_state=seed, shuffle=True)\n",
        "    cv_results = cross_val_score(model, X_train, Y_train, cv=kfold, scoring=scoring)\n",
        "    results.append(cv_results)\n",
        "    names.append(name)\n",
        "    msg = f'{name} : {round(cv_results.mean(), 3)}, {round(cv_results.std(), 3)}'\n",
        "    print(msg)"
      ],
      "metadata": {
        "colab": {
          "base_uri": "https://localhost:8080/"
        },
        "id": "zZ3LwTUnf2Ye",
        "outputId": "e1b21da9-feb2-4b29-8c7b-0e4a15520d21"
      },
      "execution_count": 29,
      "outputs": [
        {
          "output_type": "stream",
          "name": "stdout",
          "text": [
            "LR : 0.611, 0.056\n",
            "LDA : 0.607, 0.067\n",
            "KNN : 0.547, 0.058\n",
            "CART : 0.537, 0.088\n",
            "NB : 0.614, 0.068\n",
            "SVM : 0.602, 0.059\n",
            "NN : 0.6, 0.093\n",
            "AB : 0.621, 0.094\n",
            "GBM : 0.614, 0.043\n",
            "RF : 0.616, 0.079\n",
            "ET : 0.607, 0.101\n",
            "Epoch 1/10\n",
            "38/38 [==============================] - 1s 2ms/step - loss: 286.8759 - accuracy: 0.5733\n",
            "Epoch 2/10\n",
            "38/38 [==============================] - 0s 2ms/step - loss: 207.8600 - accuracy: 0.5733\n",
            "Epoch 3/10\n",
            "38/38 [==============================] - 0s 2ms/step - loss: 132.9455 - accuracy: 0.5733\n",
            "Epoch 4/10\n",
            "38/38 [==============================] - 0s 2ms/step - loss: 55.4554 - accuracy: 0.5733\n",
            "Epoch 5/10\n",
            "38/38 [==============================] - 0s 2ms/step - loss: 2.0004 - accuracy: 0.4987\n",
            "Epoch 6/10\n",
            "38/38 [==============================] - 0s 2ms/step - loss: 0.7069 - accuracy: 0.4267\n",
            "Epoch 7/10\n",
            "38/38 [==============================] - 0s 2ms/step - loss: 0.7058 - accuracy: 0.4267\n",
            "Epoch 8/10\n",
            "38/38 [==============================] - 0s 2ms/step - loss: 0.7045 - accuracy: 0.4267\n",
            "Epoch 9/10\n",
            "38/38 [==============================] - 0s 2ms/step - loss: 0.7033 - accuracy: 0.4267\n",
            "Epoch 10/10\n",
            "38/38 [==============================] - 0s 2ms/step - loss: 0.7022 - accuracy: 0.4267\n",
            "Epoch 1/10\n",
            "38/38 [==============================] - 1s 3ms/step - loss: 27.8223 - accuracy: 0.4907\n",
            "Epoch 2/10\n",
            "38/38 [==============================] - 0s 4ms/step - loss: 0.7000 - accuracy: 0.5467\n",
            "Epoch 3/10\n",
            "38/38 [==============================] - 0s 3ms/step - loss: 0.6895 - accuracy: 0.5573\n",
            "Epoch 4/10\n",
            "38/38 [==============================] - 0s 4ms/step - loss: 0.6892 - accuracy: 0.5573\n",
            "Epoch 5/10\n",
            "38/38 [==============================] - 0s 4ms/step - loss: 0.6887 - accuracy: 0.5573\n",
            "Epoch 6/10\n",
            "38/38 [==============================] - 0s 4ms/step - loss: 0.6883 - accuracy: 0.5573\n",
            "Epoch 7/10\n",
            "38/38 [==============================] - 0s 3ms/step - loss: 0.6879 - accuracy: 0.5573\n",
            "Epoch 8/10\n",
            "38/38 [==============================] - 0s 3ms/step - loss: 0.6875 - accuracy: 0.5573\n",
            "Epoch 9/10\n",
            "38/38 [==============================] - 0s 4ms/step - loss: 0.6871 - accuracy: 0.5573\n",
            "Epoch 10/10\n",
            "38/38 [==============================] - 0s 4ms/step - loss: 0.6867 - accuracy: 0.5573\n",
            "Epoch 1/10\n",
            "38/38 [==============================] - 1s 3ms/step - loss: 511.8572 - accuracy: 0.4187\n",
            "Epoch 2/10\n",
            "38/38 [==============================] - 0s 3ms/step - loss: 274.4022 - accuracy: 0.4187\n",
            "Epoch 3/10\n",
            "38/38 [==============================] - 0s 3ms/step - loss: 72.7959 - accuracy: 0.4640\n",
            "Epoch 4/10\n",
            "38/38 [==============================] - 0s 3ms/step - loss: 0.6854 - accuracy: 0.5813\n",
            "Epoch 5/10\n",
            "38/38 [==============================] - 0s 3ms/step - loss: 0.6851 - accuracy: 0.5813\n",
            "Epoch 6/10\n",
            "38/38 [==============================] - 0s 5ms/step - loss: 0.6849 - accuracy: 0.5813\n",
            "Epoch 7/10\n",
            "38/38 [==============================] - 0s 4ms/step - loss: 0.6847 - accuracy: 0.5813\n",
            "Epoch 8/10\n",
            "38/38 [==============================] - 0s 4ms/step - loss: 0.6845 - accuracy: 0.5813\n",
            "Epoch 9/10\n",
            "38/38 [==============================] - 0s 4ms/step - loss: 0.6843 - accuracy: 0.5813\n",
            "Epoch 10/10\n",
            "38/38 [==============================] - 0s 3ms/step - loss: 0.6841 - accuracy: 0.5813\n",
            "Epoch 1/10\n",
            "38/38 [==============================] - 1s 4ms/step - loss: 0.6930 - accuracy: 0.5280\n",
            "Epoch 2/10\n",
            "38/38 [==============================] - 0s 3ms/step - loss: 0.6919 - accuracy: 0.5707\n",
            "Epoch 3/10\n",
            "38/38 [==============================] - 0s 3ms/step - loss: 0.6910 - accuracy: 0.5707\n",
            "Epoch 4/10\n",
            "38/38 [==============================] - 0s 4ms/step - loss: 0.6901 - accuracy: 0.5707\n",
            "Epoch 5/10\n",
            "38/38 [==============================] - 0s 4ms/step - loss: 0.6894 - accuracy: 0.5707\n",
            "Epoch 6/10\n",
            "38/38 [==============================] - 0s 3ms/step - loss: 0.6887 - accuracy: 0.5707\n",
            "Epoch 7/10\n",
            "38/38 [==============================] - 0s 5ms/step - loss: 0.6882 - accuracy: 0.5707\n",
            "Epoch 8/10\n",
            "38/38 [==============================] - 0s 3ms/step - loss: 0.6877 - accuracy: 0.5707\n",
            "Epoch 9/10\n",
            "38/38 [==============================] - 0s 3ms/step - loss: 0.6872 - accuracy: 0.5707\n",
            "Epoch 10/10\n",
            "38/38 [==============================] - 0s 3ms/step - loss: 0.6869 - accuracy: 0.5707\n",
            "Epoch 1/10\n",
            "38/38 [==============================] - 1s 2ms/step - loss: 208.7524 - accuracy: 0.5733\n",
            "Epoch 2/10\n",
            "38/38 [==============================] - 0s 2ms/step - loss: 75.0240 - accuracy: 0.5680\n",
            "Epoch 3/10\n",
            "38/38 [==============================] - 0s 2ms/step - loss: 0.7651 - accuracy: 0.4320\n",
            "Epoch 4/10\n",
            "38/38 [==============================] - 0s 2ms/step - loss: 0.6989 - accuracy: 0.4267\n",
            "Epoch 5/10\n",
            "38/38 [==============================] - 0s 2ms/step - loss: 0.6980 - accuracy: 0.4267\n",
            "Epoch 6/10\n",
            "38/38 [==============================] - 0s 2ms/step - loss: 0.6971 - accuracy: 0.4267\n",
            "Epoch 7/10\n",
            "38/38 [==============================] - 0s 2ms/step - loss: 0.6962 - accuracy: 0.4267\n",
            "Epoch 8/10\n",
            "38/38 [==============================] - 0s 2ms/step - loss: 0.6953 - accuracy: 0.4267\n",
            "Epoch 9/10\n",
            "38/38 [==============================] - 0s 2ms/step - loss: 0.6945 - accuracy: 0.4267\n",
            "Epoch 10/10\n",
            "38/38 [==============================] - 0s 2ms/step - loss: 0.6936 - accuracy: 0.4267\n",
            "WARNING:tensorflow:5 out of the last 9 calls to <function Model.make_predict_function.<locals>.predict_function at 0x7f62b8295170> triggered tf.function retracing. Tracing is expensive and the excessive number of tracings could be due to (1) creating @tf.function repeatedly in a loop, (2) passing tensors with different shapes, (3) passing Python objects instead of tensors. For (1), please define your @tf.function outside of the loop. For (2), @tf.function has experimental_relax_shapes=True option that relaxes argument shapes that can avoid unnecessary retracing. For (3), please refer to https://www.tensorflow.org/guide/function#controlling_retracing and https://www.tensorflow.org/api_docs/python/tf/function for  more details.\n",
            "Epoch 1/10\n",
            "38/38 [==============================] - 1s 2ms/step - loss: 0.6927 - accuracy: 0.5600\n",
            "Epoch 2/10\n",
            "38/38 [==============================] - 0s 2ms/step - loss: 0.6917 - accuracy: 0.5707\n",
            "Epoch 3/10\n",
            "38/38 [==============================] - 0s 2ms/step - loss: 0.6908 - accuracy: 0.5707\n",
            "Epoch 4/10\n",
            "38/38 [==============================] - 0s 5ms/step - loss: 0.6900 - accuracy: 0.5707\n",
            "Epoch 5/10\n",
            "38/38 [==============================] - 0s 3ms/step - loss: 0.6893 - accuracy: 0.5707\n",
            "Epoch 6/10\n",
            "38/38 [==============================] - 0s 4ms/step - loss: 0.6886 - accuracy: 0.5707\n",
            "Epoch 7/10\n",
            "38/38 [==============================] - 0s 4ms/step - loss: 0.6880 - accuracy: 0.5707\n",
            "Epoch 8/10\n",
            "38/38 [==============================] - 0s 3ms/step - loss: 0.6876 - accuracy: 0.5707\n",
            "Epoch 9/10\n",
            "38/38 [==============================] - 0s 4ms/step - loss: 0.6870 - accuracy: 0.5707\n",
            "Epoch 10/10\n",
            "38/38 [==============================] - 0s 4ms/step - loss: 0.6866 - accuracy: 0.5707\n",
            "WARNING:tensorflow:6 out of the last 11 calls to <function Model.make_predict_function.<locals>.predict_function at 0x7f62b5d16b90> triggered tf.function retracing. Tracing is expensive and the excessive number of tracings could be due to (1) creating @tf.function repeatedly in a loop, (2) passing tensors with different shapes, (3) passing Python objects instead of tensors. For (1), please define your @tf.function outside of the loop. For (2), @tf.function has experimental_relax_shapes=True option that relaxes argument shapes that can avoid unnecessary retracing. For (3), please refer to https://www.tensorflow.org/guide/function#controlling_retracing and https://www.tensorflow.org/api_docs/python/tf/function for  more details.\n",
            "Epoch 1/10\n",
            "38/38 [==============================] - 1s 2ms/step - loss: 834.6182 - accuracy: 0.4320\n",
            "Epoch 2/10\n",
            "38/38 [==============================] - 0s 2ms/step - loss: 601.5240 - accuracy: 0.4320\n",
            "Epoch 3/10\n",
            "38/38 [==============================] - 0s 4ms/step - loss: 401.1562 - accuracy: 0.4320\n",
            "Epoch 4/10\n",
            "38/38 [==============================] - 0s 2ms/step - loss: 212.4781 - accuracy: 0.4320\n",
            "Epoch 5/10\n",
            "38/38 [==============================] - 0s 2ms/step - loss: 44.0837 - accuracy: 0.4320\n",
            "Epoch 6/10\n",
            "38/38 [==============================] - 0s 2ms/step - loss: 0.6850 - accuracy: 0.5680\n",
            "Epoch 7/10\n",
            "38/38 [==============================] - 0s 2ms/step - loss: 0.6849 - accuracy: 0.5680\n",
            "Epoch 8/10\n",
            "38/38 [==============================] - 0s 2ms/step - loss: 0.6849 - accuracy: 0.5680\n",
            "Epoch 9/10\n",
            "38/38 [==============================] - 0s 2ms/step - loss: 0.6848 - accuracy: 0.5680\n",
            "Epoch 10/10\n",
            "38/38 [==============================] - 0s 3ms/step - loss: 0.6848 - accuracy: 0.5680\n",
            "Epoch 1/10\n",
            "38/38 [==============================] - 1s 3ms/step - loss: 33.9521 - accuracy: 0.4335\n",
            "Epoch 2/10\n",
            "38/38 [==============================] - 0s 3ms/step - loss: 2.0504 - accuracy: 0.4894\n",
            "Epoch 3/10\n",
            "38/38 [==============================] - 0s 3ms/step - loss: 0.6895 - accuracy: 0.5665\n",
            "Epoch 4/10\n",
            "38/38 [==============================] - 0s 3ms/step - loss: 0.6893 - accuracy: 0.5665\n",
            "Epoch 5/10\n",
            "38/38 [==============================] - 0s 4ms/step - loss: 0.6890 - accuracy: 0.5665\n",
            "Epoch 6/10\n",
            "38/38 [==============================] - 0s 2ms/step - loss: 0.6888 - accuracy: 0.5665\n",
            "Epoch 7/10\n",
            "38/38 [==============================] - 0s 3ms/step - loss: 0.6885 - accuracy: 0.5665\n",
            "Epoch 8/10\n",
            "38/38 [==============================] - 0s 4ms/step - loss: 0.6882 - accuracy: 0.5665\n",
            "Epoch 9/10\n",
            "38/38 [==============================] - 0s 2ms/step - loss: 0.6880 - accuracy: 0.5665\n",
            "Epoch 10/10\n",
            "38/38 [==============================] - 0s 2ms/step - loss: 0.6877 - accuracy: 0.5665\n",
            "Epoch 1/10\n",
            "38/38 [==============================] - 1s 3ms/step - loss: 0.6927 - accuracy: 0.5505\n",
            "Epoch 2/10\n",
            "38/38 [==============================] - 0s 2ms/step - loss: 0.6919 - accuracy: 0.5665\n",
            "Epoch 3/10\n",
            "38/38 [==============================] - 0s 2ms/step - loss: 0.6911 - accuracy: 0.5665\n",
            "Epoch 4/10\n",
            "38/38 [==============================] - 0s 2ms/step - loss: 0.6903 - accuracy: 0.5665\n",
            "Epoch 5/10\n",
            "38/38 [==============================] - 0s 3ms/step - loss: 0.6897 - accuracy: 0.5665\n",
            "Epoch 6/10\n",
            "38/38 [==============================] - 0s 4ms/step - loss: 0.6892 - accuracy: 0.5665\n",
            "Epoch 7/10\n",
            "38/38 [==============================] - 0s 2ms/step - loss: 0.6886 - accuracy: 0.5665\n",
            "Epoch 8/10\n",
            "38/38 [==============================] - 0s 3ms/step - loss: 0.6881 - accuracy: 0.5665\n",
            "Epoch 9/10\n",
            "38/38 [==============================] - 0s 3ms/step - loss: 0.6877 - accuracy: 0.5665\n",
            "Epoch 10/10\n",
            "38/38 [==============================] - 0s 3ms/step - loss: 0.6874 - accuracy: 0.5665\n",
            "Epoch 1/10\n",
            "38/38 [==============================] - 2s 3ms/step - loss: 216.6000 - accuracy: 0.5771\n",
            "Epoch 2/10\n",
            "38/38 [==============================] - 0s 4ms/step - loss: 117.9824 - accuracy: 0.5771\n",
            "Epoch 3/10\n",
            "38/38 [==============================] - 0s 4ms/step - loss: 26.0713 - accuracy: 0.5665\n",
            "Epoch 4/10\n",
            "38/38 [==============================] - 0s 4ms/step - loss: 3.3119 - accuracy: 0.4229\n",
            "Epoch 5/10\n",
            "38/38 [==============================] - 0s 3ms/step - loss: 0.7559 - accuracy: 0.4229\n",
            "Epoch 6/10\n",
            "38/38 [==============================] - 0s 3ms/step - loss: 0.7020 - accuracy: 0.4229\n",
            "Epoch 7/10\n",
            "38/38 [==============================] - 0s 4ms/step - loss: 0.6965 - accuracy: 0.4229\n",
            "Epoch 8/10\n",
            "38/38 [==============================] - 0s 4ms/step - loss: 0.6936 - accuracy: 0.4867\n",
            "Epoch 9/10\n",
            "38/38 [==============================] - 0s 4ms/step - loss: 0.6921 - accuracy: 0.5771\n",
            "Epoch 10/10\n",
            "38/38 [==============================] - 0s 3ms/step - loss: 0.6915 - accuracy: 0.5771\n",
            "DNN : 0.552, 0.07\n"
          ]
        }
      ]
    },
    {
      "cell_type": "code",
      "source": [
        "# comparar algoritmos\n",
        "fig = plt.figure()\n",
        "fig.suptitle('Algorithm Comparison')\n",
        "ax = fig.add_subplot(111)\n",
        "plt.boxplot(results)\n",
        "ax.set_xticklabels(names)\n",
        "fig.set_size_inches(15,8)\n",
        "plt.show()"
      ],
      "metadata": {
        "colab": {
          "base_uri": "https://localhost:8080/",
          "height": 540
        },
        "id": "vUBRx2UKg8ow",
        "outputId": "53ecde25-7fc2-42b1-c214-c4dd2f57beb5"
      },
      "execution_count": 30,
      "outputs": [
        {
          "output_type": "display_data",
          "data": {
            "image/png": "[encoded data removed]",
            "text/plain": [
              "<Figure size 1080x576 with 1 Axes>"
            ]
          },
          "metadata": {}
        }
      ]
    },
    {
      "cell_type": "markdown",
      "source": [
        "<a id='5'></a>\n",
        "# 6. Ajuste del modelo y búsqueda en la cuadrícula"
      ],
      "metadata": {
        "id": "Gh3ekyjVhh4S"
      }
    },
    {
      "cell_type": "code",
      "source": [
        "# 1. Grid search : Logistic Regression Algorithm \n",
        "'''\n",
        "penalty : str, 'l1', 'l2', 'elasticnet' o 'none', opcional (por defecto='l2')\n",
        "\n",
        "C : float, opcional (por defecto=1.0)\n",
        "Inverso de la fuerza de regularización; debe ser un float positivo. Los valores más pequeños especifican una regularización más fuerte.\n",
        "''' \n",
        "scaler = StandardScaler().fit(X_train)\n",
        "rescaledX = scaler.transform(X_train)\n",
        "grid={\"C\":np.logspace(-3,3,7), \"penalty\":[\"l1\",\"l2\"]}# l1 lasso l2 ridge\n",
        "C= np.logspace(-3,3,7)\n",
        "penalty = [\"l1\",\"l2\"]# l1 lasso l2 ridge\n",
        "param_grid = dict(C=C,penalty=penalty )\n",
        "model = LogisticRegression()\n",
        "kfold = KFold(n_splits=num_folds, random_state=seed,shuffle=True)\n",
        "grid = GridSearchCV(estimator=model, param_grid=param_grid, scoring=scoring, cv=kfold)\n",
        "grid_result = grid.fit(rescaledX, Y_train)\n",
        "\n",
        "# Imprimir los Resultados\n",
        "print(\"Best: %f using %s\" % (grid_result.best_score_, grid_result.best_params_))\n",
        "means = grid_result.cv_results_['mean_test_score']\n",
        "stds = grid_result.cv_results_['std_test_score']\n",
        "params = grid_result.cv_results_['params']\n",
        "ranks = grid_result.cv_results_['rank_test_score']\n",
        "for mean, stdev, param, rank in zip(means, stds, params, ranks):\n",
        "    print(\"#%d %f (%f) with: %r\" % (rank, mean, stdev, param))"
      ],
      "metadata": {
        "colab": {
          "base_uri": "https://localhost:8080/"
        },
        "id": "SgjSDKkDhXdY",
        "outputId": "d1b3221d-76e1-48e9-b238-fb1f725516bb"
      },
      "execution_count": 31,
      "outputs": [
        {
          "output_type": "stream",
          "name": "stdout",
          "text": [
            "Best: 0.623403 using {'C': 0.01, 'penalty': 'l2'}\n",
            "#8 nan (nan) with: {'C': 0.001, 'penalty': 'l1'}\n",
            "#7 0.570790 (0.051268) with: {'C': 0.001, 'penalty': 'l2'}\n",
            "#9 nan (nan) with: {'C': 0.01, 'penalty': 'l1'}\n",
            "#1 0.623403 (0.057929) with: {'C': 0.01, 'penalty': 'l2'}\n",
            "#10 nan (nan) with: {'C': 0.1, 'penalty': 'l1'}\n",
            "#2 0.606620 (0.074149) with: {'C': 0.1, 'penalty': 'l2'}\n",
            "#11 nan (nan) with: {'C': 1.0, 'penalty': 'l1'}\n",
            "#3 0.604181 (0.071294) with: {'C': 1.0, 'penalty': 'l2'}\n",
            "#12 nan (nan) with: {'C': 10.0, 'penalty': 'l1'}\n",
            "#3 0.604181 (0.071294) with: {'C': 10.0, 'penalty': 'l2'}\n",
            "#13 nan (nan) with: {'C': 100.0, 'penalty': 'l1'}\n",
            "#3 0.604181 (0.071294) with: {'C': 100.0, 'penalty': 'l2'}\n",
            "#14 nan (nan) with: {'C': 1000.0, 'penalty': 'l1'}\n",
            "#3 0.604181 (0.071294) with: {'C': 1000.0, 'penalty': 'l2'}\n"
          ]
        }
      ]
    },
    {
      "cell_type": "code",
      "source": [
        "# Grid Search : LDA Algorithm \n",
        "'''\n",
        "n_components : int, opcional (por defecto=Ninguna)\n",
        "Número de componentes para la reducción de la dimensionalidad. Si es Ninguno, se establecerá en min(n_clases - 1, n_características).\n",
        "''' \n",
        "scaler = StandardScaler().fit(X_train)\n",
        "rescaledX = scaler.transform(X_train)\n",
        "components  = [1,3,5,7,9,11,13,15,17,19,600]\n",
        "param_grid = dict(n_components=components)\n",
        "model = LinearDiscriminantAnalysis()\n",
        "kfold = KFold(n_splits=num_folds, random_state=seed, shuffle=True)\n",
        "grid = GridSearchCV(estimator=model, param_grid=param_grid, scoring=scoring, cv=kfold)\n",
        "grid_result = grid.fit(rescaledX, Y_train)\n",
        "\n",
        "# Imprimir los Resultados \n",
        "print(\"Best: %f using %s\" % (grid_result.best_score_, grid_result.best_params_))\n",
        "means = grid_result.cv_results_['mean_test_score']\n",
        "stds = grid_result.cv_results_['std_test_score']\n",
        "params = grid_result.cv_results_['params']\n",
        "ranks = grid_result.cv_results_['rank_test_score']\n",
        "for mean, stdev, param, rank in zip(means, stds, params, ranks):\n",
        "    print(\"#%d %f (%f) with: %r\" % (rank, mean, stdev, param))"
      ],
      "metadata": {
        "colab": {
          "base_uri": "https://localhost:8080/"
        },
        "id": "fB3G3TPzh-HX",
        "outputId": "6efb6d61-5e84-4156-c865-807832a1ad31"
      },
      "execution_count": 32,
      "outputs": [
        {
          "output_type": "stream",
          "name": "stdout",
          "text": [
            "Best: 0.606562 using {'n_components': 1}\n",
            "#1 0.606562 (0.067055) with: {'n_components': 1}\n",
            "#2 nan (nan) with: {'n_components': 3}\n",
            "#3 nan (nan) with: {'n_components': 5}\n",
            "#4 nan (nan) with: {'n_components': 7}\n",
            "#5 nan (nan) with: {'n_components': 9}\n",
            "#6 nan (nan) with: {'n_components': 11}\n",
            "#7 nan (nan) with: {'n_components': 13}\n",
            "#8 nan (nan) with: {'n_components': 15}\n",
            "#9 nan (nan) with: {'n_components': 17}\n",
            "#10 nan (nan) with: {'n_components': 19}\n",
            "#11 nan (nan) with: {'n_components': 600}\n"
          ]
        }
      ]
    },
    {
      "cell_type": "code",
      "source": [
        "# Grid Search KNN algorithm tuning\n",
        "'''\n",
        "n_neighbors : int, opcional (por defecto = 5)\n",
        "    Número de vecinos a utilizar por defecto para las consultas kneighbors.\n",
        "\n",
        "weights : str o callable, opcional (por defecto = 'uniform')\n",
        "    función de peso utilizada en la predicción. Valores posibles: 'uniform', 'distance'\n",
        "\n",
        "''' \n",
        "scaler = StandardScaler().fit(X_train)\n",
        "rescaledX = scaler.transform(X_train)\n",
        "\n",
        "neighbors = [1,3,5,7,9,11,13,15,17,19,21]\n",
        "weights = ['uniform', 'distance']\n",
        "param_grid = dict(n_neighbors=neighbors, weights = weights )\n",
        "model = KNeighborsClassifier()\n",
        "kfold = KFold(n_splits=num_folds, random_state=seed, shuffle=True)\n",
        "grid = GridSearchCV(estimator=model, param_grid=param_grid, scoring=scoring, cv=kfold)\n",
        "grid_result = grid.fit(rescaledX, Y_train)\n",
        "\n",
        "# Imprimir los Resultados\n",
        "print(\"Best: %f using %s\" % (grid_result.best_score_, grid_result.best_params_))\n",
        "means = grid_result.cv_results_['mean_test_score']\n",
        "stds = grid_result.cv_results_['std_test_score']\n",
        "params = grid_result.cv_results_['params']\n",
        "ranks = grid_result.cv_results_['rank_test_score']\n",
        "for mean, stdev, param, rank in zip(means, stds, params, ranks):\n",
        "    print(\"#%d %f (%f) with: %r\" % (rank, mean, stdev, param))"
      ],
      "metadata": {
        "colab": {
          "base_uri": "https://localhost:8080/"
        },
        "id": "yD7Sr2NIiSsX",
        "outputId": "8f09a87a-4b37-4217-b0cd-301eecfb3433"
      },
      "execution_count": 33,
      "outputs": [
        {
          "output_type": "stream",
          "name": "stdout",
          "text": [
            "Best: 0.632927 using {'n_neighbors': 19, 'weights': 'distance'}\n",
            "#21 0.568351 (0.079508) with: {'n_neighbors': 1, 'weights': 'uniform'}\n",
            "#21 0.568351 (0.079508) with: {'n_neighbors': 1, 'weights': 'distance'}\n",
            "#13 0.594541 (0.100938) with: {'n_neighbors': 3, 'weights': 'uniform'}\n",
            "#11 0.594599 (0.092445) with: {'n_neighbors': 3, 'weights': 'distance'}\n",
            "#4 0.611150 (0.072539) with: {'n_neighbors': 5, 'weights': 'uniform'}\n",
            "#7 0.606214 (0.085169) with: {'n_neighbors': 5, 'weights': 'distance'}\n",
            "#11 0.594599 (0.068041) with: {'n_neighbors': 7, 'weights': 'uniform'}\n",
            "#4 0.611150 (0.072924) with: {'n_neighbors': 7, 'weights': 'distance'}\n",
            "#20 0.570674 (0.073861) with: {'n_neighbors': 9, 'weights': 'uniform'}\n",
            "#17 0.587340 (0.069366) with: {'n_neighbors': 9, 'weights': 'distance'}\n",
            "#16 0.589895 (0.071692) with: {'n_neighbors': 11, 'weights': 'uniform'}\n",
            "#10 0.601858 (0.080843) with: {'n_neighbors': 11, 'weights': 'distance'}\n",
            "#19 0.585017 (0.078795) with: {'n_neighbors': 13, 'weights': 'uniform'}\n",
            "#14 0.592276 (0.083538) with: {'n_neighbors': 13, 'weights': 'distance'}\n",
            "#18 0.585134 (0.086943) with: {'n_neighbors': 15, 'weights': 'uniform'}\n",
            "#15 0.590128 (0.089495) with: {'n_neighbors': 15, 'weights': 'distance'}\n",
            "#6 0.608943 (0.084666) with: {'n_neighbors': 17, 'weights': 'uniform'}\n",
            "#8 0.604355 (0.073503) with: {'n_neighbors': 17, 'weights': 'distance'}\n",
            "#2 0.618409 (0.090816) with: {'n_neighbors': 19, 'weights': 'uniform'}\n",
            "#1 0.632927 (0.078864) with: {'n_neighbors': 19, 'weights': 'distance'}\n",
            "#9 0.604007 (0.090224) with: {'n_neighbors': 21, 'weights': 'uniform'}\n",
            "#3 0.611382 (0.083928) with: {'n_neighbors': 21, 'weights': 'distance'}\n"
          ]
        }
      ]
    },
    {
      "cell_type": "code",
      "source": [
        "# Grid Search : CART Algorithm \n",
        "'''\n",
        "max_depth : int o None, opcional (por defecto=None)\n",
        "    La profundidad máxima del árbol. Si es None, los nodos se expanden hasta que todas las hojas sean puras \n",
        "    o hasta que todas las hojas contengan menos muestras que min_samples_split.\n",
        "\n",
        "''' \n",
        "scaler = StandardScaler().fit(X_train)\n",
        "rescaledX = scaler.transform(X_train)\n",
        "max_depth = np.arange(2, 30)\n",
        "param_grid = dict(max_depth=max_depth)\n",
        "model = DecisionTreeClassifier()\n",
        "kfold = KFold(n_splits=num_folds, random_state=seed, shuffle=True)\n",
        "grid = GridSearchCV(estimator=model, param_grid=param_grid, scoring=scoring, cv=kfold)\n",
        "grid_result = grid.fit(rescaledX, Y_train)\n",
        "#Print Results\n",
        "print(\"Best: %f using %s\" % (grid_result.best_score_, grid_result.best_params_))\n",
        "means = grid_result.cv_results_['mean_test_score']\n",
        "stds = grid_result.cv_results_['std_test_score']\n",
        "params = grid_result.cv_results_['params']\n",
        "ranks = grid_result.cv_results_['rank_test_score']\n",
        "for mean, stdev, param, rank in zip(means, stds, params, ranks):\n",
        "    print(\"#%d %f (%f) with: %r\" % (rank, mean, stdev, param))"
      ],
      "metadata": {
        "colab": {
          "base_uri": "https://localhost:8080/"
        },
        "id": "kRfN6yy9ix4d",
        "outputId": "bcfdb585-15f1-444c-806d-86f7f20b0e67"
      },
      "execution_count": 34,
      "outputs": [
        {
          "output_type": "stream",
          "name": "stdout",
          "text": [
            "Best: 0.614111 using {'max_depth': 9}\n",
            "#8 0.599419 (0.047852) with: {'max_depth': 2}\n",
            "#5 0.606736 (0.053753) with: {'max_depth': 3}\n",
            "#9 0.592218 (0.050024) with: {'max_depth': 4}\n",
            "#2 0.613879 (0.043501) with: {'max_depth': 5}\n",
            "#6 0.604355 (0.051254) with: {'max_depth': 6}\n",
            "#3 0.611672 (0.064612) with: {'max_depth': 7}\n",
            "#4 0.609292 (0.057156) with: {'max_depth': 8}\n",
            "#1 0.614111 (0.079224) with: {'max_depth': 9}\n",
            "#7 0.602149 (0.056074) with: {'max_depth': 10}\n",
            "#13 0.578165 (0.047064) with: {'max_depth': 11}\n",
            "#11 0.582927 (0.048527) with: {'max_depth': 12}\n",
            "#12 0.580430 (0.052941) with: {'max_depth': 13}\n",
            "#15 0.575494 (0.050413) with: {'max_depth': 14}\n",
            "#14 0.575552 (0.059743) with: {'max_depth': 15}\n",
            "#17 0.573171 (0.075778) with: {'max_depth': 16}\n",
            "#19 0.570790 (0.085329) with: {'max_depth': 17}\n",
            "#10 0.587573 (0.077459) with: {'max_depth': 18}\n",
            "#18 0.570906 (0.075977) with: {'max_depth': 19}\n",
            "#26 0.556504 (0.066464) with: {'max_depth': 20}\n",
            "#27 0.554239 (0.062196) with: {'max_depth': 21}\n",
            "#21 0.566028 (0.071048) with: {'max_depth': 22}\n",
            "#23 0.561208 (0.072236) with: {'max_depth': 23}\n",
            "#22 0.561266 (0.086020) with: {'max_depth': 24}\n",
            "#28 0.549187 (0.054287) with: {'max_depth': 25}\n",
            "#24 0.558827 (0.071980) with: {'max_depth': 26}\n",
            "#16 0.573345 (0.062151) with: {'max_depth': 27}\n",
            "#20 0.566144 (0.068745) with: {'max_depth': 28}\n",
            "#25 0.556562 (0.075744) with: {'max_depth': 29}\n"
          ]
        }
      ]
    },
    {
      "cell_type": "code",
      "source": [
        "# Grid Search: SVM algorithm tuning\n",
        "'''\n",
        "C : float, opcional (por defecto=1,0)\n",
        "Parámetro de penalización C del término de error.\n",
        "\n",
        "kernel : str, opcional (por defecto='rbf')\n",
        "Especifica el tipo de núcleo que se utilizará en el algoritmo. \n",
        "Debe ser uno de los siguientes: 'lineal', 'poly', 'rbf', 'sigmoide', 'precomputed' o un callable. \n",
        "Los parámetros de SVM son C y kernel. \n",
        "Pruebe un número de núcleos con varios valores de C con menos sesgo y más sesgo (menor y mayor que 1,0 respectivamente\n",
        "''' \n",
        "scaler = StandardScaler().fit(X_train)\n",
        "rescaledX = scaler.transform(X_train)\n",
        "c_values = [0.1, 0.3, 0.5, 0.7, 0.9, 1.0, 1.3, 1.5]\n",
        "kernel_values = ['linear', 'poly', 'rbf']\n",
        "param_grid = dict(C=c_values, kernel=kernel_values)\n",
        "model = SVC()\n",
        "kfold = KFold(n_splits=num_folds, random_state=seed, shuffle=True)\n",
        "grid = GridSearchCV(estimator=model, param_grid=param_grid, scoring=scoring, cv=kfold)\n",
        "grid_result = grid.fit(rescaledX, Y_train)\n",
        "\n",
        "# Imprimir los Resultados\n",
        "print(\"Best: %f using %s\" % (grid_result.best_score_, grid_result.best_params_))\n",
        "means = grid_result.cv_results_['mean_test_score']\n",
        "stds = grid_result.cv_results_['std_test_score']\n",
        "params = grid_result.cv_results_['params']\n",
        "ranks = grid_result.cv_results_['rank_test_score']\n",
        "for mean, stdev, param, rank in zip(means, stds, params, ranks):\n",
        "    print(\"#%d %f (%f) with: %r\" % (rank, mean, stdev, param))"
      ],
      "metadata": {
        "colab": {
          "base_uri": "https://localhost:8080/"
        },
        "id": "KI34T66Ejk9y",
        "outputId": "b26d3e84-5d68-4391-dbd1-603ed2b0f5c0"
      },
      "execution_count": 36,
      "outputs": [
        {
          "output_type": "stream",
          "name": "stdout",
          "text": [
            "Best: 0.649535 using {'C': 0.7, 'kernel': 'rbf'}\n",
            "#8 0.616376 (0.071503) with: {'C': 0.1, 'kernel': 'linear'}\n",
            "#23 0.592218 (0.053105) with: {'C': 0.1, 'kernel': 'poly'}\n",
            "#24 0.570790 (0.051268) with: {'C': 0.1, 'kernel': 'rbf'}\n",
            "#18 0.601974 (0.065673) with: {'C': 0.3, 'kernel': 'linear'}\n",
            "#19 0.601800 (0.066896) with: {'C': 0.3, 'kernel': 'poly'}\n",
            "#7 0.625552 (0.089579) with: {'C': 0.3, 'kernel': 'rbf'}\n",
            "#11 0.604413 (0.069859) with: {'C': 0.5, 'kernel': 'linear'}\n",
            "#22 0.601510 (0.087348) with: {'C': 0.5, 'kernel': 'poly'}\n",
            "#6 0.637631 (0.084031) with: {'C': 0.5, 'kernel': 'rbf'}\n",
            "#11 0.604413 (0.069859) with: {'C': 0.7, 'kernel': 'linear'}\n",
            "#10 0.606330 (0.089217) with: {'C': 0.7, 'kernel': 'poly'}\n",
            "#1 0.649535 (0.090117) with: {'C': 0.7, 'kernel': 'rbf'}\n",
            "#11 0.604413 (0.069859) with: {'C': 0.9, 'kernel': 'linear'}\n",
            "#9 0.613531 (0.085245) with: {'C': 0.9, 'kernel': 'poly'}\n",
            "#5 0.640070 (0.088256) with: {'C': 0.9, 'kernel': 'rbf'}\n",
            "#11 0.604413 (0.069859) with: {'C': 1.0, 'kernel': 'linear'}\n",
            "#21 0.601568 (0.077949) with: {'C': 1.0, 'kernel': 'poly'}\n",
            "#2 0.642509 (0.090392) with: {'C': 1.0, 'kernel': 'rbf'}\n",
            "#16 0.601974 (0.068336) with: {'C': 1.3, 'kernel': 'linear'}\n",
            "#20 0.601626 (0.063788) with: {'C': 1.3, 'kernel': 'poly'}\n",
            "#3 0.642451 (0.089890) with: {'C': 1.3, 'kernel': 'rbf'}\n",
            "#16 0.601974 (0.068336) with: {'C': 1.5, 'kernel': 'linear'}\n",
            "#15 0.604065 (0.058722) with: {'C': 1.5, 'kernel': 'poly'}\n",
            "#3 0.642451 (0.086680) with: {'C': 1.5, 'kernel': 'rbf'}\n"
          ]
        }
      ]
    },
    {
      "cell_type": "code",
      "source": [
        "# Grid Search: Ada boost Algorithm Tuning \n",
        "'''\n",
        "n_estimators : entero, opcional (por defecto=50)\n",
        "    El número máximo de estimadores en el que se termina el proceso de refuerzo. \n",
        "    En caso de ajuste perfecto, el procedimiento de aprendizaje se detiene antes.\n",
        "''' \n",
        "scaler = StandardScaler().fit(X_train)\n",
        "rescaledX = scaler.transform(X_train)\n",
        "n_estimators = [10, 30, 50, 70, 100, 120]\n",
        "param_grid = dict(n_estimators=n_estimators)\n",
        "model = AdaBoostClassifier()\n",
        "kfold = KFold(n_splits=num_folds, random_state=seed, shuffle=True)\n",
        "grid = GridSearchCV(estimator=model, param_grid=param_grid, scoring=scoring, cv=kfold)\n",
        "grid_result = grid.fit(rescaledX, Y_train)\n",
        "\n",
        "# Imprimir los Resultados\n",
        "print(\"Best: %f using %s\" % (grid_result.best_score_, grid_result.best_params_))\n",
        "means = grid_result.cv_results_['mean_test_score']\n",
        "stds = grid_result.cv_results_['std_test_score']\n",
        "params = grid_result.cv_results_['params']\n",
        "ranks = grid_result.cv_results_['rank_test_score']\n",
        "for mean, stdev, param, rank in zip(means, stds, params, ranks):\n",
        "    print(\"#%d %f (%f) with: %r\" % (rank, mean, stdev, param))"
      ],
      "metadata": {
        "colab": {
          "base_uri": "https://localhost:8080/"
        },
        "id": "baP1SBNMkDIq",
        "outputId": "8d52be18-b7b1-41a6-8bed-9cc0cfa2540f"
      },
      "execution_count": 37,
      "outputs": [
        {
          "output_type": "stream",
          "name": "stdout",
          "text": [
            "Best: 0.633333 using {'n_estimators': 30}\n",
            "#2 0.621080 (0.055343) with: {'n_estimators': 10}\n",
            "#1 0.633333 (0.083419) with: {'n_estimators': 30}\n",
            "#2 0.621080 (0.094101) with: {'n_estimators': 50}\n",
            "#4 0.604297 (0.090798) with: {'n_estimators': 70}\n",
            "#5 0.589895 (0.077183) with: {'n_estimators': 100}\n",
            "#6 0.589779 (0.068374) with: {'n_estimators': 120}\n"
          ]
        }
      ]
    },
    {
      "cell_type": "code",
      "source": [
        "# Grid Search: GradientBoosting Tuning\n",
        "'''\n",
        "n_estimators : int (por defecto=100)\n",
        "    El número de etapas de refuerzo a realizar. \n",
        "    El refuerzo de gradiente es bastante robusto al sobreajuste, por lo que un número grande suele dar lugar a un mejor rendimiento.\n",
        "max_depth : entero, opcional (por defecto=3)\n",
        "    profundidad máxima de los estimadores de regresión individuales. \n",
        "    La profundidad máxima limita el número de nodos en el árbol. \n",
        "    Ajuste este parámetro para obtener el mejor rendimiento; el mejor valor depende de la interacción de las variables de entrada.\n",
        "\n",
        "''' \n",
        "scaler = StandardScaler().fit(X_train)\n",
        "rescaledX = scaler.transform(X_train)\n",
        "n_estimators = [20,30,50,70,100,130,180]\n",
        "max_depth= [3,5,6,7,8]\n",
        "param_grid = dict(n_estimators=n_estimators, max_depth=max_depth)\n",
        "model = GradientBoostingClassifier()\n",
        "kfold = KFold(n_splits=num_folds, random_state=seed, shuffle=True)\n",
        "grid = GridSearchCV(estimator=model, param_grid=param_grid, scoring=scoring, cv=kfold)\n",
        "grid_result = grid.fit(rescaledX, Y_train)\n",
        "\n",
        "# Imprimir los Resultados\n",
        "print(\"Best: %f using %s\" % (grid_result.best_score_, grid_result.best_params_))\n",
        "means = grid_result.cv_results_['mean_test_score']\n",
        "stds = grid_result.cv_results_['std_test_score']\n",
        "params = grid_result.cv_results_['params']\n",
        "ranks = grid_result.cv_results_['rank_test_score']\n",
        "for mean, stdev, param, rank in zip(means, stds, params, ranks):\n",
        "    print(\"#%d %f (%f) with: %r\" % (rank, mean, stdev, param))"
      ],
      "metadata": {
        "colab": {
          "base_uri": "https://localhost:8080/"
        },
        "id": "1VlouJKbkXrN",
        "outputId": "ec136e34-c1df-47dc-f693-07c0c457e0c8"
      },
      "execution_count": 38,
      "outputs": [
        {
          "output_type": "stream",
          "name": "stdout",
          "text": [
            "Best: 0.640360 using {'max_depth': 3, 'n_estimators': 180}\n",
            "#26 0.606678 (0.051169) with: {'max_depth': 3, 'n_estimators': 20}\n",
            "#27 0.604413 (0.045123) with: {'max_depth': 3, 'n_estimators': 30}\n",
            "#28 0.604239 (0.061750) with: {'max_depth': 3, 'n_estimators': 50}\n",
            "#16 0.618583 (0.051722) with: {'max_depth': 3, 'n_estimators': 70}\n",
            "#18 0.616318 (0.039960) with: {'max_depth': 3, 'n_estimators': 100}\n",
            "#9 0.630604 (0.042816) with: {'max_depth': 3, 'n_estimators': 130}\n",
            "#1 0.640360 (0.040746) with: {'max_depth': 3, 'n_estimators': 180}\n",
            "#15 0.618641 (0.038060) with: {'max_depth': 5, 'n_estimators': 20}\n",
            "#4 0.637979 (0.038520) with: {'max_depth': 5, 'n_estimators': 30}\n",
            "#14 0.621196 (0.032402) with: {'max_depth': 5, 'n_estimators': 50}\n",
            "#10 0.625842 (0.040747) with: {'max_depth': 5, 'n_estimators': 70}\n",
            "#17 0.616551 (0.043246) with: {'max_depth': 5, 'n_estimators': 100}\n",
            "#12 0.621429 (0.052268) with: {'max_depth': 5, 'n_estimators': 130}\n",
            "#13 0.621254 (0.057663) with: {'max_depth': 5, 'n_estimators': 180}\n",
            "#31 0.601800 (0.041680) with: {'max_depth': 6, 'n_estimators': 20}\n",
            "#21 0.613937 (0.044315) with: {'max_depth': 6, 'n_estimators': 30}\n",
            "#7 0.630720 (0.044347) with: {'max_depth': 6, 'n_estimators': 50}\n",
            "#3 0.640244 (0.043234) with: {'max_depth': 6, 'n_estimators': 70}\n",
            "#1 0.640360 (0.036487) with: {'max_depth': 6, 'n_estimators': 100}\n",
            "#11 0.625784 (0.043744) with: {'max_depth': 6, 'n_estimators': 130}\n",
            "#5 0.635540 (0.033035) with: {'max_depth': 6, 'n_estimators': 180}\n",
            "#30 0.601974 (0.058755) with: {'max_depth': 7, 'n_estimators': 20}\n",
            "#24 0.606969 (0.063290) with: {'max_depth': 7, 'n_estimators': 30}\n",
            "#25 0.606736 (0.074095) with: {'max_depth': 7, 'n_estimators': 50}\n",
            "#34 0.599361 (0.080491) with: {'max_depth': 7, 'n_estimators': 70}\n",
            "#20 0.614111 (0.065511) with: {'max_depth': 7, 'n_estimators': 100}\n",
            "#22 0.611731 (0.055476) with: {'max_depth': 7, 'n_estimators': 130}\n",
            "#23 0.606969 (0.051048) with: {'max_depth': 7, 'n_estimators': 180}\n",
            "#33 0.599535 (0.049526) with: {'max_depth': 8, 'n_estimators': 20}\n",
            "#35 0.587573 (0.061664) with: {'max_depth': 8, 'n_estimators': 30}\n",
            "#19 0.616202 (0.050654) with: {'max_depth': 8, 'n_estimators': 50}\n",
            "#32 0.601800 (0.044191) with: {'max_depth': 8, 'n_estimators': 70}\n",
            "#28 0.604239 (0.055418) with: {'max_depth': 8, 'n_estimators': 100}\n",
            "#6 0.633159 (0.044821) with: {'max_depth': 8, 'n_estimators': 130}\n",
            "#7 0.630720 (0.054126) with: {'max_depth': 8, 'n_estimators': 180}\n"
          ]
        }
      ]
    },
    {
      "cell_type": "code",
      "source": [
        "# Grid Search: Random Forest Classifier\n",
        "'''\n",
        "n_estimators : int (por defecto=100)\n",
        "    El número de etapas de refuerzo a realizar. \n",
        "    El refuerzo de gradiente es bastante robusto al sobreajuste, por lo que un número grande suele dar lugar a un mejor rendimiento.\n",
        "max_depth : entero, opcional (por defecto=3)\n",
        "    profundidad máxima de los estimadores de regresión individuales. \n",
        "    La profundidad máxima limita el número de nodos del árbol. \n",
        "    Ajuste este parámetro para obtener el mejor rendimiento; el mejor valor depende de la interacción de las variables de entrada    \n",
        "criterion : str, opcional (por defecto=\"gini\")\n",
        "    La función para medir la calidad de una división. \n",
        "    Los criterios admitidos son \"gini\" para la impureza de Gini y \"entropía\" para la ganancia de información. \n",
        "    \n",
        "'''   \n",
        "scaler = StandardScaler().fit(X_train)\n",
        "rescaledX = scaler.transform(X_train)\n",
        "n_estimators = [20,30,50,80,100]\n",
        "max_depth= [5,10,15,20,25]\n",
        "criterion = [\"gini\",\"entropy\"]\n",
        "param_grid = dict(n_estimators=n_estimators, max_depth=max_depth, criterion = criterion )\n",
        "model = RandomForestClassifier()\n",
        "kfold = KFold(n_splits=num_folds, random_state=seed,shuffle=True)\n",
        "grid = GridSearchCV(estimator=model, param_grid=param_grid, scoring=scoring, cv=kfold)\n",
        "grid_result = grid.fit(rescaledX, Y_train)\n",
        "\n",
        "# Imprimir los Resultados\n",
        "print(\"Best: %f using %s\" % (grid_result.best_score_, grid_result.best_params_))\n",
        "means = grid_result.cv_results_['mean_test_score']\n",
        "stds = grid_result.cv_results_['std_test_score']\n",
        "params = grid_result.cv_results_['params']\n",
        "ranks = grid_result.cv_results_['rank_test_score']\n",
        "for mean, stdev, param, rank in zip(means, stds, params, ranks):\n",
        "    print(\"#%d %f (%f) with: %r\" % (rank, mean, stdev, param))"
      ],
      "metadata": {
        "colab": {
          "base_uri": "https://localhost:8080/"
        },
        "id": "RHNtC7phlfAf",
        "outputId": "f7e4e55c-5704-453b-df10-f648dc2cca75"
      },
      "execution_count": 39,
      "outputs": [
        {
          "output_type": "stream",
          "name": "stdout",
          "text": [
            "Best: 0.649652 using {'criterion': 'gini', 'max_depth': 15, 'n_estimators': 50}\n",
            "#42 0.601626 (0.080832) with: {'criterion': 'gini', 'max_depth': 5, 'n_estimators': 20}\n",
            "#43 0.599303 (0.085137) with: {'criterion': 'gini', 'max_depth': 5, 'n_estimators': 30}\n",
            "#13 0.628049 (0.076371) with: {'criterion': 'gini', 'max_depth': 5, 'n_estimators': 50}\n",
            "#29 0.611266 (0.079486) with: {'criterion': 'gini', 'max_depth': 5, 'n_estimators': 80}\n",
            "#39 0.601858 (0.069865) with: {'criterion': 'gini', 'max_depth': 5, 'n_estimators': 100}\n",
            "#30 0.611092 (0.070411) with: {'criterion': 'gini', 'max_depth': 10, 'n_estimators': 20}\n",
            "#34 0.608943 (0.080835) with: {'criterion': 'gini', 'max_depth': 10, 'n_estimators': 30}\n",
            "#33 0.609001 (0.054790) with: {'criterion': 'gini', 'max_depth': 10, 'n_estimators': 50}\n",
            "#23 0.620674 (0.083355) with: {'criterion': 'gini', 'max_depth': 10, 'n_estimators': 80}\n",
            "#2 0.642625 (0.073948) with: {'criterion': 'gini', 'max_depth': 10, 'n_estimators': 100}\n",
            "#26 0.616144 (0.090213) with: {'criterion': 'gini', 'max_depth': 15, 'n_estimators': 20}\n",
            "#45 0.596980 (0.072151) with: {'criterion': 'gini', 'max_depth': 15, 'n_estimators': 30}\n",
            "#1 0.649652 (0.095098) with: {'criterion': 'gini', 'max_depth': 15, 'n_estimators': 50}\n",
            "#19 0.621022 (0.086056) with: {'criterion': 'gini', 'max_depth': 15, 'n_estimators': 80}\n",
            "#27 0.616028 (0.069153) with: {'criterion': 'gini', 'max_depth': 15, 'n_estimators': 100}\n",
            "#10 0.628455 (0.081272) with: {'criterion': 'gini', 'max_depth': 20, 'n_estimators': 20}\n",
            "#32 0.609001 (0.061880) with: {'criterion': 'gini', 'max_depth': 20, 'n_estimators': 30}\n",
            "#11 0.628281 (0.057552) with: {'criterion': 'gini', 'max_depth': 20, 'n_estimators': 50}\n",
            "#40 0.601858 (0.069049) with: {'criterion': 'gini', 'max_depth': 20, 'n_estimators': 80}\n",
            "#36 0.606388 (0.083191) with: {'criterion': 'gini', 'max_depth': 20, 'n_estimators': 100}\n",
            "#50 0.582520 (0.052671) with: {'criterion': 'gini', 'max_depth': 25, 'n_estimators': 20}\n",
            "#46 0.592509 (0.057572) with: {'criterion': 'gini', 'max_depth': 25, 'n_estimators': 30}\n",
            "#31 0.609059 (0.085488) with: {'criterion': 'gini', 'max_depth': 25, 'n_estimators': 50}\n",
            "#37 0.604239 (0.077609) with: {'criterion': 'gini', 'max_depth': 25, 'n_estimators': 80}\n",
            "#47 0.592102 (0.081024) with: {'criterion': 'gini', 'max_depth': 25, 'n_estimators': 100}\n",
            "#22 0.620790 (0.053709) with: {'criterion': 'entropy', 'max_depth': 5, 'n_estimators': 20}\n",
            "#9 0.630488 (0.086620) with: {'criterion': 'entropy', 'max_depth': 5, 'n_estimators': 30}\n",
            "#4 0.635482 (0.066205) with: {'criterion': 'entropy', 'max_depth': 5, 'n_estimators': 50}\n",
            "#41 0.601742 (0.071839) with: {'criterion': 'entropy', 'max_depth': 5, 'n_estimators': 80}\n",
            "#20 0.620848 (0.075146) with: {'criterion': 'entropy', 'max_depth': 5, 'n_estimators': 100}\n",
            "#44 0.599245 (0.059816) with: {'criterion': 'entropy', 'max_depth': 10, 'n_estimators': 20}\n",
            "#15 0.625784 (0.078693) with: {'criterion': 'entropy', 'max_depth': 10, 'n_estimators': 30}\n",
            "#16 0.625610 (0.078075) with: {'criterion': 'entropy', 'max_depth': 10, 'n_estimators': 50}\n",
            "#12 0.628223 (0.055017) with: {'criterion': 'entropy', 'max_depth': 10, 'n_estimators': 80}\n",
            "#20 0.620848 (0.083920) with: {'criterion': 'entropy', 'max_depth': 10, 'n_estimators': 100}\n",
            "#6 0.632927 (0.107983) with: {'criterion': 'entropy', 'max_depth': 15, 'n_estimators': 20}\n",
            "#5 0.635134 (0.070994) with: {'criterion': 'entropy', 'max_depth': 15, 'n_estimators': 30}\n",
            "#38 0.603949 (0.069600) with: {'criterion': 'entropy', 'max_depth': 15, 'n_estimators': 50}\n",
            "#14 0.625900 (0.059523) with: {'criterion': 'entropy', 'max_depth': 15, 'n_estimators': 80}\n",
            "#17 0.623519 (0.089486) with: {'criterion': 'entropy', 'max_depth': 15, 'n_estimators': 100}\n",
            "#49 0.589721 (0.074675) with: {'criterion': 'entropy', 'max_depth': 20, 'n_estimators': 20}\n",
            "#48 0.591986 (0.085178) with: {'criterion': 'entropy', 'max_depth': 20, 'n_estimators': 30}\n",
            "#34 0.608943 (0.080305) with: {'criterion': 'entropy', 'max_depth': 20, 'n_estimators': 50}\n",
            "#7 0.632927 (0.079077) with: {'criterion': 'entropy', 'max_depth': 20, 'n_estimators': 80}\n",
            "#18 0.623229 (0.078884) with: {'criterion': 'entropy', 'max_depth': 20, 'n_estimators': 100}\n",
            "#24 0.619106 (0.074196) with: {'criterion': 'entropy', 'max_depth': 25, 'n_estimators': 20}\n",
            "#25 0.616260 (0.071585) with: {'criterion': 'entropy', 'max_depth': 25, 'n_estimators': 30}\n",
            "#3 0.637689 (0.070786) with: {'criterion': 'entropy', 'max_depth': 25, 'n_estimators': 50}\n",
            "#8 0.630604 (0.067143) with: {'criterion': 'entropy', 'max_depth': 25, 'n_estimators': 80}\n",
            "#28 0.611266 (0.076945) with: {'criterion': 'entropy', 'max_depth': 25, 'n_estimators': 100}\n"
          ]
        }
      ]
    },
    {
      "cell_type": "code",
      "source": [
        "# Grid Search: ExtraTreesClassifier()\n",
        "'''\n",
        "n_estimators : int (por defecto=100)\n",
        "    El número de etapas de refuerzo a realizar. \n",
        "    El refuerzo de gradiente es bastante robusto al sobreajuste, por lo que un número grande suele dar lugar a un mejor rendimiento.\n",
        "max_depth : entero, opcional (por defecto=3)\n",
        "    profundidad máxima de los estimadores de regresión individuales. \n",
        "    La profundidad máxima limita el número de nodos del árbol. \n",
        "    Ajuste este parámetro para obtener el mejor rendimiento; el mejor valor depende de la interacción de las variables de entrada    \n",
        "criterion : str, opcional (por defecto=\"gini\")\n",
        "    La función para medir la calidad de una división. \n",
        "    Los criterios admitidos son \"gini\" para la impureza de Gini y \"entropía\" para la ganancia de información. \n",
        "'''   \n",
        "scaler = StandardScaler().fit(X_train)\n",
        "rescaledX = scaler.transform(X_train)\n",
        "n_estimators = [20,30,50,80,100]\n",
        "max_depth= [5,10,15,20,25]\n",
        "criterion = [\"gini\",\"entropy\"]\n",
        "param_grid = dict(n_estimators=n_estimators, max_depth=max_depth, criterion = criterion )\n",
        "model = ExtraTreesClassifier()\n",
        "kfold = KFold(n_splits=num_folds, random_state=seed, shuffle=True)\n",
        "grid = GridSearchCV(estimator=model, param_grid=param_grid, scoring=scoring, cv=kfold)\n",
        "grid_result = grid.fit(rescaledX, Y_train)\n",
        "\n",
        "# Imprimir los Resultados\n",
        "print(\"Best: %f using %s\" % (grid_result.best_score_, grid_result.best_params_))\n",
        "means = grid_result.cv_results_['mean_test_score']\n",
        "stds = grid_result.cv_results_['std_test_score']\n",
        "params = grid_result.cv_results_['params']\n",
        "ranks = grid_result.cv_results_['rank_test_score']\n",
        "for mean, stdev, param, rank in zip(means, stds, params, ranks):\n",
        "    print(\"#%d %f (%f) with: %r\" % (rank, mean, stdev, param))"
      ],
      "metadata": {
        "colab": {
          "base_uri": "https://localhost:8080/"
        },
        "id": "wYH-1coKmpr8",
        "outputId": "bb8eabdb-9811-4b11-bff7-781a44d6215d"
      },
      "execution_count": 40,
      "outputs": [
        {
          "output_type": "stream",
          "name": "stdout",
          "text": [
            "Best: 0.635134 using {'criterion': 'entropy', 'max_depth': 5, 'n_estimators': 20}\n",
            "#22 0.604181 (0.074444) with: {'criterion': 'gini', 'max_depth': 5, 'n_estimators': 20}\n",
            "#5 0.620790 (0.076955) with: {'criterion': 'gini', 'max_depth': 5, 'n_estimators': 30}\n",
            "#17 0.606388 (0.077032) with: {'criterion': 'gini', 'max_depth': 5, 'n_estimators': 50}\n",
            "#11 0.611266 (0.074590) with: {'criterion': 'gini', 'max_depth': 5, 'n_estimators': 80}\n",
            "#3 0.625610 (0.070192) with: {'criterion': 'gini', 'max_depth': 5, 'n_estimators': 100}\n",
            "#44 0.587398 (0.064507) with: {'criterion': 'gini', 'max_depth': 10, 'n_estimators': 20}\n",
            "#20 0.604297 (0.086544) with: {'criterion': 'gini', 'max_depth': 10, 'n_estimators': 30}\n",
            "#22 0.604181 (0.064761) with: {'criterion': 'gini', 'max_depth': 10, 'n_estimators': 50}\n",
            "#30 0.599419 (0.077508) with: {'criterion': 'gini', 'max_depth': 10, 'n_estimators': 80}\n",
            "#42 0.589895 (0.066401) with: {'criterion': 'gini', 'max_depth': 10, 'n_estimators': 100}\n",
            "#40 0.592276 (0.069919) with: {'criterion': 'gini', 'max_depth': 15, 'n_estimators': 20}\n",
            "#21 0.604239 (0.077248) with: {'criterion': 'gini', 'max_depth': 15, 'n_estimators': 30}\n",
            "#28 0.601684 (0.070779) with: {'criterion': 'gini', 'max_depth': 15, 'n_estimators': 50}\n",
            "#29 0.599535 (0.084369) with: {'criterion': 'gini', 'max_depth': 15, 'n_estimators': 80}\n",
            "#32 0.599361 (0.084338) with: {'criterion': 'gini', 'max_depth': 15, 'n_estimators': 100}\n",
            "#47 0.582753 (0.082627) with: {'criterion': 'gini', 'max_depth': 20, 'n_estimators': 20}\n",
            "#37 0.594657 (0.083257) with: {'criterion': 'gini', 'max_depth': 20, 'n_estimators': 30}\n",
            "#24 0.604123 (0.074229) with: {'criterion': 'gini', 'max_depth': 20, 'n_estimators': 50}\n",
            "#27 0.601742 (0.066000) with: {'criterion': 'gini', 'max_depth': 20, 'n_estimators': 80}\n",
            "#14 0.609001 (0.069559) with: {'criterion': 'gini', 'max_depth': 20, 'n_estimators': 100}\n",
            "#41 0.592160 (0.068609) with: {'criterion': 'gini', 'max_depth': 25, 'n_estimators': 20}\n",
            "#48 0.582636 (0.074340) with: {'criterion': 'gini', 'max_depth': 25, 'n_estimators': 30}\n",
            "#36 0.596806 (0.070895) with: {'criterion': 'gini', 'max_depth': 25, 'n_estimators': 50}\n",
            "#31 0.599361 (0.076707) with: {'criterion': 'gini', 'max_depth': 25, 'n_estimators': 80}\n",
            "#19 0.604355 (0.076827) with: {'criterion': 'gini', 'max_depth': 25, 'n_estimators': 100}\n",
            "#1 0.635134 (0.083195) with: {'criterion': 'entropy', 'max_depth': 5, 'n_estimators': 20}\n",
            "#17 0.606388 (0.075174) with: {'criterion': 'entropy', 'max_depth': 5, 'n_estimators': 30}\n",
            "#4 0.621022 (0.056476) with: {'criterion': 'entropy', 'max_depth': 5, 'n_estimators': 50}\n",
            "#8 0.616028 (0.078661) with: {'criterion': 'entropy', 'max_depth': 5, 'n_estimators': 80}\n",
            "#9 0.613531 (0.079669) with: {'criterion': 'entropy', 'max_depth': 5, 'n_estimators': 100}\n",
            "#16 0.606562 (0.085350) with: {'criterion': 'entropy', 'max_depth': 10, 'n_estimators': 20}\n",
            "#25 0.602033 (0.086069) with: {'criterion': 'entropy', 'max_depth': 10, 'n_estimators': 30}\n",
            "#46 0.585192 (0.076077) with: {'criterion': 'entropy', 'max_depth': 10, 'n_estimators': 50}\n",
            "#45 0.587282 (0.063296) with: {'criterion': 'entropy', 'max_depth': 10, 'n_estimators': 80}\n",
            "#50 0.573055 (0.067515) with: {'criterion': 'entropy', 'max_depth': 10, 'n_estimators': 100}\n",
            "#12 0.609175 (0.068579) with: {'criterion': 'entropy', 'max_depth': 15, 'n_estimators': 20}\n",
            "#10 0.611324 (0.090359) with: {'criterion': 'entropy', 'max_depth': 15, 'n_estimators': 30}\n",
            "#13 0.609117 (0.077694) with: {'criterion': 'entropy', 'max_depth': 15, 'n_estimators': 50}\n",
            "#33 0.597213 (0.079725) with: {'criterion': 'entropy', 'max_depth': 15, 'n_estimators': 80}\n",
            "#6 0.616434 (0.066227) with: {'criterion': 'entropy', 'max_depth': 15, 'n_estimators': 100}\n",
            "#43 0.587689 (0.071232) with: {'criterion': 'entropy', 'max_depth': 20, 'n_estimators': 20}\n",
            "#39 0.592334 (0.071010) with: {'criterion': 'entropy', 'max_depth': 20, 'n_estimators': 30}\n",
            "#7 0.616144 (0.068254) with: {'criterion': 'entropy', 'max_depth': 20, 'n_estimators': 50}\n",
            "#2 0.628165 (0.066440) with: {'criterion': 'entropy', 'max_depth': 20, 'n_estimators': 80}\n",
            "#15 0.606852 (0.072184) with: {'criterion': 'entropy', 'max_depth': 20, 'n_estimators': 100}\n",
            "#35 0.596864 (0.054064) with: {'criterion': 'entropy', 'max_depth': 25, 'n_estimators': 20}\n",
            "#49 0.580197 (0.083767) with: {'criterion': 'entropy', 'max_depth': 25, 'n_estimators': 30}\n",
            "#38 0.592334 (0.049922) with: {'criterion': 'entropy', 'max_depth': 25, 'n_estimators': 50}\n",
            "#25 0.602033 (0.077367) with: {'criterion': 'entropy', 'max_depth': 25, 'n_estimators': 80}\n",
            "#34 0.597096 (0.078692) with: {'criterion': 'entropy', 'max_depth': 25, 'n_estimators': 100}\n"
          ]
        }
      ]
    },
    {
      "cell_type": "code",
      "source": [
        "# Grid Search : NN algorithm tuning\n",
        "'''\n",
        "hidden_layer_sizes : tupla, longitud = n_capas - 2, por defecto (100,)\n",
        "    El ith elemento representa el número de neuronas en la ith capa oculta.\n",
        "Otros parámetros que se pueden ajustar\n",
        "    learning_rate_init : doble, opcional, por defecto 0.001\n",
        "        La tasa de aprendizaje inicial utilizada. Controla el tamaño del paso en la actualización de los pesos. Sólo se utiliza cuando solver='sgd' o 'adam'.\n",
        "    max_iter : int, opcional, por defecto 200\n",
        "        Número máximo de iteraciones. El solucionador itera hasta la convergencia (determinada por 'tol') o este número de iteraciones. Para los solucionadores estocásticos ('sgd', 'adam'), \n",
        "        tenga en cuenta que esto determina el número de épocas (cuántas veces se utilizará cada punto de datos), no el número de pasos de gradiente.\n",
        "''' \n",
        "scaler = StandardScaler().fit(X_train)\n",
        "rescaledX = scaler.transform(X_train)\n",
        "hidden_layer_sizes=[(20,), (50,), (20,20), (20, 30, 20)]\n",
        "learning_rate_init = [0.01, 0.1]\n",
        "max_iter = [50,100]\n",
        "param_grid = dict(hidden_layer_sizes=hidden_layer_sizes, learning_rate_init=learning_rate_init, max_iter=max_iter)\n",
        "model = MLPClassifier()\n",
        "kfold = KFold(n_splits=num_folds, random_state=seed, shuffle=True)\n",
        "grid = GridSearchCV(estimator=model, param_grid=param_grid, scoring=scoring, cv=kfold)\n",
        "grid_result = grid.fit(rescaledX, Y_train)\n",
        "\n",
        "# Imprimir los Resultados\n",
        "print(\"Best: %f using %s\" % (grid_result.best_score_, grid_result.best_params_))\n",
        "means = grid_result.cv_results_['mean_test_score']\n",
        "stds = grid_result.cv_results_['std_test_score']\n",
        "params = grid_result.cv_results_['params']\n",
        "ranks = grid_result.cv_results_['rank_test_score']\n",
        "for mean, stdev, param, rank in zip(means, stds, params, ranks):\n",
        "    print(\"#%d %f (%f) with: %r\" % (rank, mean, stdev, param))"
      ],
      "metadata": {
        "colab": {
          "base_uri": "https://localhost:8080/"
        },
        "id": "Kwi90GRbnoGK",
        "outputId": "e9e79baf-c3eb-483b-9014-7ff0cdc7fa0f"
      },
      "execution_count": 41,
      "outputs": [
        {
          "output_type": "stream",
          "name": "stdout",
          "text": [
            "Best: 0.628049 using {'hidden_layer_sizes': (20, 20), 'learning_rate_init': 0.01, 'max_iter': 50}\n",
            "#6 0.608827 (0.097728) with: {'hidden_layer_sizes': (20,), 'learning_rate_init': 0.01, 'max_iter': 50}\n",
            "#13 0.592218 (0.070836) with: {'hidden_layer_sizes': (20,), 'learning_rate_init': 0.01, 'max_iter': 100}\n",
            "#12 0.596632 (0.066689) with: {'hidden_layer_sizes': (20,), 'learning_rate_init': 0.1, 'max_iter': 50}\n",
            "#11 0.596864 (0.062930) with: {'hidden_layer_sizes': (20,), 'learning_rate_init': 0.1, 'max_iter': 100}\n",
            "#5 0.611034 (0.101559) with: {'hidden_layer_sizes': (50,), 'learning_rate_init': 0.01, 'max_iter': 50}\n",
            "#2 0.620906 (0.093201) with: {'hidden_layer_sizes': (50,), 'learning_rate_init': 0.01, 'max_iter': 100}\n",
            "#10 0.601510 (0.080909) with: {'hidden_layer_sizes': (50,), 'learning_rate_init': 0.1, 'max_iter': 50}\n",
            "#8 0.606156 (0.074607) with: {'hidden_layer_sizes': (50,), 'learning_rate_init': 0.1, 'max_iter': 100}\n",
            "#1 0.628049 (0.077255) with: {'hidden_layer_sizes': (20, 20), 'learning_rate_init': 0.01, 'max_iter': 50}\n",
            "#9 0.601800 (0.093593) with: {'hidden_layer_sizes': (20, 20), 'learning_rate_init': 0.01, 'max_iter': 100}\n",
            "#4 0.611731 (0.054084) with: {'hidden_layer_sizes': (20, 20), 'learning_rate_init': 0.1, 'max_iter': 50}\n",
            "#14 0.590012 (0.067603) with: {'hidden_layer_sizes': (20, 20), 'learning_rate_init': 0.1, 'max_iter': 100}\n",
            "#7 0.608769 (0.080970) with: {'hidden_layer_sizes': (20, 30, 20), 'learning_rate_init': 0.01, 'max_iter': 50}\n",
            "#16 0.587515 (0.068816) with: {'hidden_layer_sizes': (20, 30, 20), 'learning_rate_init': 0.01, 'max_iter': 100}\n",
            "#3 0.616144 (0.086231) with: {'hidden_layer_sizes': (20, 30, 20), 'learning_rate_init': 0.1, 'max_iter': 50}\n",
            "#15 0.587573 (0.086524) with: {'hidden_layer_sizes': (20, 30, 20), 'learning_rate_init': 0.1, 'max_iter': 100}\n"
          ]
        }
      ]
    },
    {
      "cell_type": "code",
      "source": [
        "# Grid Search : Deep Neural Network algorithm tuning\n",
        "'''\n",
        "neurons: int\n",
        "    Número de patrones mostrados a la red antes de actualizar los pesos.     \n",
        "batch_size: int\n",
        "    Número de observaciones a leer de una vez y mantener en memoria.\n",
        "epochs: int\n",
        "    Número de veces que el conjunto de datos de entrenamiento se muestra a la red durante el entrenamiento.\n",
        "activation:\n",
        "    La función de activación controla la no linealidad de las neuronas individuales y cuándo disparar.\n",
        "learn_rate :int\n",
        "    controla la actualización del peso al final de cada lote\n",
        "momentum : int\n",
        "     momentum controla cuánto dejar que la actualización anterior influya en la actualización del peso actual\n",
        "''' \n",
        "scaler = StandardScaler().fit(X_train)\n",
        "rescaledX = scaler.transform(X_train)\n",
        "# Hiperparámetros modificables\n",
        "neurons = [5, 10, 15]\n",
        "batch_size = [10, 20, 40]\n",
        "epochs = [10, 50]\n",
        "activation = ['softmax', 'relu' ] #'softplus', 'softsign', 'tanh', 'sigmoid', 'hard_sigmoid', 'linear'\n",
        "learn_rate = [0.001, 0.01]\n",
        "momentum = [0.4, 0.9]\n",
        "\n",
        "\n",
        "param_grid = dict(neurons=neurons, activation=activation, learn_rate=learn_rate, momentum=momentum)\n",
        "model = KerasClassifier(build_fn=create_model, epochs=50, batch_size=10, verbose=0)\n",
        "kfold = KFold(n_splits=num_folds, random_state=seed, shuffle=True)\n",
        "grid = GridSearchCV(estimator=model, param_grid=param_grid, scoring=scoring, cv=kfold)\n",
        "grid_result = grid.fit(rescaledX, Y_train)\n",
        "\n",
        "# Resultados de la impresión\n",
        "print(\"Best: %f using %s\" % (grid_result.best_score_, grid_result.best_params_))\n",
        "means = grid_result.cv_results_['mean_test_score']\n",
        "stds = grid_result.cv_results_['std_test_score']\n",
        "params = grid_result.cv_results_['params']\n",
        "ranks = grid_result.cv_results_['rank_test_score']\n",
        "for mean, stdev, param, rank in zip(means, stds, params, ranks):\n",
        "    print(\"#%d %f (%f) with: %r\" % (rank, mean, stdev, param))"
      ],
      "metadata": {
        "colab": {
          "base_uri": "https://localhost:8080/"
        },
        "id": "ZH7nq3Jho3l3",
        "outputId": "1d613e6a-b400-4101-fed4-77622eb079e7"
      },
      "execution_count": 42,
      "outputs": [
        {
          "output_type": "stream",
          "name": "stdout",
          "text": [
            "Best: 0.635424 using {'activation': 'relu', 'learn_rate': 0.001, 'momentum': 0.9, 'neurons': 15}\n",
            "#5 0.623751 (0.075263) with: {'activation': 'softmax', 'learn_rate': 0.001, 'momentum': 0.4, 'neurons': 5}\n",
            "#2 0.630662 (0.079764) with: {'activation': 'softmax', 'learn_rate': 0.001, 'momentum': 0.4, 'neurons': 10}\n",
            "#18 0.611150 (0.086465) with: {'activation': 'softmax', 'learn_rate': 0.001, 'momentum': 0.4, 'neurons': 15}\n",
            "#8 0.620906 (0.068618) with: {'activation': 'softmax', 'learn_rate': 0.001, 'momentum': 0.9, 'neurons': 5}\n",
            "#22 0.594425 (0.088302) with: {'activation': 'softmax', 'learn_rate': 0.001, 'momentum': 0.9, 'neurons': 10}\n",
            "#9 0.620848 (0.099762) with: {'activation': 'softmax', 'learn_rate': 0.001, 'momentum': 0.9, 'neurons': 15}\n",
            "#19 0.599419 (0.082469) with: {'activation': 'softmax', 'learn_rate': 0.01, 'momentum': 0.4, 'neurons': 5}\n",
            "#4 0.628107 (0.084314) with: {'activation': 'softmax', 'learn_rate': 0.01, 'momentum': 0.4, 'neurons': 10}\n",
            "#15 0.616086 (0.073194) with: {'activation': 'softmax', 'learn_rate': 0.01, 'momentum': 0.4, 'neurons': 15}\n",
            "#7 0.621022 (0.092681) with: {'activation': 'softmax', 'learn_rate': 0.01, 'momentum': 0.9, 'neurons': 5}\n",
            "#12 0.618525 (0.086598) with: {'activation': 'softmax', 'learn_rate': 0.01, 'momentum': 0.9, 'neurons': 10}\n",
            "#13 0.618467 (0.085461) with: {'activation': 'softmax', 'learn_rate': 0.01, 'momentum': 0.9, 'neurons': 15}\n",
            "#11 0.618699 (0.077757) with: {'activation': 'relu', 'learn_rate': 0.001, 'momentum': 0.4, 'neurons': 5}\n",
            "#3 0.630604 (0.061870) with: {'activation': 'relu', 'learn_rate': 0.001, 'momentum': 0.4, 'neurons': 10}\n",
            "#14 0.616144 (0.091858) with: {'activation': 'relu', 'learn_rate': 0.001, 'momentum': 0.4, 'neurons': 15}\n",
            "#24 0.563240 (0.104319) with: {'activation': 'relu', 'learn_rate': 0.001, 'momentum': 0.9, 'neurons': 5}\n",
            "#21 0.596864 (0.078328) with: {'activation': 'relu', 'learn_rate': 0.001, 'momentum': 0.9, 'neurons': 10}\n",
            "#1 0.635424 (0.082742) with: {'activation': 'relu', 'learn_rate': 0.001, 'momentum': 0.9, 'neurons': 15}\n",
            "#20 0.597154 (0.064514) with: {'activation': 'relu', 'learn_rate': 0.01, 'momentum': 0.4, 'neurons': 5}\n",
            "#22 0.594425 (0.064406) with: {'activation': 'relu', 'learn_rate': 0.01, 'momentum': 0.4, 'neurons': 10}\n",
            "#10 0.618757 (0.071948) with: {'activation': 'relu', 'learn_rate': 0.01, 'momentum': 0.4, 'neurons': 15}\n",
            "#16 0.615970 (0.116309) with: {'activation': 'relu', 'learn_rate': 0.01, 'momentum': 0.9, 'neurons': 5}\n",
            "#6 0.623113 (0.091153) with: {'activation': 'relu', 'learn_rate': 0.01, 'momentum': 0.9, 'neurons': 10}\n",
            "#17 0.613705 (0.103044) with: {'activation': 'relu', 'learn_rate': 0.01, 'momentum': 0.9, 'neurons': 15}\n"
          ]
        }
      ]
    },
    {
      "cell_type": "markdown",
      "source": [
        "<a id='6'></a>\n",
        "# 7. Finalizar el modelo"
      ],
      "metadata": {
        "id": "8RClkKlr2CPt"
      }
    },
    {
      "cell_type": "markdown",
      "source": [
        "Si se observan los detalles anteriores, la GBM podría ser digna de un estudio más profundo, pero por ahora la SVM se muestra muy prometedora como modelo estable y de baja complejidad para este problema.\n",
        "\n",
        "Finalizar el modelo con los mejores parámetros encontrados durante el paso de ajuste."
      ],
      "metadata": {
        "id": "cmYnM_WF2Dhd"
      }
    },
    {
      "cell_type": "markdown",
      "source": [
        "<a id='6.1'></a>\n",
        "## 7.1. Resultados en el conjunto de datos de prueba"
      ],
      "metadata": {
        "id": "JKxZUsLr2Xyf"
      }
    },
    {
      "cell_type": "code",
      "source": [
        "# preparar el modelo\n",
        "scaler = StandardScaler().fit(X_train)\n",
        "rescaledX = scaler.transform(X_train)\n",
        "model = SVC(C=0.7) # rbf es el núcleo por defecto\n",
        "model.fit(X_train, Y_train)"
      ],
      "metadata": {
        "colab": {
          "base_uri": "https://localhost:8080/"
        },
        "id": "9fOcbCtFqoU8",
        "outputId": "d592f7e2-bf31-429a-cad8-cd1b5eb7dda5"
      },
      "execution_count": 44,
      "outputs": [
        {
          "output_type": "execute_result",
          "data": {
            "text/plain": [
              "SVC(C=0.7)"
            ]
          },
          "metadata": {},
          "execution_count": 44
        }
      ]
    },
    {
      "cell_type": "code",
      "source": [
        "# estimar la precisión en el conjunto de validación\n",
        "rescaledValidationX = scaler.transform(X_validation)\n",
        "predictions = model.predict(X_validation)\n",
        "\n",
        "print(f'Accuracy Score: {accuracy_score(Y_validation, predictions)}\\n')\n",
        "print(f'Confusion Matrix: \\n{confusion_matrix(Y_validation, predictions)}\\n')\n",
        "print(f'Classification Report: \\n{classification_report(Y_validation, predictions)}\\n')"
      ],
      "metadata": {
        "colab": {
          "base_uri": "https://localhost:8080/"
        },
        "id": "pgWgG0DM2-Ll",
        "outputId": "98ecab3f-8c4d-407e-a77f-87bb3bde2e6a"
      },
      "execution_count": 45,
      "outputs": [
        {
          "output_type": "stream",
          "name": "stdout",
          "text": [
            "Accuracy Score: 0.5619047619047619\n",
            "\n",
            "Confusion Matrix: \n",
            "[[ 8 44]\n",
            " [ 2 51]]\n",
            "\n",
            "Classification Report: \n",
            "              precision    recall  f1-score   support\n",
            "\n",
            "           0       0.80      0.15      0.26        52\n",
            "           1       0.54      0.96      0.69        53\n",
            "\n",
            "    accuracy                           0.56       105\n",
            "   macro avg       0.67      0.56      0.47       105\n",
            "weighted avg       0.67      0.56      0.48       105\n",
            "\n",
            "\n"
          ]
        }
      ]
    },
    {
      "cell_type": "markdown",
      "source": [
        "<a id='6.2'></a>\n",
        "## 7.2. Intuición de las variables/importancia de las características\n",
        "\n",
        "Si observamos los detalles anteriores, GBM podría ser digno de un estudio más profundo, pero por ahora SVM se muestra muy prometedor como modelo de baja complejidad y estable para este problema. Veamos la importancia de las características del modelo GBM"
      ],
      "metadata": {
        "id": "sgr3tmzA4OOL"
      }
    },
    {
      "cell_type": "code",
      "source": [
        "import pandas as pd\n",
        "import numpy as np\n",
        "\n",
        "model = GradientBoostingClassifier()\n",
        "model.fit(rescaledX,Y_train)\n",
        "print(model.feature_importances_) # utilizar la clase incorporada feature_importances de los clasificadores basados en árboles\n",
        "# trazar un gráfico de importancia de las características para una mejor visualización\n",
        "feat_importances = pd.Series(model.feature_importances_, index=X.columns)\n",
        "feat_importances.nlargest(10).plot(kind='barh')\n",
        "plt.show()"
      ],
      "metadata": {
        "colab": {
          "base_uri": "https://localhost:8080/",
          "height": 382
        },
        "id": "GFt61VBl3ued",
        "outputId": "ff791799-d138-477f-fdb5-9834da354f2a"
      },
      "execution_count": 46,
      "outputs": [
        {
          "output_type": "stream",
          "name": "stdout",
          "text": [
            "[0.14829481 0.02883076 0.45795078 0.23318617 0.00482394 0.02254998\n",
            " 0.03419238 0.02707986 0.04309133]\n"
          ]
        },
        {
          "output_type": "display_data",
          "data": {
            "image/png": "[encoded data removed]",
            "text/plain": [
              "<Figure size 576x396 with 1 Axes>"
            ]
          },
          "metadata": {}
        }
      ]
    },
    {
      "cell_type": "markdown",
      "source": [
        "<a id='6.3'></a>\n",
        "## 7.3. Guardar el modelo para su uso posterior"
      ],
      "metadata": {
        "id": "3laoYSWh5ElC"
      }
    },
    {
      "cell_type": "code",
      "source": [
        "# Salvar el modelo usando Pickle\n",
        "from pickle import dump\n",
        "from pickle import load\n",
        "\n",
        "# guardar el modelo en el disco\n",
        "filename = 'finalized_model.sav'\n",
        "dump(model, open(filename, 'wb'))"
      ],
      "metadata": {
        "id": "pKbzQxmp4ZzG"
      },
      "execution_count": 47,
      "outputs": []
    },
    {
      "cell_type": "code",
      "source": [
        "# algún tiempo después...\n",
        "# cargar el modelo desde el disco\n",
        "loaded_model = load(open(filename, 'rb'))\n",
        "\n",
        "# estimar la precisión en el conjunto de validación\n",
        "rescaledValidationX = scaler.transform(X_validation)\n",
        "predictions = model.predict(rescaledValidationX)\n",
        "result = accuracy_score(Y_validation, predictions)\n",
        "print(result)"
      ],
      "metadata": {
        "colab": {
          "base_uri": "https://localhost:8080/"
        },
        "id": "fBwb_Rou5H73",
        "outputId": "b4bf87be-1563-413b-b3f3-8a5a11a79b54"
      },
      "execution_count": 48,
      "outputs": [
        {
          "output_type": "stream",
          "name": "stdout",
          "text": [
            "0.7047619047619048\n"
          ]
        }
      ]
    }
  ]
}